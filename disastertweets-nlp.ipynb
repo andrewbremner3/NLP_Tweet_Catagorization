{
 "cells": [
  {
   "cell_type": "code",
   "execution_count": 1,
   "id": "441bf8d1",
   "metadata": {
    "_cell_guid": "b1076dfc-b9ad-4769-8c92-a6c4dae69d19",
    "_uuid": "8f2839f25d086af736a60e9eeb907d3b93b6e0e5",
    "execution": {
     "iopub.execute_input": "2023-12-05T23:04:47.315601Z",
     "iopub.status.busy": "2023-12-05T23:04:47.315275Z",
     "iopub.status.idle": "2023-12-05T23:04:48.742458Z",
     "shell.execute_reply": "2023-12-05T23:04:48.740280Z"
    },
    "papermill": {
     "duration": 1.441233,
     "end_time": "2023-12-05T23:04:48.745173",
     "exception": false,
     "start_time": "2023-12-05T23:04:47.303940",
     "status": "completed"
    },
    "tags": []
   },
   "outputs": [
    {
     "name": "stdout",
     "output_type": "stream",
     "text": [
      "/kaggle/input/nlp-getting-started/sample_submission.csv\n",
      "/kaggle/input/nlp-getting-started/train.csv\n",
      "/kaggle/input/nlp-getting-started/test.csv\n"
     ]
    }
   ],
   "source": [
    "# This Python 3 environment comes with many helpful analytics libraries installed\n",
    "# It is defined by the kaggle/python Docker image: https://github.com/kaggle/docker-python\n",
    "# For example, here's several helpful packages to load\n",
    "\n",
    "import numpy as np # linear algebra\n",
    "import pandas as pd # data processing, CSV file I/O (e.g. pd.read_csv)\n",
    "import seaborn as sns\n",
    "import matplotlib.pyplot as plt\n",
    "import time\n",
    "import re\n",
    "\n",
    "# Input data files are available in the read-only \"../input/\" directory\n",
    "# For example, running this (by clicking run or pressing Shift+Enter) will list all files under the input directory\n",
    "\n",
    "import os\n",
    "for dirname, _, filenames in os.walk('/kaggle/input'):\n",
    "    for filename in filenames:\n",
    "        print(os.path.join(dirname, filename))\n",
    "\n",
    "# You can write up to 20GB to the current directory (/kaggle/working/) that gets preserved as output when you create a version using \"Save & Run All\" \n",
    "# You can also write temporary files to /kaggle/temp/, but they won't be saved outside of the current session"
   ]
  },
  {
   "cell_type": "markdown",
   "id": "6b4c9654",
   "metadata": {
    "papermill": {
     "duration": 0.009209,
     "end_time": "2023-12-05T23:04:48.764329",
     "exception": false,
     "start_time": "2023-12-05T23:04:48.755120",
     "status": "completed"
    },
    "tags": []
   },
   "source": [
    "# Read in Train and Test Data sets"
   ]
  },
  {
   "cell_type": "code",
   "execution_count": 2,
   "id": "c75ad4ba",
   "metadata": {
    "execution": {
     "iopub.execute_input": "2023-12-05T23:04:48.785230Z",
     "iopub.status.busy": "2023-12-05T23:04:48.784587Z",
     "iopub.status.idle": "2023-12-05T23:04:48.851726Z",
     "shell.execute_reply": "2023-12-05T23:04:48.850202Z"
    },
    "papermill": {
     "duration": 0.080212,
     "end_time": "2023-12-05T23:04:48.853974",
     "exception": false,
     "start_time": "2023-12-05T23:04:48.773762",
     "status": "completed"
    },
    "tags": []
   },
   "outputs": [],
   "source": [
    "df = pd.read_csv(\"/kaggle/input/nlp-getting-started/train.csv\")\n",
    "df_test = pd.read_csv(\"/kaggle/input/nlp-getting-started/test.csv\")\n",
    "df['unclean'] = df['text']"
   ]
  },
  {
   "cell_type": "code",
   "execution_count": 3,
   "id": "1b466e94",
   "metadata": {
    "execution": {
     "iopub.execute_input": "2023-12-05T23:04:48.875858Z",
     "iopub.status.busy": "2023-12-05T23:04:48.875259Z",
     "iopub.status.idle": "2023-12-05T23:04:48.891781Z",
     "shell.execute_reply": "2023-12-05T23:04:48.891109Z"
    },
    "papermill": {
     "duration": 0.029207,
     "end_time": "2023-12-05T23:04:48.893387",
     "exception": false,
     "start_time": "2023-12-05T23:04:48.864180",
     "status": "completed"
    },
    "tags": []
   },
   "outputs": [
    {
     "data": {
      "text/html": [
       "<div>\n",
       "<style scoped>\n",
       "    .dataframe tbody tr th:only-of-type {\n",
       "        vertical-align: middle;\n",
       "    }\n",
       "\n",
       "    .dataframe tbody tr th {\n",
       "        vertical-align: top;\n",
       "    }\n",
       "\n",
       "    .dataframe thead th {\n",
       "        text-align: right;\n",
       "    }\n",
       "</style>\n",
       "<table border=\"1\" class=\"dataframe\">\n",
       "  <thead>\n",
       "    <tr style=\"text-align: right;\">\n",
       "      <th></th>\n",
       "      <th>id</th>\n",
       "      <th>keyword</th>\n",
       "      <th>location</th>\n",
       "      <th>text</th>\n",
       "      <th>target</th>\n",
       "      <th>unclean</th>\n",
       "    </tr>\n",
       "  </thead>\n",
       "  <tbody>\n",
       "    <tr>\n",
       "      <th>0</th>\n",
       "      <td>1</td>\n",
       "      <td>NaN</td>\n",
       "      <td>NaN</td>\n",
       "      <td>Our Deeds are the Reason of this #earthquake M...</td>\n",
       "      <td>1</td>\n",
       "      <td>Our Deeds are the Reason of this #earthquake M...</td>\n",
       "    </tr>\n",
       "    <tr>\n",
       "      <th>1</th>\n",
       "      <td>4</td>\n",
       "      <td>NaN</td>\n",
       "      <td>NaN</td>\n",
       "      <td>Forest fire near La Ronge Sask. Canada</td>\n",
       "      <td>1</td>\n",
       "      <td>Forest fire near La Ronge Sask. Canada</td>\n",
       "    </tr>\n",
       "    <tr>\n",
       "      <th>2</th>\n",
       "      <td>5</td>\n",
       "      <td>NaN</td>\n",
       "      <td>NaN</td>\n",
       "      <td>All residents asked to 'shelter in place' are ...</td>\n",
       "      <td>1</td>\n",
       "      <td>All residents asked to 'shelter in place' are ...</td>\n",
       "    </tr>\n",
       "    <tr>\n",
       "      <th>3</th>\n",
       "      <td>6</td>\n",
       "      <td>NaN</td>\n",
       "      <td>NaN</td>\n",
       "      <td>13,000 people receive #wildfires evacuation or...</td>\n",
       "      <td>1</td>\n",
       "      <td>13,000 people receive #wildfires evacuation or...</td>\n",
       "    </tr>\n",
       "    <tr>\n",
       "      <th>4</th>\n",
       "      <td>7</td>\n",
       "      <td>NaN</td>\n",
       "      <td>NaN</td>\n",
       "      <td>Just got sent this photo from Ruby #Alaska as ...</td>\n",
       "      <td>1</td>\n",
       "      <td>Just got sent this photo from Ruby #Alaska as ...</td>\n",
       "    </tr>\n",
       "  </tbody>\n",
       "</table>\n",
       "</div>"
      ],
      "text/plain": [
       "   id keyword location                                               text  \\\n",
       "0   1     NaN      NaN  Our Deeds are the Reason of this #earthquake M...   \n",
       "1   4     NaN      NaN             Forest fire near La Ronge Sask. Canada   \n",
       "2   5     NaN      NaN  All residents asked to 'shelter in place' are ...   \n",
       "3   6     NaN      NaN  13,000 people receive #wildfires evacuation or...   \n",
       "4   7     NaN      NaN  Just got sent this photo from Ruby #Alaska as ...   \n",
       "\n",
       "   target                                            unclean  \n",
       "0       1  Our Deeds are the Reason of this #earthquake M...  \n",
       "1       1             Forest fire near La Ronge Sask. Canada  \n",
       "2       1  All residents asked to 'shelter in place' are ...  \n",
       "3       1  13,000 people receive #wildfires evacuation or...  \n",
       "4       1  Just got sent this photo from Ruby #Alaska as ...  "
      ]
     },
     "execution_count": 3,
     "metadata": {},
     "output_type": "execute_result"
    }
   ],
   "source": [
    "df.head()"
   ]
  },
  {
   "cell_type": "markdown",
   "id": "e9ca7083",
   "metadata": {
    "papermill": {
     "duration": 0.009831,
     "end_time": "2023-12-05T23:04:48.913342",
     "exception": false,
     "start_time": "2023-12-05T23:04:48.903511",
     "status": "completed"
    },
    "tags": []
   },
   "source": [
    "### Check for null values"
   ]
  },
  {
   "cell_type": "code",
   "execution_count": 4,
   "id": "6bac567e",
   "metadata": {
    "execution": {
     "iopub.execute_input": "2023-12-05T23:04:48.935210Z",
     "iopub.status.busy": "2023-12-05T23:04:48.934638Z",
     "iopub.status.idle": "2023-12-05T23:04:48.944565Z",
     "shell.execute_reply": "2023-12-05T23:04:48.943437Z"
    },
    "papermill": {
     "duration": 0.02325,
     "end_time": "2023-12-05T23:04:48.946434",
     "exception": false,
     "start_time": "2023-12-05T23:04:48.923184",
     "status": "completed"
    },
    "tags": []
   },
   "outputs": [
    {
     "data": {
      "text/plain": [
       "id             0\n",
       "keyword       61\n",
       "location    2533\n",
       "text           0\n",
       "target         0\n",
       "unclean        0\n",
       "dtype: int64"
      ]
     },
     "execution_count": 4,
     "metadata": {},
     "output_type": "execute_result"
    }
   ],
   "source": [
    "df.isnull().sum()"
   ]
  },
  {
   "cell_type": "code",
   "execution_count": 5,
   "id": "a056547d",
   "metadata": {
    "execution": {
     "iopub.execute_input": "2023-12-05T23:04:48.968240Z",
     "iopub.status.busy": "2023-12-05T23:04:48.967676Z",
     "iopub.status.idle": "2023-12-05T23:04:48.973936Z",
     "shell.execute_reply": "2023-12-05T23:04:48.973385Z"
    },
    "papermill": {
     "duration": 0.019047,
     "end_time": "2023-12-05T23:04:48.975543",
     "exception": false,
     "start_time": "2023-12-05T23:04:48.956496",
     "status": "completed"
    },
    "tags": []
   },
   "outputs": [
    {
     "data": {
      "text/plain": [
       "id             0\n",
       "keyword       26\n",
       "location    1105\n",
       "text           0\n",
       "dtype: int64"
      ]
     },
     "execution_count": 5,
     "metadata": {},
     "output_type": "execute_result"
    }
   ],
   "source": [
    "df_test.isnull().sum()"
   ]
  },
  {
   "cell_type": "markdown",
   "id": "91141ce4",
   "metadata": {
    "papermill": {
     "duration": 0.011203,
     "end_time": "2023-12-05T23:04:48.997337",
     "exception": false,
     "start_time": "2023-12-05T23:04:48.986134",
     "status": "completed"
    },
    "tags": []
   },
   "source": [
    "Key words have %20 instead of spaces so fill those"
   ]
  },
  {
   "cell_type": "code",
   "execution_count": 6,
   "id": "054217fb",
   "metadata": {
    "execution": {
     "iopub.execute_input": "2023-12-05T23:04:49.018849Z",
     "iopub.status.busy": "2023-12-05T23:04:49.018327Z",
     "iopub.status.idle": "2023-12-05T23:04:49.026506Z",
     "shell.execute_reply": "2023-12-05T23:04:49.025603Z"
    },
    "papermill": {
     "duration": 0.021569,
     "end_time": "2023-12-05T23:04:49.028838",
     "exception": false,
     "start_time": "2023-12-05T23:04:49.007269",
     "status": "completed"
    },
    "tags": []
   },
   "outputs": [
    {
     "data": {
      "text/plain": [
       "array([nan, 'ablaze', 'accident', 'aftershock', 'airplane%20accident',\n",
       "       'ambulance', 'annihilated', 'annihilation', 'apocalypse',\n",
       "       'armageddon', 'army', 'arson', 'arsonist', 'attack', 'attacked',\n",
       "       'avalanche', 'battle', 'bioterror', 'bioterrorism', 'blaze',\n",
       "       'blazing', 'bleeding', 'blew%20up', 'blight', 'blizzard'],\n",
       "      dtype=object)"
      ]
     },
     "execution_count": 6,
     "metadata": {},
     "output_type": "execute_result"
    }
   ],
   "source": [
    "df['keyword'].unique()[:25]"
   ]
  },
  {
   "cell_type": "markdown",
   "id": "2515bbe6",
   "metadata": {
    "papermill": {
     "duration": 0.01021,
     "end_time": "2023-12-05T23:04:49.049932",
     "exception": false,
     "start_time": "2023-12-05T23:04:49.039722",
     "status": "completed"
    },
    "tags": []
   },
   "source": [
    "**Tweet cleaner**"
   ]
  },
  {
   "cell_type": "code",
   "execution_count": 7,
   "id": "3317d02e",
   "metadata": {
    "execution": {
     "iopub.execute_input": "2023-12-05T23:04:49.072602Z",
     "iopub.status.busy": "2023-12-05T23:04:49.072031Z",
     "iopub.status.idle": "2023-12-05T23:04:49.077435Z",
     "shell.execute_reply": "2023-12-05T23:04:49.076387Z"
    },
    "papermill": {
     "duration": 0.019329,
     "end_time": "2023-12-05T23:04:49.079691",
     "exception": false,
     "start_time": "2023-12-05T23:04:49.060362",
     "status": "completed"
    },
    "tags": []
   },
   "outputs": [],
   "source": [
    "def cleaner(tweet):\n",
    "    tweet = re.sub('[()!?]',\"\", tweet)\n",
    "#   tweet = re.sub('\\[.*?\\]',\"\", tweet)\n",
    "    tweet = re.sub(\"@[A-Za-z0-9_]+\",\"\",tweet) #Remove @ sign\n",
    "#   tweet = re.sub(\"#[A-Za-z0-9_]+\",\"\",tweet) # Remove Hashtags\n",
    "    tweet = re.sub(\"http\\S+\",\"\", tweet) #Remove http links\n",
    "    tweet = re.sub(\"www\\S+\",\"\", tweet) #Remove www links\n",
    "    tweet = re.sub(\"[^a-z0-9]\",\" \", tweet) # Filtering non-alphanumeric characters\n",
    "    return tweet.lower()"
   ]
  },
  {
   "cell_type": "markdown",
   "id": "2c929e03",
   "metadata": {
    "papermill": {
     "duration": 0.009767,
     "end_time": "2023-12-05T23:04:49.100184",
     "exception": false,
     "start_time": "2023-12-05T23:04:49.090417",
     "status": "completed"
    },
    "tags": []
   },
   "source": [
    "**Fix Training set by filling na values with '' and %20 with ' '.**"
   ]
  },
  {
   "cell_type": "code",
   "execution_count": 8,
   "id": "873bc991",
   "metadata": {
    "execution": {
     "iopub.execute_input": "2023-12-05T23:04:49.169060Z",
     "iopub.status.busy": "2023-12-05T23:04:49.168731Z",
     "iopub.status.idle": "2023-12-05T23:04:49.284728Z",
     "shell.execute_reply": "2023-12-05T23:04:49.283283Z"
    },
    "papermill": {
     "duration": 0.129665,
     "end_time": "2023-12-05T23:04:49.286938",
     "exception": false,
     "start_time": "2023-12-05T23:04:49.157273",
     "status": "completed"
    },
    "tags": []
   },
   "outputs": [],
   "source": [
    "df['location'] = df['location'].fillna('')\n",
    "df['keyword'] = df['keyword'].fillna('')\n",
    "df['text'] = df['text'].map(lambda x: cleaner(x))\n",
    "df = df.replace('%20', ' ', regex=True)"
   ]
  },
  {
   "cell_type": "code",
   "execution_count": 9,
   "id": "cd9bbb58",
   "metadata": {
    "execution": {
     "iopub.execute_input": "2023-12-05T23:04:49.308912Z",
     "iopub.status.busy": "2023-12-05T23:04:49.308587Z",
     "iopub.status.idle": "2023-12-05T23:04:49.359815Z",
     "shell.execute_reply": "2023-12-05T23:04:49.358645Z"
    },
    "papermill": {
     "duration": 0.064322,
     "end_time": "2023-12-05T23:04:49.361739",
     "exception": false,
     "start_time": "2023-12-05T23:04:49.297417",
     "status": "completed"
    },
    "tags": []
   },
   "outputs": [],
   "source": [
    "df_test['location'] = df_test['location'].fillna('')\n",
    "df_test['keyword'] = df_test['keyword'].fillna('')\n",
    "df_test['text'] = df_test['text'].map(lambda x: cleaner(x))\n",
    "df_test = df_test.replace('%20', ' ', regex=True)"
   ]
  },
  {
   "cell_type": "code",
   "execution_count": 10,
   "id": "683f2d2d",
   "metadata": {
    "execution": {
     "iopub.execute_input": "2023-12-05T23:04:49.383942Z",
     "iopub.status.busy": "2023-12-05T23:04:49.383619Z",
     "iopub.status.idle": "2023-12-05T23:04:49.401748Z",
     "shell.execute_reply": "2023-12-05T23:04:49.400854Z"
    },
    "papermill": {
     "duration": 0.031392,
     "end_time": "2023-12-05T23:04:49.403551",
     "exception": false,
     "start_time": "2023-12-05T23:04:49.372159",
     "status": "completed"
    },
    "tags": []
   },
   "outputs": [
    {
     "data": {
      "text/html": [
       "<div>\n",
       "<style scoped>\n",
       "    .dataframe tbody tr th:only-of-type {\n",
       "        vertical-align: middle;\n",
       "    }\n",
       "\n",
       "    .dataframe tbody tr th {\n",
       "        vertical-align: top;\n",
       "    }\n",
       "\n",
       "    .dataframe thead th {\n",
       "        text-align: right;\n",
       "    }\n",
       "</style>\n",
       "<table border=\"1\" class=\"dataframe\">\n",
       "  <thead>\n",
       "    <tr style=\"text-align: right;\">\n",
       "      <th></th>\n",
       "      <th>id</th>\n",
       "      <th>keyword</th>\n",
       "      <th>location</th>\n",
       "      <th>text</th>\n",
       "      <th>target</th>\n",
       "      <th>unclean</th>\n",
       "    </tr>\n",
       "  </thead>\n",
       "  <tbody>\n",
       "    <tr>\n",
       "      <th>0</th>\n",
       "      <td>1</td>\n",
       "      <td></td>\n",
       "      <td></td>\n",
       "      <td>ur  eeds are the  eason of this  earthquake  ...</td>\n",
       "      <td>1</td>\n",
       "      <td>Our Deeds are the Reason of this #earthquake M...</td>\n",
       "    </tr>\n",
       "    <tr>\n",
       "      <th>1</th>\n",
       "      <td>4</td>\n",
       "      <td></td>\n",
       "      <td></td>\n",
       "      <td>orest fire near  a  onge  ask   anada</td>\n",
       "      <td>1</td>\n",
       "      <td>Forest fire near La Ronge Sask. Canada</td>\n",
       "    </tr>\n",
       "    <tr>\n",
       "      <th>2</th>\n",
       "      <td>5</td>\n",
       "      <td></td>\n",
       "      <td></td>\n",
       "      <td>ll residents asked to  shelter in place  are ...</td>\n",
       "      <td>1</td>\n",
       "      <td>All residents asked to 'shelter in place' are ...</td>\n",
       "    </tr>\n",
       "    <tr>\n",
       "      <th>3</th>\n",
       "      <td>6</td>\n",
       "      <td></td>\n",
       "      <td></td>\n",
       "      <td>13 000 people receive  wildfires evacuation or...</td>\n",
       "      <td>1</td>\n",
       "      <td>13,000 people receive #wildfires evacuation or...</td>\n",
       "    </tr>\n",
       "    <tr>\n",
       "      <th>4</th>\n",
       "      <td>7</td>\n",
       "      <td></td>\n",
       "      <td></td>\n",
       "      <td>ust got sent this photo from  uby   laska as ...</td>\n",
       "      <td>1</td>\n",
       "      <td>Just got sent this photo from Ruby #Alaska as ...</td>\n",
       "    </tr>\n",
       "    <tr>\n",
       "      <th>...</th>\n",
       "      <td>...</td>\n",
       "      <td>...</td>\n",
       "      <td>...</td>\n",
       "      <td>...</td>\n",
       "      <td>...</td>\n",
       "      <td>...</td>\n",
       "    </tr>\n",
       "    <tr>\n",
       "      <th>7608</th>\n",
       "      <td>10869</td>\n",
       "      <td></td>\n",
       "      <td></td>\n",
       "      <td>wo giant cranes holding a bridge collapse int...</td>\n",
       "      <td>1</td>\n",
       "      <td>Two giant cranes holding a bridge collapse int...</td>\n",
       "    </tr>\n",
       "    <tr>\n",
       "      <th>7609</th>\n",
       "      <td>10870</td>\n",
       "      <td></td>\n",
       "      <td></td>\n",
       "      <td>he out of control wild fires in  alifornia ...</td>\n",
       "      <td>1</td>\n",
       "      <td>@aria_ahrary @TheTawniest The out of control w...</td>\n",
       "    </tr>\n",
       "    <tr>\n",
       "      <th>7610</th>\n",
       "      <td>10871</td>\n",
       "      <td></td>\n",
       "      <td></td>\n",
       "      <td>1 94  01 04     5km   of  olcano  awaii</td>\n",
       "      <td>1</td>\n",
       "      <td>M1.94 [01:04 UTC]?5km S of Volcano Hawaii. htt...</td>\n",
       "    </tr>\n",
       "    <tr>\n",
       "      <th>7611</th>\n",
       "      <td>10872</td>\n",
       "      <td></td>\n",
       "      <td></td>\n",
       "      <td>olice investigating after an e bike collided ...</td>\n",
       "      <td>1</td>\n",
       "      <td>Police investigating after an e-bike collided ...</td>\n",
       "    </tr>\n",
       "    <tr>\n",
       "      <th>7612</th>\n",
       "      <td>10873</td>\n",
       "      <td></td>\n",
       "      <td></td>\n",
       "      <td>he  atest   ore  omes  azed by  orthern  alif...</td>\n",
       "      <td>1</td>\n",
       "      <td>The Latest: More Homes Razed by Northern Calif...</td>\n",
       "    </tr>\n",
       "  </tbody>\n",
       "</table>\n",
       "<p>7613 rows × 6 columns</p>\n",
       "</div>"
      ],
      "text/plain": [
       "         id keyword location  \\\n",
       "0         1                    \n",
       "1         4                    \n",
       "2         5                    \n",
       "3         6                    \n",
       "4         7                    \n",
       "...     ...     ...      ...   \n",
       "7608  10869                    \n",
       "7609  10870                    \n",
       "7610  10871                    \n",
       "7611  10872                    \n",
       "7612  10873                    \n",
       "\n",
       "                                                   text  target  \\\n",
       "0      ur  eeds are the  eason of this  earthquake  ...       1   \n",
       "1                 orest fire near  a  onge  ask   anada       1   \n",
       "2      ll residents asked to  shelter in place  are ...       1   \n",
       "3     13 000 people receive  wildfires evacuation or...       1   \n",
       "4      ust got sent this photo from  uby   laska as ...       1   \n",
       "...                                                 ...     ...   \n",
       "7608   wo giant cranes holding a bridge collapse int...       1   \n",
       "7609     he out of control wild fires in  alifornia ...       1   \n",
       "7610          1 94  01 04     5km   of  olcano  awaii         1   \n",
       "7611   olice investigating after an e bike collided ...       1   \n",
       "7612   he  atest   ore  omes  azed by  orthern  alif...       1   \n",
       "\n",
       "                                                unclean  \n",
       "0     Our Deeds are the Reason of this #earthquake M...  \n",
       "1                Forest fire near La Ronge Sask. Canada  \n",
       "2     All residents asked to 'shelter in place' are ...  \n",
       "3     13,000 people receive #wildfires evacuation or...  \n",
       "4     Just got sent this photo from Ruby #Alaska as ...  \n",
       "...                                                 ...  \n",
       "7608  Two giant cranes holding a bridge collapse int...  \n",
       "7609  @aria_ahrary @TheTawniest The out of control w...  \n",
       "7610  M1.94 [01:04 UTC]?5km S of Volcano Hawaii. htt...  \n",
       "7611  Police investigating after an e-bike collided ...  \n",
       "7612  The Latest: More Homes Razed by Northern Calif...  \n",
       "\n",
       "[7613 rows x 6 columns]"
      ]
     },
     "execution_count": 10,
     "metadata": {},
     "output_type": "execute_result"
    }
   ],
   "source": [
    "df"
   ]
  },
  {
   "cell_type": "code",
   "execution_count": 11,
   "id": "bdc3c2ec",
   "metadata": {
    "execution": {
     "iopub.execute_input": "2023-12-05T23:04:49.427136Z",
     "iopub.status.busy": "2023-12-05T23:04:49.426751Z",
     "iopub.status.idle": "2023-12-05T23:04:49.657418Z",
     "shell.execute_reply": "2023-12-05T23:04:49.656674Z"
    },
    "papermill": {
     "duration": 0.245075,
     "end_time": "2023-12-05T23:04:49.659534",
     "exception": false,
     "start_time": "2023-12-05T23:04:49.414459",
     "status": "completed"
    },
    "tags": []
   },
   "outputs": [
    {
     "data": {
      "image/png": "[encoded data removed]",
      "text/plain": [
       "<Figure size 640x480 with 1 Axes>"
      ]
     },
     "metadata": {},
     "output_type": "display_data"
    }
   ],
   "source": [
    "sns.countplot(data=df, x='target');"
   ]
  },
  {
   "cell_type": "code",
   "execution_count": 12,
   "id": "0d89addd",
   "metadata": {
    "execution": {
     "iopub.execute_input": "2023-12-05T23:04:49.687828Z",
     "iopub.status.busy": "2023-12-05T23:04:49.687478Z",
     "iopub.status.idle": "2023-12-05T23:04:49.702371Z",
     "shell.execute_reply": "2023-12-05T23:04:49.701004Z"
    },
    "papermill": {
     "duration": 0.031552,
     "end_time": "2023-12-05T23:04:49.704688",
     "exception": false,
     "start_time": "2023-12-05T23:04:49.673136",
     "status": "completed"
    },
    "tags": []
   },
   "outputs": [
    {
     "data": {
      "text/html": [
       "<div>\n",
       "<style scoped>\n",
       "    .dataframe tbody tr th:only-of-type {\n",
       "        vertical-align: middle;\n",
       "    }\n",
       "\n",
       "    .dataframe tbody tr th {\n",
       "        vertical-align: top;\n",
       "    }\n",
       "\n",
       "    .dataframe thead th {\n",
       "        text-align: right;\n",
       "    }\n",
       "</style>\n",
       "<table border=\"1\" class=\"dataframe\">\n",
       "  <thead>\n",
       "    <tr style=\"text-align: right;\">\n",
       "      <th></th>\n",
       "      <th>id</th>\n",
       "      <th>keyword</th>\n",
       "      <th>location</th>\n",
       "      <th>text</th>\n",
       "      <th>target</th>\n",
       "      <th>unclean</th>\n",
       "    </tr>\n",
       "  </thead>\n",
       "  <tbody>\n",
       "    <tr>\n",
       "      <th>800</th>\n",
       "      <td>1160</td>\n",
       "      <td>blight</td>\n",
       "      <td>Laventillemoorings</td>\n",
       "      <td>f you dotish to blight your car go right ahea...</td>\n",
       "      <td>0</td>\n",
       "      <td>If you dotish to blight your car go right ahea...</td>\n",
       "    </tr>\n",
       "    <tr>\n",
       "      <th>801</th>\n",
       "      <td>1162</td>\n",
       "      <td>blight</td>\n",
       "      <td>UK</td>\n",
       "      <td>exual  evolution  light  or  omen is out   to...</td>\n",
       "      <td>0</td>\n",
       "      <td>Sexual Revolution:Blight For Women is out! htt...</td>\n",
       "    </tr>\n",
       "    <tr>\n",
       "      <th>802</th>\n",
       "      <td>1164</td>\n",
       "      <td>blight</td>\n",
       "      <td>Scotland</td>\n",
       "      <td>...</td>\n",
       "      <td>0</td>\n",
       "      <td>LIKE I SWEAR THE SECRET WE'LL UNCOVER IS THE O...</td>\n",
       "    </tr>\n",
       "    <tr>\n",
       "      <th>803</th>\n",
       "      <td>1166</td>\n",
       "      <td>blight</td>\n",
       "      <td>London</td>\n",
       "      <td>what is double result live on the app</td>\n",
       "      <td>0</td>\n",
       "      <td>@WillHillBet what is double result live on the...</td>\n",
       "    </tr>\n",
       "    <tr>\n",
       "      <th>804</th>\n",
       "      <td>1167</td>\n",
       "      <td>blight</td>\n",
       "      <td>Vancouver, BC</td>\n",
       "      <td>first off it is the   ippo ine as no one want...</td>\n",
       "      <td>0</td>\n",
       "      <td>@parksboardfacts first off it is the #ZippoLin...</td>\n",
       "    </tr>\n",
       "    <tr>\n",
       "      <th>...</th>\n",
       "      <td>...</td>\n",
       "      <td>...</td>\n",
       "      <td>...</td>\n",
       "      <td>...</td>\n",
       "      <td>...</td>\n",
       "      <td>...</td>\n",
       "    </tr>\n",
       "    <tr>\n",
       "      <th>1395</th>\n",
       "      <td>2014</td>\n",
       "      <td>casualties</td>\n",
       "      <td>Philippines</td>\n",
       "      <td>ivilian casualties rise as  fghan war intensi...</td>\n",
       "      <td>1</td>\n",
       "      <td>Civilian casualties rise as Afghan war intensi...</td>\n",
       "    </tr>\n",
       "    <tr>\n",
       "      <th>1396</th>\n",
       "      <td>2015</td>\n",
       "      <td>casualties</td>\n",
       "      <td></td>\n",
       "      <td>fghan conflict sees  sharp rise  in female ca...</td>\n",
       "      <td>1</td>\n",
       "      <td>Afghan conflict sees 'sharp rise' in female ca...</td>\n",
       "    </tr>\n",
       "    <tr>\n",
       "      <th>1397</th>\n",
       "      <td>2016</td>\n",
       "      <td>casualties</td>\n",
       "      <td>Bronx, New York</td>\n",
       "      <td>arfighting  obots  ould  educe  ivilian  asua...</td>\n",
       "      <td>1</td>\n",
       "      <td>Warfighting Robots Could Reduce Civilian Casua...</td>\n",
       "    </tr>\n",
       "    <tr>\n",
       "      <th>1398</th>\n",
       "      <td>2017</td>\n",
       "      <td>casualties</td>\n",
       "      <td>Canadian bread</td>\n",
       "      <td>m all for that to be honest   f people want...</td>\n",
       "      <td>0</td>\n",
       "      <td>@LibertarianLuke I'm all for that to be honest...</td>\n",
       "    </tr>\n",
       "    <tr>\n",
       "      <th>1399</th>\n",
       "      <td>2019</td>\n",
       "      <td>casualties</td>\n",
       "      <td>Phoenix, AZ</td>\n",
       "      <td>fghanistan        eports   ecord  igh  evels ...</td>\n",
       "      <td>1</td>\n",
       "      <td>Afghanistan: U.N. Reports 'Record-High Levels'...</td>\n",
       "    </tr>\n",
       "  </tbody>\n",
       "</table>\n",
       "<p>600 rows × 6 columns</p>\n",
       "</div>"
      ],
      "text/plain": [
       "        id     keyword             location  \\\n",
       "800   1160      blight  Laventillemoorings    \n",
       "801   1162      blight                   UK   \n",
       "802   1164      blight             Scotland   \n",
       "803   1166      blight               London   \n",
       "804   1167      blight        Vancouver, BC   \n",
       "...    ...         ...                  ...   \n",
       "1395  2014  casualties          Philippines   \n",
       "1396  2015  casualties                        \n",
       "1397  2016  casualties      Bronx, New York   \n",
       "1398  2017  casualties       Canadian bread   \n",
       "1399  2019  casualties          Phoenix, AZ   \n",
       "\n",
       "                                                   text  target  \\\n",
       "800    f you dotish to blight your car go right ahea...       0   \n",
       "801    exual  evolution  light  or  omen is out   to...       0   \n",
       "802                                                 ...       0   \n",
       "803               what is double result live on the app       0   \n",
       "804    first off it is the   ippo ine as no one want...       0   \n",
       "...                                                 ...     ...   \n",
       "1395   ivilian casualties rise as  fghan war intensi...       1   \n",
       "1396   fghan conflict sees  sharp rise  in female ca...       1   \n",
       "1397   arfighting  obots  ould  educe  ivilian  asua...       1   \n",
       "1398     m all for that to be honest   f people want...       0   \n",
       "1399   fghanistan        eports   ecord  igh  evels ...       1   \n",
       "\n",
       "                                                unclean  \n",
       "800   If you dotish to blight your car go right ahea...  \n",
       "801   Sexual Revolution:Blight For Women is out! htt...  \n",
       "802   LIKE I SWEAR THE SECRET WE'LL UNCOVER IS THE O...  \n",
       "803   @WillHillBet what is double result live on the...  \n",
       "804   @parksboardfacts first off it is the #ZippoLin...  \n",
       "...                                                 ...  \n",
       "1395  Civilian casualties rise as Afghan war intensi...  \n",
       "1396  Afghan conflict sees 'sharp rise' in female ca...  \n",
       "1397  Warfighting Robots Could Reduce Civilian Casua...  \n",
       "1398  @LibertarianLuke I'm all for that to be honest...  \n",
       "1399  Afghanistan: U.N. Reports 'Record-High Levels'...  \n",
       "\n",
       "[600 rows x 6 columns]"
      ]
     },
     "execution_count": 12,
     "metadata": {},
     "output_type": "execute_result"
    }
   ],
   "source": [
    "df[800:1400]"
   ]
  },
  {
   "cell_type": "markdown",
   "id": "d4771ac4",
   "metadata": {
    "papermill": {
     "duration": 0.010711,
     "end_time": "2023-12-05T23:04:49.726863",
     "exception": false,
     "start_time": "2023-12-05T23:04:49.716152",
     "status": "completed"
    },
    "tags": []
   },
   "source": [
    "## Plot to show some of the positive/negative ratios for given keywords\n",
    "Some of the keywords are pretty strongly correlated"
   ]
  },
  {
   "cell_type": "code",
   "execution_count": 13,
   "id": "c848da16",
   "metadata": {
    "execution": {
     "iopub.execute_input": "2023-12-05T23:04:49.750835Z",
     "iopub.status.busy": "2023-12-05T23:04:49.750487Z",
     "iopub.status.idle": "2023-12-05T23:04:50.407408Z",
     "shell.execute_reply": "2023-12-05T23:04:50.405914Z"
    },
    "papermill": {
     "duration": 0.672186,
     "end_time": "2023-12-05T23:04:50.410210",
     "exception": false,
     "start_time": "2023-12-05T23:04:49.738024",
     "status": "completed"
    },
    "tags": []
   },
   "outputs": [
    {
     "data": {
      "image/png": "[encoded data removed]",
      "text/plain": [
       "<Figure size 1000x400 with 1 Axes>"
      ]
     },
     "metadata": {},
     "output_type": "display_data"
    }
   ],
   "source": [
    "plt.figure(figsize=(10,4))\n",
    "sns.countplot(data=df[1000:2500], x='keyword',hue='target')\n",
    "plt.xticks(rotation=90);"
   ]
  },
  {
   "cell_type": "markdown",
   "id": "9886a926",
   "metadata": {
    "papermill": {
     "duration": 0.012261,
     "end_time": "2023-12-05T23:04:50.434943",
     "exception": false,
     "start_time": "2023-12-05T23:04:50.422682",
     "status": "completed"
    },
    "tags": []
   },
   "source": [
    "# Split Train Data to do inital testing"
   ]
  },
  {
   "cell_type": "code",
   "execution_count": 14,
   "id": "85edd20f",
   "metadata": {
    "execution": {
     "iopub.execute_input": "2023-12-05T23:04:50.459647Z",
     "iopub.status.busy": "2023-12-05T23:04:50.459328Z",
     "iopub.status.idle": "2023-12-05T23:04:50.709317Z",
     "shell.execute_reply": "2023-12-05T23:04:50.708630Z"
    },
    "papermill": {
     "duration": 0.265171,
     "end_time": "2023-12-05T23:04:50.711682",
     "exception": false,
     "start_time": "2023-12-05T23:04:50.446511",
     "status": "completed"
    },
    "tags": []
   },
   "outputs": [],
   "source": [
    "from sklearn.model_selection import train_test_split"
   ]
  },
  {
   "cell_type": "code",
   "execution_count": 15,
   "id": "63b12049",
   "metadata": {
    "execution": {
     "iopub.execute_input": "2023-12-05T23:04:50.745611Z",
     "iopub.status.busy": "2023-12-05T23:04:50.744930Z",
     "iopub.status.idle": "2023-12-05T23:04:50.762011Z",
     "shell.execute_reply": "2023-12-05T23:04:50.761154Z"
    },
    "papermill": {
     "duration": 0.036672,
     "end_time": "2023-12-05T23:04:50.766644",
     "exception": false,
     "start_time": "2023-12-05T23:04:50.729972",
     "status": "completed"
    },
    "tags": []
   },
   "outputs": [
    {
     "data": {
      "text/html": [
       "<div>\n",
       "<style scoped>\n",
       "    .dataframe tbody tr th:only-of-type {\n",
       "        vertical-align: middle;\n",
       "    }\n",
       "\n",
       "    .dataframe tbody tr th {\n",
       "        vertical-align: top;\n",
       "    }\n",
       "\n",
       "    .dataframe thead th {\n",
       "        text-align: right;\n",
       "    }\n",
       "</style>\n",
       "<table border=\"1\" class=\"dataframe\">\n",
       "  <thead>\n",
       "    <tr style=\"text-align: right;\">\n",
       "      <th></th>\n",
       "      <th>id</th>\n",
       "      <th>keyword</th>\n",
       "      <th>location</th>\n",
       "      <th>text</th>\n",
       "      <th>target</th>\n",
       "      <th>unclean</th>\n",
       "      <th>text combo</th>\n",
       "    </tr>\n",
       "  </thead>\n",
       "  <tbody>\n",
       "    <tr>\n",
       "      <th>800</th>\n",
       "      <td>1160</td>\n",
       "      <td>blight</td>\n",
       "      <td>Laventillemoorings</td>\n",
       "      <td>f you dotish to blight your car go right ahea...</td>\n",
       "      <td>0</td>\n",
       "      <td>If you dotish to blight your car go right ahea...</td>\n",
       "      <td>blight Laventillemoorings   f you dotish to bl...</td>\n",
       "    </tr>\n",
       "    <tr>\n",
       "      <th>801</th>\n",
       "      <td>1162</td>\n",
       "      <td>blight</td>\n",
       "      <td>UK</td>\n",
       "      <td>exual  evolution  light  or  omen is out   to...</td>\n",
       "      <td>0</td>\n",
       "      <td>Sexual Revolution:Blight For Women is out! htt...</td>\n",
       "      <td>blight UK  exual  evolution  light  or  omen i...</td>\n",
       "    </tr>\n",
       "    <tr>\n",
       "      <th>802</th>\n",
       "      <td>1164</td>\n",
       "      <td>blight</td>\n",
       "      <td>Scotland</td>\n",
       "      <td>...</td>\n",
       "      <td>0</td>\n",
       "      <td>LIKE I SWEAR THE SECRET WE'LL UNCOVER IS THE O...</td>\n",
       "      <td>blight Scotland                               ...</td>\n",
       "    </tr>\n",
       "    <tr>\n",
       "      <th>803</th>\n",
       "      <td>1166</td>\n",
       "      <td>blight</td>\n",
       "      <td>London</td>\n",
       "      <td>what is double result live on the app</td>\n",
       "      <td>0</td>\n",
       "      <td>@WillHillBet what is double result live on the...</td>\n",
       "      <td>blight London  what is double result live on t...</td>\n",
       "    </tr>\n",
       "  </tbody>\n",
       "</table>\n",
       "</div>"
      ],
      "text/plain": [
       "       id keyword             location  \\\n",
       "800  1160  blight  Laventillemoorings    \n",
       "801  1162  blight                   UK   \n",
       "802  1164  blight             Scotland   \n",
       "803  1166  blight               London   \n",
       "\n",
       "                                                  text  target  \\\n",
       "800   f you dotish to blight your car go right ahea...       0   \n",
       "801   exual  evolution  light  or  omen is out   to...       0   \n",
       "802                                                ...       0   \n",
       "803              what is double result live on the app       0   \n",
       "\n",
       "                                               unclean  \\\n",
       "800  If you dotish to blight your car go right ahea...   \n",
       "801  Sexual Revolution:Blight For Women is out! htt...   \n",
       "802  LIKE I SWEAR THE SECRET WE'LL UNCOVER IS THE O...   \n",
       "803  @WillHillBet what is double result live on the...   \n",
       "\n",
       "                                            text combo  \n",
       "800  blight Laventillemoorings   f you dotish to bl...  \n",
       "801  blight UK  exual  evolution  light  or  omen i...  \n",
       "802  blight Scotland                               ...  \n",
       "803  blight London  what is double result live on t...  "
      ]
     },
     "execution_count": 15,
     "metadata": {},
     "output_type": "execute_result"
    }
   ],
   "source": [
    "df['text combo'] = df['keyword']+\" \"+df['location']+\" \"+df['text']\n",
    "df_test['text combo'] = df_test['keyword']+\" \"+df_test['location']+\" \"+df_test['text']\n",
    "\n",
    "df[800:804]"
   ]
  },
  {
   "cell_type": "code",
   "execution_count": 16,
   "id": "57059de2",
   "metadata": {
    "execution": {
     "iopub.execute_input": "2023-12-05T23:04:50.794363Z",
     "iopub.status.busy": "2023-12-05T23:04:50.794023Z",
     "iopub.status.idle": "2023-12-05T23:04:50.806375Z",
     "shell.execute_reply": "2023-12-05T23:04:50.805620Z"
    },
    "papermill": {
     "duration": 0.027038,
     "end_time": "2023-12-05T23:04:50.808415",
     "exception": false,
     "start_time": "2023-12-05T23:04:50.781377",
     "status": "completed"
    },
    "tags": []
   },
   "outputs": [],
   "source": [
    "#X = df.drop(['target','id'], axis=1)\n",
    "X = df.drop('target',axis=1)\n",
    "y = df['target']\n",
    "X_train, X_test, y_train, y_test = train_test_split(X, y, test_size=0.2, random_state=814)\n",
    "ids_train = X_train['id']\n",
    "X_train = X_train['text combo']\n",
    "ids_test = X_test['id']\n",
    "X_test = X_test['text combo']"
   ]
  },
  {
   "cell_type": "code",
   "execution_count": 17,
   "id": "d04352bf",
   "metadata": {
    "execution": {
     "iopub.execute_input": "2023-12-05T23:04:50.841369Z",
     "iopub.status.busy": "2023-12-05T23:04:50.840542Z",
     "iopub.status.idle": "2023-12-05T23:04:50.858886Z",
     "shell.execute_reply": "2023-12-05T23:04:50.858162Z"
    },
    "papermill": {
     "duration": 0.035754,
     "end_time": "2023-12-05T23:04:50.861064",
     "exception": false,
     "start_time": "2023-12-05T23:04:50.825310",
     "status": "completed"
    },
    "tags": []
   },
   "outputs": [
    {
     "data": {
      "text/html": [
       "<div>\n",
       "<style scoped>\n",
       "    .dataframe tbody tr th:only-of-type {\n",
       "        vertical-align: middle;\n",
       "    }\n",
       "\n",
       "    .dataframe tbody tr th {\n",
       "        vertical-align: top;\n",
       "    }\n",
       "\n",
       "    .dataframe thead th {\n",
       "        text-align: right;\n",
       "    }\n",
       "</style>\n",
       "<table border=\"1\" class=\"dataframe\">\n",
       "  <thead>\n",
       "    <tr style=\"text-align: right;\">\n",
       "      <th></th>\n",
       "      <th>id</th>\n",
       "      <th>keyword</th>\n",
       "      <th>location</th>\n",
       "      <th>text</th>\n",
       "      <th>text combo</th>\n",
       "    </tr>\n",
       "  </thead>\n",
       "  <tbody>\n",
       "    <tr>\n",
       "      <th>0</th>\n",
       "      <td>0</td>\n",
       "      <td></td>\n",
       "      <td></td>\n",
       "      <td>ust happened a terrible car crash</td>\n",
       "      <td>ust happened a terrible car crash</td>\n",
       "    </tr>\n",
       "    <tr>\n",
       "      <th>1</th>\n",
       "      <td>2</td>\n",
       "      <td></td>\n",
       "      <td></td>\n",
       "      <td>eard about  earthquake is different cities  s...</td>\n",
       "      <td>eard about  earthquake is different cities ...</td>\n",
       "    </tr>\n",
       "    <tr>\n",
       "      <th>2</th>\n",
       "      <td>3</td>\n",
       "      <td></td>\n",
       "      <td></td>\n",
       "      <td>there is a forest fire at spot pond  geese are...</td>\n",
       "      <td>there is a forest fire at spot pond  geese a...</td>\n",
       "    </tr>\n",
       "    <tr>\n",
       "      <th>3</th>\n",
       "      <td>9</td>\n",
       "      <td></td>\n",
       "      <td></td>\n",
       "      <td>pocalypse lighting    pokane  wildfires</td>\n",
       "      <td>pocalypse lighting    pokane  wildfires</td>\n",
       "    </tr>\n",
       "    <tr>\n",
       "      <th>4</th>\n",
       "      <td>11</td>\n",
       "      <td></td>\n",
       "      <td></td>\n",
       "      <td>yphoon  oudelor kills 28 in  hina and  aiwan</td>\n",
       "      <td>yphoon  oudelor kills 28 in  hina and  aiwan</td>\n",
       "    </tr>\n",
       "    <tr>\n",
       "      <th>...</th>\n",
       "      <td>...</td>\n",
       "      <td>...</td>\n",
       "      <td>...</td>\n",
       "      <td>...</td>\n",
       "      <td>...</td>\n",
       "    </tr>\n",
       "    <tr>\n",
       "      <th>3258</th>\n",
       "      <td>10861</td>\n",
       "      <td></td>\n",
       "      <td></td>\n",
       "      <td>...</td>\n",
       "      <td>...</td>\n",
       "    </tr>\n",
       "    <tr>\n",
       "      <th>3259</th>\n",
       "      <td>10865</td>\n",
       "      <td></td>\n",
       "      <td></td>\n",
       "      <td>torm in    worse than last hurricane   y city...</td>\n",
       "      <td>torm in    worse than last hurricane   y ci...</td>\n",
       "    </tr>\n",
       "    <tr>\n",
       "      <th>3260</th>\n",
       "      <td>10868</td>\n",
       "      <td></td>\n",
       "      <td></td>\n",
       "      <td>reen  ine derailment in  hicago</td>\n",
       "      <td>reen  ine derailment in  hicago</td>\n",
       "    </tr>\n",
       "    <tr>\n",
       "      <th>3261</th>\n",
       "      <td>10874</td>\n",
       "      <td></td>\n",
       "      <td></td>\n",
       "      <td>issues  azardous  eather  utlook</td>\n",
       "      <td>issues  azardous  eather  utlook</td>\n",
       "    </tr>\n",
       "    <tr>\n",
       "      <th>3262</th>\n",
       "      <td>10875</td>\n",
       "      <td></td>\n",
       "      <td></td>\n",
       "      <td>ityof algary has activated its  unicipal  me...</td>\n",
       "      <td>ityof algary has activated its  unicipal  ...</td>\n",
       "    </tr>\n",
       "  </tbody>\n",
       "</table>\n",
       "<p>3263 rows × 5 columns</p>\n",
       "</div>"
      ],
      "text/plain": [
       "         id keyword location  \\\n",
       "0         0                    \n",
       "1         2                    \n",
       "2         3                    \n",
       "3         9                    \n",
       "4        11                    \n",
       "...     ...     ...      ...   \n",
       "3258  10861                    \n",
       "3259  10865                    \n",
       "3260  10868                    \n",
       "3261  10874                    \n",
       "3262  10875                    \n",
       "\n",
       "                                                   text  \\\n",
       "0                     ust happened a terrible car crash   \n",
       "1      eard about  earthquake is different cities  s...   \n",
       "2     there is a forest fire at spot pond  geese are...   \n",
       "3               pocalypse lighting    pokane  wildfires   \n",
       "4          yphoon  oudelor kills 28 in  hina and  aiwan   \n",
       "...                                                 ...   \n",
       "3258                                                ...   \n",
       "3259   torm in    worse than last hurricane   y city...   \n",
       "3260                   reen  ine derailment in  hicago    \n",
       "3261              issues  azardous  eather  utlook        \n",
       "3262    ityof algary has activated its  unicipal  me...   \n",
       "\n",
       "                                             text combo  \n",
       "0                     ust happened a terrible car crash  \n",
       "1        eard about  earthquake is different cities ...  \n",
       "2       there is a forest fire at spot pond  geese a...  \n",
       "3               pocalypse lighting    pokane  wildfires  \n",
       "4          yphoon  oudelor kills 28 in  hina and  aiwan  \n",
       "...                                                 ...  \n",
       "3258                                                ...  \n",
       "3259     torm in    worse than last hurricane   y ci...  \n",
       "3260                   reen  ine derailment in  hicago   \n",
       "3261              issues  azardous  eather  utlook       \n",
       "3262      ityof algary has activated its  unicipal  ...  \n",
       "\n",
       "[3263 rows x 5 columns]"
      ]
     },
     "execution_count": 17,
     "metadata": {},
     "output_type": "execute_result"
    }
   ],
   "source": [
    "df_test"
   ]
  },
  {
   "cell_type": "markdown",
   "id": "044e98eb",
   "metadata": {
    "papermill": {
     "duration": 0.011968,
     "end_time": "2023-12-05T23:04:50.887556",
     "exception": false,
     "start_time": "2023-12-05T23:04:50.875588",
     "status": "completed"
    },
    "tags": []
   },
   "source": [
    "# Setup various models to test"
   ]
  },
  {
   "cell_type": "code",
   "execution_count": 18,
   "id": "865bdd7c",
   "metadata": {
    "execution": {
     "iopub.execute_input": "2023-12-05T23:04:50.914752Z",
     "iopub.status.busy": "2023-12-05T23:04:50.913400Z",
     "iopub.status.idle": "2023-12-05T23:04:51.013315Z",
     "shell.execute_reply": "2023-12-05T23:04:51.012257Z"
    },
    "papermill": {
     "duration": 0.115895,
     "end_time": "2023-12-05T23:04:51.015701",
     "exception": false,
     "start_time": "2023-12-05T23:04:50.899806",
     "status": "completed"
    },
    "tags": []
   },
   "outputs": [],
   "source": [
    "#from sklearn.pipeline import Pipeline\n",
    "from sklearn.feature_extraction.text import TfidfVectorizer, CountVectorizer\n",
    "from sklearn.model_selection import GridSearchCV\n",
    "from sklearn.naive_bayes import MultinomialNB\n",
    "from sklearn.linear_model import LogisticRegression, SGDClassifier\n",
    "from sklearn.svm import LinearSVC, SVC\n",
    "from sklearn.metrics import classification_report,f1_score,confusion_matrix,ConfusionMatrixDisplay"
   ]
  },
  {
   "cell_type": "markdown",
   "id": "e7896af2",
   "metadata": {
    "papermill": {
     "duration": 0.012429,
     "end_time": "2023-12-05T23:04:51.040840",
     "exception": false,
     "start_time": "2023-12-05T23:04:51.028411",
     "status": "completed"
    },
    "tags": []
   },
   "source": [
    "### Vectorize the text data"
   ]
  },
  {
   "cell_type": "code",
   "execution_count": 19,
   "id": "5d146581",
   "metadata": {
    "execution": {
     "iopub.execute_input": "2023-12-05T23:04:51.067493Z",
     "iopub.status.busy": "2023-12-05T23:04:51.067058Z",
     "iopub.status.idle": "2023-12-05T23:04:51.299346Z",
     "shell.execute_reply": "2023-12-05T23:04:51.298289Z"
    },
    "papermill": {
     "duration": 0.248054,
     "end_time": "2023-12-05T23:04:51.301608",
     "exception": false,
     "start_time": "2023-12-05T23:04:51.053554",
     "status": "completed"
    },
    "tags": []
   },
   "outputs": [],
   "source": [
    "tfidf = TfidfVectorizer(stop_words='english')\n",
    "tfidf.fit(X_train)\n",
    "X_train_tfidf = tfidf.transform(X_train)\n",
    "X_test_tfidf = tfidf.transform(X_test)"
   ]
  },
  {
   "cell_type": "code",
   "execution_count": 20,
   "id": "0a868189",
   "metadata": {
    "execution": {
     "iopub.execute_input": "2023-12-05T23:04:51.327473Z",
     "iopub.status.busy": "2023-12-05T23:04:51.327118Z",
     "iopub.status.idle": "2023-12-05T23:04:51.332892Z",
     "shell.execute_reply": "2023-12-05T23:04:51.332012Z"
    },
    "papermill": {
     "duration": 0.02062,
     "end_time": "2023-12-05T23:04:51.334728",
     "exception": false,
     "start_time": "2023-12-05T23:04:51.314108",
     "status": "completed"
    },
    "tags": []
   },
   "outputs": [
    {
     "data": {
      "text/plain": [
       "<6090x15053 sparse matrix of type '<class 'numpy.float64'>'\n",
       "\twith 58818 stored elements in Compressed Sparse Row format>"
      ]
     },
     "execution_count": 20,
     "metadata": {},
     "output_type": "execute_result"
    }
   ],
   "source": [
    "X_train_tfidf"
   ]
  },
  {
   "cell_type": "markdown",
   "id": "1421dfbf",
   "metadata": {
    "papermill": {
     "duration": 0.011712,
     "end_time": "2023-12-05T23:04:51.358466",
     "exception": false,
     "start_time": "2023-12-05T23:04:51.346754",
     "status": "completed"
    },
    "tags": []
   },
   "source": [
    "###  MultinomialNB model"
   ]
  },
  {
   "cell_type": "code",
   "execution_count": 21,
   "id": "f04221a7",
   "metadata": {
    "execution": {
     "iopub.execute_input": "2023-12-05T23:04:51.383718Z",
     "iopub.status.busy": "2023-12-05T23:04:51.383389Z",
     "iopub.status.idle": "2023-12-05T23:04:51.505364Z",
     "shell.execute_reply": "2023-12-05T23:04:51.504029Z"
    },
    "papermill": {
     "duration": 0.137524,
     "end_time": "2023-12-05T23:04:51.507773",
     "exception": false,
     "start_time": "2023-12-05T23:04:51.370249",
     "status": "completed"
    },
    "tags": []
   },
   "outputs": [
    {
     "name": "stdout",
     "output_type": "stream",
     "text": [
      "Time to fit = 0.114s\n"
     ]
    },
    {
     "data": {
      "text/plain": [
       "{'alpha': 1}"
      ]
     },
     "execution_count": 21,
     "metadata": {},
     "output_type": "execute_result"
    }
   ],
   "source": [
    "mnb = MultinomialNB()\n",
    "param_grid = {'alpha':[1,2,5,10]}\n",
    "mnb_grid = GridSearchCV(estimator=mnb, param_grid=param_grid, scoring='f1')\n",
    "mnb_start = time.time()\n",
    "mnb_grid.fit(X_train_tfidf, y_train)\n",
    "mnb_end = time.time()\n",
    "print(f'Time to fit = {mnb_end - mnb_start:.3f}s')\n",
    "mnb_grid.best_params_"
   ]
  },
  {
   "cell_type": "code",
   "execution_count": 22,
   "id": "692e7a7b",
   "metadata": {
    "execution": {
     "iopub.execute_input": "2023-12-05T23:04:51.534921Z",
     "iopub.status.busy": "2023-12-05T23:04:51.534566Z",
     "iopub.status.idle": "2023-12-05T23:04:51.768536Z",
     "shell.execute_reply": "2023-12-05T23:04:51.767515Z"
    },
    "papermill": {
     "duration": 0.249868,
     "end_time": "2023-12-05T23:04:51.771012",
     "exception": false,
     "start_time": "2023-12-05T23:04:51.521144",
     "status": "completed"
    },
    "tags": []
   },
   "outputs": [
    {
     "name": "stdout",
     "output_type": "stream",
     "text": [
      "0.7210300429184548\n",
      "              precision    recall  f1-score   support\n",
      "\n",
      "           0       0.77      0.90      0.83       868\n",
      "           1       0.82      0.64      0.72       655\n",
      "\n",
      "    accuracy                           0.79      1523\n",
      "   macro avg       0.80      0.77      0.77      1523\n",
      "weighted avg       0.79      0.79      0.78      1523\n",
      "\n"
     ]
    },
    {
     "data": {
      "image/png": "[encoded data removed]",
      "text/plain": [
       "<Figure size 640x480 with 2 Axes>"
      ]
     },
     "metadata": {},
     "output_type": "display_data"
    }
   ],
   "source": [
    "mnb_preds = mnb_grid.predict(X_test_tfidf)\n",
    "print(f1_score(y_test,mnb_preds))\n",
    "print(classification_report(y_test,mnb_preds))\n",
    "ConfusionMatrixDisplay(confusion_matrix=confusion_matrix(y_test, mnb_preds)).plot();"
   ]
  },
  {
   "cell_type": "markdown",
   "id": "7af6031c",
   "metadata": {
    "papermill": {
     "duration": 0.012423,
     "end_time": "2023-12-05T23:04:51.796347",
     "exception": false,
     "start_time": "2023-12-05T23:04:51.783924",
     "status": "completed"
    },
    "tags": []
   },
   "source": [
    "###  LogisticRegression model"
   ]
  },
  {
   "cell_type": "code",
   "execution_count": 23,
   "id": "4a55a9a5",
   "metadata": {
    "execution": {
     "iopub.execute_input": "2023-12-05T23:04:51.823286Z",
     "iopub.status.busy": "2023-12-05T23:04:51.822279Z",
     "iopub.status.idle": "2023-12-05T23:04:57.647622Z",
     "shell.execute_reply": "2023-12-05T23:04:57.646973Z"
    },
    "papermill": {
     "duration": 5.840825,
     "end_time": "2023-12-05T23:04:57.649511",
     "exception": false,
     "start_time": "2023-12-05T23:04:51.808686",
     "status": "completed"
    },
    "tags": []
   },
   "outputs": [
    {
     "name": "stdout",
     "output_type": "stream",
     "text": [
      "Time to fit = 5.815s\n"
     ]
    },
    {
     "data": {
      "text/plain": [
       "{'C': 4}"
      ]
     },
     "execution_count": 23,
     "metadata": {},
     "output_type": "execute_result"
    }
   ],
   "source": [
    "log = LogisticRegression(max_iter=1000)\n",
    "param_grid = {'C':[3,4,5,6,7,8]}\n",
    "log_grid = GridSearchCV(estimator=log, param_grid=param_grid, scoring='f1')\n",
    "log_start = time.time()\n",
    "log_grid.fit(X_train_tfidf, y_train)\n",
    "log_end = time.time()\n",
    "print(f'Time to fit = {log_end - log_start:.3f}s')\n",
    "log_grid.best_params_"
   ]
  },
  {
   "cell_type": "code",
   "execution_count": 24,
   "id": "1256caff",
   "metadata": {
    "execution": {
     "iopub.execute_input": "2023-12-05T23:04:57.708414Z",
     "iopub.status.busy": "2023-12-05T23:04:57.707505Z",
     "iopub.status.idle": "2023-12-05T23:04:57.956560Z",
     "shell.execute_reply": "2023-12-05T23:04:57.955266Z"
    },
    "papermill": {
     "duration": 0.28594,
     "end_time": "2023-12-05T23:04:57.958782",
     "exception": false,
     "start_time": "2023-12-05T23:04:57.672842",
     "status": "completed"
    },
    "tags": []
   },
   "outputs": [
    {
     "name": "stdout",
     "output_type": "stream",
     "text": [
      "0.7178217821782178\n",
      "              precision    recall  f1-score   support\n",
      "\n",
      "           0       0.77      0.86      0.81       868\n",
      "           1       0.78      0.66      0.72       655\n",
      "\n",
      "    accuracy                           0.78      1523\n",
      "   macro avg       0.78      0.76      0.77      1523\n",
      "weighted avg       0.78      0.78      0.77      1523\n",
      "\n"
     ]
    },
    {
     "data": {
      "image/png": "[encoded data removed]",
      "text/plain": [
       "<Figure size 640x480 with 2 Axes>"
      ]
     },
     "metadata": {},
     "output_type": "display_data"
    }
   ],
   "source": [
    "log_preds = log_grid.predict(X_test_tfidf)\n",
    "print(f1_score(y_test,log_preds))\n",
    "print(classification_report(y_test,log_preds))\n",
    "ConfusionMatrixDisplay(confusion_matrix=confusion_matrix(y_test, log_preds)).plot();"
   ]
  },
  {
   "cell_type": "markdown",
   "id": "563d3379",
   "metadata": {
    "papermill": {
     "duration": 0.013239,
     "end_time": "2023-12-05T23:04:57.985617",
     "exception": false,
     "start_time": "2023-12-05T23:04:57.972378",
     "status": "completed"
    },
    "tags": []
   },
   "source": [
    "### SGDClassifier model"
   ]
  },
  {
   "cell_type": "code",
   "execution_count": 25,
   "id": "14427a5a",
   "metadata": {
    "execution": {
     "iopub.execute_input": "2023-12-05T23:04:58.015324Z",
     "iopub.status.busy": "2023-12-05T23:04:58.014733Z",
     "iopub.status.idle": "2023-12-05T23:04:58.053168Z",
     "shell.execute_reply": "2023-12-05T23:04:58.052397Z"
    },
    "papermill": {
     "duration": 0.055802,
     "end_time": "2023-12-05T23:04:58.055736",
     "exception": false,
     "start_time": "2023-12-05T23:04:57.999934",
     "status": "completed"
    },
    "tags": []
   },
   "outputs": [
    {
     "name": "stdout",
     "output_type": "stream",
     "text": [
      "Time to fit = 0.030s\n"
     ]
    },
    {
     "data": {
      "text/plain": [
       "array([[ 0.66407563, -0.61637852,  0.24658166, ..., -0.16850618,\n",
       "         0.75532072, -0.37046265]])"
      ]
     },
     "execution_count": 25,
     "metadata": {},
     "output_type": "execute_result"
    }
   ],
   "source": [
    "sgdc = SGDClassifier()\n",
    "#param_grid = {'C':[3,4,5,6,7,8]}\n",
    "#log_grid = GridSearchCV(estimator=log, param_grid=param_grid, scoring='f1')\n",
    "sgdc_start = time.time()\n",
    "sgdc.fit(X_train_tfidf, y_train)\n",
    "sgdc_end = time.time()\n",
    "print(f'Time to fit = {sgdc_end - sgdc_start:.3f}s')\n",
    "sgdc.coef_"
   ]
  },
  {
   "cell_type": "code",
   "execution_count": 26,
   "id": "00285644",
   "metadata": {
    "execution": {
     "iopub.execute_input": "2023-12-05T23:04:58.091565Z",
     "iopub.status.busy": "2023-12-05T23:04:58.091200Z",
     "iopub.status.idle": "2023-12-05T23:04:58.318489Z",
     "shell.execute_reply": "2023-12-05T23:04:58.316722Z"
    },
    "papermill": {
     "duration": 0.248144,
     "end_time": "2023-12-05T23:04:58.321045",
     "exception": false,
     "start_time": "2023-12-05T23:04:58.072901",
     "status": "completed"
    },
    "tags": []
   },
   "outputs": [
    {
     "name": "stdout",
     "output_type": "stream",
     "text": [
      "0.7293540474243663\n",
      "              precision    recall  f1-score   support\n",
      "\n",
      "           0       0.78      0.86      0.82       868\n",
      "           1       0.79      0.68      0.73       655\n",
      "\n",
      "    accuracy                           0.78      1523\n",
      "   macro avg       0.78      0.77      0.77      1523\n",
      "weighted avg       0.78      0.78      0.78      1523\n",
      "\n"
     ]
    },
    {
     "data": {
      "image/png": "[encoded data removed]",
      "text/plain": [
       "<Figure size 640x480 with 2 Axes>"
      ]
     },
     "metadata": {},
     "output_type": "display_data"
    }
   ],
   "source": [
    "sgdc_preds = sgdc.predict(X_test_tfidf)\n",
    "print(f1_score(y_test,sgdc_preds))\n",
    "print(classification_report(y_test,sgdc_preds))\n",
    "ConfusionMatrixDisplay(confusion_matrix=confusion_matrix(y_test, sgdc_preds)).plot();"
   ]
  },
  {
   "cell_type": "markdown",
   "id": "c1b9d8a6",
   "metadata": {
    "papermill": {
     "duration": 0.01318,
     "end_time": "2023-12-05T23:04:58.347881",
     "exception": false,
     "start_time": "2023-12-05T23:04:58.334701",
     "status": "completed"
    },
    "tags": []
   },
   "source": [
    "### LinearSVC model"
   ]
  },
  {
   "cell_type": "code",
   "execution_count": 27,
   "id": "d4cd3323",
   "metadata": {
    "execution": {
     "iopub.execute_input": "2023-12-05T23:04:58.375773Z",
     "iopub.status.busy": "2023-12-05T23:04:58.375426Z",
     "iopub.status.idle": "2023-12-05T23:04:59.674193Z",
     "shell.execute_reply": "2023-12-05T23:04:59.673286Z"
    },
    "papermill": {
     "duration": 1.314728,
     "end_time": "2023-12-05T23:04:59.675877",
     "exception": false,
     "start_time": "2023-12-05T23:04:58.361149",
     "status": "completed"
    },
    "tags": []
   },
   "outputs": [
    {
     "name": "stdout",
     "output_type": "stream",
     "text": [
      "Time to fit = 1.292s\n"
     ]
    },
    {
     "data": {
      "text/plain": [
       "{'C': 1}"
      ]
     },
     "execution_count": 27,
     "metadata": {},
     "output_type": "execute_result"
    }
   ],
   "source": [
    "lin_svc = LinearSVC()\n",
    "param_grid = {'C':[1,2,5,10]}\n",
    "lin_svc_grid = GridSearchCV(estimator=lin_svc, param_grid=param_grid, scoring='f1')\n",
    "lin_svc_start = time.time()\n",
    "lin_svc_grid.fit(X_train_tfidf, y_train)\n",
    "lin_svc_end = time.time()\n",
    "print(f'Time to fit = {lin_svc_end - lin_svc_start:.3f}s')\n",
    "lin_svc_grid.best_params_"
   ]
  },
  {
   "cell_type": "code",
   "execution_count": 28,
   "id": "54934a84",
   "metadata": {
    "execution": {
     "iopub.execute_input": "2023-12-05T23:04:59.704474Z",
     "iopub.status.busy": "2023-12-05T23:04:59.704147Z",
     "iopub.status.idle": "2023-12-05T23:04:59.922591Z",
     "shell.execute_reply": "2023-12-05T23:04:59.921787Z"
    },
    "papermill": {
     "duration": 0.234595,
     "end_time": "2023-12-05T23:04:59.924318",
     "exception": false,
     "start_time": "2023-12-05T23:04:59.689723",
     "status": "completed"
    },
    "tags": []
   },
   "outputs": [
    {
     "name": "stdout",
     "output_type": "stream",
     "text": [
      "0.71658615136876\n",
      "              precision    recall  f1-score   support\n",
      "\n",
      "           0       0.78      0.84      0.80       868\n",
      "           1       0.76      0.68      0.72       655\n",
      "\n",
      "    accuracy                           0.77      1523\n",
      "   macro avg       0.77      0.76      0.76      1523\n",
      "weighted avg       0.77      0.77      0.77      1523\n",
      "\n"
     ]
    },
    {
     "data": {
      "image/png": "[encoded data removed]",
      "text/plain": [
       "<Figure size 640x480 with 2 Axes>"
      ]
     },
     "metadata": {},
     "output_type": "display_data"
    }
   ],
   "source": [
    "lin_svc_preds = lin_svc_grid.predict(X_test_tfidf)\n",
    "print(f1_score(y_test,lin_svc_preds))\n",
    "print(classification_report(y_test,lin_svc_preds))\n",
    "ConfusionMatrixDisplay(confusion_matrix=confusion_matrix(y_test, lin_svc_preds)).plot();"
   ]
  },
  {
   "cell_type": "markdown",
   "id": "b3c69956",
   "metadata": {
    "papermill": {
     "duration": 0.013505,
     "end_time": "2023-12-05T23:04:59.952219",
     "exception": false,
     "start_time": "2023-12-05T23:04:59.938714",
     "status": "completed"
    },
    "tags": []
   },
   "source": [
    "### SVC model\n",
    "<span style=\"font-size:16px;color:red;\"> Below cell is the slowest cell by far (takes ~4 minutes with the grid search) </span>"
   ]
  },
  {
   "cell_type": "code",
   "execution_count": 29,
   "id": "b6901bfd",
   "metadata": {
    "execution": {
     "iopub.execute_input": "2023-12-05T23:04:59.981155Z",
     "iopub.status.busy": "2023-12-05T23:04:59.980818Z",
     "iopub.status.idle": "2023-12-05T23:04:59.984976Z",
     "shell.execute_reply": "2023-12-05T23:04:59.984044Z"
    },
    "papermill": {
     "duration": 0.020636,
     "end_time": "2023-12-05T23:04:59.986581",
     "exception": false,
     "start_time": "2023-12-05T23:04:59.965945",
     "status": "completed"
    },
    "tags": []
   },
   "outputs": [],
   "source": [
    "# svc = SVC()\n",
    "# param_grid = {'C': [1,10,100], \n",
    "#               'gamma': [1,0.1,0.01]}\n",
    "# svc_grid = GridSearchCV(estimator=svc, param_grid=param_grid, scoring='f1')\n",
    "# svc_start = time.time()\n",
    "# svc_grid.fit(X_train_tfidf, y_train)\n",
    "# svc_end = time.time()\n",
    "# print(f'Time to fit = {svc_end - svc_start:.3f}s')\n",
    "# svc_grid.best_params_"
   ]
  },
  {
   "cell_type": "code",
   "execution_count": 30,
   "id": "b25ab064",
   "metadata": {
    "execution": {
     "iopub.execute_input": "2023-12-05T23:05:00.015859Z",
     "iopub.status.busy": "2023-12-05T23:05:00.014931Z",
     "iopub.status.idle": "2023-12-05T23:05:00.019051Z",
     "shell.execute_reply": "2023-12-05T23:05:00.018023Z"
    },
    "papermill": {
     "duration": 0.020788,
     "end_time": "2023-12-05T23:05:00.021064",
     "exception": false,
     "start_time": "2023-12-05T23:05:00.000276",
     "status": "completed"
    },
    "tags": []
   },
   "outputs": [],
   "source": [
    "# svc_preds = svc_grid.predict(X_test_tfidf)\n",
    "# print(f1_score(y_test,svc_preds))\n",
    "# print(classification_report(y_test,svc_preds))\n",
    "# ConfusionMatrixDisplay(confusion_matrix=confusion_matrix(y_test, svc_preds)).plot();"
   ]
  },
  {
   "cell_type": "markdown",
   "id": "71d6d529",
   "metadata": {
    "papermill": {
     "duration": 0.013922,
     "end_time": "2023-12-05T23:05:00.048846",
     "exception": false,
     "start_time": "2023-12-05T23:05:00.034924",
     "status": "completed"
    },
    "tags": []
   },
   "source": [
    "# Compare Models"
   ]
  },
  {
   "cell_type": "code",
   "execution_count": 31,
   "id": "cab56145",
   "metadata": {
    "execution": {
     "iopub.execute_input": "2023-12-05T23:05:00.078034Z",
     "iopub.status.busy": "2023-12-05T23:05:00.077552Z",
     "iopub.status.idle": "2023-12-05T23:05:00.091270Z",
     "shell.execute_reply": "2023-12-05T23:05:00.090385Z"
    },
    "papermill": {
     "duration": 0.030576,
     "end_time": "2023-12-05T23:05:00.093206",
     "exception": false,
     "start_time": "2023-12-05T23:05:00.062630",
     "status": "completed"
    },
    "tags": []
   },
   "outputs": [
    {
     "name": "stdout",
     "output_type": "stream",
     "text": [
      "MNB time to fit = 0.114s\n",
      "MNB f1 score = 0.7210\n",
      "----------\n",
      "LogReg time to fit = 5.815s\n",
      "LogReg f1 score = 0.7178\n",
      "----------\n",
      "SGDClass time to fit = 0.030s\n",
      "SGDClass f1 score = 0.7294\n",
      "----------\n",
      "LinSVC time to fit = 1.292s\n",
      "LinSVC f1 score = 0.7166\n"
     ]
    }
   ],
   "source": [
    "print(f'MNB time to fit = {mnb_end - mnb_start:.3f}s')\n",
    "print(f'MNB f1 score = {f1_score(y_test,mnb_preds):.4f}')\n",
    "print('-'*10)\n",
    "print(f'LogReg time to fit = {log_end - log_start:.3f}s')\n",
    "print(f'LogReg f1 score = {f1_score(y_test,log_preds):.4f}')\n",
    "print('-'*10)\n",
    "print(f'SGDClass time to fit = {sgdc_end - sgdc_start:.3f}s')\n",
    "print(f'SGDClass f1 score = {f1_score(y_test,sgdc_preds):.4f}')\n",
    "print('-'*10)\n",
    "print(f'LinSVC time to fit = {lin_svc_end - lin_svc_start:.3f}s')\n",
    "print(f'LinSVC f1 score = {f1_score(y_test,lin_svc_preds):.4f}')\n",
    "# print('-'*10)\n",
    "# print(f'SVC time to fit = {svc_end - svc_start:.3f}s')\n",
    "# print(f'SVC f1 score = {f1_score(y_test,svc_preds):.4f}')"
   ]
  },
  {
   "cell_type": "markdown",
   "id": "632a86d3",
   "metadata": {
    "papermill": {
     "duration": 0.013777,
     "end_time": "2023-12-05T23:05:00.121040",
     "exception": false,
     "start_time": "2023-12-05T23:05:00.107263",
     "status": "completed"
    },
    "tags": []
   },
   "source": [
    "# Final Data Set prep"
   ]
  },
  {
   "cell_type": "code",
   "execution_count": 32,
   "id": "da3e7172",
   "metadata": {
    "execution": {
     "iopub.execute_input": "2023-12-05T23:05:00.151697Z",
     "iopub.status.busy": "2023-12-05T23:05:00.151150Z",
     "iopub.status.idle": "2023-12-05T23:05:00.522442Z",
     "shell.execute_reply": "2023-12-05T23:05:00.521478Z"
    },
    "papermill": {
     "duration": 0.38951,
     "end_time": "2023-12-05T23:05:00.524773",
     "exception": false,
     "start_time": "2023-12-05T23:05:00.135263",
     "status": "completed"
    },
    "tags": []
   },
   "outputs": [],
   "source": [
    "tfidf = TfidfVectorizer(stop_words='english')\n",
    "tfidf.fit(X['text combo'])\n",
    "X_final_train_tfidf = tfidf.transform(X['text combo'])\n",
    "X_final_test_tfidf = tfidf.transform(df_test['text combo'])\n",
    "ids_out = df_test['id']"
   ]
  },
  {
   "cell_type": "markdown",
   "id": "28e0529e",
   "metadata": {
    "papermill": {
     "duration": 0.014158,
     "end_time": "2023-12-05T23:05:00.553627",
     "exception": false,
     "start_time": "2023-12-05T23:05:00.539469",
     "status": "completed"
    },
    "tags": []
   },
   "source": [
    "## Final dataset"
   ]
  },
  {
   "cell_type": "code",
   "execution_count": 33,
   "id": "1343ae00",
   "metadata": {
    "execution": {
     "iopub.execute_input": "2023-12-05T23:05:00.583270Z",
     "iopub.status.busy": "2023-12-05T23:05:00.582910Z",
     "iopub.status.idle": "2023-12-05T23:05:00.588409Z",
     "shell.execute_reply": "2023-12-05T23:05:00.587678Z"
    },
    "papermill": {
     "duration": 0.022302,
     "end_time": "2023-12-05T23:05:00.590009",
     "exception": false,
     "start_time": "2023-12-05T23:05:00.567707",
     "status": "completed"
    },
    "tags": []
   },
   "outputs": [
    {
     "data": {
      "text/plain": [
       "<7613x17102 sparse matrix of type '<class 'numpy.float64'>'\n",
       "\twith 73569 stored elements in Compressed Sparse Row format>"
      ]
     },
     "execution_count": 33,
     "metadata": {},
     "output_type": "execute_result"
    }
   ],
   "source": [
    "X_final_train_tfidf"
   ]
  },
  {
   "cell_type": "code",
   "execution_count": 34,
   "id": "dd3592d7",
   "metadata": {
    "execution": {
     "iopub.execute_input": "2023-12-05T23:05:00.619801Z",
     "iopub.status.busy": "2023-12-05T23:05:00.619439Z",
     "iopub.status.idle": "2023-12-05T23:05:01.034348Z",
     "shell.execute_reply": "2023-12-05T23:05:01.033557Z"
    },
    "papermill": {
     "duration": 0.432449,
     "end_time": "2023-12-05T23:05:01.036598",
     "exception": false,
     "start_time": "2023-12-05T23:05:00.604149",
     "status": "completed"
    },
    "tags": []
   },
   "outputs": [
    {
     "name": "stdout",
     "output_type": "stream",
     "text": [
      "Time to fit = 0.408s\n"
     ]
    }
   ],
   "source": [
    "# model = SVC(**svc_grid.best_params_)\n",
    "model = LogisticRegression(max_iter=1000, **log_grid.best_params_)\n",
    "# model = SGDClassifier()\n",
    "final_start = time.time()\n",
    "model.fit(X_final_train_tfidf, y)\n",
    "final_end = time.time()\n",
    "print(f'Time to fit = {final_end - final_start:.3f}s')"
   ]
  },
  {
   "cell_type": "code",
   "execution_count": 35,
   "id": "72306b27",
   "metadata": {
    "execution": {
     "iopub.execute_input": "2023-12-05T23:05:01.110633Z",
     "iopub.status.busy": "2023-12-05T23:05:01.110266Z",
     "iopub.status.idle": "2023-12-05T23:05:01.114770Z",
     "shell.execute_reply": "2023-12-05T23:05:01.114049Z"
    },
    "papermill": {
     "duration": 0.048177,
     "end_time": "2023-12-05T23:05:01.116520",
     "exception": false,
     "start_time": "2023-12-05T23:05:01.068343",
     "status": "completed"
    },
    "tags": []
   },
   "outputs": [],
   "source": [
    "final_preds = model.predict(X_final_test_tfidf)"
   ]
  },
  {
   "cell_type": "markdown",
   "id": "ed730901",
   "metadata": {
    "papermill": {
     "duration": 0.014188,
     "end_time": "2023-12-05T23:05:01.163456",
     "exception": false,
     "start_time": "2023-12-05T23:05:01.149268",
     "status": "completed"
    },
    "tags": []
   },
   "source": [
    "# Final output formatting"
   ]
  },
  {
   "cell_type": "code",
   "execution_count": 36,
   "id": "db1d6e31",
   "metadata": {
    "execution": {
     "iopub.execute_input": "2023-12-05T23:05:01.193637Z",
     "iopub.status.busy": "2023-12-05T23:05:01.193295Z",
     "iopub.status.idle": "2023-12-05T23:05:01.198049Z",
     "shell.execute_reply": "2023-12-05T23:05:01.197163Z"
    },
    "papermill": {
     "duration": 0.022172,
     "end_time": "2023-12-05T23:05:01.200116",
     "exception": false,
     "start_time": "2023-12-05T23:05:01.177944",
     "status": "completed"
    },
    "tags": []
   },
   "outputs": [],
   "source": [
    "output_df = pd.DataFrame({'id': ids_out,\n",
    "                          'target': final_preds.squeeze()})"
   ]
  },
  {
   "cell_type": "code",
   "execution_count": 37,
   "id": "bfd8fe1e",
   "metadata": {
    "execution": {
     "iopub.execute_input": "2023-12-05T23:05:01.232665Z",
     "iopub.status.busy": "2023-12-05T23:05:01.231995Z",
     "iopub.status.idle": "2023-12-05T23:05:01.242224Z",
     "shell.execute_reply": "2023-12-05T23:05:01.240970Z"
    },
    "papermill": {
     "duration": 0.028773,
     "end_time": "2023-12-05T23:05:01.244474",
     "exception": false,
     "start_time": "2023-12-05T23:05:01.215701",
     "status": "completed"
    },
    "tags": []
   },
   "outputs": [
    {
     "data": {
      "text/html": [
       "<div>\n",
       "<style scoped>\n",
       "    .dataframe tbody tr th:only-of-type {\n",
       "        vertical-align: middle;\n",
       "    }\n",
       "\n",
       "    .dataframe tbody tr th {\n",
       "        vertical-align: top;\n",
       "    }\n",
       "\n",
       "    .dataframe thead th {\n",
       "        text-align: right;\n",
       "    }\n",
       "</style>\n",
       "<table border=\"1\" class=\"dataframe\">\n",
       "  <thead>\n",
       "    <tr style=\"text-align: right;\">\n",
       "      <th></th>\n",
       "      <th>id</th>\n",
       "      <th>target</th>\n",
       "    </tr>\n",
       "  </thead>\n",
       "  <tbody>\n",
       "    <tr>\n",
       "      <th>0</th>\n",
       "      <td>0</td>\n",
       "      <td>1</td>\n",
       "    </tr>\n",
       "    <tr>\n",
       "      <th>1</th>\n",
       "      <td>2</td>\n",
       "      <td>1</td>\n",
       "    </tr>\n",
       "    <tr>\n",
       "      <th>2</th>\n",
       "      <td>3</td>\n",
       "      <td>1</td>\n",
       "    </tr>\n",
       "    <tr>\n",
       "      <th>3</th>\n",
       "      <td>9</td>\n",
       "      <td>1</td>\n",
       "    </tr>\n",
       "    <tr>\n",
       "      <th>4</th>\n",
       "      <td>11</td>\n",
       "      <td>1</td>\n",
       "    </tr>\n",
       "    <tr>\n",
       "      <th>...</th>\n",
       "      <td>...</td>\n",
       "      <td>...</td>\n",
       "    </tr>\n",
       "    <tr>\n",
       "      <th>3258</th>\n",
       "      <td>10861</td>\n",
       "      <td>0</td>\n",
       "    </tr>\n",
       "    <tr>\n",
       "      <th>3259</th>\n",
       "      <td>10865</td>\n",
       "      <td>1</td>\n",
       "    </tr>\n",
       "    <tr>\n",
       "      <th>3260</th>\n",
       "      <td>10868</td>\n",
       "      <td>1</td>\n",
       "    </tr>\n",
       "    <tr>\n",
       "      <th>3261</th>\n",
       "      <td>10874</td>\n",
       "      <td>1</td>\n",
       "    </tr>\n",
       "    <tr>\n",
       "      <th>3262</th>\n",
       "      <td>10875</td>\n",
       "      <td>1</td>\n",
       "    </tr>\n",
       "  </tbody>\n",
       "</table>\n",
       "<p>3263 rows × 2 columns</p>\n",
       "</div>"
      ],
      "text/plain": [
       "         id  target\n",
       "0         0       1\n",
       "1         2       1\n",
       "2         3       1\n",
       "3         9       1\n",
       "4        11       1\n",
       "...     ...     ...\n",
       "3258  10861       0\n",
       "3259  10865       1\n",
       "3260  10868       1\n",
       "3261  10874       1\n",
       "3262  10875       1\n",
       "\n",
       "[3263 rows x 2 columns]"
      ]
     },
     "execution_count": 37,
     "metadata": {},
     "output_type": "execute_result"
    }
   ],
   "source": [
    "output_df"
   ]
  },
  {
   "cell_type": "code",
   "execution_count": 38,
   "id": "525544d7",
   "metadata": {
    "execution": {
     "iopub.execute_input": "2023-12-05T23:05:01.275432Z",
     "iopub.status.busy": "2023-12-05T23:05:01.275077Z",
     "iopub.status.idle": "2023-12-05T23:05:01.284926Z",
     "shell.execute_reply": "2023-12-05T23:05:01.284016Z"
    },
    "papermill": {
     "duration": 0.028017,
     "end_time": "2023-12-05T23:05:01.287312",
     "exception": false,
     "start_time": "2023-12-05T23:05:01.259295",
     "status": "completed"
    },
    "tags": []
   },
   "outputs": [],
   "source": [
    "output_df.to_csv('/kaggle/working/submission.csv', index=False)"
   ]
  },
  {
   "cell_type": "code",
   "execution_count": null,
   "id": "20c3e6b2",
   "metadata": {
    "papermill": {
     "duration": 0.014156,
     "end_time": "2023-12-05T23:05:01.316193",
     "exception": false,
     "start_time": "2023-12-05T23:05:01.302037",
     "status": "completed"
    },
    "tags": []
   },
   "outputs": [],
   "source": []
  }
 ],
 "metadata": {
  "kaggle": {
   "accelerator": "none",
   "dataSources": [
    {
     "databundleVersionId": 869809,
     "sourceId": 17777,
     "sourceType": "competition"
    }
   ],
   "dockerImageVersionId": 30587,
   "isGpuEnabled": false,
   "isInternetEnabled": true,
   "language": "python",
   "sourceType": "notebook"
  },
  "kernelspec": {
   "display_name": "Python 3",
   "language": "python",
   "name": "python3"
  },
  "language_info": {
   "codemirror_mode": {
    "name": "ipython",
    "version": 3
   },
   "file_extension": ".py",
   "mimetype": "text/x-python",
   "name": "python",
   "nbconvert_exporter": "python",
   "pygments_lexer": "ipython3",
   "version": "3.10.12"
  },
  "papermill": {
   "default_parameters": {},
   "duration": 17.020915,
   "end_time": "2023-12-05T23:05:01.849779",
   "environment_variables": {},
   "exception": null,
   "input_path": "__notebook__.ipynb",
   "output_path": "__notebook__.ipynb",
   "parameters": {},
   "start_time": "2023-12-05T23:04:44.828864",
   "version": "2.4.0"
  }
 },
 "nbformat": 4,
 "nbformat_minor": 5
}
