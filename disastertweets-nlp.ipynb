{
 "cells": [
  {
   "cell_type": "code",
   "execution_count": 1,
   "id": "168d2a11",
   "metadata": {
    "_cell_guid": "b1076dfc-b9ad-4769-8c92-a6c4dae69d19",
    "_uuid": "8f2839f25d086af736a60e9eeb907d3b93b6e0e5",
    "execution": {
     "iopub.execute_input": "2024-02-13T16:11:24.832381Z",
     "iopub.status.busy": "2024-02-13T16:11:24.831196Z",
     "iopub.status.idle": "2024-02-13T16:11:27.635763Z",
     "shell.execute_reply": "2024-02-13T16:11:27.634223Z"
    },
    "papermill": {
     "duration": 2.828836,
     "end_time": "2024-02-13T16:11:27.638626",
     "exception": false,
     "start_time": "2024-02-13T16:11:24.809790",
     "status": "completed"
    },
    "tags": []
   },
   "outputs": [
    {
     "name": "stdout",
     "output_type": "stream",
     "text": [
      "/kaggle/input/nlp-getting-started/sample_submission.csv\n",
      "/kaggle/input/nlp-getting-started/train.csv\n",
      "/kaggle/input/nlp-getting-started/test.csv\n"
     ]
    }
   ],
   "source": [
    "# This Python 3 environment comes with many helpful analytics libraries installed\n",
    "# It is defined by the kaggle/python Docker image: https://github.com/kaggle/docker-python\n",
    "# For example, here's several helpful packages to load\n",
    "\n",
    "import numpy as np # linear algebra\n",
    "import pandas as pd # data processing, CSV file I/O (e.g. pd.read_csv)\n",
    "import seaborn as sns\n",
    "import matplotlib.pyplot as plt\n",
    "import time\n",
    "import re\n",
    "\n",
    "# Input data files are available in the read-only \"../input/\" directory\n",
    "# For example, running this (by clicking run or pressing Shift+Enter) will list all files under the input directory\n",
    "\n",
    "import os\n",
    "for dirname, _, filenames in os.walk('/kaggle/input'):\n",
    "    for filename in filenames:\n",
    "        print(os.path.join(dirname, filename))\n",
    "\n",
    "# You can write up to 20GB to the current directory (/kaggle/working/) that gets preserved as output when you create a version using \"Save & Run All\" \n",
    "# You can also write temporary files to /kaggle/temp/, but they won't be saved outside of the current session"
   ]
  },
  {
   "cell_type": "markdown",
   "id": "72965a6c",
   "metadata": {
    "papermill": {
     "duration": 0.017294,
     "end_time": "2024-02-13T16:11:27.674048",
     "exception": false,
     "start_time": "2024-02-13T16:11:27.656754",
     "status": "completed"
    },
    "tags": []
   },
   "source": [
    "# Read in Train and Test Data sets"
   ]
  },
  {
   "cell_type": "code",
   "execution_count": 2,
   "id": "9e6ac689",
   "metadata": {
    "execution": {
     "iopub.execute_input": "2024-02-13T16:11:27.711810Z",
     "iopub.status.busy": "2024-02-13T16:11:27.710410Z",
     "iopub.status.idle": "2024-02-13T16:11:27.828056Z",
     "shell.execute_reply": "2024-02-13T16:11:27.827064Z"
    },
    "papermill": {
     "duration": 0.139682,
     "end_time": "2024-02-13T16:11:27.831130",
     "exception": false,
     "start_time": "2024-02-13T16:11:27.691448",
     "status": "completed"
    },
    "tags": []
   },
   "outputs": [],
   "source": [
    "df = pd.read_csv(\"/kaggle/input/nlp-getting-started/train.csv\")\n",
    "df_test = pd.read_csv(\"/kaggle/input/nlp-getting-started/test.csv\")\n",
    "df['unclean'] = df['text']"
   ]
  },
  {
   "cell_type": "code",
   "execution_count": 3,
   "id": "4ab1a8b0",
   "metadata": {
    "execution": {
     "iopub.execute_input": "2024-02-13T16:11:27.872119Z",
     "iopub.status.busy": "2024-02-13T16:11:27.870919Z",
     "iopub.status.idle": "2024-02-13T16:11:27.892283Z",
     "shell.execute_reply": "2024-02-13T16:11:27.891365Z"
    },
    "papermill": {
     "duration": 0.043118,
     "end_time": "2024-02-13T16:11:27.894686",
     "exception": false,
     "start_time": "2024-02-13T16:11:27.851568",
     "status": "completed"
    },
    "tags": []
   },
   "outputs": [
    {
     "data": {
      "text/html": [
       "<div>\n",
       "<style scoped>\n",
       "    .dataframe tbody tr th:only-of-type {\n",
       "        vertical-align: middle;\n",
       "    }\n",
       "\n",
       "    .dataframe tbody tr th {\n",
       "        vertical-align: top;\n",
       "    }\n",
       "\n",
       "    .dataframe thead th {\n",
       "        text-align: right;\n",
       "    }\n",
       "</style>\n",
       "<table border=\"1\" class=\"dataframe\">\n",
       "  <thead>\n",
       "    <tr style=\"text-align: right;\">\n",
       "      <th></th>\n",
       "      <th>id</th>\n",
       "      <th>keyword</th>\n",
       "      <th>location</th>\n",
       "      <th>text</th>\n",
       "      <th>target</th>\n",
       "      <th>unclean</th>\n",
       "    </tr>\n",
       "  </thead>\n",
       "  <tbody>\n",
       "    <tr>\n",
       "      <th>0</th>\n",
       "      <td>1</td>\n",
       "      <td>NaN</td>\n",
       "      <td>NaN</td>\n",
       "      <td>Our Deeds are the Reason of this #earthquake M...</td>\n",
       "      <td>1</td>\n",
       "      <td>Our Deeds are the Reason of this #earthquake M...</td>\n",
       "    </tr>\n",
       "    <tr>\n",
       "      <th>1</th>\n",
       "      <td>4</td>\n",
       "      <td>NaN</td>\n",
       "      <td>NaN</td>\n",
       "      <td>Forest fire near La Ronge Sask. Canada</td>\n",
       "      <td>1</td>\n",
       "      <td>Forest fire near La Ronge Sask. Canada</td>\n",
       "    </tr>\n",
       "    <tr>\n",
       "      <th>2</th>\n",
       "      <td>5</td>\n",
       "      <td>NaN</td>\n",
       "      <td>NaN</td>\n",
       "      <td>All residents asked to 'shelter in place' are ...</td>\n",
       "      <td>1</td>\n",
       "      <td>All residents asked to 'shelter in place' are ...</td>\n",
       "    </tr>\n",
       "    <tr>\n",
       "      <th>3</th>\n",
       "      <td>6</td>\n",
       "      <td>NaN</td>\n",
       "      <td>NaN</td>\n",
       "      <td>13,000 people receive #wildfires evacuation or...</td>\n",
       "      <td>1</td>\n",
       "      <td>13,000 people receive #wildfires evacuation or...</td>\n",
       "    </tr>\n",
       "    <tr>\n",
       "      <th>4</th>\n",
       "      <td>7</td>\n",
       "      <td>NaN</td>\n",
       "      <td>NaN</td>\n",
       "      <td>Just got sent this photo from Ruby #Alaska as ...</td>\n",
       "      <td>1</td>\n",
       "      <td>Just got sent this photo from Ruby #Alaska as ...</td>\n",
       "    </tr>\n",
       "  </tbody>\n",
       "</table>\n",
       "</div>"
      ],
      "text/plain": [
       "   id keyword location                                               text  \\\n",
       "0   1     NaN      NaN  Our Deeds are the Reason of this #earthquake M...   \n",
       "1   4     NaN      NaN             Forest fire near La Ronge Sask. Canada   \n",
       "2   5     NaN      NaN  All residents asked to 'shelter in place' are ...   \n",
       "3   6     NaN      NaN  13,000 people receive #wildfires evacuation or...   \n",
       "4   7     NaN      NaN  Just got sent this photo from Ruby #Alaska as ...   \n",
       "\n",
       "   target                                            unclean  \n",
       "0       1  Our Deeds are the Reason of this #earthquake M...  \n",
       "1       1             Forest fire near La Ronge Sask. Canada  \n",
       "2       1  All residents asked to 'shelter in place' are ...  \n",
       "3       1  13,000 people receive #wildfires evacuation or...  \n",
       "4       1  Just got sent this photo from Ruby #Alaska as ...  "
      ]
     },
     "execution_count": 3,
     "metadata": {},
     "output_type": "execute_result"
    }
   ],
   "source": [
    "df.head()"
   ]
  },
  {
   "cell_type": "markdown",
   "id": "969b8faa",
   "metadata": {
    "papermill": {
     "duration": 0.017927,
     "end_time": "2024-02-13T16:11:27.930766",
     "exception": false,
     "start_time": "2024-02-13T16:11:27.912839",
     "status": "completed"
    },
    "tags": []
   },
   "source": [
    "### Check for null values"
   ]
  },
  {
   "cell_type": "code",
   "execution_count": 4,
   "id": "c3e1e5c9",
   "metadata": {
    "execution": {
     "iopub.execute_input": "2024-02-13T16:11:27.969348Z",
     "iopub.status.busy": "2024-02-13T16:11:27.968617Z",
     "iopub.status.idle": "2024-02-13T16:11:27.984105Z",
     "shell.execute_reply": "2024-02-13T16:11:27.982817Z"
    },
    "papermill": {
     "duration": 0.03751,
     "end_time": "2024-02-13T16:11:27.987032",
     "exception": false,
     "start_time": "2024-02-13T16:11:27.949522",
     "status": "completed"
    },
    "tags": []
   },
   "outputs": [
    {
     "data": {
      "text/plain": [
       "id             0\n",
       "keyword       61\n",
       "location    2533\n",
       "text           0\n",
       "target         0\n",
       "unclean        0\n",
       "dtype: int64"
      ]
     },
     "execution_count": 4,
     "metadata": {},
     "output_type": "execute_result"
    }
   ],
   "source": [
    "df.isnull().sum()"
   ]
  },
  {
   "cell_type": "code",
   "execution_count": 5,
   "id": "65b36b04",
   "metadata": {
    "execution": {
     "iopub.execute_input": "2024-02-13T16:11:28.027305Z",
     "iopub.status.busy": "2024-02-13T16:11:28.026880Z",
     "iopub.status.idle": "2024-02-13T16:11:28.038587Z",
     "shell.execute_reply": "2024-02-13T16:11:28.037231Z"
    },
    "papermill": {
     "duration": 0.03477,
     "end_time": "2024-02-13T16:11:28.041089",
     "exception": false,
     "start_time": "2024-02-13T16:11:28.006319",
     "status": "completed"
    },
    "tags": []
   },
   "outputs": [
    {
     "data": {
      "text/plain": [
       "id             0\n",
       "keyword       26\n",
       "location    1105\n",
       "text           0\n",
       "dtype: int64"
      ]
     },
     "execution_count": 5,
     "metadata": {},
     "output_type": "execute_result"
    }
   ],
   "source": [
    "df_test.isnull().sum()"
   ]
  },
  {
   "cell_type": "markdown",
   "id": "cb41aca7",
   "metadata": {
    "papermill": {
     "duration": 0.018551,
     "end_time": "2024-02-13T16:11:28.079170",
     "exception": false,
     "start_time": "2024-02-13T16:11:28.060619",
     "status": "completed"
    },
    "tags": []
   },
   "source": [
    "Key words have %20 instead of spaces so fill those"
   ]
  },
  {
   "cell_type": "code",
   "execution_count": 6,
   "id": "de550830",
   "metadata": {
    "execution": {
     "iopub.execute_input": "2024-02-13T16:11:28.120828Z",
     "iopub.status.busy": "2024-02-13T16:11:28.119743Z",
     "iopub.status.idle": "2024-02-13T16:11:28.130345Z",
     "shell.execute_reply": "2024-02-13T16:11:28.129109Z"
    },
    "papermill": {
     "duration": 0.033407,
     "end_time": "2024-02-13T16:11:28.133078",
     "exception": false,
     "start_time": "2024-02-13T16:11:28.099671",
     "status": "completed"
    },
    "tags": []
   },
   "outputs": [
    {
     "data": {
      "text/plain": [
       "array([nan, 'ablaze', 'accident', 'aftershock', 'airplane%20accident',\n",
       "       'ambulance', 'annihilated', 'annihilation', 'apocalypse',\n",
       "       'armageddon', 'army', 'arson', 'arsonist', 'attack', 'attacked',\n",
       "       'avalanche', 'battle', 'bioterror', 'bioterrorism', 'blaze',\n",
       "       'blazing', 'bleeding', 'blew%20up', 'blight', 'blizzard'],\n",
       "      dtype=object)"
      ]
     },
     "execution_count": 6,
     "metadata": {},
     "output_type": "execute_result"
    }
   ],
   "source": [
    "df['keyword'].unique()[:25]"
   ]
  },
  {
   "cell_type": "markdown",
   "id": "fb0633a3",
   "metadata": {
    "papermill": {
     "duration": 0.017849,
     "end_time": "2024-02-13T16:11:28.170385",
     "exception": false,
     "start_time": "2024-02-13T16:11:28.152536",
     "status": "completed"
    },
    "tags": []
   },
   "source": [
    "**Tweet cleaner**"
   ]
  },
  {
   "cell_type": "code",
   "execution_count": 7,
   "id": "dd9c73be",
   "metadata": {
    "execution": {
     "iopub.execute_input": "2024-02-13T16:11:28.210052Z",
     "iopub.status.busy": "2024-02-13T16:11:28.209612Z",
     "iopub.status.idle": "2024-02-13T16:11:28.217029Z",
     "shell.execute_reply": "2024-02-13T16:11:28.215195Z"
    },
    "papermill": {
     "duration": 0.029983,
     "end_time": "2024-02-13T16:11:28.219734",
     "exception": false,
     "start_time": "2024-02-13T16:11:28.189751",
     "status": "completed"
    },
    "tags": []
   },
   "outputs": [],
   "source": [
    "# Neirly all of these changes make the performance actually worse!\n",
    "def cleaner(tweet):\n",
    "    tweet = tweet.lower()\n",
    "#    tweet = re.sub('[()!?]',\"\", tweet)\n",
    "#    tweet = re.sub('\\[.*?\\]',\"\", tweet)\n",
    "#    tweet = re.sub(\"@[A-Za-z0-9_]+\",\"\",tweet) #Remove @ sign\n",
    "#    tweet = re.sub(\"#[A-Za-z0-9_]+\",\"\",tweet) # Remove Hashtags\n",
    "    tweet = re.sub(\"http\\S+\",\"\", tweet) #Remove http links\n",
    "#    tweet = re.sub(\"www\\S+\",\"\", tweet) #Remove www links\n",
    "    tweet = re.sub(\"[^a-z0-9]\",\" \", tweet) # Filtering non-alphanumeric characters\n",
    "    tweet = re.sub(\"\\W[a-zA-Z0-9_]\\W\", \" \", tweet) # remove single character words\n",
    "    return tweet"
   ]
  },
  {
   "cell_type": "markdown",
   "id": "1011b95c",
   "metadata": {
    "papermill": {
     "duration": 0.084633,
     "end_time": "2024-02-13T16:11:28.324222",
     "exception": false,
     "start_time": "2024-02-13T16:11:28.239589",
     "status": "completed"
    },
    "tags": []
   },
   "source": [
    "**Fix Training set by filling na values with '' and %20 with ' '.**"
   ]
  },
  {
   "cell_type": "code",
   "execution_count": 8,
   "id": "c2f66d21",
   "metadata": {
    "execution": {
     "iopub.execute_input": "2024-02-13T16:11:28.363761Z",
     "iopub.status.busy": "2024-02-13T16:11:28.363201Z",
     "iopub.status.idle": "2024-02-13T16:11:28.581245Z",
     "shell.execute_reply": "2024-02-13T16:11:28.580261Z"
    },
    "papermill": {
     "duration": 0.241536,
     "end_time": "2024-02-13T16:11:28.584130",
     "exception": false,
     "start_time": "2024-02-13T16:11:28.342594",
     "status": "completed"
    },
    "tags": []
   },
   "outputs": [],
   "source": [
    "df['location'] = df['location'].fillna('')\n",
    "df['keyword'] = df['keyword'].fillna('')\n",
    "df['text'] = df['text'].map(lambda x: cleaner(x))\n",
    "df = df.replace('%20', ' ', regex=True)"
   ]
  },
  {
   "cell_type": "code",
   "execution_count": 9,
   "id": "66721c9e",
   "metadata": {
    "execution": {
     "iopub.execute_input": "2024-02-13T16:11:28.625617Z",
     "iopub.status.busy": "2024-02-13T16:11:28.624929Z",
     "iopub.status.idle": "2024-02-13T16:11:28.716805Z",
     "shell.execute_reply": "2024-02-13T16:11:28.715573Z"
    },
    "papermill": {
     "duration": 0.115236,
     "end_time": "2024-02-13T16:11:28.719924",
     "exception": false,
     "start_time": "2024-02-13T16:11:28.604688",
     "status": "completed"
    },
    "tags": []
   },
   "outputs": [],
   "source": [
    "df_test['location'] = df_test['location'].fillna('')\n",
    "df_test['keyword'] = df_test['keyword'].fillna('')\n",
    "df_test['text'] = df_test['text'].map(lambda x: cleaner(x))\n",
    "df_test = df_test.replace('%20', ' ', regex=True)"
   ]
  },
  {
   "cell_type": "code",
   "execution_count": 10,
   "id": "1d2cf060",
   "metadata": {
    "execution": {
     "iopub.execute_input": "2024-02-13T16:11:28.763816Z",
     "iopub.status.busy": "2024-02-13T16:11:28.763132Z",
     "iopub.status.idle": "2024-02-13T16:11:28.782086Z",
     "shell.execute_reply": "2024-02-13T16:11:28.780250Z"
    },
    "papermill": {
     "duration": 0.0449,
     "end_time": "2024-02-13T16:11:28.784860",
     "exception": false,
     "start_time": "2024-02-13T16:11:28.739960",
     "status": "completed"
    },
    "tags": []
   },
   "outputs": [
    {
     "data": {
      "text/html": [
       "<div>\n",
       "<style scoped>\n",
       "    .dataframe tbody tr th:only-of-type {\n",
       "        vertical-align: middle;\n",
       "    }\n",
       "\n",
       "    .dataframe tbody tr th {\n",
       "        vertical-align: top;\n",
       "    }\n",
       "\n",
       "    .dataframe thead th {\n",
       "        text-align: right;\n",
       "    }\n",
       "</style>\n",
       "<table border=\"1\" class=\"dataframe\">\n",
       "  <thead>\n",
       "    <tr style=\"text-align: right;\">\n",
       "      <th></th>\n",
       "      <th>id</th>\n",
       "      <th>keyword</th>\n",
       "      <th>location</th>\n",
       "      <th>text</th>\n",
       "      <th>target</th>\n",
       "      <th>unclean</th>\n",
       "    </tr>\n",
       "  </thead>\n",
       "  <tbody>\n",
       "    <tr>\n",
       "      <th>400</th>\n",
       "      <td>577</td>\n",
       "      <td>arson</td>\n",
       "      <td>Los Angeles, CA</td>\n",
       "      <td>owner of chicago area gay bar admits to arson ...</td>\n",
       "      <td>0</td>\n",
       "      <td>Owner of Chicago-Area Gay Bar Admits to Arson ...</td>\n",
       "    </tr>\n",
       "    <tr>\n",
       "      <th>401</th>\n",
       "      <td>578</td>\n",
       "      <td>arson</td>\n",
       "      <td>North-East Region, Singapore</td>\n",
       "      <td>sayn ae angel or arson</td>\n",
       "      <td>0</td>\n",
       "      <td>@sayn_ae angel or arson</td>\n",
       "    </tr>\n",
       "    <tr>\n",
       "      <th>402</th>\n",
       "      <td>579</td>\n",
       "      <td>arson</td>\n",
       "      <td>Eldoret, kenya</td>\n",
       "      <td>kisii police in kisii hunt for students over ...</td>\n",
       "      <td>1</td>\n",
       "      <td>#Kisii Police in Kisii hunt for students over ...</td>\n",
       "    </tr>\n",
       "    <tr>\n",
       "      <th>403</th>\n",
       "      <td>580</td>\n",
       "      <td>arson</td>\n",
       "      <td></td>\n",
       "      <td>mourning notices for stabbing arson victims st...</td>\n",
       "      <td>1</td>\n",
       "      <td>Mourning notices for stabbing arson victims st...</td>\n",
       "    </tr>\n",
       "    <tr>\n",
       "      <th>404</th>\n",
       "      <td>581</td>\n",
       "      <td>arson</td>\n",
       "      <td>Chicago</td>\n",
       "      <td>owner of chicago area gay bar admits to arson ...</td>\n",
       "      <td>0</td>\n",
       "      <td>Owner of Chicago-Area Gay Bar Admits to Arson ...</td>\n",
       "    </tr>\n",
       "    <tr>\n",
       "      <th>405</th>\n",
       "      <td>583</td>\n",
       "      <td>arson</td>\n",
       "      <td>EARTH</td>\n",
       "      <td>owner of chicago area gay bar admits to arson ...</td>\n",
       "      <td>0</td>\n",
       "      <td>Owner of Chicago-Area Gay Bar Admits to Arson ...</td>\n",
       "    </tr>\n",
       "    <tr>\n",
       "      <th>406</th>\n",
       "      <td>584</td>\n",
       "      <td>arson</td>\n",
       "      <td>Jerusalem, Israel</td>\n",
       "      <td>mourning notices for stabbing arson victims st...</td>\n",
       "      <td>1</td>\n",
       "      <td>Mourning notices for stabbing arson victims st...</td>\n",
       "    </tr>\n",
       "    <tr>\n",
       "      <th>407</th>\n",
       "      <td>585</td>\n",
       "      <td>arson</td>\n",
       "      <td></td>\n",
       "      <td>owner of chicago area gay bar admits to arson ...</td>\n",
       "      <td>1</td>\n",
       "      <td>Owner of Chicago-Area Gay Bar Admits to Arson ...</td>\n",
       "    </tr>\n",
       "    <tr>\n",
       "      <th>408</th>\n",
       "      <td>588</td>\n",
       "      <td>arson</td>\n",
       "      <td>Menasha, WI</td>\n",
       "      <td>arson suspect linked to 30 fires caught in nor...</td>\n",
       "      <td>1</td>\n",
       "      <td>Arson suspect linked to 30 fires caught in Nor...</td>\n",
       "    </tr>\n",
       "    <tr>\n",
       "      <th>409</th>\n",
       "      <td>589</td>\n",
       "      <td>arson</td>\n",
       "      <td></td>\n",
       "      <td>tennessee lesbian couple faked hate crime and ...</td>\n",
       "      <td>1</td>\n",
       "      <td>Tennessee lesbian couple faked hate crime and ...</td>\n",
       "    </tr>\n",
       "  </tbody>\n",
       "</table>\n",
       "</div>"
      ],
      "text/plain": [
       "      id keyword                      location  \\\n",
       "400  577   arson               Los Angeles, CA   \n",
       "401  578   arson  North-East Region, Singapore   \n",
       "402  579   arson                Eldoret, kenya   \n",
       "403  580   arson                                 \n",
       "404  581   arson                       Chicago   \n",
       "405  583   arson                        EARTH    \n",
       "406  584   arson             Jerusalem, Israel   \n",
       "407  585   arson                                 \n",
       "408  588   arson                   Menasha, WI   \n",
       "409  589   arson                                 \n",
       "\n",
       "                                                  text  target  \\\n",
       "400  owner of chicago area gay bar admits to arson ...       0   \n",
       "401                             sayn ae angel or arson       0   \n",
       "402   kisii police in kisii hunt for students over ...       1   \n",
       "403  mourning notices for stabbing arson victims st...       1   \n",
       "404  owner of chicago area gay bar admits to arson ...       0   \n",
       "405  owner of chicago area gay bar admits to arson ...       0   \n",
       "406  mourning notices for stabbing arson victims st...       1   \n",
       "407  owner of chicago area gay bar admits to arson ...       1   \n",
       "408  arson suspect linked to 30 fires caught in nor...       1   \n",
       "409  tennessee lesbian couple faked hate crime and ...       1   \n",
       "\n",
       "                                               unclean  \n",
       "400  Owner of Chicago-Area Gay Bar Admits to Arson ...  \n",
       "401                            @sayn_ae angel or arson  \n",
       "402  #Kisii Police in Kisii hunt for students over ...  \n",
       "403  Mourning notices for stabbing arson victims st...  \n",
       "404  Owner of Chicago-Area Gay Bar Admits to Arson ...  \n",
       "405  Owner of Chicago-Area Gay Bar Admits to Arson ...  \n",
       "406  Mourning notices for stabbing arson victims st...  \n",
       "407  Owner of Chicago-Area Gay Bar Admits to Arson ...  \n",
       "408  Arson suspect linked to 30 fires caught in Nor...  \n",
       "409  Tennessee lesbian couple faked hate crime and ...  "
      ]
     },
     "execution_count": 10,
     "metadata": {},
     "output_type": "execute_result"
    }
   ],
   "source": [
    "df[400:410]"
   ]
  },
  {
   "cell_type": "code",
   "execution_count": 11,
   "id": "c8510311",
   "metadata": {
    "execution": {
     "iopub.execute_input": "2024-02-13T16:11:28.830222Z",
     "iopub.status.busy": "2024-02-13T16:11:28.829758Z",
     "iopub.status.idle": "2024-02-13T16:11:29.187788Z",
     "shell.execute_reply": "2024-02-13T16:11:29.186595Z"
    },
    "papermill": {
     "duration": 0.382807,
     "end_time": "2024-02-13T16:11:29.190336",
     "exception": false,
     "start_time": "2024-02-13T16:11:28.807529",
     "status": "completed"
    },
    "tags": []
   },
   "outputs": [
    {
     "data": {
      "image/png": "[encoded data removed]",
      "text/plain": [
       "<Figure size 640x480 with 1 Axes>"
      ]
     },
     "metadata": {},
     "output_type": "display_data"
    }
   ],
   "source": [
    "sns.countplot(data=df, x='target');"
   ]
  },
  {
   "cell_type": "code",
   "execution_count": 12,
   "id": "be9d1411",
   "metadata": {
    "execution": {
     "iopub.execute_input": "2024-02-13T16:11:29.231138Z",
     "iopub.status.busy": "2024-02-13T16:11:29.230654Z",
     "iopub.status.idle": "2024-02-13T16:11:29.250621Z",
     "shell.execute_reply": "2024-02-13T16:11:29.248958Z"
    },
    "papermill": {
     "duration": 0.043811,
     "end_time": "2024-02-13T16:11:29.253469",
     "exception": false,
     "start_time": "2024-02-13T16:11:29.209658",
     "status": "completed"
    },
    "tags": []
   },
   "outputs": [
    {
     "data": {
      "text/html": [
       "<div>\n",
       "<style scoped>\n",
       "    .dataframe tbody tr th:only-of-type {\n",
       "        vertical-align: middle;\n",
       "    }\n",
       "\n",
       "    .dataframe tbody tr th {\n",
       "        vertical-align: top;\n",
       "    }\n",
       "\n",
       "    .dataframe thead th {\n",
       "        text-align: right;\n",
       "    }\n",
       "</style>\n",
       "<table border=\"1\" class=\"dataframe\">\n",
       "  <thead>\n",
       "    <tr style=\"text-align: right;\">\n",
       "      <th></th>\n",
       "      <th>id</th>\n",
       "      <th>keyword</th>\n",
       "      <th>location</th>\n",
       "      <th>text</th>\n",
       "      <th>target</th>\n",
       "      <th>unclean</th>\n",
       "    </tr>\n",
       "  </thead>\n",
       "  <tbody>\n",
       "    <tr>\n",
       "      <th>800</th>\n",
       "      <td>1160</td>\n",
       "      <td>blight</td>\n",
       "      <td>Laventillemoorings</td>\n",
       "      <td>if you dotish to blight your car go right ahea...</td>\n",
       "      <td>0</td>\n",
       "      <td>If you dotish to blight your car go right ahea...</td>\n",
       "    </tr>\n",
       "    <tr>\n",
       "      <th>801</th>\n",
       "      <td>1162</td>\n",
       "      <td>blight</td>\n",
       "      <td>UK</td>\n",
       "      <td>sexual revolution blight for women is out   st...</td>\n",
       "      <td>0</td>\n",
       "      <td>Sexual Revolution:Blight For Women is out! htt...</td>\n",
       "    </tr>\n",
       "    <tr>\n",
       "      <th>802</th>\n",
       "      <td>1164</td>\n",
       "      <td>blight</td>\n",
       "      <td>Scotland</td>\n",
       "      <td>like swear the secret we ll uncover is the old...</td>\n",
       "      <td>0</td>\n",
       "      <td>LIKE I SWEAR THE SECRET WE'LL UNCOVER IS THE O...</td>\n",
       "    </tr>\n",
       "    <tr>\n",
       "      <th>803</th>\n",
       "      <td>1166</td>\n",
       "      <td>blight</td>\n",
       "      <td>London</td>\n",
       "      <td>willhillbet what is double result live on the...</td>\n",
       "      <td>0</td>\n",
       "      <td>@WillHillBet what is double result live on the...</td>\n",
       "    </tr>\n",
       "    <tr>\n",
       "      <th>804</th>\n",
       "      <td>1167</td>\n",
       "      <td>blight</td>\n",
       "      <td>Vancouver, BC</td>\n",
       "      <td>parksboardfacts first off it is the  zippolin...</td>\n",
       "      <td>0</td>\n",
       "      <td>@parksboardfacts first off it is the #ZippoLin...</td>\n",
       "    </tr>\n",
       "    <tr>\n",
       "      <th>...</th>\n",
       "      <td>...</td>\n",
       "      <td>...</td>\n",
       "      <td>...</td>\n",
       "      <td>...</td>\n",
       "      <td>...</td>\n",
       "      <td>...</td>\n",
       "    </tr>\n",
       "    <tr>\n",
       "      <th>1395</th>\n",
       "      <td>2014</td>\n",
       "      <td>casualties</td>\n",
       "      <td>Philippines</td>\n",
       "      <td>civilian casualties rise as afghan war intensi...</td>\n",
       "      <td>1</td>\n",
       "      <td>Civilian casualties rise as Afghan war intensi...</td>\n",
       "    </tr>\n",
       "    <tr>\n",
       "      <th>1396</th>\n",
       "      <td>2015</td>\n",
       "      <td>casualties</td>\n",
       "      <td></td>\n",
       "      <td>afghan conflict sees  sharp rise  in female ca...</td>\n",
       "      <td>1</td>\n",
       "      <td>Afghan conflict sees 'sharp rise' in female ca...</td>\n",
       "    </tr>\n",
       "    <tr>\n",
       "      <th>1397</th>\n",
       "      <td>2016</td>\n",
       "      <td>casualties</td>\n",
       "      <td>Bronx, New York</td>\n",
       "      <td>warfighting robots could reduce civilian casua...</td>\n",
       "      <td>1</td>\n",
       "      <td>Warfighting Robots Could Reduce Civilian Casua...</td>\n",
       "    </tr>\n",
       "    <tr>\n",
       "      <th>1398</th>\n",
       "      <td>2017</td>\n",
       "      <td>casualties</td>\n",
       "      <td>Canadian bread</td>\n",
       "      <td>libertarianluke m all for that to be honest  ...</td>\n",
       "      <td>0</td>\n",
       "      <td>@LibertarianLuke I'm all for that to be honest...</td>\n",
       "    </tr>\n",
       "    <tr>\n",
       "      <th>1399</th>\n",
       "      <td>2019</td>\n",
       "      <td>casualties</td>\n",
       "      <td>Phoenix, AZ</td>\n",
       "      <td>afghanistan  n  reports  record high levels  o...</td>\n",
       "      <td>1</td>\n",
       "      <td>Afghanistan: U.N. Reports 'Record-High Levels'...</td>\n",
       "    </tr>\n",
       "  </tbody>\n",
       "</table>\n",
       "<p>600 rows × 6 columns</p>\n",
       "</div>"
      ],
      "text/plain": [
       "        id     keyword             location  \\\n",
       "800   1160      blight  Laventillemoorings    \n",
       "801   1162      blight                   UK   \n",
       "802   1164      blight             Scotland   \n",
       "803   1166      blight               London   \n",
       "804   1167      blight        Vancouver, BC   \n",
       "...    ...         ...                  ...   \n",
       "1395  2014  casualties          Philippines   \n",
       "1396  2015  casualties                        \n",
       "1397  2016  casualties      Bronx, New York   \n",
       "1398  2017  casualties       Canadian bread   \n",
       "1399  2019  casualties          Phoenix, AZ   \n",
       "\n",
       "                                                   text  target  \\\n",
       "800   if you dotish to blight your car go right ahea...       0   \n",
       "801   sexual revolution blight for women is out   st...       0   \n",
       "802   like swear the secret we ll uncover is the old...       0   \n",
       "803    willhillbet what is double result live on the...       0   \n",
       "804    parksboardfacts first off it is the  zippolin...       0   \n",
       "...                                                 ...     ...   \n",
       "1395  civilian casualties rise as afghan war intensi...       1   \n",
       "1396  afghan conflict sees  sharp rise  in female ca...       1   \n",
       "1397  warfighting robots could reduce civilian casua...       1   \n",
       "1398   libertarianluke m all for that to be honest  ...       0   \n",
       "1399  afghanistan  n  reports  record high levels  o...       1   \n",
       "\n",
       "                                                unclean  \n",
       "800   If you dotish to blight your car go right ahea...  \n",
       "801   Sexual Revolution:Blight For Women is out! htt...  \n",
       "802   LIKE I SWEAR THE SECRET WE'LL UNCOVER IS THE O...  \n",
       "803   @WillHillBet what is double result live on the...  \n",
       "804   @parksboardfacts first off it is the #ZippoLin...  \n",
       "...                                                 ...  \n",
       "1395  Civilian casualties rise as Afghan war intensi...  \n",
       "1396  Afghan conflict sees 'sharp rise' in female ca...  \n",
       "1397  Warfighting Robots Could Reduce Civilian Casua...  \n",
       "1398  @LibertarianLuke I'm all for that to be honest...  \n",
       "1399  Afghanistan: U.N. Reports 'Record-High Levels'...  \n",
       "\n",
       "[600 rows x 6 columns]"
      ]
     },
     "execution_count": 12,
     "metadata": {},
     "output_type": "execute_result"
    }
   ],
   "source": [
    "df[800:1400]"
   ]
  },
  {
   "cell_type": "markdown",
   "id": "9111cf41",
   "metadata": {
    "papermill": {
     "duration": 0.021497,
     "end_time": "2024-02-13T16:11:29.295340",
     "exception": false,
     "start_time": "2024-02-13T16:11:29.273843",
     "status": "completed"
    },
    "tags": []
   },
   "source": [
    "## Plot to show some of the positive/negative ratios for given keywords\n",
    "Some of the keywords are pretty strongly correlated"
   ]
  },
  {
   "cell_type": "code",
   "execution_count": 13,
   "id": "40704d24",
   "metadata": {
    "execution": {
     "iopub.execute_input": "2024-02-13T16:11:29.340206Z",
     "iopub.status.busy": "2024-02-13T16:11:29.339769Z",
     "iopub.status.idle": "2024-02-13T16:11:30.411072Z",
     "shell.execute_reply": "2024-02-13T16:11:30.409800Z"
    },
    "papermill": {
     "duration": 1.097574,
     "end_time": "2024-02-13T16:11:30.413992",
     "exception": false,
     "start_time": "2024-02-13T16:11:29.316418",
     "status": "completed"
    },
    "tags": []
   },
   "outputs": [
    {
     "data": {
      "image/png": "[encoded data removed]",
      "text/plain": [
       "<Figure size 1000x400 with 1 Axes>"
      ]
     },
     "metadata": {},
     "output_type": "display_data"
    }
   ],
   "source": [
    "plt.figure(figsize=(10,4))\n",
    "sns.countplot(data=df[1000:2500], x='keyword',hue='target')\n",
    "plt.xticks(rotation=90);"
   ]
  },
  {
   "cell_type": "code",
   "execution_count": 14,
   "id": "801ad9c9",
   "metadata": {
    "execution": {
     "iopub.execute_input": "2024-02-13T16:11:30.459947Z",
     "iopub.status.busy": "2024-02-13T16:11:30.459307Z",
     "iopub.status.idle": "2024-02-13T16:11:31.473257Z",
     "shell.execute_reply": "2024-02-13T16:11:31.472092Z"
    },
    "papermill": {
     "duration": 1.040494,
     "end_time": "2024-02-13T16:11:31.476631",
     "exception": false,
     "start_time": "2024-02-13T16:11:30.436137",
     "status": "completed"
    },
    "tags": []
   },
   "outputs": [
    {
     "data": {
      "image/png": "[encoded data removed]",
      "text/plain": [
       "<Figure size 1000x400 with 1 Axes>"
      ]
     },
     "metadata": {},
     "output_type": "display_data"
    }
   ],
   "source": [
    "plt.figure(figsize=(10,4))\n",
    "sns.countplot(data=df[6000:7500], x='keyword',hue='target')\n",
    "plt.xticks(rotation=90);"
   ]
  },
  {
   "cell_type": "markdown",
   "id": "7c6dc3f3",
   "metadata": {
    "papermill": {
     "duration": 0.022373,
     "end_time": "2024-02-13T16:11:31.521679",
     "exception": false,
     "start_time": "2024-02-13T16:11:31.499306",
     "status": "completed"
    },
    "tags": []
   },
   "source": [
    "## Word Cloud test"
   ]
  },
  {
   "cell_type": "code",
   "execution_count": 15,
   "id": "d89c6fd2",
   "metadata": {
    "execution": {
     "iopub.execute_input": "2024-02-13T16:11:31.570932Z",
     "iopub.status.busy": "2024-02-13T16:11:31.570150Z",
     "iopub.status.idle": "2024-02-13T16:11:31.656012Z",
     "shell.execute_reply": "2024-02-13T16:11:31.654518Z"
    },
    "papermill": {
     "duration": 0.114553,
     "end_time": "2024-02-13T16:11:31.659187",
     "exception": false,
     "start_time": "2024-02-13T16:11:31.544634",
     "status": "completed"
    },
    "tags": []
   },
   "outputs": [],
   "source": [
    "import collections\n",
    "from wordcloud import WordCloud, STOPWORDS"
   ]
  },
  {
   "cell_type": "code",
   "execution_count": 16,
   "id": "7a4465fe",
   "metadata": {
    "execution": {
     "iopub.execute_input": "2024-02-13T16:11:31.708856Z",
     "iopub.status.busy": "2024-02-13T16:11:31.707736Z",
     "iopub.status.idle": "2024-02-13T16:11:31.718766Z",
     "shell.execute_reply": "2024-02-13T16:11:31.717149Z"
    },
    "papermill": {
     "duration": 0.040534,
     "end_time": "2024-02-13T16:11:31.722336",
     "exception": false,
     "start_time": "2024-02-13T16:11:31.681802",
     "status": "completed"
    },
    "tags": []
   },
   "outputs": [],
   "source": [
    "#STOPWORDS.add('http')\n",
    "\n",
    "def Plot_world(text):\n",
    "    \n",
    "    comment_words = ' '\n",
    "    stopwords = set(STOPWORDS)\n",
    "    \n",
    "    for val in text:\n",
    "        val = str(val)\n",
    "        tokens = val.split()\n",
    "        \n",
    "        for i in range(len(tokens)):\n",
    "            tokens[i] = tokens[i].lower()\n",
    "            \n",
    "        for words in tokens:\n",
    "            comment_words = comment_words + words + ' '\n",
    "            \n",
    "    wordcloud = WordCloud(width = 5000, \n",
    "                          height = 4000,\n",
    "                          background_color = 'white',\n",
    "                          stopwords = stopwords,\n",
    "                          min_font_size = 10).generate(comment_words)\n",
    "    \n",
    "    plt.figure(figsize=(12, 8))\n",
    "    plt.imshow(wordcloud)\n",
    "    plt.axis('off')\n",
    "#     plt.savefig('world-cloud-image.png', bbox_inches='tight')"
   ]
  },
  {
   "cell_type": "code",
   "execution_count": 17,
   "id": "8ea660c7",
   "metadata": {
    "execution": {
     "iopub.execute_input": "2024-02-13T16:11:31.770683Z",
     "iopub.status.busy": "2024-02-13T16:11:31.770257Z",
     "iopub.status.idle": "2024-02-13T16:11:31.775287Z",
     "shell.execute_reply": "2024-02-13T16:11:31.774059Z"
    },
    "papermill": {
     "duration": 0.033009,
     "end_time": "2024-02-13T16:11:31.778591",
     "exception": false,
     "start_time": "2024-02-13T16:11:31.745582",
     "status": "completed"
    },
    "tags": []
   },
   "outputs": [],
   "source": [
    "# text = df.text.values[len(df.text.values)>2]\n",
    "# Plot_world(text)"
   ]
  },
  {
   "cell_type": "markdown",
   "id": "bba7d7e4",
   "metadata": {
    "papermill": {
     "duration": 0.026176,
     "end_time": "2024-02-13T16:11:31.829232",
     "exception": false,
     "start_time": "2024-02-13T16:11:31.803056",
     "status": "completed"
    },
    "tags": []
   },
   "source": [
    "# Split Train Data to do inital testing"
   ]
  },
  {
   "cell_type": "code",
   "execution_count": 18,
   "id": "e5904fa5",
   "metadata": {
    "execution": {
     "iopub.execute_input": "2024-02-13T16:11:31.880489Z",
     "iopub.status.busy": "2024-02-13T16:11:31.878826Z",
     "iopub.status.idle": "2024-02-13T16:11:32.228301Z",
     "shell.execute_reply": "2024-02-13T16:11:32.226952Z"
    },
    "papermill": {
     "duration": 0.37867,
     "end_time": "2024-02-13T16:11:32.231374",
     "exception": false,
     "start_time": "2024-02-13T16:11:31.852704",
     "status": "completed"
    },
    "tags": []
   },
   "outputs": [],
   "source": [
    "from sklearn.model_selection import train_test_split"
   ]
  },
  {
   "cell_type": "code",
   "execution_count": 19,
   "id": "3fb0e8b7",
   "metadata": {
    "execution": {
     "iopub.execute_input": "2024-02-13T16:11:32.279117Z",
     "iopub.status.busy": "2024-02-13T16:11:32.278553Z",
     "iopub.status.idle": "2024-02-13T16:11:32.308722Z",
     "shell.execute_reply": "2024-02-13T16:11:32.307560Z"
    },
    "papermill": {
     "duration": 0.05854,
     "end_time": "2024-02-13T16:11:32.313259",
     "exception": false,
     "start_time": "2024-02-13T16:11:32.254719",
     "status": "completed"
    },
    "tags": []
   },
   "outputs": [
    {
     "data": {
      "text/html": [
       "<div>\n",
       "<style scoped>\n",
       "    .dataframe tbody tr th:only-of-type {\n",
       "        vertical-align: middle;\n",
       "    }\n",
       "\n",
       "    .dataframe tbody tr th {\n",
       "        vertical-align: top;\n",
       "    }\n",
       "\n",
       "    .dataframe thead th {\n",
       "        text-align: right;\n",
       "    }\n",
       "</style>\n",
       "<table border=\"1\" class=\"dataframe\">\n",
       "  <thead>\n",
       "    <tr style=\"text-align: right;\">\n",
       "      <th></th>\n",
       "      <th>id</th>\n",
       "      <th>keyword</th>\n",
       "      <th>location</th>\n",
       "      <th>text</th>\n",
       "      <th>target</th>\n",
       "      <th>unclean</th>\n",
       "      <th>text combo</th>\n",
       "    </tr>\n",
       "  </thead>\n",
       "  <tbody>\n",
       "    <tr>\n",
       "      <th>800</th>\n",
       "      <td>1160</td>\n",
       "      <td>blight</td>\n",
       "      <td>Laventillemoorings</td>\n",
       "      <td>if you dotish to blight your car go right ahea...</td>\n",
       "      <td>0</td>\n",
       "      <td>If you dotish to blight your car go right ahea...</td>\n",
       "      <td>if you dotish to blight your car go right ahea...</td>\n",
       "    </tr>\n",
       "    <tr>\n",
       "      <th>801</th>\n",
       "      <td>1162</td>\n",
       "      <td>blight</td>\n",
       "      <td>UK</td>\n",
       "      <td>sexual revolution blight for women is out   st...</td>\n",
       "      <td>0</td>\n",
       "      <td>Sexual Revolution:Blight For Women is out! htt...</td>\n",
       "      <td>sexual revolution blight for women is out   st...</td>\n",
       "    </tr>\n",
       "    <tr>\n",
       "      <th>802</th>\n",
       "      <td>1164</td>\n",
       "      <td>blight</td>\n",
       "      <td>Scotland</td>\n",
       "      <td>like swear the secret we ll uncover is the old...</td>\n",
       "      <td>0</td>\n",
       "      <td>LIKE I SWEAR THE SECRET WE'LL UNCOVER IS THE O...</td>\n",
       "      <td>like swear the secret we ll uncover is the old...</td>\n",
       "    </tr>\n",
       "    <tr>\n",
       "      <th>803</th>\n",
       "      <td>1166</td>\n",
       "      <td>blight</td>\n",
       "      <td>London</td>\n",
       "      <td>willhillbet what is double result live on the...</td>\n",
       "      <td>0</td>\n",
       "      <td>@WillHillBet what is double result live on the...</td>\n",
       "      <td>willhillbet what is double result live on the...</td>\n",
       "    </tr>\n",
       "    <tr>\n",
       "      <th>804</th>\n",
       "      <td>1167</td>\n",
       "      <td>blight</td>\n",
       "      <td>Vancouver, BC</td>\n",
       "      <td>parksboardfacts first off it is the  zippolin...</td>\n",
       "      <td>0</td>\n",
       "      <td>@parksboardfacts first off it is the #ZippoLin...</td>\n",
       "      <td>parksboardfacts first off it is the  zippolin...</td>\n",
       "    </tr>\n",
       "    <tr>\n",
       "      <th>805</th>\n",
       "      <td>1168</td>\n",
       "      <td>blight</td>\n",
       "      <td>Cleveland, OH</td>\n",
       "      <td>look for my policy matters ohio report on  cle...</td>\n",
       "      <td>0</td>\n",
       "      <td>Look for my Policy Matters Ohio report on #CLE...</td>\n",
       "      <td>look for my policy matters ohio report on  cle...</td>\n",
       "    </tr>\n",
       "    <tr>\n",
       "      <th>806</th>\n",
       "      <td>1170</td>\n",
       "      <td>blight</td>\n",
       "      <td>Kama | 18 | France</td>\n",
       "      <td>anellatulip and put the taint there and that ...</td>\n",
       "      <td>0</td>\n",
       "      <td>@anellatulip and put the taint there and that ...</td>\n",
       "      <td>anellatulip and put the taint there and that ...</td>\n",
       "    </tr>\n",
       "  </tbody>\n",
       "</table>\n",
       "</div>"
      ],
      "text/plain": [
       "       id keyword             location  \\\n",
       "800  1160  blight  Laventillemoorings    \n",
       "801  1162  blight                   UK   \n",
       "802  1164  blight             Scotland   \n",
       "803  1166  blight               London   \n",
       "804  1167  blight        Vancouver, BC   \n",
       "805  1168  blight        Cleveland, OH   \n",
       "806  1170  blight  Kama | 18 | France    \n",
       "\n",
       "                                                  text  target  \\\n",
       "800  if you dotish to blight your car go right ahea...       0   \n",
       "801  sexual revolution blight for women is out   st...       0   \n",
       "802  like swear the secret we ll uncover is the old...       0   \n",
       "803   willhillbet what is double result live on the...       0   \n",
       "804   parksboardfacts first off it is the  zippolin...       0   \n",
       "805  look for my policy matters ohio report on  cle...       0   \n",
       "806   anellatulip and put the taint there and that ...       0   \n",
       "\n",
       "                                               unclean  \\\n",
       "800  If you dotish to blight your car go right ahea...   \n",
       "801  Sexual Revolution:Blight For Women is out! htt...   \n",
       "802  LIKE I SWEAR THE SECRET WE'LL UNCOVER IS THE O...   \n",
       "803  @WillHillBet what is double result live on the...   \n",
       "804  @parksboardfacts first off it is the #ZippoLin...   \n",
       "805  Look for my Policy Matters Ohio report on #CLE...   \n",
       "806  @anellatulip and put the taint there and that ...   \n",
       "\n",
       "                                            text combo  \n",
       "800  if you dotish to blight your car go right ahea...  \n",
       "801  sexual revolution blight for women is out   st...  \n",
       "802  like swear the secret we ll uncover is the old...  \n",
       "803   willhillbet what is double result live on the...  \n",
       "804   parksboardfacts first off it is the  zippolin...  \n",
       "805  look for my policy matters ohio report on  cle...  \n",
       "806   anellatulip and put the taint there and that ...  "
      ]
     },
     "execution_count": 19,
     "metadata": {},
     "output_type": "execute_result"
    }
   ],
   "source": [
    "df['text combo'] = df['text'] + \" \" + df['keyword'] +\" \"+ df['location']\n",
    "df_test['text combo'] = df_test['text'] + \" \" + df_test['keyword'] +\" \"+ df_test['location']\n",
    "\n",
    "df[800:807]"
   ]
  },
  {
   "cell_type": "code",
   "execution_count": 20,
   "id": "83a35008",
   "metadata": {
    "execution": {
     "iopub.execute_input": "2024-02-13T16:11:32.360912Z",
     "iopub.status.busy": "2024-02-13T16:11:32.360290Z",
     "iopub.status.idle": "2024-02-13T16:11:32.378932Z",
     "shell.execute_reply": "2024-02-13T16:11:32.377970Z"
    },
    "papermill": {
     "duration": 0.045102,
     "end_time": "2024-02-13T16:11:32.381615",
     "exception": false,
     "start_time": "2024-02-13T16:11:32.336513",
     "status": "completed"
    },
    "tags": []
   },
   "outputs": [],
   "source": [
    "#X = df.drop(['target','id'], axis=1)\n",
    "X = df.drop('target',axis=1)\n",
    "y = df['target']\n",
    "X_train, X_test, y_train, y_test = train_test_split(X, y, test_size=0.2, random_state=814)\n",
    "ids_train = X_train['id']\n",
    "X_train = X_train['text combo']\n",
    "ids_test = X_test['id']\n",
    "X_test = X_test['text combo']"
   ]
  },
  {
   "cell_type": "code",
   "execution_count": 21,
   "id": "959ef28f",
   "metadata": {
    "execution": {
     "iopub.execute_input": "2024-02-13T16:11:32.429096Z",
     "iopub.status.busy": "2024-02-13T16:11:32.428331Z",
     "iopub.status.idle": "2024-02-13T16:11:32.444613Z",
     "shell.execute_reply": "2024-02-13T16:11:32.443062Z"
    },
    "papermill": {
     "duration": 0.043843,
     "end_time": "2024-02-13T16:11:32.447945",
     "exception": false,
     "start_time": "2024-02-13T16:11:32.404102",
     "status": "completed"
    },
    "tags": []
   },
   "outputs": [
    {
     "data": {
      "text/html": [
       "<div>\n",
       "<style scoped>\n",
       "    .dataframe tbody tr th:only-of-type {\n",
       "        vertical-align: middle;\n",
       "    }\n",
       "\n",
       "    .dataframe tbody tr th {\n",
       "        vertical-align: top;\n",
       "    }\n",
       "\n",
       "    .dataframe thead th {\n",
       "        text-align: right;\n",
       "    }\n",
       "</style>\n",
       "<table border=\"1\" class=\"dataframe\">\n",
       "  <thead>\n",
       "    <tr style=\"text-align: right;\">\n",
       "      <th></th>\n",
       "      <th>id</th>\n",
       "      <th>keyword</th>\n",
       "      <th>location</th>\n",
       "      <th>text</th>\n",
       "      <th>text combo</th>\n",
       "    </tr>\n",
       "  </thead>\n",
       "  <tbody>\n",
       "    <tr>\n",
       "      <th>0</th>\n",
       "      <td>0</td>\n",
       "      <td></td>\n",
       "      <td></td>\n",
       "      <td>just happened terrible car crash</td>\n",
       "      <td>just happened terrible car crash</td>\n",
       "    </tr>\n",
       "    <tr>\n",
       "      <th>1</th>\n",
       "      <td>2</td>\n",
       "      <td></td>\n",
       "      <td></td>\n",
       "      <td>heard about  earthquake is different cities  s...</td>\n",
       "      <td>heard about  earthquake is different cities  s...</td>\n",
       "    </tr>\n",
       "    <tr>\n",
       "      <th>2</th>\n",
       "      <td>3</td>\n",
       "      <td></td>\n",
       "      <td></td>\n",
       "      <td>there is forest fire at spot pond  geese are f...</td>\n",
       "      <td>there is forest fire at spot pond  geese are f...</td>\n",
       "    </tr>\n",
       "    <tr>\n",
       "      <th>3</th>\n",
       "      <td>9</td>\n",
       "      <td></td>\n",
       "      <td></td>\n",
       "      <td>apocalypse lighting   spokane  wildfires</td>\n",
       "      <td>apocalypse lighting   spokane  wildfires</td>\n",
       "    </tr>\n",
       "    <tr>\n",
       "      <th>4</th>\n",
       "      <td>11</td>\n",
       "      <td></td>\n",
       "      <td></td>\n",
       "      <td>typhoon soudelor kills 28 in china and taiwan</td>\n",
       "      <td>typhoon soudelor kills 28 in china and taiwan</td>\n",
       "    </tr>\n",
       "    <tr>\n",
       "      <th>...</th>\n",
       "      <td>...</td>\n",
       "      <td>...</td>\n",
       "      <td>...</td>\n",
       "      <td>...</td>\n",
       "      <td>...</td>\n",
       "    </tr>\n",
       "    <tr>\n",
       "      <th>3258</th>\n",
       "      <td>10861</td>\n",
       "      <td></td>\n",
       "      <td></td>\n",
       "      <td>earthquake safety los angeles     safety faste...</td>\n",
       "      <td>earthquake safety los angeles     safety faste...</td>\n",
       "    </tr>\n",
       "    <tr>\n",
       "      <th>3259</th>\n",
       "      <td>10865</td>\n",
       "      <td></td>\n",
       "      <td></td>\n",
       "      <td>storm in ri worse than last hurricane  my city...</td>\n",
       "      <td>storm in ri worse than last hurricane  my city...</td>\n",
       "    </tr>\n",
       "    <tr>\n",
       "      <th>3260</th>\n",
       "      <td>10868</td>\n",
       "      <td></td>\n",
       "      <td></td>\n",
       "      <td>green line derailment in chicago</td>\n",
       "      <td>green line derailment in chicago</td>\n",
       "    </tr>\n",
       "    <tr>\n",
       "      <th>3261</th>\n",
       "      <td>10874</td>\n",
       "      <td></td>\n",
       "      <td></td>\n",
       "      <td>meg issues hazardous weather outlook  hwo</td>\n",
       "      <td>meg issues hazardous weather outlook  hwo</td>\n",
       "    </tr>\n",
       "    <tr>\n",
       "      <th>3262</th>\n",
       "      <td>10875</td>\n",
       "      <td></td>\n",
       "      <td></td>\n",
       "      <td>cityofcalgary has activated its municipal eme...</td>\n",
       "      <td>cityofcalgary has activated its municipal eme...</td>\n",
       "    </tr>\n",
       "  </tbody>\n",
       "</table>\n",
       "<p>3263 rows × 5 columns</p>\n",
       "</div>"
      ],
      "text/plain": [
       "         id keyword location  \\\n",
       "0         0                    \n",
       "1         2                    \n",
       "2         3                    \n",
       "3         9                    \n",
       "4        11                    \n",
       "...     ...     ...      ...   \n",
       "3258  10861                    \n",
       "3259  10865                    \n",
       "3260  10868                    \n",
       "3261  10874                    \n",
       "3262  10875                    \n",
       "\n",
       "                                                   text  \\\n",
       "0                      just happened terrible car crash   \n",
       "1     heard about  earthquake is different cities  s...   \n",
       "2     there is forest fire at spot pond  geese are f...   \n",
       "3              apocalypse lighting   spokane  wildfires   \n",
       "4         typhoon soudelor kills 28 in china and taiwan   \n",
       "...                                                 ...   \n",
       "3258  earthquake safety los angeles     safety faste...   \n",
       "3259  storm in ri worse than last hurricane  my city...   \n",
       "3260                  green line derailment in chicago    \n",
       "3261        meg issues hazardous weather outlook  hwo     \n",
       "3262   cityofcalgary has activated its municipal eme...   \n",
       "\n",
       "                                             text combo  \n",
       "0                    just happened terrible car crash    \n",
       "1     heard about  earthquake is different cities  s...  \n",
       "2     there is forest fire at spot pond  geese are f...  \n",
       "3            apocalypse lighting   spokane  wildfires    \n",
       "4       typhoon soudelor kills 28 in china and taiwan    \n",
       "...                                                 ...  \n",
       "3258  earthquake safety los angeles     safety faste...  \n",
       "3259  storm in ri worse than last hurricane  my city...  \n",
       "3260                green line derailment in chicago     \n",
       "3261      meg issues hazardous weather outlook  hwo      \n",
       "3262   cityofcalgary has activated its municipal eme...  \n",
       "\n",
       "[3263 rows x 5 columns]"
      ]
     },
     "execution_count": 21,
     "metadata": {},
     "output_type": "execute_result"
    }
   ],
   "source": [
    "df_test"
   ]
  },
  {
   "cell_type": "markdown",
   "id": "3d4cd511",
   "metadata": {
    "papermill": {
     "duration": 0.022413,
     "end_time": "2024-02-13T16:11:32.492860",
     "exception": false,
     "start_time": "2024-02-13T16:11:32.470447",
     "status": "completed"
    },
    "tags": []
   },
   "source": [
    "# Setup various models to test"
   ]
  },
  {
   "cell_type": "code",
   "execution_count": 22,
   "id": "3ec0cab4",
   "metadata": {
    "execution": {
     "iopub.execute_input": "2024-02-13T16:11:32.542451Z",
     "iopub.status.busy": "2024-02-13T16:11:32.540682Z",
     "iopub.status.idle": "2024-02-13T16:11:32.670514Z",
     "shell.execute_reply": "2024-02-13T16:11:32.669322Z"
    },
    "papermill": {
     "duration": 0.157348,
     "end_time": "2024-02-13T16:11:32.673480",
     "exception": false,
     "start_time": "2024-02-13T16:11:32.516132",
     "status": "completed"
    },
    "tags": []
   },
   "outputs": [],
   "source": [
    "#from sklearn.pipeline import Pipeline\n",
    "from sklearn.feature_extraction.text import TfidfVectorizer, CountVectorizer\n",
    "from sklearn.model_selection import GridSearchCV\n",
    "from sklearn.naive_bayes import MultinomialNB\n",
    "from sklearn.linear_model import LogisticRegression, SGDClassifier\n",
    "from sklearn.svm import LinearSVC, SVC\n",
    "from sklearn.metrics import classification_report,f1_score,confusion_matrix,ConfusionMatrixDisplay"
   ]
  },
  {
   "cell_type": "markdown",
   "id": "890b1366",
   "metadata": {
    "papermill": {
     "duration": 0.023995,
     "end_time": "2024-02-13T16:11:32.720720",
     "exception": false,
     "start_time": "2024-02-13T16:11:32.696725",
     "status": "completed"
    },
    "tags": []
   },
   "source": [
    "### Vectorize the text data"
   ]
  },
  {
   "cell_type": "code",
   "execution_count": 23,
   "id": "14c31690",
   "metadata": {
    "execution": {
     "iopub.execute_input": "2024-02-13T16:11:32.771167Z",
     "iopub.status.busy": "2024-02-13T16:11:32.770289Z",
     "iopub.status.idle": "2024-02-13T16:11:33.211154Z",
     "shell.execute_reply": "2024-02-13T16:11:33.209606Z"
    },
    "papermill": {
     "duration": 0.469664,
     "end_time": "2024-02-13T16:11:33.214170",
     "exception": false,
     "start_time": "2024-02-13T16:11:32.744506",
     "status": "completed"
    },
    "tags": []
   },
   "outputs": [],
   "source": [
    "#tfidf = CountVectorizer(stop_words='english')\n",
    "tfidf = TfidfVectorizer(stop_words='english')\n",
    "tfidf.fit(X_train)\n",
    "X_train_tfidf = tfidf.transform(X_train)\n",
    "X_test_tfidf = tfidf.transform(X_test)"
   ]
  },
  {
   "cell_type": "code",
   "execution_count": 24,
   "id": "fa32301d",
   "metadata": {
    "execution": {
     "iopub.execute_input": "2024-02-13T16:11:33.263220Z",
     "iopub.status.busy": "2024-02-13T16:11:33.262419Z",
     "iopub.status.idle": "2024-02-13T16:11:33.269474Z",
     "shell.execute_reply": "2024-02-13T16:11:33.268348Z"
    },
    "papermill": {
     "duration": 0.033988,
     "end_time": "2024-02-13T16:11:33.271781",
     "exception": false,
     "start_time": "2024-02-13T16:11:33.237793",
     "status": "completed"
    },
    "tags": []
   },
   "outputs": [
    {
     "data": {
      "text/plain": [
       "<6090x16103 sparse matrix of type '<class 'numpy.float64'>'\n",
       "\twith 60017 stored elements in Compressed Sparse Row format>"
      ]
     },
     "execution_count": 24,
     "metadata": {},
     "output_type": "execute_result"
    }
   ],
   "source": [
    "X_train_tfidf"
   ]
  },
  {
   "cell_type": "markdown",
   "id": "39eee60a",
   "metadata": {
    "papermill": {
     "duration": 0.022771,
     "end_time": "2024-02-13T16:11:33.317006",
     "exception": false,
     "start_time": "2024-02-13T16:11:33.294235",
     "status": "completed"
    },
    "tags": []
   },
   "source": [
    "###  MultinomialNB model"
   ]
  },
  {
   "cell_type": "code",
   "execution_count": 25,
   "id": "69bc086d",
   "metadata": {
    "execution": {
     "iopub.execute_input": "2024-02-13T16:11:33.364901Z",
     "iopub.status.busy": "2024-02-13T16:11:33.364481Z",
     "iopub.status.idle": "2024-02-13T16:11:33.567629Z",
     "shell.execute_reply": "2024-02-13T16:11:33.565935Z"
    },
    "papermill": {
     "duration": 0.229922,
     "end_time": "2024-02-13T16:11:33.570465",
     "exception": false,
     "start_time": "2024-02-13T16:11:33.340543",
     "status": "completed"
    },
    "tags": []
   },
   "outputs": [
    {
     "name": "stdout",
     "output_type": "stream",
     "text": [
      "Time to fit = 0.192s\n"
     ]
    },
    {
     "data": {
      "text/plain": [
       "{'alpha': 1}"
      ]
     },
     "execution_count": 25,
     "metadata": {},
     "output_type": "execute_result"
    }
   ],
   "source": [
    "mnb = MultinomialNB()\n",
    "param_grid = {'alpha':[1,2,5,10]}\n",
    "mnb_grid = GridSearchCV(estimator=mnb, param_grid=param_grid, scoring='f1')\n",
    "mnb_start = time.time()\n",
    "mnb_grid.fit(X_train_tfidf, y_train)\n",
    "mnb_end = time.time()\n",
    "print(f'Time to fit = {mnb_end - mnb_start:.3f}s')\n",
    "mnb_grid.best_params_"
   ]
  },
  {
   "cell_type": "code",
   "execution_count": 26,
   "id": "32691b8b",
   "metadata": {
    "execution": {
     "iopub.execute_input": "2024-02-13T16:11:33.622402Z",
     "iopub.status.busy": "2024-02-13T16:11:33.621930Z",
     "iopub.status.idle": "2024-02-13T16:11:34.109116Z",
     "shell.execute_reply": "2024-02-13T16:11:34.107897Z"
    },
    "papermill": {
     "duration": 0.516184,
     "end_time": "2024-02-13T16:11:34.111613",
     "exception": false,
     "start_time": "2024-02-13T16:11:33.595429",
     "status": "completed"
    },
    "tags": []
   },
   "outputs": [
    {
     "name": "stdout",
     "output_type": "stream",
     "text": [
      "0.7280405405405406\n",
      "              precision    recall  f1-score   support\n",
      "\n",
      "           0       0.77      0.89      0.83       868\n",
      "           1       0.81      0.66      0.73       655\n",
      "\n",
      "    accuracy                           0.79      1523\n",
      "   macro avg       0.79      0.77      0.78      1523\n",
      "weighted avg       0.79      0.79      0.78      1523\n",
      "\n"
     ]
    },
    {
     "data": {
      "image/png": "[encoded data removed]",
      "text/plain": [
       "<Figure size 640x480 with 2 Axes>"
      ]
     },
     "metadata": {},
     "output_type": "display_data"
    }
   ],
   "source": [
    "mnb_preds = mnb_grid.predict(X_test_tfidf)\n",
    "print(f1_score(y_test,mnb_preds))\n",
    "print(classification_report(y_test,mnb_preds))\n",
    "ConfusionMatrixDisplay(confusion_matrix=confusion_matrix(y_test, mnb_preds)).plot();"
   ]
  },
  {
   "cell_type": "markdown",
   "id": "020b5bb4",
   "metadata": {
    "papermill": {
     "duration": 0.022888,
     "end_time": "2024-02-13T16:11:34.160517",
     "exception": false,
     "start_time": "2024-02-13T16:11:34.137629",
     "status": "completed"
    },
    "tags": []
   },
   "source": [
    "###  LogisticRegression model"
   ]
  },
  {
   "cell_type": "code",
   "execution_count": 27,
   "id": "930a9c93",
   "metadata": {
    "execution": {
     "iopub.execute_input": "2024-02-13T16:11:34.208880Z",
     "iopub.status.busy": "2024-02-13T16:11:34.208418Z",
     "iopub.status.idle": "2024-02-13T16:11:54.702859Z",
     "shell.execute_reply": "2024-02-13T16:11:54.701262Z"
    },
    "papermill": {
     "duration": 20.524805,
     "end_time": "2024-02-13T16:11:54.708466",
     "exception": false,
     "start_time": "2024-02-13T16:11:34.183661",
     "status": "completed"
    },
    "tags": []
   },
   "outputs": [
    {
     "name": "stdout",
     "output_type": "stream",
     "text": [
      "Time to fit = 20.473s\n"
     ]
    },
    {
     "data": {
      "text/plain": [
       "{'C': 3}"
      ]
     },
     "execution_count": 27,
     "metadata": {},
     "output_type": "execute_result"
    }
   ],
   "source": [
    "log = LogisticRegression(max_iter=1000,class_weight='balanced')\n",
    "param_grid = {'C':[3,4,5,6,7,8]}\n",
    "log_grid = GridSearchCV(estimator=log, param_grid=param_grid, scoring='f1')\n",
    "log_start = time.time()\n",
    "log_grid.fit(X_train_tfidf, y_train)\n",
    "log_end = time.time()\n",
    "print(f'Time to fit = {log_end - log_start:.3f}s')\n",
    "log_grid.best_params_"
   ]
  },
  {
   "cell_type": "code",
   "execution_count": 28,
   "id": "afd1f755",
   "metadata": {
    "execution": {
     "iopub.execute_input": "2024-02-13T16:11:54.831396Z",
     "iopub.status.busy": "2024-02-13T16:11:54.830958Z",
     "iopub.status.idle": "2024-02-13T16:11:55.170406Z",
     "shell.execute_reply": "2024-02-13T16:11:55.169258Z"
    },
    "papermill": {
     "duration": 0.367608,
     "end_time": "2024-02-13T16:11:55.173660",
     "exception": false,
     "start_time": "2024-02-13T16:11:54.806052",
     "status": "completed"
    },
    "tags": []
   },
   "outputs": [
    {
     "name": "stdout",
     "output_type": "stream",
     "text": [
      "0.7404580152671756\n",
      "              precision    recall  f1-score   support\n",
      "\n",
      "           0       0.80      0.80      0.80       868\n",
      "           1       0.74      0.74      0.74       655\n",
      "\n",
      "    accuracy                           0.78      1523\n",
      "   macro avg       0.77      0.77      0.77      1523\n",
      "weighted avg       0.78      0.78      0.78      1523\n",
      "\n"
     ]
    },
    {
     "data": {
      "image/png": "[encoded data removed]",
      "text/plain": [
       "<Figure size 640x480 with 2 Axes>"
      ]
     },
     "metadata": {},
     "output_type": "display_data"
    }
   ],
   "source": [
    "log_preds = log_grid.predict(X_test_tfidf)\n",
    "print(f1_score(y_test,log_preds))\n",
    "print(classification_report(y_test,log_preds))\n",
    "ConfusionMatrixDisplay(confusion_matrix=confusion_matrix(y_test, log_preds)).plot();"
   ]
  },
  {
   "cell_type": "markdown",
   "id": "1c297654",
   "metadata": {
    "papermill": {
     "duration": 0.02374,
     "end_time": "2024-02-13T16:11:55.222539",
     "exception": false,
     "start_time": "2024-02-13T16:11:55.198799",
     "status": "completed"
    },
    "tags": []
   },
   "source": [
    "### SGDClassifier model"
   ]
  },
  {
   "cell_type": "code",
   "execution_count": 29,
   "id": "d84dc294",
   "metadata": {
    "execution": {
     "iopub.execute_input": "2024-02-13T16:11:55.276952Z",
     "iopub.status.busy": "2024-02-13T16:11:55.276530Z",
     "iopub.status.idle": "2024-02-13T16:11:55.334978Z",
     "shell.execute_reply": "2024-02-13T16:11:55.333718Z"
    },
    "papermill": {
     "duration": 0.092088,
     "end_time": "2024-02-13T16:11:55.339276",
     "exception": false,
     "start_time": "2024-02-13T16:11:55.247188",
     "status": "completed"
    },
    "tags": []
   },
   "outputs": [
    {
     "name": "stdout",
     "output_type": "stream",
     "text": [
      "Time to fit = 0.047s\n"
     ]
    },
    {
     "data": {
      "text/plain": [
       "array([[-0.26655193, -0.48105665,  0.39191847, ..., -0.16336998,\n",
       "         0.88783668, -0.327144  ]])"
      ]
     },
     "execution_count": 29,
     "metadata": {},
     "output_type": "execute_result"
    }
   ],
   "source": [
    "sgdc = SGDClassifier(class_weight='balanced')\n",
    "#param_grid = {'C':[3,4,5,6,7,8]}\n",
    "#log_grid = GridSearchCV(estimator=log, param_grid=param_grid, scoring='f1')\n",
    "sgdc_start = time.time()\n",
    "sgdc.fit(X_train_tfidf, y_train)\n",
    "sgdc_end = time.time()\n",
    "print(f'Time to fit = {sgdc_end - sgdc_start:.3f}s')\n",
    "sgdc.coef_"
   ]
  },
  {
   "cell_type": "code",
   "execution_count": 30,
   "id": "08a18206",
   "metadata": {
    "execution": {
     "iopub.execute_input": "2024-02-13T16:11:55.427577Z",
     "iopub.status.busy": "2024-02-13T16:11:55.427156Z",
     "iopub.status.idle": "2024-02-13T16:11:55.782727Z",
     "shell.execute_reply": "2024-02-13T16:11:55.781257Z"
    },
    "papermill": {
     "duration": 0.393151,
     "end_time": "2024-02-13T16:11:55.785389",
     "exception": false,
     "start_time": "2024-02-13T16:11:55.392238",
     "status": "completed"
    },
    "tags": []
   },
   "outputs": [
    {
     "name": "stdout",
     "output_type": "stream",
     "text": [
      "0.7371695178849145\n",
      "              precision    recall  f1-score   support\n",
      "\n",
      "           0       0.80      0.82      0.81       868\n",
      "           1       0.75      0.72      0.74       655\n",
      "\n",
      "    accuracy                           0.78      1523\n",
      "   macro avg       0.77      0.77      0.77      1523\n",
      "weighted avg       0.78      0.78      0.78      1523\n",
      "\n"
     ]
    },
    {
     "data": {
      "image/png": "[encoded data removed]",
      "text/plain": [
       "<Figure size 640x480 with 2 Axes>"
      ]
     },
     "metadata": {},
     "output_type": "display_data"
    }
   ],
   "source": [
    "sgdc_preds = sgdc.predict(X_test_tfidf)\n",
    "print(f1_score(y_test,sgdc_preds))\n",
    "print(classification_report(y_test,sgdc_preds))\n",
    "ConfusionMatrixDisplay(confusion_matrix=confusion_matrix(y_test, sgdc_preds)).plot();"
   ]
  },
  {
   "cell_type": "markdown",
   "id": "dae0601e",
   "metadata": {
    "papermill": {
     "duration": 0.026702,
     "end_time": "2024-02-13T16:11:55.838356",
     "exception": false,
     "start_time": "2024-02-13T16:11:55.811654",
     "status": "completed"
    },
    "tags": []
   },
   "source": [
    "### LinearSVC model"
   ]
  },
  {
   "cell_type": "code",
   "execution_count": 31,
   "id": "69ac00d9",
   "metadata": {
    "execution": {
     "iopub.execute_input": "2024-02-13T16:11:55.892906Z",
     "iopub.status.busy": "2024-02-13T16:11:55.892481Z",
     "iopub.status.idle": "2024-02-13T16:11:57.577642Z",
     "shell.execute_reply": "2024-02-13T16:11:57.576363Z"
    },
    "papermill": {
     "duration": 1.716414,
     "end_time": "2024-02-13T16:11:57.580673",
     "exception": false,
     "start_time": "2024-02-13T16:11:55.864259",
     "status": "completed"
    },
    "tags": []
   },
   "outputs": [
    {
     "name": "stdout",
     "output_type": "stream",
     "text": [
      "Time to fit = 1.675s\n"
     ]
    },
    {
     "data": {
      "text/plain": [
       "{'C': 1}"
      ]
     },
     "execution_count": 31,
     "metadata": {},
     "output_type": "execute_result"
    }
   ],
   "source": [
    "lin_svc = LinearSVC(class_weight='balanced')\n",
    "param_grid = {'C':[1,2,5,10]}\n",
    "lin_svc_grid = GridSearchCV(estimator=lin_svc, param_grid=param_grid, scoring='f1')\n",
    "lin_svc_start = time.time()\n",
    "lin_svc_grid.fit(X_train_tfidf, y_train)\n",
    "lin_svc_end = time.time()\n",
    "print(f'Time to fit = {lin_svc_end - lin_svc_start:.3f}s')\n",
    "lin_svc_grid.best_params_"
   ]
  },
  {
   "cell_type": "code",
   "execution_count": 32,
   "id": "e6561d2d",
   "metadata": {
    "execution": {
     "iopub.execute_input": "2024-02-13T16:11:57.635409Z",
     "iopub.status.busy": "2024-02-13T16:11:57.634966Z",
     "iopub.status.idle": "2024-02-13T16:11:57.988752Z",
     "shell.execute_reply": "2024-02-13T16:11:57.987350Z"
    },
    "papermill": {
     "duration": 0.386252,
     "end_time": "2024-02-13T16:11:57.992338",
     "exception": false,
     "start_time": "2024-02-13T16:11:57.606086",
     "status": "completed"
    },
    "tags": []
   },
   "outputs": [
    {
     "name": "stdout",
     "output_type": "stream",
     "text": [
      "0.7309175019275251\n",
      "              precision    recall  f1-score   support\n",
      "\n",
      "           0       0.79      0.81      0.80       868\n",
      "           1       0.74      0.72      0.73       655\n",
      "\n",
      "    accuracy                           0.77      1523\n",
      "   macro avg       0.77      0.77      0.77      1523\n",
      "weighted avg       0.77      0.77      0.77      1523\n",
      "\n"
     ]
    },
    {
     "data": {
      "image/png": "[encoded data removed]",
      "text/plain": [
       "<Figure size 640x480 with 2 Axes>"
      ]
     },
     "metadata": {},
     "output_type": "display_data"
    }
   ],
   "source": [
    "lin_svc_preds = lin_svc_grid.predict(X_test_tfidf)\n",
    "print(f1_score(y_test,lin_svc_preds))\n",
    "print(classification_report(y_test,lin_svc_preds))\n",
    "ConfusionMatrixDisplay(confusion_matrix=confusion_matrix(y_test, lin_svc_preds)).plot();"
   ]
  },
  {
   "cell_type": "markdown",
   "id": "9a22281c",
   "metadata": {
    "papermill": {
     "duration": 0.026065,
     "end_time": "2024-02-13T16:11:58.046932",
     "exception": false,
     "start_time": "2024-02-13T16:11:58.020867",
     "status": "completed"
    },
    "tags": []
   },
   "source": [
    "### SVC model\n",
    "<span style=\"font-size:16px;color:red;\"> Below cell is the slowest cell by far (takes ~4 minutes with the grid search) </span>"
   ]
  },
  {
   "cell_type": "code",
   "execution_count": 33,
   "id": "63b2ddd3",
   "metadata": {
    "execution": {
     "iopub.execute_input": "2024-02-13T16:11:58.103524Z",
     "iopub.status.busy": "2024-02-13T16:11:58.103000Z",
     "iopub.status.idle": "2024-02-13T16:14:53.479430Z",
     "shell.execute_reply": "2024-02-13T16:14:53.477969Z"
    },
    "papermill": {
     "duration": 175.435667,
     "end_time": "2024-02-13T16:14:53.510797",
     "exception": false,
     "start_time": "2024-02-13T16:11:58.075130",
     "status": "completed"
    },
    "tags": []
   },
   "outputs": [
    {
     "name": "stdout",
     "output_type": "stream",
     "text": [
      "Time to fit = 175.365s\n"
     ]
    },
    {
     "data": {
      "text/plain": [
       "{'C': 10, 'gamma': 0.1}"
      ]
     },
     "execution_count": 33,
     "metadata": {},
     "output_type": "execute_result"
    }
   ],
   "source": [
    "svc = SVC()\n",
    "param_grid = {'C': [1,10,100], \n",
    "              'gamma': [1,0.1,0.01]}\n",
    "svc_grid = GridSearchCV(estimator=svc, param_grid=param_grid, scoring='f1')\n",
    "svc_start = time.time()\n",
    "svc_grid.fit(X_train_tfidf, y_train)\n",
    "svc_end = time.time()\n",
    "print(f'Time to fit = {svc_end - svc_start:.3f}s')\n",
    "svc_grid.best_params_"
   ]
  },
  {
   "cell_type": "code",
   "execution_count": 34,
   "id": "ac6d63e1",
   "metadata": {
    "execution": {
     "iopub.execute_input": "2024-02-13T16:14:53.567952Z",
     "iopub.status.busy": "2024-02-13T16:14:53.566602Z",
     "iopub.status.idle": "2024-02-13T16:14:54.772929Z",
     "shell.execute_reply": "2024-02-13T16:14:54.770887Z"
    },
    "papermill": {
     "duration": 1.238071,
     "end_time": "2024-02-13T16:14:54.777194",
     "exception": false,
     "start_time": "2024-02-13T16:14:53.539123",
     "status": "completed"
    },
    "tags": []
   },
   "outputs": [
    {
     "name": "stdout",
     "output_type": "stream",
     "text": [
      "0.7362459546925566\n",
      "              precision    recall  f1-score   support\n",
      "\n",
      "           0       0.79      0.85      0.82       868\n",
      "           1       0.78      0.69      0.74       655\n",
      "\n",
      "    accuracy                           0.79      1523\n",
      "   macro avg       0.79      0.77      0.78      1523\n",
      "weighted avg       0.79      0.79      0.78      1523\n",
      "\n"
     ]
    },
    {
     "data": {
      "image/png": "[encoded data removed]",
      "text/plain": [
       "<Figure size 640x480 with 2 Axes>"
      ]
     },
     "metadata": {},
     "output_type": "display_data"
    }
   ],
   "source": [
    "svc_preds = svc_grid.predict(X_test_tfidf)\n",
    "print(f1_score(y_test,svc_preds))\n",
    "print(classification_report(y_test,svc_preds))\n",
    "ConfusionMatrixDisplay(confusion_matrix=confusion_matrix(y_test, svc_preds)).plot();"
   ]
  },
  {
   "cell_type": "markdown",
   "id": "f192aba4",
   "metadata": {
    "papermill": {
     "duration": 0.02791,
     "end_time": "2024-02-13T16:14:54.835779",
     "exception": false,
     "start_time": "2024-02-13T16:14:54.807869",
     "status": "completed"
    },
    "tags": []
   },
   "source": [
    "# Compare Models"
   ]
  },
  {
   "cell_type": "code",
   "execution_count": 35,
   "id": "7c1f095f",
   "metadata": {
    "execution": {
     "iopub.execute_input": "2024-02-13T16:14:54.893448Z",
     "iopub.status.busy": "2024-02-13T16:14:54.893014Z",
     "iopub.status.idle": "2024-02-13T16:14:54.923835Z",
     "shell.execute_reply": "2024-02-13T16:14:54.921924Z"
    },
    "papermill": {
     "duration": 0.06372,
     "end_time": "2024-02-13T16:14:54.926936",
     "exception": false,
     "start_time": "2024-02-13T16:14:54.863216",
     "status": "completed"
    },
    "tags": []
   },
   "outputs": [
    {
     "name": "stdout",
     "output_type": "stream",
     "text": [
      "MNB time to fit = 0.192s\n",
      "MNB f1 score = 0.7280\n",
      "----------\n",
      "LogReg time to fit = 20.473s\n",
      "LogReg f1 score = 0.7405\n",
      "----------\n",
      "SGDClass time to fit = 0.047s\n",
      "SGDClass f1 score = 0.7372\n",
      "----------\n",
      "LinSVC time to fit = 1.675s\n",
      "LinSVC f1 score = 0.7309\n",
      "----------\n",
      "SVC time to fit = 175.365s\n",
      "SVC f1 score = 0.7362\n"
     ]
    }
   ],
   "source": [
    "print(f'MNB time to fit = {mnb_end - mnb_start:.3f}s')\n",
    "print(f'MNB f1 score = {f1_score(y_test,mnb_preds):.4f}')\n",
    "print('-'*10)\n",
    "print(f'LogReg time to fit = {log_end - log_start:.3f}s')\n",
    "print(f'LogReg f1 score = {f1_score(y_test,log_preds):.4f}')\n",
    "print('-'*10)\n",
    "print(f'SGDClass time to fit = {sgdc_end - sgdc_start:.3f}s')\n",
    "print(f'SGDClass f1 score = {f1_score(y_test,sgdc_preds):.4f}')\n",
    "print('-'*10)\n",
    "print(f'LinSVC time to fit = {lin_svc_end - lin_svc_start:.3f}s')\n",
    "print(f'LinSVC f1 score = {f1_score(y_test,lin_svc_preds):.4f}')\n",
    "print('-'*10)\n",
    "print(f'SVC time to fit = {svc_end - svc_start:.3f}s')\n",
    "print(f'SVC f1 score = {f1_score(y_test,svc_preds):.4f}')\n",
    "# MNB time to fit = 0.150s\n",
    "# MNB f1 score = 0.7320\n",
    "# ----------\n",
    "# LogReg time to fit = 18.991s\n",
    "# LogReg f1 score = 0.7470\n",
    "# ----------\n",
    "# SGDClass time to fit = 0.036s\n",
    "# SGDClass f1 score = 0.7436\n",
    "# ----------\n",
    "# LinSVC time to fit = 1.530s\n",
    "# LinSVC f1 score = 0.7433"
   ]
  },
  {
   "cell_type": "markdown",
   "id": "50d57835",
   "metadata": {
    "papermill": {
     "duration": 0.029953,
     "end_time": "2024-02-13T16:14:54.986910",
     "exception": false,
     "start_time": "2024-02-13T16:14:54.956957",
     "status": "completed"
    },
    "tags": []
   },
   "source": [
    "# Final Data Set prep"
   ]
  },
  {
   "cell_type": "code",
   "execution_count": 36,
   "id": "e3cbc123",
   "metadata": {
    "execution": {
     "iopub.execute_input": "2024-02-13T16:14:55.045329Z",
     "iopub.status.busy": "2024-02-13T16:14:55.044865Z",
     "iopub.status.idle": "2024-02-13T16:14:55.632370Z",
     "shell.execute_reply": "2024-02-13T16:14:55.630977Z"
    },
    "papermill": {
     "duration": 0.61969,
     "end_time": "2024-02-13T16:14:55.635273",
     "exception": false,
     "start_time": "2024-02-13T16:14:55.015583",
     "status": "completed"
    },
    "tags": []
   },
   "outputs": [],
   "source": [
    "tfidf = TfidfVectorizer(stop_words='english')\n",
    "tfidf.fit(X['text combo'])\n",
    "X_final_train_tfidf = tfidf.transform(X['text combo'])\n",
    "X_final_test_tfidf = tfidf.transform(df_test['text combo'])\n",
    "ids_out = df_test['id']"
   ]
  },
  {
   "cell_type": "markdown",
   "id": "119434b7",
   "metadata": {
    "papermill": {
     "duration": 0.027535,
     "end_time": "2024-02-13T16:14:55.692657",
     "exception": false,
     "start_time": "2024-02-13T16:14:55.665122",
     "status": "completed"
    },
    "tags": []
   },
   "source": [
    "## Final dataset"
   ]
  },
  {
   "cell_type": "code",
   "execution_count": 37,
   "id": "07086aca",
   "metadata": {
    "execution": {
     "iopub.execute_input": "2024-02-13T16:14:55.751720Z",
     "iopub.status.busy": "2024-02-13T16:14:55.751252Z",
     "iopub.status.idle": "2024-02-13T16:14:55.759727Z",
     "shell.execute_reply": "2024-02-13T16:14:55.758147Z"
    },
    "papermill": {
     "duration": 0.041756,
     "end_time": "2024-02-13T16:14:55.762916",
     "exception": false,
     "start_time": "2024-02-13T16:14:55.721160",
     "status": "completed"
    },
    "tags": []
   },
   "outputs": [
    {
     "data": {
      "text/plain": [
       "<7613x18475 sparse matrix of type '<class 'numpy.float64'>'\n",
       "\twith 75009 stored elements in Compressed Sparse Row format>"
      ]
     },
     "execution_count": 37,
     "metadata": {},
     "output_type": "execute_result"
    }
   ],
   "source": [
    "X_final_train_tfidf"
   ]
  },
  {
   "cell_type": "code",
   "execution_count": 38,
   "id": "45754e55",
   "metadata": {
    "execution": {
     "iopub.execute_input": "2024-02-13T16:14:55.827168Z",
     "iopub.status.busy": "2024-02-13T16:14:55.826674Z",
     "iopub.status.idle": "2024-02-13T16:14:55.903048Z",
     "shell.execute_reply": "2024-02-13T16:14:55.900113Z"
    },
    "papermill": {
     "duration": 0.115984,
     "end_time": "2024-02-13T16:14:55.909419",
     "exception": false,
     "start_time": "2024-02-13T16:14:55.793435",
     "status": "completed"
    },
    "tags": []
   },
   "outputs": [
    {
     "name": "stdout",
     "output_type": "stream",
     "text": [
      "Time to fit = 0.067s\n"
     ]
    }
   ],
   "source": [
    "# model = SVC(**svc_grid.best_params_)\n",
    "# model = LogisticRegression(max_iter=1000, **log_grid.best_params_, class_weight='balanced')\n",
    "model = SGDClassifier(class_weight='balanced')\n",
    "final_start = time.time()\n",
    "model.fit(X_final_train_tfidf, y)\n",
    "final_end = time.time()\n",
    "print(f'Time to fit = {final_end - final_start:.3f}s')"
   ]
  },
  {
   "cell_type": "code",
   "execution_count": 39,
   "id": "b13224f8",
   "metadata": {
    "execution": {
     "iopub.execute_input": "2024-02-13T16:14:55.996555Z",
     "iopub.status.busy": "2024-02-13T16:14:55.995920Z",
     "iopub.status.idle": "2024-02-13T16:14:56.004420Z",
     "shell.execute_reply": "2024-02-13T16:14:56.002179Z"
    },
    "papermill": {
     "duration": 0.043813,
     "end_time": "2024-02-13T16:14:56.008794",
     "exception": false,
     "start_time": "2024-02-13T16:14:55.964981",
     "status": "completed"
    },
    "tags": []
   },
   "outputs": [],
   "source": [
    "final_preds = model.predict(X_final_test_tfidf)"
   ]
  },
  {
   "cell_type": "markdown",
   "id": "422bf16f",
   "metadata": {
    "papermill": {
     "duration": 0.035052,
     "end_time": "2024-02-13T16:14:56.074349",
     "exception": false,
     "start_time": "2024-02-13T16:14:56.039297",
     "status": "completed"
    },
    "tags": []
   },
   "source": [
    "# Final output formatting"
   ]
  },
  {
   "cell_type": "code",
   "execution_count": 40,
   "id": "76065c55",
   "metadata": {
    "execution": {
     "iopub.execute_input": "2024-02-13T16:14:56.135988Z",
     "iopub.status.busy": "2024-02-13T16:14:56.135546Z",
     "iopub.status.idle": "2024-02-13T16:14:56.143751Z",
     "shell.execute_reply": "2024-02-13T16:14:56.141639Z"
    },
    "papermill": {
     "duration": 0.042765,
     "end_time": "2024-02-13T16:14:56.146622",
     "exception": false,
     "start_time": "2024-02-13T16:14:56.103857",
     "status": "completed"
    },
    "tags": []
   },
   "outputs": [],
   "source": [
    "output_df = pd.DataFrame({'id': ids_out,\n",
    "                          'target': final_preds.squeeze()})"
   ]
  },
  {
   "cell_type": "code",
   "execution_count": 41,
   "id": "afb25acb",
   "metadata": {
    "execution": {
     "iopub.execute_input": "2024-02-13T16:14:56.220288Z",
     "iopub.status.busy": "2024-02-13T16:14:56.219360Z",
     "iopub.status.idle": "2024-02-13T16:14:56.233539Z",
     "shell.execute_reply": "2024-02-13T16:14:56.231733Z"
    },
    "papermill": {
     "duration": 0.056781,
     "end_time": "2024-02-13T16:14:56.237552",
     "exception": false,
     "start_time": "2024-02-13T16:14:56.180771",
     "status": "completed"
    },
    "tags": []
   },
   "outputs": [
    {
     "data": {
      "text/plain": [
       "target\n",
       "0    1951\n",
       "1    1312\n",
       "Name: count, dtype: int64"
      ]
     },
     "execution_count": 41,
     "metadata": {},
     "output_type": "execute_result"
    }
   ],
   "source": [
    "output_df['target'].value_counts()"
   ]
  },
  {
   "cell_type": "code",
   "execution_count": 42,
   "id": "53d0dc21",
   "metadata": {
    "execution": {
     "iopub.execute_input": "2024-02-13T16:14:56.297704Z",
     "iopub.status.busy": "2024-02-13T16:14:56.297040Z",
     "iopub.status.idle": "2024-02-13T16:14:56.316152Z",
     "shell.execute_reply": "2024-02-13T16:14:56.314090Z"
    },
    "papermill": {
     "duration": 0.052442,
     "end_time": "2024-02-13T16:14:56.319664",
     "exception": false,
     "start_time": "2024-02-13T16:14:56.267222",
     "status": "completed"
    },
    "tags": []
   },
   "outputs": [],
   "source": [
    "output_df.to_csv('/kaggle/working/submission.csv', index=False)"
   ]
  },
  {
   "cell_type": "code",
   "execution_count": null,
   "id": "fa1ed7ac",
   "metadata": {
    "papermill": {
     "duration": 0.029808,
     "end_time": "2024-02-13T16:14:56.378724",
     "exception": false,
     "start_time": "2024-02-13T16:14:56.348916",
     "status": "completed"
    },
    "tags": []
   },
   "outputs": [],
   "source": []
  }
 ],
 "metadata": {
  "kaggle": {
   "accelerator": "none",
   "dataSources": [
    {
     "databundleVersionId": 869809,
     "sourceId": 17777,
     "sourceType": "competition"
    }
   ],
   "dockerImageVersionId": 30587,
   "isGpuEnabled": false,
   "isInternetEnabled": true,
   "language": "python",
   "sourceType": "notebook"
  },
  "kernelspec": {
   "display_name": "Python 3",
   "language": "python",
   "name": "python3"
  },
  "language_info": {
   "codemirror_mode": {
    "name": "ipython",
    "version": 3
   },
   "file_extension": ".py",
   "mimetype": "text/x-python",
   "name": "python",
   "nbconvert_exporter": "python",
   "pygments_lexer": "ipython3",
   "version": "3.10.12"
  },
  "papermill": {
   "default_parameters": {},
   "duration": 217.196808,
   "end_time": "2024-02-13T16:14:57.234463",
   "environment_variables": {},
   "exception": null,
   "input_path": "__notebook__.ipynb",
   "output_path": "__notebook__.ipynb",
   "parameters": {},
   "start_time": "2024-02-13T16:11:20.037655",
   "version": "2.4.0"
  }
 },
 "nbformat": 4,
 "nbformat_minor": 5
}
