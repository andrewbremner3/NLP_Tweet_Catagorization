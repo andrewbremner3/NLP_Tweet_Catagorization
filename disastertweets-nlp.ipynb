{
 "cells": [
  {
   "cell_type": "code",
   "execution_count": 1,
   "id": "2a04e15a",
   "metadata": {
    "_cell_guid": "b1076dfc-b9ad-4769-8c92-a6c4dae69d19",
    "_uuid": "8f2839f25d086af736a60e9eeb907d3b93b6e0e5",
    "execution": {
     "iopub.execute_input": "2023-12-05T20:43:48.830472Z",
     "iopub.status.busy": "2023-12-05T20:43:48.829985Z",
     "iopub.status.idle": "2023-12-05T20:43:50.710784Z",
     "shell.execute_reply": "2023-12-05T20:43:50.709956Z"
    },
    "papermill": {
     "duration": 1.900435,
     "end_time": "2023-12-05T20:43:50.713143",
     "exception": false,
     "start_time": "2023-12-05T20:43:48.812708",
     "status": "completed"
    },
    "tags": []
   },
   "outputs": [
    {
     "name": "stdout",
     "output_type": "stream",
     "text": [
      "/kaggle/input/nlp-getting-started/sample_submission.csv\n",
      "/kaggle/input/nlp-getting-started/train.csv\n",
      "/kaggle/input/nlp-getting-started/test.csv\n"
     ]
    }
   ],
   "source": [
    "# This Python 3 environment comes with many helpful analytics libraries installed\n",
    "# It is defined by the kaggle/python Docker image: https://github.com/kaggle/docker-python\n",
    "# For example, here's several helpful packages to load\n",
    "\n",
    "import numpy as np # linear algebra\n",
    "import pandas as pd # data processing, CSV file I/O (e.g. pd.read_csv)\n",
    "import seaborn as sns\n",
    "import matplotlib.pyplot as plt\n",
    "import time\n",
    "\n",
    "# Input data files are available in the read-only \"../input/\" directory\n",
    "# For example, running this (by clicking run or pressing Shift+Enter) will list all files under the input directory\n",
    "\n",
    "import os\n",
    "for dirname, _, filenames in os.walk('/kaggle/input'):\n",
    "    for filename in filenames:\n",
    "        print(os.path.join(dirname, filename))\n",
    "\n",
    "# You can write up to 20GB to the current directory (/kaggle/working/) that gets preserved as output when you create a version using \"Save & Run All\" \n",
    "# You can also write temporary files to /kaggle/temp/, but they won't be saved outside of the current session"
   ]
  },
  {
   "cell_type": "markdown",
   "id": "df6e69aa",
   "metadata": {
    "papermill": {
     "duration": 0.014959,
     "end_time": "2023-12-05T20:43:50.744291",
     "exception": false,
     "start_time": "2023-12-05T20:43:50.729332",
     "status": "completed"
    },
    "tags": []
   },
   "source": [
    "## Read in Train and Test Data sets"
   ]
  },
  {
   "cell_type": "code",
   "execution_count": 2,
   "id": "d9b1c086",
   "metadata": {
    "execution": {
     "iopub.execute_input": "2023-12-05T20:43:50.777242Z",
     "iopub.status.busy": "2023-12-05T20:43:50.776396Z",
     "iopub.status.idle": "2023-12-05T20:43:50.875299Z",
     "shell.execute_reply": "2023-12-05T20:43:50.874388Z"
    },
    "papermill": {
     "duration": 0.118311,
     "end_time": "2023-12-05T20:43:50.878145",
     "exception": false,
     "start_time": "2023-12-05T20:43:50.759834",
     "status": "completed"
    },
    "tags": []
   },
   "outputs": [],
   "source": [
    "df = pd.read_csv(\"/kaggle/input/nlp-getting-started/train.csv\")\n",
    "df_test = pd.read_csv(\"/kaggle/input/nlp-getting-started/test.csv\")"
   ]
  },
  {
   "cell_type": "code",
   "execution_count": 3,
   "id": "43664869",
   "metadata": {
    "execution": {
     "iopub.execute_input": "2023-12-05T20:43:50.910175Z",
     "iopub.status.busy": "2023-12-05T20:43:50.909760Z",
     "iopub.status.idle": "2023-12-05T20:43:50.936902Z",
     "shell.execute_reply": "2023-12-05T20:43:50.935719Z"
    },
    "papermill": {
     "duration": 0.045995,
     "end_time": "2023-12-05T20:43:50.939384",
     "exception": false,
     "start_time": "2023-12-05T20:43:50.893389",
     "status": "completed"
    },
    "tags": []
   },
   "outputs": [
    {
     "data": {
      "text/html": [
       "<div>\n",
       "<style scoped>\n",
       "    .dataframe tbody tr th:only-of-type {\n",
       "        vertical-align: middle;\n",
       "    }\n",
       "\n",
       "    .dataframe tbody tr th {\n",
       "        vertical-align: top;\n",
       "    }\n",
       "\n",
       "    .dataframe thead th {\n",
       "        text-align: right;\n",
       "    }\n",
       "</style>\n",
       "<table border=\"1\" class=\"dataframe\">\n",
       "  <thead>\n",
       "    <tr style=\"text-align: right;\">\n",
       "      <th></th>\n",
       "      <th>id</th>\n",
       "      <th>keyword</th>\n",
       "      <th>location</th>\n",
       "      <th>text</th>\n",
       "      <th>target</th>\n",
       "    </tr>\n",
       "  </thead>\n",
       "  <tbody>\n",
       "    <tr>\n",
       "      <th>0</th>\n",
       "      <td>1</td>\n",
       "      <td>NaN</td>\n",
       "      <td>NaN</td>\n",
       "      <td>Our Deeds are the Reason of this #earthquake M...</td>\n",
       "      <td>1</td>\n",
       "    </tr>\n",
       "    <tr>\n",
       "      <th>1</th>\n",
       "      <td>4</td>\n",
       "      <td>NaN</td>\n",
       "      <td>NaN</td>\n",
       "      <td>Forest fire near La Ronge Sask. Canada</td>\n",
       "      <td>1</td>\n",
       "    </tr>\n",
       "    <tr>\n",
       "      <th>2</th>\n",
       "      <td>5</td>\n",
       "      <td>NaN</td>\n",
       "      <td>NaN</td>\n",
       "      <td>All residents asked to 'shelter in place' are ...</td>\n",
       "      <td>1</td>\n",
       "    </tr>\n",
       "    <tr>\n",
       "      <th>3</th>\n",
       "      <td>6</td>\n",
       "      <td>NaN</td>\n",
       "      <td>NaN</td>\n",
       "      <td>13,000 people receive #wildfires evacuation or...</td>\n",
       "      <td>1</td>\n",
       "    </tr>\n",
       "    <tr>\n",
       "      <th>4</th>\n",
       "      <td>7</td>\n",
       "      <td>NaN</td>\n",
       "      <td>NaN</td>\n",
       "      <td>Just got sent this photo from Ruby #Alaska as ...</td>\n",
       "      <td>1</td>\n",
       "    </tr>\n",
       "  </tbody>\n",
       "</table>\n",
       "</div>"
      ],
      "text/plain": [
       "   id keyword location                                               text  \\\n",
       "0   1     NaN      NaN  Our Deeds are the Reason of this #earthquake M...   \n",
       "1   4     NaN      NaN             Forest fire near La Ronge Sask. Canada   \n",
       "2   5     NaN      NaN  All residents asked to 'shelter in place' are ...   \n",
       "3   6     NaN      NaN  13,000 people receive #wildfires evacuation or...   \n",
       "4   7     NaN      NaN  Just got sent this photo from Ruby #Alaska as ...   \n",
       "\n",
       "   target  \n",
       "0       1  \n",
       "1       1  \n",
       "2       1  \n",
       "3       1  \n",
       "4       1  "
      ]
     },
     "execution_count": 3,
     "metadata": {},
     "output_type": "execute_result"
    }
   ],
   "source": [
    "df.head()"
   ]
  },
  {
   "cell_type": "markdown",
   "id": "360f13b3",
   "metadata": {
    "papermill": {
     "duration": 0.0147,
     "end_time": "2023-12-05T20:43:50.968595",
     "exception": false,
     "start_time": "2023-12-05T20:43:50.953895",
     "status": "completed"
    },
    "tags": []
   },
   "source": [
    "### Check for null values"
   ]
  },
  {
   "cell_type": "code",
   "execution_count": 4,
   "id": "99d658ae",
   "metadata": {
    "execution": {
     "iopub.execute_input": "2023-12-05T20:43:51.002103Z",
     "iopub.status.busy": "2023-12-05T20:43:51.001058Z",
     "iopub.status.idle": "2023-12-05T20:43:51.014736Z",
     "shell.execute_reply": "2023-12-05T20:43:51.013592Z"
    },
    "papermill": {
     "duration": 0.033638,
     "end_time": "2023-12-05T20:43:51.017231",
     "exception": false,
     "start_time": "2023-12-05T20:43:50.983593",
     "status": "completed"
    },
    "tags": []
   },
   "outputs": [
    {
     "data": {
      "text/plain": [
       "id             0\n",
       "keyword       61\n",
       "location    2533\n",
       "text           0\n",
       "target         0\n",
       "dtype: int64"
      ]
     },
     "execution_count": 4,
     "metadata": {},
     "output_type": "execute_result"
    }
   ],
   "source": [
    "df.isnull().sum()"
   ]
  },
  {
   "cell_type": "code",
   "execution_count": 5,
   "id": "514c1211",
   "metadata": {
    "execution": {
     "iopub.execute_input": "2023-12-05T20:43:51.049866Z",
     "iopub.status.busy": "2023-12-05T20:43:51.049034Z",
     "iopub.status.idle": "2023-12-05T20:43:51.059702Z",
     "shell.execute_reply": "2023-12-05T20:43:51.058525Z"
    },
    "papermill": {
     "duration": 0.029817,
     "end_time": "2023-12-05T20:43:51.062223",
     "exception": false,
     "start_time": "2023-12-05T20:43:51.032406",
     "status": "completed"
    },
    "tags": []
   },
   "outputs": [
    {
     "data": {
      "text/plain": [
       "id             0\n",
       "keyword       26\n",
       "location    1105\n",
       "text           0\n",
       "dtype: int64"
      ]
     },
     "execution_count": 5,
     "metadata": {},
     "output_type": "execute_result"
    }
   ],
   "source": [
    "df_test.isnull().sum()"
   ]
  },
  {
   "cell_type": "markdown",
   "id": "c372252c",
   "metadata": {
    "papermill": {
     "duration": 0.01583,
     "end_time": "2023-12-05T20:43:51.092752",
     "exception": false,
     "start_time": "2023-12-05T20:43:51.076922",
     "status": "completed"
    },
    "tags": []
   },
   "source": [
    "Key words have %20 instead of spaces so fill those"
   ]
  },
  {
   "cell_type": "code",
   "execution_count": 6,
   "id": "e93379d3",
   "metadata": {
    "execution": {
     "iopub.execute_input": "2023-12-05T20:43:51.125706Z",
     "iopub.status.busy": "2023-12-05T20:43:51.125185Z",
     "iopub.status.idle": "2023-12-05T20:43:51.137861Z",
     "shell.execute_reply": "2023-12-05T20:43:51.136091Z"
    },
    "papermill": {
     "duration": 0.032316,
     "end_time": "2023-12-05T20:43:51.140566",
     "exception": false,
     "start_time": "2023-12-05T20:43:51.108250",
     "status": "completed"
    },
    "tags": []
   },
   "outputs": [
    {
     "data": {
      "text/plain": [
       "array([nan, 'ablaze', 'accident', 'aftershock', 'airplane%20accident',\n",
       "       'ambulance', 'annihilated', 'annihilation', 'apocalypse',\n",
       "       'armageddon', 'army', 'arson', 'arsonist', 'attack', 'attacked',\n",
       "       'avalanche', 'battle', 'bioterror', 'bioterrorism', 'blaze',\n",
       "       'blazing', 'bleeding', 'blew%20up', 'blight', 'blizzard'],\n",
       "      dtype=object)"
      ]
     },
     "execution_count": 6,
     "metadata": {},
     "output_type": "execute_result"
    }
   ],
   "source": [
    "df['keyword'].unique()[:25]"
   ]
  },
  {
   "cell_type": "markdown",
   "id": "bdab1864",
   "metadata": {
    "papermill": {
     "duration": 0.015345,
     "end_time": "2023-12-05T20:43:51.170913",
     "exception": false,
     "start_time": "2023-12-05T20:43:51.155568",
     "status": "completed"
    },
    "tags": []
   },
   "source": [
    "**Fix Training set by filling na values with '' and %20 with ' '.**"
   ]
  },
  {
   "cell_type": "code",
   "execution_count": 7,
   "id": "cda44dc9",
   "metadata": {
    "execution": {
     "iopub.execute_input": "2023-12-05T20:43:51.204369Z",
     "iopub.status.busy": "2023-12-05T20:43:51.203981Z",
     "iopub.status.idle": "2023-12-05T20:43:51.266020Z",
     "shell.execute_reply": "2023-12-05T20:43:51.264783Z"
    },
    "papermill": {
     "duration": 0.081671,
     "end_time": "2023-12-05T20:43:51.268790",
     "exception": false,
     "start_time": "2023-12-05T20:43:51.187119",
     "status": "completed"
    },
    "tags": []
   },
   "outputs": [],
   "source": [
    "df['location']=df['location'].fillna('')\n",
    "df['keyword']=df['keyword'].fillna('')\n",
    "df = df.replace('%20', ' ', regex=True)"
   ]
  },
  {
   "cell_type": "code",
   "execution_count": 8,
   "id": "96f4e548",
   "metadata": {
    "execution": {
     "iopub.execute_input": "2023-12-05T20:43:51.301417Z",
     "iopub.status.busy": "2023-12-05T20:43:51.300967Z",
     "iopub.status.idle": "2023-12-05T20:43:51.333145Z",
     "shell.execute_reply": "2023-12-05T20:43:51.331908Z"
    },
    "papermill": {
     "duration": 0.05157,
     "end_time": "2023-12-05T20:43:51.335764",
     "exception": false,
     "start_time": "2023-12-05T20:43:51.284194",
     "status": "completed"
    },
    "tags": []
   },
   "outputs": [],
   "source": [
    "df_test['location'] = df_test['location'].fillna('')\n",
    "df_test['keyword'] = df_test['keyword'].fillna('')\n",
    "df_test = df_test.replace('%20', ' ', regex=True)"
   ]
  },
  {
   "cell_type": "code",
   "execution_count": 9,
   "id": "1f4a2f8d",
   "metadata": {
    "execution": {
     "iopub.execute_input": "2023-12-05T20:43:51.434543Z",
     "iopub.status.busy": "2023-12-05T20:43:51.434107Z",
     "iopub.status.idle": "2023-12-05T20:43:51.785247Z",
     "shell.execute_reply": "2023-12-05T20:43:51.784039Z"
    },
    "papermill": {
     "duration": 0.372658,
     "end_time": "2023-12-05T20:43:51.787935",
     "exception": false,
     "start_time": "2023-12-05T20:43:51.415277",
     "status": "completed"
    },
    "tags": []
   },
   "outputs": [
    {
     "data": {
      "image/png": "[encoded data removed]",
      "text/plain": [
       "<Figure size 640x480 with 1 Axes>"
      ]
     },
     "metadata": {},
     "output_type": "display_data"
    }
   ],
   "source": [
    "sns.countplot(data=df, x='target');"
   ]
  },
  {
   "cell_type": "code",
   "execution_count": 10,
   "id": "99129096",
   "metadata": {
    "execution": {
     "iopub.execute_input": "2023-12-05T20:43:51.821233Z",
     "iopub.status.busy": "2023-12-05T20:43:51.820828Z",
     "iopub.status.idle": "2023-12-05T20:43:51.837943Z",
     "shell.execute_reply": "2023-12-05T20:43:51.836760Z"
    },
    "papermill": {
     "duration": 0.03655,
     "end_time": "2023-12-05T20:43:51.840418",
     "exception": false,
     "start_time": "2023-12-05T20:43:51.803868",
     "status": "completed"
    },
    "tags": []
   },
   "outputs": [
    {
     "data": {
      "text/html": [
       "<div>\n",
       "<style scoped>\n",
       "    .dataframe tbody tr th:only-of-type {\n",
       "        vertical-align: middle;\n",
       "    }\n",
       "\n",
       "    .dataframe tbody tr th {\n",
       "        vertical-align: top;\n",
       "    }\n",
       "\n",
       "    .dataframe thead th {\n",
       "        text-align: right;\n",
       "    }\n",
       "</style>\n",
       "<table border=\"1\" class=\"dataframe\">\n",
       "  <thead>\n",
       "    <tr style=\"text-align: right;\">\n",
       "      <th></th>\n",
       "      <th>id</th>\n",
       "      <th>keyword</th>\n",
       "      <th>location</th>\n",
       "      <th>text</th>\n",
       "      <th>target</th>\n",
       "    </tr>\n",
       "  </thead>\n",
       "  <tbody>\n",
       "    <tr>\n",
       "      <th>800</th>\n",
       "      <td>1160</td>\n",
       "      <td>blight</td>\n",
       "      <td>Laventillemoorings</td>\n",
       "      <td>If you dotish to blight your car go right ahea...</td>\n",
       "      <td>0</td>\n",
       "    </tr>\n",
       "    <tr>\n",
       "      <th>801</th>\n",
       "      <td>1162</td>\n",
       "      <td>blight</td>\n",
       "      <td>UK</td>\n",
       "      <td>Sexual Revolution:Blight For Women is out! htt...</td>\n",
       "      <td>0</td>\n",
       "    </tr>\n",
       "    <tr>\n",
       "      <th>802</th>\n",
       "      <td>1164</td>\n",
       "      <td>blight</td>\n",
       "      <td>Scotland</td>\n",
       "      <td>LIKE I SWEAR THE SECRET WE'LL UNCOVER IS THE O...</td>\n",
       "      <td>0</td>\n",
       "    </tr>\n",
       "    <tr>\n",
       "      <th>803</th>\n",
       "      <td>1166</td>\n",
       "      <td>blight</td>\n",
       "      <td>London</td>\n",
       "      <td>@WillHillBet what is double result live on the...</td>\n",
       "      <td>0</td>\n",
       "    </tr>\n",
       "    <tr>\n",
       "      <th>804</th>\n",
       "      <td>1167</td>\n",
       "      <td>blight</td>\n",
       "      <td>Vancouver, BC</td>\n",
       "      <td>@parksboardfacts first off it is the #ZippoLin...</td>\n",
       "      <td>0</td>\n",
       "    </tr>\n",
       "    <tr>\n",
       "      <th>...</th>\n",
       "      <td>...</td>\n",
       "      <td>...</td>\n",
       "      <td>...</td>\n",
       "      <td>...</td>\n",
       "      <td>...</td>\n",
       "    </tr>\n",
       "    <tr>\n",
       "      <th>1395</th>\n",
       "      <td>2014</td>\n",
       "      <td>casualties</td>\n",
       "      <td>Philippines</td>\n",
       "      <td>Civilian casualties rise as Afghan war intensi...</td>\n",
       "      <td>1</td>\n",
       "    </tr>\n",
       "    <tr>\n",
       "      <th>1396</th>\n",
       "      <td>2015</td>\n",
       "      <td>casualties</td>\n",
       "      <td></td>\n",
       "      <td>Afghan conflict sees 'sharp rise' in female ca...</td>\n",
       "      <td>1</td>\n",
       "    </tr>\n",
       "    <tr>\n",
       "      <th>1397</th>\n",
       "      <td>2016</td>\n",
       "      <td>casualties</td>\n",
       "      <td>Bronx, New York</td>\n",
       "      <td>Warfighting Robots Could Reduce Civilian Casua...</td>\n",
       "      <td>1</td>\n",
       "    </tr>\n",
       "    <tr>\n",
       "      <th>1398</th>\n",
       "      <td>2017</td>\n",
       "      <td>casualties</td>\n",
       "      <td>Canadian bread</td>\n",
       "      <td>@LibertarianLuke I'm all for that to be honest...</td>\n",
       "      <td>0</td>\n",
       "    </tr>\n",
       "    <tr>\n",
       "      <th>1399</th>\n",
       "      <td>2019</td>\n",
       "      <td>casualties</td>\n",
       "      <td>Phoenix, AZ</td>\n",
       "      <td>Afghanistan: U.N. Reports 'Record-High Levels'...</td>\n",
       "      <td>1</td>\n",
       "    </tr>\n",
       "  </tbody>\n",
       "</table>\n",
       "<p>600 rows × 5 columns</p>\n",
       "</div>"
      ],
      "text/plain": [
       "        id     keyword             location  \\\n",
       "800   1160      blight  Laventillemoorings    \n",
       "801   1162      blight                   UK   \n",
       "802   1164      blight             Scotland   \n",
       "803   1166      blight               London   \n",
       "804   1167      blight        Vancouver, BC   \n",
       "...    ...         ...                  ...   \n",
       "1395  2014  casualties          Philippines   \n",
       "1396  2015  casualties                        \n",
       "1397  2016  casualties      Bronx, New York   \n",
       "1398  2017  casualties       Canadian bread   \n",
       "1399  2019  casualties          Phoenix, AZ   \n",
       "\n",
       "                                                   text  target  \n",
       "800   If you dotish to blight your car go right ahea...       0  \n",
       "801   Sexual Revolution:Blight For Women is out! htt...       0  \n",
       "802   LIKE I SWEAR THE SECRET WE'LL UNCOVER IS THE O...       0  \n",
       "803   @WillHillBet what is double result live on the...       0  \n",
       "804   @parksboardfacts first off it is the #ZippoLin...       0  \n",
       "...                                                 ...     ...  \n",
       "1395  Civilian casualties rise as Afghan war intensi...       1  \n",
       "1396  Afghan conflict sees 'sharp rise' in female ca...       1  \n",
       "1397  Warfighting Robots Could Reduce Civilian Casua...       1  \n",
       "1398  @LibertarianLuke I'm all for that to be honest...       0  \n",
       "1399  Afghanistan: U.N. Reports 'Record-High Levels'...       1  \n",
       "\n",
       "[600 rows x 5 columns]"
      ]
     },
     "execution_count": 10,
     "metadata": {},
     "output_type": "execute_result"
    }
   ],
   "source": [
    "df[800:1400]"
   ]
  },
  {
   "cell_type": "markdown",
   "id": "38cef765",
   "metadata": {
    "papermill": {
     "duration": 0.015389,
     "end_time": "2023-12-05T20:43:51.871547",
     "exception": false,
     "start_time": "2023-12-05T20:43:51.856158",
     "status": "completed"
    },
    "tags": []
   },
   "source": [
    "## Plot to show some of the positive/negative ratios for given keywords\n",
    "Some of the keywords are pretty strongly correlated"
   ]
  },
  {
   "cell_type": "code",
   "execution_count": 11,
   "id": "7916106f",
   "metadata": {
    "execution": {
     "iopub.execute_input": "2023-12-05T20:43:51.905163Z",
     "iopub.status.busy": "2023-12-05T20:43:51.904720Z",
     "iopub.status.idle": "2023-12-05T20:43:52.900638Z",
     "shell.execute_reply": "2023-12-05T20:43:52.899694Z"
    },
    "papermill": {
     "duration": 1.016211,
     "end_time": "2023-12-05T20:43:52.903407",
     "exception": false,
     "start_time": "2023-12-05T20:43:51.887196",
     "status": "completed"
    },
    "tags": []
   },
   "outputs": [
    {
     "data": {
      "image/png": "[encoded data removed]",
      "text/plain": [
       "<Figure size 1000x400 with 1 Axes>"
      ]
     },
     "metadata": {},
     "output_type": "display_data"
    }
   ],
   "source": [
    "plt.figure(figsize=(10,4))\n",
    "sns.countplot(data=df[1000:2500], x='keyword',hue='target')\n",
    "plt.xticks(rotation=90);"
   ]
  },
  {
   "cell_type": "markdown",
   "id": "83f772c3",
   "metadata": {
    "papermill": {
     "duration": 0.016645,
     "end_time": "2023-12-05T20:43:52.937065",
     "exception": false,
     "start_time": "2023-12-05T20:43:52.920420",
     "status": "completed"
    },
    "tags": []
   },
   "source": [
    "# Split Train Data to do inital testing on"
   ]
  },
  {
   "cell_type": "code",
   "execution_count": 12,
   "id": "222940f5",
   "metadata": {
    "execution": {
     "iopub.execute_input": "2023-12-05T20:43:52.975792Z",
     "iopub.status.busy": "2023-12-05T20:43:52.973882Z",
     "iopub.status.idle": "2023-12-05T20:43:53.257750Z",
     "shell.execute_reply": "2023-12-05T20:43:53.256661Z"
    },
    "papermill": {
     "duration": 0.305808,
     "end_time": "2023-12-05T20:43:53.260654",
     "exception": false,
     "start_time": "2023-12-05T20:43:52.954846",
     "status": "completed"
    },
    "tags": []
   },
   "outputs": [],
   "source": [
    "from sklearn.model_selection import train_test_split"
   ]
  },
  {
   "cell_type": "code",
   "execution_count": 13,
   "id": "3e076aeb",
   "metadata": {
    "execution": {
     "iopub.execute_input": "2023-12-05T20:43:53.296653Z",
     "iopub.status.busy": "2023-12-05T20:43:53.296205Z",
     "iopub.status.idle": "2023-12-05T20:43:53.322553Z",
     "shell.execute_reply": "2023-12-05T20:43:53.321311Z"
    },
    "papermill": {
     "duration": 0.04768,
     "end_time": "2023-12-05T20:43:53.325233",
     "exception": false,
     "start_time": "2023-12-05T20:43:53.277553",
     "status": "completed"
    },
    "tags": []
   },
   "outputs": [
    {
     "data": {
      "text/html": [
       "<div>\n",
       "<style scoped>\n",
       "    .dataframe tbody tr th:only-of-type {\n",
       "        vertical-align: middle;\n",
       "    }\n",
       "\n",
       "    .dataframe tbody tr th {\n",
       "        vertical-align: top;\n",
       "    }\n",
       "\n",
       "    .dataframe thead th {\n",
       "        text-align: right;\n",
       "    }\n",
       "</style>\n",
       "<table border=\"1\" class=\"dataframe\">\n",
       "  <thead>\n",
       "    <tr style=\"text-align: right;\">\n",
       "      <th></th>\n",
       "      <th>id</th>\n",
       "      <th>keyword</th>\n",
       "      <th>location</th>\n",
       "      <th>text</th>\n",
       "      <th>target</th>\n",
       "      <th>text combo</th>\n",
       "    </tr>\n",
       "  </thead>\n",
       "  <tbody>\n",
       "    <tr>\n",
       "      <th>800</th>\n",
       "      <td>1160</td>\n",
       "      <td>blight</td>\n",
       "      <td>Laventillemoorings</td>\n",
       "      <td>If you dotish to blight your car go right ahea...</td>\n",
       "      <td>0</td>\n",
       "      <td>blight Laventillemoorings  If you dotish to bl...</td>\n",
       "    </tr>\n",
       "    <tr>\n",
       "      <th>801</th>\n",
       "      <td>1162</td>\n",
       "      <td>blight</td>\n",
       "      <td>UK</td>\n",
       "      <td>Sexual Revolution:Blight For Women is out! htt...</td>\n",
       "      <td>0</td>\n",
       "      <td>blight UK Sexual Revolution:Blight For Women i...</td>\n",
       "    </tr>\n",
       "    <tr>\n",
       "      <th>802</th>\n",
       "      <td>1164</td>\n",
       "      <td>blight</td>\n",
       "      <td>Scotland</td>\n",
       "      <td>LIKE I SWEAR THE SECRET WE'LL UNCOVER IS THE O...</td>\n",
       "      <td>0</td>\n",
       "      <td>blight Scotland LIKE I SWEAR THE SECRET WE'LL ...</td>\n",
       "    </tr>\n",
       "    <tr>\n",
       "      <th>803</th>\n",
       "      <td>1166</td>\n",
       "      <td>blight</td>\n",
       "      <td>London</td>\n",
       "      <td>@WillHillBet what is double result live on the...</td>\n",
       "      <td>0</td>\n",
       "      <td>blight London @WillHillBet what is double resu...</td>\n",
       "    </tr>\n",
       "  </tbody>\n",
       "</table>\n",
       "</div>"
      ],
      "text/plain": [
       "       id keyword             location  \\\n",
       "800  1160  blight  Laventillemoorings    \n",
       "801  1162  blight                   UK   \n",
       "802  1164  blight             Scotland   \n",
       "803  1166  blight               London   \n",
       "\n",
       "                                                  text  target  \\\n",
       "800  If you dotish to blight your car go right ahea...       0   \n",
       "801  Sexual Revolution:Blight For Women is out! htt...       0   \n",
       "802  LIKE I SWEAR THE SECRET WE'LL UNCOVER IS THE O...       0   \n",
       "803  @WillHillBet what is double result live on the...       0   \n",
       "\n",
       "                                            text combo  \n",
       "800  blight Laventillemoorings  If you dotish to bl...  \n",
       "801  blight UK Sexual Revolution:Blight For Women i...  \n",
       "802  blight Scotland LIKE I SWEAR THE SECRET WE'LL ...  \n",
       "803  blight London @WillHillBet what is double resu...  "
      ]
     },
     "execution_count": 13,
     "metadata": {},
     "output_type": "execute_result"
    }
   ],
   "source": [
    "df['text combo'] = df['keyword']+\" \"+df['location']+\" \"+df['text']\n",
    "df_test['text combo'] = df_test['keyword']+\" \"+df_test['location']+\" \"+df_test['text']\n",
    "\n",
    "df[800:804]"
   ]
  },
  {
   "cell_type": "code",
   "execution_count": 14,
   "id": "9d4a907f",
   "metadata": {
    "execution": {
     "iopub.execute_input": "2023-12-05T20:43:53.362441Z",
     "iopub.status.busy": "2023-12-05T20:43:53.362004Z",
     "iopub.status.idle": "2023-12-05T20:43:53.377358Z",
     "shell.execute_reply": "2023-12-05T20:43:53.376479Z"
    },
    "papermill": {
     "duration": 0.036925,
     "end_time": "2023-12-05T20:43:53.379673",
     "exception": false,
     "start_time": "2023-12-05T20:43:53.342748",
     "status": "completed"
    },
    "tags": []
   },
   "outputs": [],
   "source": [
    "#X = df.drop(['target','id'], axis=1)\n",
    "X = df.drop('target',axis=1)\n",
    "y = df['target']\n",
    "X_train, X_test, y_train, y_test = train_test_split(X, y, test_size=0.1, random_state=814)\n",
    "ids_train = X_train['id']\n",
    "X_train = X_train['text combo']\n",
    "ids_test = X_test['id']\n",
    "X_test = X_test['text combo']"
   ]
  },
  {
   "cell_type": "code",
   "execution_count": 15,
   "id": "467d2fdc",
   "metadata": {
    "execution": {
     "iopub.execute_input": "2023-12-05T20:43:53.417387Z",
     "iopub.status.busy": "2023-12-05T20:43:53.415471Z",
     "iopub.status.idle": "2023-12-05T20:43:53.437112Z",
     "shell.execute_reply": "2023-12-05T20:43:53.435519Z"
    },
    "papermill": {
     "duration": 0.04339,
     "end_time": "2023-12-05T20:43:53.440116",
     "exception": false,
     "start_time": "2023-12-05T20:43:53.396726",
     "status": "completed"
    },
    "tags": []
   },
   "outputs": [
    {
     "data": {
      "text/html": [
       "<div>\n",
       "<style scoped>\n",
       "    .dataframe tbody tr th:only-of-type {\n",
       "        vertical-align: middle;\n",
       "    }\n",
       "\n",
       "    .dataframe tbody tr th {\n",
       "        vertical-align: top;\n",
       "    }\n",
       "\n",
       "    .dataframe thead th {\n",
       "        text-align: right;\n",
       "    }\n",
       "</style>\n",
       "<table border=\"1\" class=\"dataframe\">\n",
       "  <thead>\n",
       "    <tr style=\"text-align: right;\">\n",
       "      <th></th>\n",
       "      <th>id</th>\n",
       "      <th>keyword</th>\n",
       "      <th>location</th>\n",
       "      <th>text</th>\n",
       "      <th>text combo</th>\n",
       "    </tr>\n",
       "  </thead>\n",
       "  <tbody>\n",
       "    <tr>\n",
       "      <th>0</th>\n",
       "      <td>0</td>\n",
       "      <td></td>\n",
       "      <td></td>\n",
       "      <td>Just happened a terrible car crash</td>\n",
       "      <td>Just happened a terrible car crash</td>\n",
       "    </tr>\n",
       "    <tr>\n",
       "      <th>1</th>\n",
       "      <td>2</td>\n",
       "      <td></td>\n",
       "      <td></td>\n",
       "      <td>Heard about #earthquake is different cities, s...</td>\n",
       "      <td>Heard about #earthquake is different cities,...</td>\n",
       "    </tr>\n",
       "    <tr>\n",
       "      <th>2</th>\n",
       "      <td>3</td>\n",
       "      <td></td>\n",
       "      <td></td>\n",
       "      <td>there is a forest fire at spot pond, geese are...</td>\n",
       "      <td>there is a forest fire at spot pond, geese a...</td>\n",
       "    </tr>\n",
       "    <tr>\n",
       "      <th>3</th>\n",
       "      <td>9</td>\n",
       "      <td></td>\n",
       "      <td></td>\n",
       "      <td>Apocalypse lighting. #Spokane #wildfires</td>\n",
       "      <td>Apocalypse lighting. #Spokane #wildfires</td>\n",
       "    </tr>\n",
       "    <tr>\n",
       "      <th>4</th>\n",
       "      <td>11</td>\n",
       "      <td></td>\n",
       "      <td></td>\n",
       "      <td>Typhoon Soudelor kills 28 in China and Taiwan</td>\n",
       "      <td>Typhoon Soudelor kills 28 in China and Taiwan</td>\n",
       "    </tr>\n",
       "    <tr>\n",
       "      <th>...</th>\n",
       "      <td>...</td>\n",
       "      <td>...</td>\n",
       "      <td>...</td>\n",
       "      <td>...</td>\n",
       "      <td>...</td>\n",
       "    </tr>\n",
       "    <tr>\n",
       "      <th>3258</th>\n",
       "      <td>10861</td>\n",
       "      <td></td>\n",
       "      <td></td>\n",
       "      <td>EARTHQUAKE SAFETY LOS ANGELES ÛÒ SAFETY FASTE...</td>\n",
       "      <td>EARTHQUAKE SAFETY LOS ANGELES ÛÒ SAFETY FAS...</td>\n",
       "    </tr>\n",
       "    <tr>\n",
       "      <th>3259</th>\n",
       "      <td>10865</td>\n",
       "      <td></td>\n",
       "      <td></td>\n",
       "      <td>Storm in RI worse than last hurricane. My city...</td>\n",
       "      <td>Storm in RI worse than last hurricane. My ci...</td>\n",
       "    </tr>\n",
       "    <tr>\n",
       "      <th>3260</th>\n",
       "      <td>10868</td>\n",
       "      <td></td>\n",
       "      <td></td>\n",
       "      <td>Green Line derailment in Chicago http://t.co/U...</td>\n",
       "      <td>Green Line derailment in Chicago http://t.co...</td>\n",
       "    </tr>\n",
       "    <tr>\n",
       "      <th>3261</th>\n",
       "      <td>10874</td>\n",
       "      <td></td>\n",
       "      <td></td>\n",
       "      <td>MEG issues Hazardous Weather Outlook (HWO) htt...</td>\n",
       "      <td>MEG issues Hazardous Weather Outlook (HWO) h...</td>\n",
       "    </tr>\n",
       "    <tr>\n",
       "      <th>3262</th>\n",
       "      <td>10875</td>\n",
       "      <td></td>\n",
       "      <td></td>\n",
       "      <td>#CityofCalgary has activated its Municipal Eme...</td>\n",
       "      <td>#CityofCalgary has activated its Municipal E...</td>\n",
       "    </tr>\n",
       "  </tbody>\n",
       "</table>\n",
       "<p>3263 rows × 5 columns</p>\n",
       "</div>"
      ],
      "text/plain": [
       "         id keyword location  \\\n",
       "0         0                    \n",
       "1         2                    \n",
       "2         3                    \n",
       "3         9                    \n",
       "4        11                    \n",
       "...     ...     ...      ...   \n",
       "3258  10861                    \n",
       "3259  10865                    \n",
       "3260  10868                    \n",
       "3261  10874                    \n",
       "3262  10875                    \n",
       "\n",
       "                                                   text  \\\n",
       "0                    Just happened a terrible car crash   \n",
       "1     Heard about #earthquake is different cities, s...   \n",
       "2     there is a forest fire at spot pond, geese are...   \n",
       "3              Apocalypse lighting. #Spokane #wildfires   \n",
       "4         Typhoon Soudelor kills 28 in China and Taiwan   \n",
       "...                                                 ...   \n",
       "3258  EARTHQUAKE SAFETY LOS ANGELES ÛÒ SAFETY FASTE...   \n",
       "3259  Storm in RI worse than last hurricane. My city...   \n",
       "3260  Green Line derailment in Chicago http://t.co/U...   \n",
       "3261  MEG issues Hazardous Weather Outlook (HWO) htt...   \n",
       "3262  #CityofCalgary has activated its Municipal Eme...   \n",
       "\n",
       "                                             text combo  \n",
       "0                    Just happened a terrible car crash  \n",
       "1       Heard about #earthquake is different cities,...  \n",
       "2       there is a forest fire at spot pond, geese a...  \n",
       "3              Apocalypse lighting. #Spokane #wildfires  \n",
       "4         Typhoon Soudelor kills 28 in China and Taiwan  \n",
       "...                                                 ...  \n",
       "3258    EARTHQUAKE SAFETY LOS ANGELES ÛÒ SAFETY FAS...  \n",
       "3259    Storm in RI worse than last hurricane. My ci...  \n",
       "3260    Green Line derailment in Chicago http://t.co...  \n",
       "3261    MEG issues Hazardous Weather Outlook (HWO) h...  \n",
       "3262    #CityofCalgary has activated its Municipal E...  \n",
       "\n",
       "[3263 rows x 5 columns]"
      ]
     },
     "execution_count": 15,
     "metadata": {},
     "output_type": "execute_result"
    }
   ],
   "source": [
    "df_test"
   ]
  },
  {
   "cell_type": "markdown",
   "id": "db0ce358",
   "metadata": {
    "papermill": {
     "duration": 0.01806,
     "end_time": "2023-12-05T20:43:53.478346",
     "exception": false,
     "start_time": "2023-12-05T20:43:53.460286",
     "status": "completed"
    },
    "tags": []
   },
   "source": [
    "## Setup various models to test"
   ]
  },
  {
   "cell_type": "code",
   "execution_count": 16,
   "id": "1d97b6f1",
   "metadata": {
    "execution": {
     "iopub.execute_input": "2023-12-05T20:43:53.518051Z",
     "iopub.status.busy": "2023-12-05T20:43:53.517060Z",
     "iopub.status.idle": "2023-12-05T20:43:53.645041Z",
     "shell.execute_reply": "2023-12-05T20:43:53.644054Z"
    },
    "papermill": {
     "duration": 0.150998,
     "end_time": "2023-12-05T20:43:53.647752",
     "exception": false,
     "start_time": "2023-12-05T20:43:53.496754",
     "status": "completed"
    },
    "tags": []
   },
   "outputs": [],
   "source": [
    "#from sklearn.pipeline import Pipeline\n",
    "from sklearn.feature_extraction.text import TfidfVectorizer, CountVectorizer\n",
    "from sklearn.model_selection import GridSearchCV\n",
    "from sklearn.naive_bayes import MultinomialNB\n",
    "from sklearn.linear_model import LogisticRegression\n",
    "from sklearn.svm import LinearSVC, SVC\n",
    "from sklearn.metrics import classification_report,f1_score,confusion_matrix,ConfusionMatrixDisplay"
   ]
  },
  {
   "cell_type": "markdown",
   "id": "c07ee177",
   "metadata": {
    "papermill": {
     "duration": 0.017305,
     "end_time": "2023-12-05T20:43:53.683037",
     "exception": false,
     "start_time": "2023-12-05T20:43:53.665732",
     "status": "completed"
    },
    "tags": []
   },
   "source": [
    "### Vectorize the text data"
   ]
  },
  {
   "cell_type": "code",
   "execution_count": 17,
   "id": "93ca034e",
   "metadata": {
    "execution": {
     "iopub.execute_input": "2023-12-05T20:43:53.721123Z",
     "iopub.status.busy": "2023-12-05T20:43:53.720694Z",
     "iopub.status.idle": "2023-12-05T20:43:54.237910Z",
     "shell.execute_reply": "2023-12-05T20:43:54.236811Z"
    },
    "papermill": {
     "duration": 0.540178,
     "end_time": "2023-12-05T20:43:54.240729",
     "exception": false,
     "start_time": "2023-12-05T20:43:53.700551",
     "status": "completed"
    },
    "tags": []
   },
   "outputs": [],
   "source": [
    "tfidf = TfidfVectorizer(stop_words='english')\n",
    "tfidf.fit(X_train)\n",
    "X_train_tfidf = tfidf.transform(X_train)\n",
    "X_test_tfidf = tfidf.transform(X_test)"
   ]
  },
  {
   "cell_type": "code",
   "execution_count": 18,
   "id": "190bb3e4",
   "metadata": {
    "execution": {
     "iopub.execute_input": "2023-12-05T20:43:54.277959Z",
     "iopub.status.busy": "2023-12-05T20:43:54.277567Z",
     "iopub.status.idle": "2023-12-05T20:43:54.285694Z",
     "shell.execute_reply": "2023-12-05T20:43:54.284309Z"
    },
    "papermill": {
     "duration": 0.029638,
     "end_time": "2023-12-05T20:43:54.287992",
     "exception": false,
     "start_time": "2023-12-05T20:43:54.258354",
     "status": "completed"
    },
    "tags": []
   },
   "outputs": [
    {
     "data": {
      "text/plain": [
       "<6851x21557 sparse matrix of type '<class 'numpy.float64'>'\n",
       "\twith 75722 stored elements in Compressed Sparse Row format>"
      ]
     },
     "execution_count": 18,
     "metadata": {},
     "output_type": "execute_result"
    }
   ],
   "source": [
    "X_train_tfidf"
   ]
  },
  {
   "cell_type": "markdown",
   "id": "f6de3a24",
   "metadata": {
    "papermill": {
     "duration": 0.018517,
     "end_time": "2023-12-05T20:43:54.324523",
     "exception": false,
     "start_time": "2023-12-05T20:43:54.306006",
     "status": "completed"
    },
    "tags": []
   },
   "source": [
    "###  MultinomialNB model"
   ]
  },
  {
   "cell_type": "code",
   "execution_count": 19,
   "id": "80efa63a",
   "metadata": {
    "execution": {
     "iopub.execute_input": "2023-12-05T20:43:54.362908Z",
     "iopub.status.busy": "2023-12-05T20:43:54.362159Z",
     "iopub.status.idle": "2023-12-05T20:43:54.596855Z",
     "shell.execute_reply": "2023-12-05T20:43:54.595691Z"
    },
    "papermill": {
     "duration": 0.256871,
     "end_time": "2023-12-05T20:43:54.599832",
     "exception": false,
     "start_time": "2023-12-05T20:43:54.342961",
     "status": "completed"
    },
    "tags": []
   },
   "outputs": [
    {
     "name": "stdout",
     "output_type": "stream",
     "text": [
      "Time to fit = 0.224s\n"
     ]
    },
    {
     "data": {
      "text/plain": [
       "{'alpha': 1}"
      ]
     },
     "execution_count": 19,
     "metadata": {},
     "output_type": "execute_result"
    }
   ],
   "source": [
    "mnb = MultinomialNB()\n",
    "param_grid = {'alpha':[1,2,5,10]}\n",
    "grid = GridSearchCV(estimator=mnb, param_grid=param_grid, scoring='f1')\n",
    "mnb_start = time.time()\n",
    "grid.fit(X_train_tfidf, y_train)\n",
    "mnb_end = time.time()\n",
    "print(f'Time to fit = {mnb_end - mnb_start:.3f}s')\n",
    "grid.best_params_"
   ]
  },
  {
   "cell_type": "code",
   "execution_count": 20,
   "id": "d51f4493",
   "metadata": {
    "execution": {
     "iopub.execute_input": "2023-12-05T20:43:54.637766Z",
     "iopub.status.busy": "2023-12-05T20:43:54.637316Z",
     "iopub.status.idle": "2023-12-05T20:43:55.003709Z",
     "shell.execute_reply": "2023-12-05T20:43:55.002413Z"
    },
    "papermill": {
     "duration": 0.388258,
     "end_time": "2023-12-05T20:43:55.006160",
     "exception": false,
     "start_time": "2023-12-05T20:43:54.617902",
     "status": "completed"
    },
    "tags": []
   },
   "outputs": [
    {
     "name": "stdout",
     "output_type": "stream",
     "text": [
      "0.7461669505962523\n",
      "              precision    recall  f1-score   support\n",
      "\n",
      "           0       0.79      0.90      0.84       436\n",
      "           1       0.84      0.67      0.75       326\n",
      "\n",
      "    accuracy                           0.80       762\n",
      "   macro avg       0.81      0.79      0.79       762\n",
      "weighted avg       0.81      0.80      0.80       762\n",
      "\n"
     ]
    },
    {
     "data": {
      "image/png": "[encoded data removed]",
      "text/plain": [
       "<Figure size 640x480 with 2 Axes>"
      ]
     },
     "metadata": {},
     "output_type": "display_data"
    }
   ],
   "source": [
    "mnb_preds = grid.predict(X_test_tfidf)\n",
    "print(f1_score(y_test,mnb_preds))\n",
    "print(classification_report(y_test,mnb_preds))\n",
    "ConfusionMatrixDisplay(confusion_matrix=confusion_matrix(y_test, mnb_preds)).plot();"
   ]
  },
  {
   "cell_type": "markdown",
   "id": "f0296e98",
   "metadata": {
    "papermill": {
     "duration": 0.018891,
     "end_time": "2023-12-05T20:43:55.043648",
     "exception": false,
     "start_time": "2023-12-05T20:43:55.024757",
     "status": "completed"
    },
    "tags": []
   },
   "source": [
    "###  LogisticRegression model"
   ]
  },
  {
   "cell_type": "code",
   "execution_count": 21,
   "id": "d5ac88b4",
   "metadata": {
    "execution": {
     "iopub.execute_input": "2023-12-05T20:43:55.082817Z",
     "iopub.status.busy": "2023-12-05T20:43:55.082088Z",
     "iopub.status.idle": "2023-12-05T20:44:10.683473Z",
     "shell.execute_reply": "2023-12-05T20:44:10.681803Z"
    },
    "papermill": {
     "duration": 15.626256,
     "end_time": "2023-12-05T20:44:10.688408",
     "exception": false,
     "start_time": "2023-12-05T20:43:55.062152",
     "status": "completed"
    },
    "tags": []
   },
   "outputs": [
    {
     "name": "stdout",
     "output_type": "stream",
     "text": [
      "Time to fit = 15.575s\n"
     ]
    },
    {
     "data": {
      "text/plain": [
       "{'C': 5}"
      ]
     },
     "execution_count": 21,
     "metadata": {},
     "output_type": "execute_result"
    }
   ],
   "source": [
    "log = LogisticRegression(max_iter=1000)\n",
    "param_grid = {'C':[1,2,5,10]}\n",
    "grid = GridSearchCV(estimator=log, param_grid=param_grid, scoring='f1')\n",
    "log_start = time.time()\n",
    "grid.fit(X_train_tfidf, y_train)\n",
    "log_end = time.time()\n",
    "print(f'Time to fit = {log_end - log_start:.3f}s')\n",
    "grid.best_params_"
   ]
  },
  {
   "cell_type": "code",
   "execution_count": 22,
   "id": "f592fb70",
   "metadata": {
    "execution": {
     "iopub.execute_input": "2023-12-05T20:44:10.794659Z",
     "iopub.status.busy": "2023-12-05T20:44:10.794230Z",
     "iopub.status.idle": "2023-12-05T20:44:11.074134Z",
     "shell.execute_reply": "2023-12-05T20:44:11.072907Z"
    },
    "papermill": {
     "duration": 0.315645,
     "end_time": "2023-12-05T20:44:11.076787",
     "exception": false,
     "start_time": "2023-12-05T20:44:10.761142",
     "status": "completed"
    },
    "tags": []
   },
   "outputs": [
    {
     "name": "stdout",
     "output_type": "stream",
     "text": [
      "0.7769110764430577\n",
      "              precision    recall  f1-score   support\n",
      "\n",
      "           0       0.83      0.85      0.84       436\n",
      "           1       0.79      0.76      0.78       326\n",
      "\n",
      "    accuracy                           0.81       762\n",
      "   macro avg       0.81      0.81      0.81       762\n",
      "weighted avg       0.81      0.81      0.81       762\n",
      "\n"
     ]
    },
    {
     "data": {
      "image/png": "[encoded data removed]",
      "text/plain": [
       "<Figure size 640x480 with 2 Axes>"
      ]
     },
     "metadata": {},
     "output_type": "display_data"
    }
   ],
   "source": [
    "log_preds = grid.predict(X_test_tfidf)\n",
    "print(f1_score(y_test,log_preds))\n",
    "print(classification_report(y_test,log_preds))\n",
    "ConfusionMatrixDisplay(confusion_matrix=confusion_matrix(y_test, log_preds)).plot();"
   ]
  },
  {
   "cell_type": "markdown",
   "id": "1db9feb9",
   "metadata": {
    "papermill": {
     "duration": 0.020559,
     "end_time": "2023-12-05T20:44:11.116600",
     "exception": false,
     "start_time": "2023-12-05T20:44:11.096041",
     "status": "completed"
    },
    "tags": []
   },
   "source": [
    "### LinearSVC model"
   ]
  },
  {
   "cell_type": "code",
   "execution_count": 23,
   "id": "8912d67e",
   "metadata": {
    "execution": {
     "iopub.execute_input": "2023-12-05T20:44:11.158767Z",
     "iopub.status.busy": "2023-12-05T20:44:11.158300Z",
     "iopub.status.idle": "2023-12-05T20:44:13.046211Z",
     "shell.execute_reply": "2023-12-05T20:44:13.044944Z"
    },
    "papermill": {
     "duration": 1.912957,
     "end_time": "2023-12-05T20:44:13.048991",
     "exception": false,
     "start_time": "2023-12-05T20:44:11.136034",
     "status": "completed"
    },
    "tags": []
   },
   "outputs": [
    {
     "name": "stdout",
     "output_type": "stream",
     "text": [
      "Time to fit = 1.879s\n"
     ]
    },
    {
     "data": {
      "text/plain": [
       "{'C': 1}"
      ]
     },
     "execution_count": 23,
     "metadata": {},
     "output_type": "execute_result"
    }
   ],
   "source": [
    "lin_svc = LinearSVC()\n",
    "param_grid = {'C':[1,2,5,10]}\n",
    "grid = GridSearchCV(estimator=lin_svc, param_grid=param_grid, scoring='f1')\n",
    "lin_svc_start = time.time()\n",
    "grid.fit(X_train_tfidf, y_train)\n",
    "lin_svc_end = time.time()\n",
    "print(f'Time to fit = {lin_svc_end - lin_svc_start:.3f}s')\n",
    "grid.best_params_"
   ]
  },
  {
   "cell_type": "code",
   "execution_count": 24,
   "id": "d046aac8",
   "metadata": {
    "execution": {
     "iopub.execute_input": "2023-12-05T20:44:13.091371Z",
     "iopub.status.busy": "2023-12-05T20:44:13.090960Z",
     "iopub.status.idle": "2023-12-05T20:44:13.476838Z",
     "shell.execute_reply": "2023-12-05T20:44:13.475604Z"
    },
    "papermill": {
     "duration": 0.410481,
     "end_time": "2023-12-05T20:44:13.479485",
     "exception": false,
     "start_time": "2023-12-05T20:44:13.069004",
     "status": "completed"
    },
    "tags": []
   },
   "outputs": [
    {
     "name": "stdout",
     "output_type": "stream",
     "text": [
      "0.7519500780031201\n",
      "              precision    recall  f1-score   support\n",
      "\n",
      "           0       0.81      0.83      0.82       436\n",
      "           1       0.77      0.74      0.75       326\n",
      "\n",
      "    accuracy                           0.79       762\n",
      "   macro avg       0.79      0.78      0.79       762\n",
      "weighted avg       0.79      0.79      0.79       762\n",
      "\n"
     ]
    },
    {
     "data": {
      "image/png": "[encoded data removed]",
      "text/plain": [
       "<Figure size 640x480 with 2 Axes>"
      ]
     },
     "metadata": {},
     "output_type": "display_data"
    }
   ],
   "source": [
    "lin_svc_preds = grid.predict(X_test_tfidf)\n",
    "print(f1_score(y_test,lin_svc_preds))\n",
    "print(classification_report(y_test,lin_svc_preds))\n",
    "ConfusionMatrixDisplay(confusion_matrix=confusion_matrix(y_test, lin_svc_preds)).plot();"
   ]
  },
  {
   "cell_type": "markdown",
   "id": "6703d4b4",
   "metadata": {
    "papermill": {
     "duration": 0.01981,
     "end_time": "2023-12-05T20:44:13.520295",
     "exception": false,
     "start_time": "2023-12-05T20:44:13.500485",
     "status": "completed"
    },
    "tags": []
   },
   "source": [
    "### SVC model"
   ]
  },
  {
   "cell_type": "code",
   "execution_count": 25,
   "id": "06789778",
   "metadata": {
    "execution": {
     "iopub.execute_input": "2023-12-05T20:44:13.565706Z",
     "iopub.status.busy": "2023-12-05T20:44:13.565244Z",
     "iopub.status.idle": "2023-12-05T20:48:26.062480Z",
     "shell.execute_reply": "2023-12-05T20:48:26.061307Z"
    },
    "papermill": {
     "duration": 252.544945,
     "end_time": "2023-12-05T20:48:26.085711",
     "exception": false,
     "start_time": "2023-12-05T20:44:13.540766",
     "status": "completed"
    },
    "tags": []
   },
   "outputs": [
    {
     "name": "stdout",
     "output_type": "stream",
     "text": [
      "Time to fit = 252.486s\n"
     ]
    },
    {
     "data": {
      "text/plain": [
       "{'C': 2, 'degree': 2}"
      ]
     },
     "execution_count": 25,
     "metadata": {},
     "output_type": "execute_result"
    }
   ],
   "source": [
    "svc = SVC()\n",
    "param_grid = {'C':[1,2,5],\n",
    "             'degree':[2,3,4],}\n",
    "grid = GridSearchCV(estimator=svc, param_grid=param_grid, scoring='f1')\n",
    "svc_start = time.time()\n",
    "grid.fit(X_train_tfidf, y_train)\n",
    "svc_end = time.time()\n",
    "print(f'Time to fit = {svc_end - svc_start:.3f}s')\n",
    "grid.best_params_"
   ]
  },
  {
   "cell_type": "code",
   "execution_count": 26,
   "id": "71a939a4",
   "metadata": {
    "execution": {
     "iopub.execute_input": "2023-12-05T20:48:26.130525Z",
     "iopub.status.busy": "2023-12-05T20:48:26.130070Z",
     "iopub.status.idle": "2023-12-05T20:48:27.048920Z",
     "shell.execute_reply": "2023-12-05T20:48:27.047764Z"
    },
    "papermill": {
     "duration": 0.944334,
     "end_time": "2023-12-05T20:48:27.051665",
     "exception": false,
     "start_time": "2023-12-05T20:48:26.107331",
     "status": "completed"
    },
    "tags": []
   },
   "outputs": [
    {
     "name": "stdout",
     "output_type": "stream",
     "text": [
      "0.7679999999999999\n",
      "              precision    recall  f1-score   support\n",
      "\n",
      "           0       0.81      0.86      0.84       436\n",
      "           1       0.80      0.74      0.77       326\n",
      "\n",
      "    accuracy                           0.81       762\n",
      "   macro avg       0.81      0.80      0.80       762\n",
      "weighted avg       0.81      0.81      0.81       762\n",
      "\n"
     ]
    },
    {
     "data": {
      "image/png": "[encoded data removed]",
      "text/plain": [
       "<Figure size 640x480 with 2 Axes>"
      ]
     },
     "metadata": {},
     "output_type": "display_data"
    }
   ],
   "source": [
    "svc_preds = grid.predict(X_test_tfidf)\n",
    "print(f1_score(y_test,svc_preds))\n",
    "print(classification_report(y_test,svc_preds))\n",
    "ConfusionMatrixDisplay(confusion_matrix=confusion_matrix(y_test, svc_preds)).plot();"
   ]
  },
  {
   "cell_type": "markdown",
   "id": "21a49d92",
   "metadata": {
    "papermill": {
     "duration": 0.022232,
     "end_time": "2023-12-05T20:48:27.095908",
     "exception": false,
     "start_time": "2023-12-05T20:48:27.073676",
     "status": "completed"
    },
    "tags": []
   },
   "source": [
    "### Compare Models"
   ]
  },
  {
   "cell_type": "code",
   "execution_count": 27,
   "id": "253a40c1",
   "metadata": {
    "execution": {
     "iopub.execute_input": "2023-12-05T20:48:27.142883Z",
     "iopub.status.busy": "2023-12-05T20:48:27.141889Z",
     "iopub.status.idle": "2023-12-05T20:48:27.163806Z",
     "shell.execute_reply": "2023-12-05T20:48:27.162223Z"
    },
    "papermill": {
     "duration": 0.048537,
     "end_time": "2023-12-05T20:48:27.166498",
     "exception": false,
     "start_time": "2023-12-05T20:48:27.117961",
     "status": "completed"
    },
    "tags": []
   },
   "outputs": [
    {
     "name": "stdout",
     "output_type": "stream",
     "text": [
      "MNB time to fit = 0.224s\n",
      "MNB f1 score = 0.7462\n",
      "----------\n",
      "LogReg time to fit = 15.575s\n",
      "LogReg f1 score = 0.7769\n",
      "----------\n",
      "LinSVC time to fit = 1.879s\n",
      "LinSVC f1 score = 0.7520\n",
      "----------\n",
      "SVC time to fit = 252.486s\n",
      "SVC f1 score = 0.7680\n"
     ]
    }
   ],
   "source": [
    "print(f'MNB time to fit = {mnb_end - mnb_start:.3f}s')\n",
    "print(f'MNB f1 score = {f1_score(y_test,mnb_preds):.4f}')\n",
    "print('-'*10)\n",
    "print(f'LogReg time to fit = {log_end - log_start:.3f}s')\n",
    "print(f'LogReg f1 score = {f1_score(y_test,log_preds):.4f}')\n",
    "print('-'*10)\n",
    "print(f'LinSVC time to fit = {lin_svc_end - lin_svc_start:.3f}s')\n",
    "print(f'LinSVC f1 score = {f1_score(y_test,lin_svc_preds):.4f}')\n",
    "print('-'*10)\n",
    "print(f'SVC time to fit = {svc_end - svc_start:.3f}s')\n",
    "print(f'SVC f1 score = {f1_score(y_test,svc_preds):.4f}')"
   ]
  },
  {
   "cell_type": "markdown",
   "id": "f6100abb",
   "metadata": {
    "papermill": {
     "duration": 0.021069,
     "end_time": "2023-12-05T20:48:27.209833",
     "exception": false,
     "start_time": "2023-12-05T20:48:27.188764",
     "status": "completed"
    },
    "tags": []
   },
   "source": [
    "# Final Data Set prep"
   ]
  },
  {
   "cell_type": "code",
   "execution_count": 28,
   "id": "4468bbb0",
   "metadata": {
    "execution": {
     "iopub.execute_input": "2023-12-05T20:48:27.255289Z",
     "iopub.status.busy": "2023-12-05T20:48:27.254884Z",
     "iopub.status.idle": "2023-12-05T20:48:27.871110Z",
     "shell.execute_reply": "2023-12-05T20:48:27.869256Z"
    },
    "papermill": {
     "duration": 0.642152,
     "end_time": "2023-12-05T20:48:27.874107",
     "exception": false,
     "start_time": "2023-12-05T20:48:27.231955",
     "status": "completed"
    },
    "tags": []
   },
   "outputs": [],
   "source": [
    "tfidf = TfidfVectorizer(stop_words='english')\n",
    "tfidf.fit(X['text combo'])\n",
    "X_final_train_tfidf = tfidf.transform(X['text combo'])\n",
    "X_final_test_tfidf = tfidf.transform(df_test['text combo'])\n",
    "ids_out = df_test['id']"
   ]
  },
  {
   "cell_type": "markdown",
   "id": "c5116608",
   "metadata": {
    "papermill": {
     "duration": 0.020538,
     "end_time": "2023-12-05T20:48:27.918214",
     "exception": false,
     "start_time": "2023-12-05T20:48:27.897676",
     "status": "completed"
    },
    "tags": []
   },
   "source": [
    "# Use LogisticRegression"
   ]
  },
  {
   "cell_type": "code",
   "execution_count": 29,
   "id": "00b98add",
   "metadata": {
    "execution": {
     "iopub.execute_input": "2023-12-05T20:48:27.966444Z",
     "iopub.status.busy": "2023-12-05T20:48:27.966035Z",
     "iopub.status.idle": "2023-12-05T20:48:27.975134Z",
     "shell.execute_reply": "2023-12-05T20:48:27.973796Z"
    },
    "papermill": {
     "duration": 0.036772,
     "end_time": "2023-12-05T20:48:27.977453",
     "exception": false,
     "start_time": "2023-12-05T20:48:27.940681",
     "status": "completed"
    },
    "tags": []
   },
   "outputs": [
    {
     "data": {
      "text/plain": [
       "<7613x23181 sparse matrix of type '<class 'numpy.float64'>'\n",
       "\twith 84162 stored elements in Compressed Sparse Row format>"
      ]
     },
     "execution_count": 29,
     "metadata": {},
     "output_type": "execute_result"
    }
   ],
   "source": [
    "X_final_train_tfidf"
   ]
  },
  {
   "cell_type": "code",
   "execution_count": 30,
   "id": "594eabcd",
   "metadata": {
    "execution": {
     "iopub.execute_input": "2023-12-05T20:48:28.022438Z",
     "iopub.status.busy": "2023-12-05T20:48:28.021806Z",
     "iopub.status.idle": "2023-12-05T20:48:45.368149Z",
     "shell.execute_reply": "2023-12-05T20:48:45.366629Z"
    },
    "papermill": {
     "duration": 17.374013,
     "end_time": "2023-12-05T20:48:45.373149",
     "exception": false,
     "start_time": "2023-12-05T20:48:27.999136",
     "status": "completed"
    },
    "tags": []
   },
   "outputs": [
    {
     "name": "stdout",
     "output_type": "stream",
     "text": [
      "Time to fit = 17.326s\n"
     ]
    },
    {
     "data": {
      "text/plain": [
       "{'C': 5}"
      ]
     },
     "execution_count": 30,
     "metadata": {},
     "output_type": "execute_result"
    }
   ],
   "source": [
    "log = LogisticRegression(max_iter=1000)\n",
    "param_grid = {'C':[1,2,5,10]}\n",
    "grid = GridSearchCV(estimator=log, param_grid=param_grid, scoring='f1')\n",
    "log_start = time.time()\n",
    "grid.fit(X_final_train_tfidf, y)\n",
    "log_end = time.time()\n",
    "print(f'Time to fit = {log_end - log_start:.3f}s')\n",
    "grid.best_params_"
   ]
  },
  {
   "cell_type": "code",
   "execution_count": 31,
   "id": "55ad8dde",
   "metadata": {
    "execution": {
     "iopub.execute_input": "2023-12-05T20:48:45.491827Z",
     "iopub.status.busy": "2023-12-05T20:48:45.491345Z",
     "iopub.status.idle": "2023-12-05T20:48:45.497004Z",
     "shell.execute_reply": "2023-12-05T20:48:45.496137Z"
    },
    "papermill": {
     "duration": 0.03412,
     "end_time": "2023-12-05T20:48:45.499416",
     "exception": false,
     "start_time": "2023-12-05T20:48:45.465296",
     "status": "completed"
    },
    "tags": []
   },
   "outputs": [],
   "source": [
    "final_preds = grid.predict(X_final_test_tfidf)"
   ]
  },
  {
   "cell_type": "markdown",
   "id": "0025fbe1",
   "metadata": {
    "papermill": {
     "duration": 0.022642,
     "end_time": "2023-12-05T20:48:45.544315",
     "exception": false,
     "start_time": "2023-12-05T20:48:45.521673",
     "status": "completed"
    },
    "tags": []
   },
   "source": [
    "## Final output formatting"
   ]
  },
  {
   "cell_type": "code",
   "execution_count": 32,
   "id": "083ea5f4",
   "metadata": {
    "execution": {
     "iopub.execute_input": "2023-12-05T20:48:45.590323Z",
     "iopub.status.busy": "2023-12-05T20:48:45.589668Z",
     "iopub.status.idle": "2023-12-05T20:48:45.594416Z",
     "shell.execute_reply": "2023-12-05T20:48:45.593621Z"
    },
    "papermill": {
     "duration": 0.030932,
     "end_time": "2023-12-05T20:48:45.596634",
     "exception": false,
     "start_time": "2023-12-05T20:48:45.565702",
     "status": "completed"
    },
    "tags": []
   },
   "outputs": [],
   "source": [
    "output_df = pd.DataFrame({'id': ids_out,\n",
    "                          'target': final_preds.squeeze()})"
   ]
  },
  {
   "cell_type": "code",
   "execution_count": 33,
   "id": "45d8cc15",
   "metadata": {
    "execution": {
     "iopub.execute_input": "2023-12-05T20:48:45.642230Z",
     "iopub.status.busy": "2023-12-05T20:48:45.641799Z",
     "iopub.status.idle": "2023-12-05T20:48:45.655127Z",
     "shell.execute_reply": "2023-12-05T20:48:45.653466Z"
    },
    "papermill": {
     "duration": 0.039995,
     "end_time": "2023-12-05T20:48:45.657804",
     "exception": false,
     "start_time": "2023-12-05T20:48:45.617809",
     "status": "completed"
    },
    "tags": []
   },
   "outputs": [
    {
     "data": {
      "text/html": [
       "<div>\n",
       "<style scoped>\n",
       "    .dataframe tbody tr th:only-of-type {\n",
       "        vertical-align: middle;\n",
       "    }\n",
       "\n",
       "    .dataframe tbody tr th {\n",
       "        vertical-align: top;\n",
       "    }\n",
       "\n",
       "    .dataframe thead th {\n",
       "        text-align: right;\n",
       "    }\n",
       "</style>\n",
       "<table border=\"1\" class=\"dataframe\">\n",
       "  <thead>\n",
       "    <tr style=\"text-align: right;\">\n",
       "      <th></th>\n",
       "      <th>id</th>\n",
       "      <th>target</th>\n",
       "    </tr>\n",
       "  </thead>\n",
       "  <tbody>\n",
       "    <tr>\n",
       "      <th>0</th>\n",
       "      <td>0</td>\n",
       "      <td>1</td>\n",
       "    </tr>\n",
       "    <tr>\n",
       "      <th>1</th>\n",
       "      <td>2</td>\n",
       "      <td>1</td>\n",
       "    </tr>\n",
       "    <tr>\n",
       "      <th>2</th>\n",
       "      <td>3</td>\n",
       "      <td>1</td>\n",
       "    </tr>\n",
       "    <tr>\n",
       "      <th>3</th>\n",
       "      <td>9</td>\n",
       "      <td>1</td>\n",
       "    </tr>\n",
       "    <tr>\n",
       "      <th>4</th>\n",
       "      <td>11</td>\n",
       "      <td>1</td>\n",
       "    </tr>\n",
       "    <tr>\n",
       "      <th>...</th>\n",
       "      <td>...</td>\n",
       "      <td>...</td>\n",
       "    </tr>\n",
       "    <tr>\n",
       "      <th>3258</th>\n",
       "      <td>10861</td>\n",
       "      <td>1</td>\n",
       "    </tr>\n",
       "    <tr>\n",
       "      <th>3259</th>\n",
       "      <td>10865</td>\n",
       "      <td>1</td>\n",
       "    </tr>\n",
       "    <tr>\n",
       "      <th>3260</th>\n",
       "      <td>10868</td>\n",
       "      <td>1</td>\n",
       "    </tr>\n",
       "    <tr>\n",
       "      <th>3261</th>\n",
       "      <td>10874</td>\n",
       "      <td>1</td>\n",
       "    </tr>\n",
       "    <tr>\n",
       "      <th>3262</th>\n",
       "      <td>10875</td>\n",
       "      <td>1</td>\n",
       "    </tr>\n",
       "  </tbody>\n",
       "</table>\n",
       "<p>3263 rows × 2 columns</p>\n",
       "</div>"
      ],
      "text/plain": [
       "         id  target\n",
       "0         0       1\n",
       "1         2       1\n",
       "2         3       1\n",
       "3         9       1\n",
       "4        11       1\n",
       "...     ...     ...\n",
       "3258  10861       1\n",
       "3259  10865       1\n",
       "3260  10868       1\n",
       "3261  10874       1\n",
       "3262  10875       1\n",
       "\n",
       "[3263 rows x 2 columns]"
      ]
     },
     "execution_count": 33,
     "metadata": {},
     "output_type": "execute_result"
    }
   ],
   "source": [
    "output_df"
   ]
  },
  {
   "cell_type": "code",
   "execution_count": 34,
   "id": "c1c731be",
   "metadata": {
    "execution": {
     "iopub.execute_input": "2023-12-05T20:48:45.708092Z",
     "iopub.status.busy": "2023-12-05T20:48:45.707004Z",
     "iopub.status.idle": "2023-12-05T20:48:45.723128Z",
     "shell.execute_reply": "2023-12-05T20:48:45.721969Z"
    },
    "papermill": {
     "duration": 0.043636,
     "end_time": "2023-12-05T20:48:45.725669",
     "exception": false,
     "start_time": "2023-12-05T20:48:45.682033",
     "status": "completed"
    },
    "tags": []
   },
   "outputs": [],
   "source": [
    "output_df.to_csv('/kaggle/working/submission.csv', index=False)"
   ]
  }
 ],
 "metadata": {
  "kaggle": {
   "accelerator": "none",
   "dataSources": [
    {
     "databundleVersionId": 869809,
     "sourceId": 17777,
     "sourceType": "competition"
    }
   ],
   "dockerImageVersionId": 30587,
   "isGpuEnabled": false,
   "isInternetEnabled": true,
   "language": "python",
   "sourceType": "notebook"
  },
  "kernelspec": {
   "display_name": "Python 3",
   "language": "python",
   "name": "python3"
  },
  "language_info": {
   "codemirror_mode": {
    "name": "ipython",
    "version": 3
   },
   "file_extension": ".py",
   "mimetype": "text/x-python",
   "name": "python",
   "nbconvert_exporter": "python",
   "pygments_lexer": "ipython3",
   "version": "3.10.12"
  },
  "papermill": {
   "default_parameters": {},
   "duration": 301.275933,
   "end_time": "2023-12-05T20:48:46.470115",
   "environment_variables": {},
   "exception": null,
   "input_path": "__notebook__.ipynb",
   "output_path": "__notebook__.ipynb",
   "parameters": {},
   "start_time": "2023-12-05T20:43:45.194182",
   "version": "2.4.0"
  }
 },
 "nbformat": 4,
 "nbformat_minor": 5
}
