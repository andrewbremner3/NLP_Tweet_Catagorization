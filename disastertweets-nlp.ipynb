{
 "cells": [
  {
   "cell_type": "code",
   "execution_count": 1,
   "id": "1a548e57",
   "metadata": {
    "_cell_guid": "b1076dfc-b9ad-4769-8c92-a6c4dae69d19",
    "_uuid": "8f2839f25d086af736a60e9eeb907d3b93b6e0e5",
    "execution": {
     "iopub.execute_input": "2023-12-05T22:15:47.709668Z",
     "iopub.status.busy": "2023-12-05T22:15:47.708791Z",
     "iopub.status.idle": "2023-12-05T22:15:49.595128Z",
     "shell.execute_reply": "2023-12-05T22:15:49.594013Z"
    },
    "papermill": {
     "duration": 1.905706,
     "end_time": "2023-12-05T22:15:49.597660",
     "exception": false,
     "start_time": "2023-12-05T22:15:47.691954",
     "status": "completed"
    },
    "tags": []
   },
   "outputs": [
    {
     "name": "stdout",
     "output_type": "stream",
     "text": [
      "/kaggle/input/nlp-getting-started/sample_submission.csv\n",
      "/kaggle/input/nlp-getting-started/train.csv\n",
      "/kaggle/input/nlp-getting-started/test.csv\n"
     ]
    }
   ],
   "source": [
    "# This Python 3 environment comes with many helpful analytics libraries installed\n",
    "# It is defined by the kaggle/python Docker image: https://github.com/kaggle/docker-python\n",
    "# For example, here's several helpful packages to load\n",
    "\n",
    "import numpy as np # linear algebra\n",
    "import pandas as pd # data processing, CSV file I/O (e.g. pd.read_csv)\n",
    "import seaborn as sns\n",
    "import matplotlib.pyplot as plt\n",
    "import time\n",
    "\n",
    "# Input data files are available in the read-only \"../input/\" directory\n",
    "# For example, running this (by clicking run or pressing Shift+Enter) will list all files under the input directory\n",
    "\n",
    "import os\n",
    "for dirname, _, filenames in os.walk('/kaggle/input'):\n",
    "    for filename in filenames:\n",
    "        print(os.path.join(dirname, filename))\n",
    "\n",
    "# You can write up to 20GB to the current directory (/kaggle/working/) that gets preserved as output when you create a version using \"Save & Run All\" \n",
    "# You can also write temporary files to /kaggle/temp/, but they won't be saved outside of the current session"
   ]
  },
  {
   "cell_type": "markdown",
   "id": "f501b141",
   "metadata": {
    "papermill": {
     "duration": 0.014565,
     "end_time": "2023-12-05T22:15:49.627559",
     "exception": false,
     "start_time": "2023-12-05T22:15:49.612994",
     "status": "completed"
    },
    "tags": []
   },
   "source": [
    "# Read in Train and Test Data sets"
   ]
  },
  {
   "cell_type": "code",
   "execution_count": 2,
   "id": "97973864",
   "metadata": {
    "execution": {
     "iopub.execute_input": "2023-12-05T22:15:49.659337Z",
     "iopub.status.busy": "2023-12-05T22:15:49.658753Z",
     "iopub.status.idle": "2023-12-05T22:15:49.728925Z",
     "shell.execute_reply": "2023-12-05T22:15:49.727911Z"
    },
    "papermill": {
     "duration": 0.089342,
     "end_time": "2023-12-05T22:15:49.731671",
     "exception": false,
     "start_time": "2023-12-05T22:15:49.642329",
     "status": "completed"
    },
    "tags": []
   },
   "outputs": [],
   "source": [
    "df = pd.read_csv(\"/kaggle/input/nlp-getting-started/train.csv\")\n",
    "df_test = pd.read_csv(\"/kaggle/input/nlp-getting-started/test.csv\")"
   ]
  },
  {
   "cell_type": "code",
   "execution_count": 3,
   "id": "a748d52f",
   "metadata": {
    "execution": {
     "iopub.execute_input": "2023-12-05T22:15:49.764270Z",
     "iopub.status.busy": "2023-12-05T22:15:49.763808Z",
     "iopub.status.idle": "2023-12-05T22:15:49.785213Z",
     "shell.execute_reply": "2023-12-05T22:15:49.784440Z"
    },
    "papermill": {
     "duration": 0.040516,
     "end_time": "2023-12-05T22:15:49.787362",
     "exception": false,
     "start_time": "2023-12-05T22:15:49.746846",
     "status": "completed"
    },
    "tags": []
   },
   "outputs": [
    {
     "data": {
      "text/html": [
       "<div>\n",
       "<style scoped>\n",
       "    .dataframe tbody tr th:only-of-type {\n",
       "        vertical-align: middle;\n",
       "    }\n",
       "\n",
       "    .dataframe tbody tr th {\n",
       "        vertical-align: top;\n",
       "    }\n",
       "\n",
       "    .dataframe thead th {\n",
       "        text-align: right;\n",
       "    }\n",
       "</style>\n",
       "<table border=\"1\" class=\"dataframe\">\n",
       "  <thead>\n",
       "    <tr style=\"text-align: right;\">\n",
       "      <th></th>\n",
       "      <th>id</th>\n",
       "      <th>keyword</th>\n",
       "      <th>location</th>\n",
       "      <th>text</th>\n",
       "      <th>target</th>\n",
       "    </tr>\n",
       "  </thead>\n",
       "  <tbody>\n",
       "    <tr>\n",
       "      <th>0</th>\n",
       "      <td>1</td>\n",
       "      <td>NaN</td>\n",
       "      <td>NaN</td>\n",
       "      <td>Our Deeds are the Reason of this #earthquake M...</td>\n",
       "      <td>1</td>\n",
       "    </tr>\n",
       "    <tr>\n",
       "      <th>1</th>\n",
       "      <td>4</td>\n",
       "      <td>NaN</td>\n",
       "      <td>NaN</td>\n",
       "      <td>Forest fire near La Ronge Sask. Canada</td>\n",
       "      <td>1</td>\n",
       "    </tr>\n",
       "    <tr>\n",
       "      <th>2</th>\n",
       "      <td>5</td>\n",
       "      <td>NaN</td>\n",
       "      <td>NaN</td>\n",
       "      <td>All residents asked to 'shelter in place' are ...</td>\n",
       "      <td>1</td>\n",
       "    </tr>\n",
       "    <tr>\n",
       "      <th>3</th>\n",
       "      <td>6</td>\n",
       "      <td>NaN</td>\n",
       "      <td>NaN</td>\n",
       "      <td>13,000 people receive #wildfires evacuation or...</td>\n",
       "      <td>1</td>\n",
       "    </tr>\n",
       "    <tr>\n",
       "      <th>4</th>\n",
       "      <td>7</td>\n",
       "      <td>NaN</td>\n",
       "      <td>NaN</td>\n",
       "      <td>Just got sent this photo from Ruby #Alaska as ...</td>\n",
       "      <td>1</td>\n",
       "    </tr>\n",
       "  </tbody>\n",
       "</table>\n",
       "</div>"
      ],
      "text/plain": [
       "   id keyword location                                               text  \\\n",
       "0   1     NaN      NaN  Our Deeds are the Reason of this #earthquake M...   \n",
       "1   4     NaN      NaN             Forest fire near La Ronge Sask. Canada   \n",
       "2   5     NaN      NaN  All residents asked to 'shelter in place' are ...   \n",
       "3   6     NaN      NaN  13,000 people receive #wildfires evacuation or...   \n",
       "4   7     NaN      NaN  Just got sent this photo from Ruby #Alaska as ...   \n",
       "\n",
       "   target  \n",
       "0       1  \n",
       "1       1  \n",
       "2       1  \n",
       "3       1  \n",
       "4       1  "
      ]
     },
     "execution_count": 3,
     "metadata": {},
     "output_type": "execute_result"
    }
   ],
   "source": [
    "df.head()"
   ]
  },
  {
   "cell_type": "markdown",
   "id": "ce4be84b",
   "metadata": {
    "papermill": {
     "duration": 0.014961,
     "end_time": "2023-12-05T22:15:49.817301",
     "exception": false,
     "start_time": "2023-12-05T22:15:49.802340",
     "status": "completed"
    },
    "tags": []
   },
   "source": [
    "### Check for null values"
   ]
  },
  {
   "cell_type": "code",
   "execution_count": 4,
   "id": "df25ed9f",
   "metadata": {
    "execution": {
     "iopub.execute_input": "2023-12-05T22:15:49.849704Z",
     "iopub.status.busy": "2023-12-05T22:15:49.849295Z",
     "iopub.status.idle": "2023-12-05T22:15:49.860994Z",
     "shell.execute_reply": "2023-12-05T22:15:49.859907Z"
    },
    "papermill": {
     "duration": 0.030715,
     "end_time": "2023-12-05T22:15:49.863182",
     "exception": false,
     "start_time": "2023-12-05T22:15:49.832467",
     "status": "completed"
    },
    "tags": []
   },
   "outputs": [
    {
     "data": {
      "text/plain": [
       "id             0\n",
       "keyword       61\n",
       "location    2533\n",
       "text           0\n",
       "target         0\n",
       "dtype: int64"
      ]
     },
     "execution_count": 4,
     "metadata": {},
     "output_type": "execute_result"
    }
   ],
   "source": [
    "df.isnull().sum()"
   ]
  },
  {
   "cell_type": "code",
   "execution_count": 5,
   "id": "cf57f0db",
   "metadata": {
    "execution": {
     "iopub.execute_input": "2023-12-05T22:15:49.895778Z",
     "iopub.status.busy": "2023-12-05T22:15:49.895403Z",
     "iopub.status.idle": "2023-12-05T22:15:49.904738Z",
     "shell.execute_reply": "2023-12-05T22:15:49.903751Z"
    },
    "papermill": {
     "duration": 0.02838,
     "end_time": "2023-12-05T22:15:49.906990",
     "exception": false,
     "start_time": "2023-12-05T22:15:49.878610",
     "status": "completed"
    },
    "tags": []
   },
   "outputs": [
    {
     "data": {
      "text/plain": [
       "id             0\n",
       "keyword       26\n",
       "location    1105\n",
       "text           0\n",
       "dtype: int64"
      ]
     },
     "execution_count": 5,
     "metadata": {},
     "output_type": "execute_result"
    }
   ],
   "source": [
    "df_test.isnull().sum()"
   ]
  },
  {
   "cell_type": "markdown",
   "id": "1d520c97",
   "metadata": {
    "papermill": {
     "duration": 0.015368,
     "end_time": "2023-12-05T22:15:49.938667",
     "exception": false,
     "start_time": "2023-12-05T22:15:49.923299",
     "status": "completed"
    },
    "tags": []
   },
   "source": [
    "Key words have %20 instead of spaces so fill those"
   ]
  },
  {
   "cell_type": "code",
   "execution_count": 6,
   "id": "1c560493",
   "metadata": {
    "execution": {
     "iopub.execute_input": "2023-12-05T22:15:49.971845Z",
     "iopub.status.busy": "2023-12-05T22:15:49.971251Z",
     "iopub.status.idle": "2023-12-05T22:15:49.981481Z",
     "shell.execute_reply": "2023-12-05T22:15:49.980404Z"
    },
    "papermill": {
     "duration": 0.029581,
     "end_time": "2023-12-05T22:15:49.983806",
     "exception": false,
     "start_time": "2023-12-05T22:15:49.954225",
     "status": "completed"
    },
    "tags": []
   },
   "outputs": [
    {
     "data": {
      "text/plain": [
       "array([nan, 'ablaze', 'accident', 'aftershock', 'airplane%20accident',\n",
       "       'ambulance', 'annihilated', 'annihilation', 'apocalypse',\n",
       "       'armageddon', 'army', 'arson', 'arsonist', 'attack', 'attacked',\n",
       "       'avalanche', 'battle', 'bioterror', 'bioterrorism', 'blaze',\n",
       "       'blazing', 'bleeding', 'blew%20up', 'blight', 'blizzard'],\n",
       "      dtype=object)"
      ]
     },
     "execution_count": 6,
     "metadata": {},
     "output_type": "execute_result"
    }
   ],
   "source": [
    "df['keyword'].unique()[:25]"
   ]
  },
  {
   "cell_type": "markdown",
   "id": "d4981afb",
   "metadata": {
    "papermill": {
     "duration": 0.01525,
     "end_time": "2023-12-05T22:15:50.014465",
     "exception": false,
     "start_time": "2023-12-05T22:15:49.999215",
     "status": "completed"
    },
    "tags": []
   },
   "source": [
    "**Fix Training set by filling na values with '' and %20 with ' '.**"
   ]
  },
  {
   "cell_type": "code",
   "execution_count": 7,
   "id": "a9fe7581",
   "metadata": {
    "execution": {
     "iopub.execute_input": "2023-12-05T22:15:50.047593Z",
     "iopub.status.busy": "2023-12-05T22:15:50.046937Z",
     "iopub.status.idle": "2023-12-05T22:15:50.102932Z",
     "shell.execute_reply": "2023-12-05T22:15:50.101760Z"
    },
    "papermill": {
     "duration": 0.075709,
     "end_time": "2023-12-05T22:15:50.105686",
     "exception": false,
     "start_time": "2023-12-05T22:15:50.029977",
     "status": "completed"
    },
    "tags": []
   },
   "outputs": [],
   "source": [
    "df['location']=df['location'].fillna('')\n",
    "df['keyword']=df['keyword'].fillna('')\n",
    "df = df.replace('%20', ' ', regex=True)"
   ]
  },
  {
   "cell_type": "code",
   "execution_count": 8,
   "id": "7ec49dc4",
   "metadata": {
    "execution": {
     "iopub.execute_input": "2023-12-05T22:15:50.139485Z",
     "iopub.status.busy": "2023-12-05T22:15:50.138537Z",
     "iopub.status.idle": "2023-12-05T22:15:50.166792Z",
     "shell.execute_reply": "2023-12-05T22:15:50.165930Z"
    },
    "papermill": {
     "duration": 0.047817,
     "end_time": "2023-12-05T22:15:50.169263",
     "exception": false,
     "start_time": "2023-12-05T22:15:50.121446",
     "status": "completed"
    },
    "tags": []
   },
   "outputs": [],
   "source": [
    "df_test['location'] = df_test['location'].fillna('')\n",
    "df_test['keyword'] = df_test['keyword'].fillna('')\n",
    "df_test = df_test.replace('%20', ' ', regex=True)"
   ]
  },
  {
   "cell_type": "code",
   "execution_count": 9,
   "id": "2e7c08ef",
   "metadata": {
    "execution": {
     "iopub.execute_input": "2023-12-05T22:15:50.266537Z",
     "iopub.status.busy": "2023-12-05T22:15:50.265843Z",
     "iopub.status.idle": "2023-12-05T22:15:50.590833Z",
     "shell.execute_reply": "2023-12-05T22:15:50.589719Z"
    },
    "papermill": {
     "duration": 0.345074,
     "end_time": "2023-12-05T22:15:50.593232",
     "exception": false,
     "start_time": "2023-12-05T22:15:50.248158",
     "status": "completed"
    },
    "tags": []
   },
   "outputs": [
    {
     "data": {
      "image/png": "[encoded data removed]",
      "text/plain": [
       "<Figure size 640x480 with 1 Axes>"
      ]
     },
     "metadata": {},
     "output_type": "display_data"
    }
   ],
   "source": [
    "sns.countplot(data=df, x='target');"
   ]
  },
  {
   "cell_type": "code",
   "execution_count": 10,
   "id": "e43cbae9",
   "metadata": {
    "execution": {
     "iopub.execute_input": "2023-12-05T22:15:50.627642Z",
     "iopub.status.busy": "2023-12-05T22:15:50.626985Z",
     "iopub.status.idle": "2023-12-05T22:15:50.643591Z",
     "shell.execute_reply": "2023-12-05T22:15:50.642490Z"
    },
    "papermill": {
     "duration": 0.036708,
     "end_time": "2023-12-05T22:15:50.645983",
     "exception": false,
     "start_time": "2023-12-05T22:15:50.609275",
     "status": "completed"
    },
    "tags": []
   },
   "outputs": [
    {
     "data": {
      "text/html": [
       "<div>\n",
       "<style scoped>\n",
       "    .dataframe tbody tr th:only-of-type {\n",
       "        vertical-align: middle;\n",
       "    }\n",
       "\n",
       "    .dataframe tbody tr th {\n",
       "        vertical-align: top;\n",
       "    }\n",
       "\n",
       "    .dataframe thead th {\n",
       "        text-align: right;\n",
       "    }\n",
       "</style>\n",
       "<table border=\"1\" class=\"dataframe\">\n",
       "  <thead>\n",
       "    <tr style=\"text-align: right;\">\n",
       "      <th></th>\n",
       "      <th>id</th>\n",
       "      <th>keyword</th>\n",
       "      <th>location</th>\n",
       "      <th>text</th>\n",
       "      <th>target</th>\n",
       "    </tr>\n",
       "  </thead>\n",
       "  <tbody>\n",
       "    <tr>\n",
       "      <th>800</th>\n",
       "      <td>1160</td>\n",
       "      <td>blight</td>\n",
       "      <td>Laventillemoorings</td>\n",
       "      <td>If you dotish to blight your car go right ahea...</td>\n",
       "      <td>0</td>\n",
       "    </tr>\n",
       "    <tr>\n",
       "      <th>801</th>\n",
       "      <td>1162</td>\n",
       "      <td>blight</td>\n",
       "      <td>UK</td>\n",
       "      <td>Sexual Revolution:Blight For Women is out! htt...</td>\n",
       "      <td>0</td>\n",
       "    </tr>\n",
       "    <tr>\n",
       "      <th>802</th>\n",
       "      <td>1164</td>\n",
       "      <td>blight</td>\n",
       "      <td>Scotland</td>\n",
       "      <td>LIKE I SWEAR THE SECRET WE'LL UNCOVER IS THE O...</td>\n",
       "      <td>0</td>\n",
       "    </tr>\n",
       "    <tr>\n",
       "      <th>803</th>\n",
       "      <td>1166</td>\n",
       "      <td>blight</td>\n",
       "      <td>London</td>\n",
       "      <td>@WillHillBet what is double result live on the...</td>\n",
       "      <td>0</td>\n",
       "    </tr>\n",
       "    <tr>\n",
       "      <th>804</th>\n",
       "      <td>1167</td>\n",
       "      <td>blight</td>\n",
       "      <td>Vancouver, BC</td>\n",
       "      <td>@parksboardfacts first off it is the #ZippoLin...</td>\n",
       "      <td>0</td>\n",
       "    </tr>\n",
       "    <tr>\n",
       "      <th>...</th>\n",
       "      <td>...</td>\n",
       "      <td>...</td>\n",
       "      <td>...</td>\n",
       "      <td>...</td>\n",
       "      <td>...</td>\n",
       "    </tr>\n",
       "    <tr>\n",
       "      <th>1395</th>\n",
       "      <td>2014</td>\n",
       "      <td>casualties</td>\n",
       "      <td>Philippines</td>\n",
       "      <td>Civilian casualties rise as Afghan war intensi...</td>\n",
       "      <td>1</td>\n",
       "    </tr>\n",
       "    <tr>\n",
       "      <th>1396</th>\n",
       "      <td>2015</td>\n",
       "      <td>casualties</td>\n",
       "      <td></td>\n",
       "      <td>Afghan conflict sees 'sharp rise' in female ca...</td>\n",
       "      <td>1</td>\n",
       "    </tr>\n",
       "    <tr>\n",
       "      <th>1397</th>\n",
       "      <td>2016</td>\n",
       "      <td>casualties</td>\n",
       "      <td>Bronx, New York</td>\n",
       "      <td>Warfighting Robots Could Reduce Civilian Casua...</td>\n",
       "      <td>1</td>\n",
       "    </tr>\n",
       "    <tr>\n",
       "      <th>1398</th>\n",
       "      <td>2017</td>\n",
       "      <td>casualties</td>\n",
       "      <td>Canadian bread</td>\n",
       "      <td>@LibertarianLuke I'm all for that to be honest...</td>\n",
       "      <td>0</td>\n",
       "    </tr>\n",
       "    <tr>\n",
       "      <th>1399</th>\n",
       "      <td>2019</td>\n",
       "      <td>casualties</td>\n",
       "      <td>Phoenix, AZ</td>\n",
       "      <td>Afghanistan: U.N. Reports 'Record-High Levels'...</td>\n",
       "      <td>1</td>\n",
       "    </tr>\n",
       "  </tbody>\n",
       "</table>\n",
       "<p>600 rows × 5 columns</p>\n",
       "</div>"
      ],
      "text/plain": [
       "        id     keyword             location  \\\n",
       "800   1160      blight  Laventillemoorings    \n",
       "801   1162      blight                   UK   \n",
       "802   1164      blight             Scotland   \n",
       "803   1166      blight               London   \n",
       "804   1167      blight        Vancouver, BC   \n",
       "...    ...         ...                  ...   \n",
       "1395  2014  casualties          Philippines   \n",
       "1396  2015  casualties                        \n",
       "1397  2016  casualties      Bronx, New York   \n",
       "1398  2017  casualties       Canadian bread   \n",
       "1399  2019  casualties          Phoenix, AZ   \n",
       "\n",
       "                                                   text  target  \n",
       "800   If you dotish to blight your car go right ahea...       0  \n",
       "801   Sexual Revolution:Blight For Women is out! htt...       0  \n",
       "802   LIKE I SWEAR THE SECRET WE'LL UNCOVER IS THE O...       0  \n",
       "803   @WillHillBet what is double result live on the...       0  \n",
       "804   @parksboardfacts first off it is the #ZippoLin...       0  \n",
       "...                                                 ...     ...  \n",
       "1395  Civilian casualties rise as Afghan war intensi...       1  \n",
       "1396  Afghan conflict sees 'sharp rise' in female ca...       1  \n",
       "1397  Warfighting Robots Could Reduce Civilian Casua...       1  \n",
       "1398  @LibertarianLuke I'm all for that to be honest...       0  \n",
       "1399  Afghanistan: U.N. Reports 'Record-High Levels'...       1  \n",
       "\n",
       "[600 rows x 5 columns]"
      ]
     },
     "execution_count": 10,
     "metadata": {},
     "output_type": "execute_result"
    }
   ],
   "source": [
    "df[800:1400]"
   ]
  },
  {
   "cell_type": "markdown",
   "id": "668192c3",
   "metadata": {
    "papermill": {
     "duration": 0.016162,
     "end_time": "2023-12-05T22:15:50.678533",
     "exception": false,
     "start_time": "2023-12-05T22:15:50.662371",
     "status": "completed"
    },
    "tags": []
   },
   "source": [
    "## Plot to show some of the positive/negative ratios for given keywords\n",
    "Some of the keywords are pretty strongly correlated"
   ]
  },
  {
   "cell_type": "code",
   "execution_count": 11,
   "id": "d7f04836",
   "metadata": {
    "execution": {
     "iopub.execute_input": "2023-12-05T22:15:50.713776Z",
     "iopub.status.busy": "2023-12-05T22:15:50.713123Z",
     "iopub.status.idle": "2023-12-05T22:15:51.659786Z",
     "shell.execute_reply": "2023-12-05T22:15:51.658590Z"
    },
    "papermill": {
     "duration": 0.967606,
     "end_time": "2023-12-05T22:15:51.662645",
     "exception": false,
     "start_time": "2023-12-05T22:15:50.695039",
     "status": "completed"
    },
    "tags": []
   },
   "outputs": [
    {
     "data": {
      "image/png": "[encoded data removed]",
      "text/plain": [
       "<Figure size 1000x400 with 1 Axes>"
      ]
     },
     "metadata": {},
     "output_type": "display_data"
    }
   ],
   "source": [
    "plt.figure(figsize=(10,4))\n",
    "sns.countplot(data=df[1000:2500], x='keyword',hue='target')\n",
    "plt.xticks(rotation=90);"
   ]
  },
  {
   "cell_type": "markdown",
   "id": "87b52039",
   "metadata": {
    "papermill": {
     "duration": 0.017372,
     "end_time": "2023-12-05T22:15:51.697694",
     "exception": false,
     "start_time": "2023-12-05T22:15:51.680322",
     "status": "completed"
    },
    "tags": []
   },
   "source": [
    "# Split Train Data to do inital testing"
   ]
  },
  {
   "cell_type": "code",
   "execution_count": 12,
   "id": "a181f3ae",
   "metadata": {
    "execution": {
     "iopub.execute_input": "2023-12-05T22:15:51.735367Z",
     "iopub.status.busy": "2023-12-05T22:15:51.734666Z",
     "iopub.status.idle": "2023-12-05T22:15:51.966235Z",
     "shell.execute_reply": "2023-12-05T22:15:51.965065Z"
    },
    "papermill": {
     "duration": 0.253722,
     "end_time": "2023-12-05T22:15:51.969052",
     "exception": false,
     "start_time": "2023-12-05T22:15:51.715330",
     "status": "completed"
    },
    "tags": []
   },
   "outputs": [],
   "source": [
    "from sklearn.model_selection import train_test_split"
   ]
  },
  {
   "cell_type": "code",
   "execution_count": 13,
   "id": "c9067f3a",
   "metadata": {
    "execution": {
     "iopub.execute_input": "2023-12-05T22:15:52.007964Z",
     "iopub.status.busy": "2023-12-05T22:15:52.006797Z",
     "iopub.status.idle": "2023-12-05T22:15:52.034418Z",
     "shell.execute_reply": "2023-12-05T22:15:52.033588Z"
    },
    "papermill": {
     "duration": 0.048716,
     "end_time": "2023-12-05T22:15:52.036848",
     "exception": false,
     "start_time": "2023-12-05T22:15:51.988132",
     "status": "completed"
    },
    "tags": []
   },
   "outputs": [
    {
     "data": {
      "text/html": [
       "<div>\n",
       "<style scoped>\n",
       "    .dataframe tbody tr th:only-of-type {\n",
       "        vertical-align: middle;\n",
       "    }\n",
       "\n",
       "    .dataframe tbody tr th {\n",
       "        vertical-align: top;\n",
       "    }\n",
       "\n",
       "    .dataframe thead th {\n",
       "        text-align: right;\n",
       "    }\n",
       "</style>\n",
       "<table border=\"1\" class=\"dataframe\">\n",
       "  <thead>\n",
       "    <tr style=\"text-align: right;\">\n",
       "      <th></th>\n",
       "      <th>id</th>\n",
       "      <th>keyword</th>\n",
       "      <th>location</th>\n",
       "      <th>text</th>\n",
       "      <th>target</th>\n",
       "      <th>text combo</th>\n",
       "    </tr>\n",
       "  </thead>\n",
       "  <tbody>\n",
       "    <tr>\n",
       "      <th>800</th>\n",
       "      <td>1160</td>\n",
       "      <td>blight</td>\n",
       "      <td>Laventillemoorings</td>\n",
       "      <td>If you dotish to blight your car go right ahea...</td>\n",
       "      <td>0</td>\n",
       "      <td>blight blight blight Laventillemoorings  If yo...</td>\n",
       "    </tr>\n",
       "    <tr>\n",
       "      <th>801</th>\n",
       "      <td>1162</td>\n",
       "      <td>blight</td>\n",
       "      <td>UK</td>\n",
       "      <td>Sexual Revolution:Blight For Women is out! htt...</td>\n",
       "      <td>0</td>\n",
       "      <td>blight blight blight UK Sexual Revolution:Blig...</td>\n",
       "    </tr>\n",
       "    <tr>\n",
       "      <th>802</th>\n",
       "      <td>1164</td>\n",
       "      <td>blight</td>\n",
       "      <td>Scotland</td>\n",
       "      <td>LIKE I SWEAR THE SECRET WE'LL UNCOVER IS THE O...</td>\n",
       "      <td>0</td>\n",
       "      <td>blight blight blight Scotland LIKE I SWEAR THE...</td>\n",
       "    </tr>\n",
       "    <tr>\n",
       "      <th>803</th>\n",
       "      <td>1166</td>\n",
       "      <td>blight</td>\n",
       "      <td>London</td>\n",
       "      <td>@WillHillBet what is double result live on the...</td>\n",
       "      <td>0</td>\n",
       "      <td>blight blight blight London @WillHillBet what ...</td>\n",
       "    </tr>\n",
       "  </tbody>\n",
       "</table>\n",
       "</div>"
      ],
      "text/plain": [
       "       id keyword             location  \\\n",
       "800  1160  blight  Laventillemoorings    \n",
       "801  1162  blight                   UK   \n",
       "802  1164  blight             Scotland   \n",
       "803  1166  blight               London   \n",
       "\n",
       "                                                  text  target  \\\n",
       "800  If you dotish to blight your car go right ahea...       0   \n",
       "801  Sexual Revolution:Blight For Women is out! htt...       0   \n",
       "802  LIKE I SWEAR THE SECRET WE'LL UNCOVER IS THE O...       0   \n",
       "803  @WillHillBet what is double result live on the...       0   \n",
       "\n",
       "                                            text combo  \n",
       "800  blight blight blight Laventillemoorings  If yo...  \n",
       "801  blight blight blight UK Sexual Revolution:Blig...  \n",
       "802  blight blight blight Scotland LIKE I SWEAR THE...  \n",
       "803  blight blight blight London @WillHillBet what ...  "
      ]
     },
     "execution_count": 13,
     "metadata": {},
     "output_type": "execute_result"
    }
   ],
   "source": [
    "df['text combo'] = (df['keyword']+\" \")*3+df['location']+\" \"+df['text']\n",
    "df_test['text combo'] = (df_test['keyword']+\" \")*3+df_test['location']+\" \"+df_test['text']\n",
    "\n",
    "df[800:804]"
   ]
  },
  {
   "cell_type": "code",
   "execution_count": 14,
   "id": "dee7ee20",
   "metadata": {
    "execution": {
     "iopub.execute_input": "2023-12-05T22:15:52.075114Z",
     "iopub.status.busy": "2023-12-05T22:15:52.074452Z",
     "iopub.status.idle": "2023-12-05T22:15:52.087159Z",
     "shell.execute_reply": "2023-12-05T22:15:52.086220Z"
    },
    "papermill": {
     "duration": 0.034706,
     "end_time": "2023-12-05T22:15:52.089551",
     "exception": false,
     "start_time": "2023-12-05T22:15:52.054845",
     "status": "completed"
    },
    "tags": []
   },
   "outputs": [],
   "source": [
    "#X = df.drop(['target','id'], axis=1)\n",
    "X = df.drop('target',axis=1)\n",
    "y = df['target']\n",
    "X_train, X_test, y_train, y_test = train_test_split(X, y, test_size=0.1, random_state=814)\n",
    "ids_train = X_train['id']\n",
    "X_train = X_train['text combo']\n",
    "ids_test = X_test['id']\n",
    "X_test = X_test['text combo']"
   ]
  },
  {
   "cell_type": "code",
   "execution_count": 15,
   "id": "0c88b59a",
   "metadata": {
    "execution": {
     "iopub.execute_input": "2023-12-05T22:15:52.126497Z",
     "iopub.status.busy": "2023-12-05T22:15:52.126124Z",
     "iopub.status.idle": "2023-12-05T22:15:52.140422Z",
     "shell.execute_reply": "2023-12-05T22:15:52.139424Z"
    },
    "papermill": {
     "duration": 0.035673,
     "end_time": "2023-12-05T22:15:52.142983",
     "exception": false,
     "start_time": "2023-12-05T22:15:52.107310",
     "status": "completed"
    },
    "tags": []
   },
   "outputs": [
    {
     "data": {
      "text/html": [
       "<div>\n",
       "<style scoped>\n",
       "    .dataframe tbody tr th:only-of-type {\n",
       "        vertical-align: middle;\n",
       "    }\n",
       "\n",
       "    .dataframe tbody tr th {\n",
       "        vertical-align: top;\n",
       "    }\n",
       "\n",
       "    .dataframe thead th {\n",
       "        text-align: right;\n",
       "    }\n",
       "</style>\n",
       "<table border=\"1\" class=\"dataframe\">\n",
       "  <thead>\n",
       "    <tr style=\"text-align: right;\">\n",
       "      <th></th>\n",
       "      <th>id</th>\n",
       "      <th>keyword</th>\n",
       "      <th>location</th>\n",
       "      <th>text</th>\n",
       "      <th>text combo</th>\n",
       "    </tr>\n",
       "  </thead>\n",
       "  <tbody>\n",
       "    <tr>\n",
       "      <th>0</th>\n",
       "      <td>0</td>\n",
       "      <td></td>\n",
       "      <td></td>\n",
       "      <td>Just happened a terrible car crash</td>\n",
       "      <td>Just happened a terrible car crash</td>\n",
       "    </tr>\n",
       "    <tr>\n",
       "      <th>1</th>\n",
       "      <td>2</td>\n",
       "      <td></td>\n",
       "      <td></td>\n",
       "      <td>Heard about #earthquake is different cities, s...</td>\n",
       "      <td>Heard about #earthquake is different citie...</td>\n",
       "    </tr>\n",
       "    <tr>\n",
       "      <th>2</th>\n",
       "      <td>3</td>\n",
       "      <td></td>\n",
       "      <td></td>\n",
       "      <td>there is a forest fire at spot pond, geese are...</td>\n",
       "      <td>there is a forest fire at spot pond, geese...</td>\n",
       "    </tr>\n",
       "    <tr>\n",
       "      <th>3</th>\n",
       "      <td>9</td>\n",
       "      <td></td>\n",
       "      <td></td>\n",
       "      <td>Apocalypse lighting. #Spokane #wildfires</td>\n",
       "      <td>Apocalypse lighting. #Spokane #wildfires</td>\n",
       "    </tr>\n",
       "    <tr>\n",
       "      <th>4</th>\n",
       "      <td>11</td>\n",
       "      <td></td>\n",
       "      <td></td>\n",
       "      <td>Typhoon Soudelor kills 28 in China and Taiwan</td>\n",
       "      <td>Typhoon Soudelor kills 28 in China and Taiwan</td>\n",
       "    </tr>\n",
       "    <tr>\n",
       "      <th>...</th>\n",
       "      <td>...</td>\n",
       "      <td>...</td>\n",
       "      <td>...</td>\n",
       "      <td>...</td>\n",
       "      <td>...</td>\n",
       "    </tr>\n",
       "    <tr>\n",
       "      <th>3258</th>\n",
       "      <td>10861</td>\n",
       "      <td></td>\n",
       "      <td></td>\n",
       "      <td>EARTHQUAKE SAFETY LOS ANGELES ÛÒ SAFETY FASTE...</td>\n",
       "      <td>EARTHQUAKE SAFETY LOS ANGELES ÛÒ SAFETY F...</td>\n",
       "    </tr>\n",
       "    <tr>\n",
       "      <th>3259</th>\n",
       "      <td>10865</td>\n",
       "      <td></td>\n",
       "      <td></td>\n",
       "      <td>Storm in RI worse than last hurricane. My city...</td>\n",
       "      <td>Storm in RI worse than last hurricane. My ...</td>\n",
       "    </tr>\n",
       "    <tr>\n",
       "      <th>3260</th>\n",
       "      <td>10868</td>\n",
       "      <td></td>\n",
       "      <td></td>\n",
       "      <td>Green Line derailment in Chicago http://t.co/U...</td>\n",
       "      <td>Green Line derailment in Chicago http://t....</td>\n",
       "    </tr>\n",
       "    <tr>\n",
       "      <th>3261</th>\n",
       "      <td>10874</td>\n",
       "      <td></td>\n",
       "      <td></td>\n",
       "      <td>MEG issues Hazardous Weather Outlook (HWO) htt...</td>\n",
       "      <td>MEG issues Hazardous Weather Outlook (HWO)...</td>\n",
       "    </tr>\n",
       "    <tr>\n",
       "      <th>3262</th>\n",
       "      <td>10875</td>\n",
       "      <td></td>\n",
       "      <td></td>\n",
       "      <td>#CityofCalgary has activated its Municipal Eme...</td>\n",
       "      <td>#CityofCalgary has activated its Municipal...</td>\n",
       "    </tr>\n",
       "  </tbody>\n",
       "</table>\n",
       "<p>3263 rows × 5 columns</p>\n",
       "</div>"
      ],
      "text/plain": [
       "         id keyword location  \\\n",
       "0         0                    \n",
       "1         2                    \n",
       "2         3                    \n",
       "3         9                    \n",
       "4        11                    \n",
       "...     ...     ...      ...   \n",
       "3258  10861                    \n",
       "3259  10865                    \n",
       "3260  10868                    \n",
       "3261  10874                    \n",
       "3262  10875                    \n",
       "\n",
       "                                                   text  \\\n",
       "0                    Just happened a terrible car crash   \n",
       "1     Heard about #earthquake is different cities, s...   \n",
       "2     there is a forest fire at spot pond, geese are...   \n",
       "3              Apocalypse lighting. #Spokane #wildfires   \n",
       "4         Typhoon Soudelor kills 28 in China and Taiwan   \n",
       "...                                                 ...   \n",
       "3258  EARTHQUAKE SAFETY LOS ANGELES ÛÒ SAFETY FASTE...   \n",
       "3259  Storm in RI worse than last hurricane. My city...   \n",
       "3260  Green Line derailment in Chicago http://t.co/U...   \n",
       "3261  MEG issues Hazardous Weather Outlook (HWO) htt...   \n",
       "3262  #CityofCalgary has activated its Municipal Eme...   \n",
       "\n",
       "                                             text combo  \n",
       "0                    Just happened a terrible car crash  \n",
       "1         Heard about #earthquake is different citie...  \n",
       "2         there is a forest fire at spot pond, geese...  \n",
       "3              Apocalypse lighting. #Spokane #wildfires  \n",
       "4         Typhoon Soudelor kills 28 in China and Taiwan  \n",
       "...                                                 ...  \n",
       "3258      EARTHQUAKE SAFETY LOS ANGELES ÛÒ SAFETY F...  \n",
       "3259      Storm in RI worse than last hurricane. My ...  \n",
       "3260      Green Line derailment in Chicago http://t....  \n",
       "3261      MEG issues Hazardous Weather Outlook (HWO)...  \n",
       "3262      #CityofCalgary has activated its Municipal...  \n",
       "\n",
       "[3263 rows x 5 columns]"
      ]
     },
     "execution_count": 15,
     "metadata": {},
     "output_type": "execute_result"
    }
   ],
   "source": [
    "df_test"
   ]
  },
  {
   "cell_type": "markdown",
   "id": "e15064ef",
   "metadata": {
    "papermill": {
     "duration": 0.018534,
     "end_time": "2023-12-05T22:15:52.179573",
     "exception": false,
     "start_time": "2023-12-05T22:15:52.161039",
     "status": "completed"
    },
    "tags": []
   },
   "source": [
    "# Setup various models to test"
   ]
  },
  {
   "cell_type": "code",
   "execution_count": 16,
   "id": "a80f3a80",
   "metadata": {
    "execution": {
     "iopub.execute_input": "2023-12-05T22:15:52.222161Z",
     "iopub.status.busy": "2023-12-05T22:15:52.221618Z",
     "iopub.status.idle": "2023-12-05T22:15:52.329600Z",
     "shell.execute_reply": "2023-12-05T22:15:52.328735Z"
    },
    "papermill": {
     "duration": 0.133864,
     "end_time": "2023-12-05T22:15:52.332531",
     "exception": false,
     "start_time": "2023-12-05T22:15:52.198667",
     "status": "completed"
    },
    "tags": []
   },
   "outputs": [],
   "source": [
    "#from sklearn.pipeline import Pipeline\n",
    "from sklearn.feature_extraction.text import TfidfVectorizer, CountVectorizer\n",
    "from sklearn.model_selection import GridSearchCV\n",
    "from sklearn.naive_bayes import MultinomialNB\n",
    "from sklearn.linear_model import LogisticRegression, SGDClassifier\n",
    "from sklearn.svm import LinearSVC, SVC\n",
    "from sklearn.metrics import classification_report,f1_score,confusion_matrix,ConfusionMatrixDisplay"
   ]
  },
  {
   "cell_type": "markdown",
   "id": "3370014a",
   "metadata": {
    "papermill": {
     "duration": 0.020693,
     "end_time": "2023-12-05T22:15:52.375768",
     "exception": false,
     "start_time": "2023-12-05T22:15:52.355075",
     "status": "completed"
    },
    "tags": []
   },
   "source": [
    "### Vectorize the text data"
   ]
  },
  {
   "cell_type": "code",
   "execution_count": 17,
   "id": "1b5f0193",
   "metadata": {
    "execution": {
     "iopub.execute_input": "2023-12-05T22:15:52.415791Z",
     "iopub.status.busy": "2023-12-05T22:15:52.415364Z",
     "iopub.status.idle": "2023-12-05T22:15:52.956376Z",
     "shell.execute_reply": "2023-12-05T22:15:52.955197Z"
    },
    "papermill": {
     "duration": 0.562738,
     "end_time": "2023-12-05T22:15:52.959367",
     "exception": false,
     "start_time": "2023-12-05T22:15:52.396629",
     "status": "completed"
    },
    "tags": []
   },
   "outputs": [],
   "source": [
    "tfidf = TfidfVectorizer(stop_words='english')\n",
    "tfidf.fit(X_train)\n",
    "X_train_tfidf = tfidf.transform(X_train)\n",
    "X_test_tfidf = tfidf.transform(X_test)"
   ]
  },
  {
   "cell_type": "code",
   "execution_count": 18,
   "id": "a2eb760d",
   "metadata": {
    "execution": {
     "iopub.execute_input": "2023-12-05T22:15:52.998918Z",
     "iopub.status.busy": "2023-12-05T22:15:52.997699Z",
     "iopub.status.idle": "2023-12-05T22:15:53.005170Z",
     "shell.execute_reply": "2023-12-05T22:15:53.003959Z"
    },
    "papermill": {
     "duration": 0.029792,
     "end_time": "2023-12-05T22:15:53.007336",
     "exception": false,
     "start_time": "2023-12-05T22:15:52.977544",
     "status": "completed"
    },
    "tags": []
   },
   "outputs": [
    {
     "data": {
      "text/plain": [
       "<6851x21557 sparse matrix of type '<class 'numpy.float64'>'\n",
       "\twith 75722 stored elements in Compressed Sparse Row format>"
      ]
     },
     "execution_count": 18,
     "metadata": {},
     "output_type": "execute_result"
    }
   ],
   "source": [
    "X_train_tfidf"
   ]
  },
  {
   "cell_type": "markdown",
   "id": "892901ad",
   "metadata": {
    "papermill": {
     "duration": 0.018485,
     "end_time": "2023-12-05T22:15:53.044277",
     "exception": false,
     "start_time": "2023-12-05T22:15:53.025792",
     "status": "completed"
    },
    "tags": []
   },
   "source": [
    "###  MultinomialNB model"
   ]
  },
  {
   "cell_type": "code",
   "execution_count": 19,
   "id": "f0faad88",
   "metadata": {
    "execution": {
     "iopub.execute_input": "2023-12-05T22:15:53.083164Z",
     "iopub.status.busy": "2023-12-05T22:15:53.082207Z",
     "iopub.status.idle": "2023-12-05T22:15:53.271496Z",
     "shell.execute_reply": "2023-12-05T22:15:53.270159Z"
    },
    "papermill": {
     "duration": 0.21153,
     "end_time": "2023-12-05T22:15:53.274007",
     "exception": false,
     "start_time": "2023-12-05T22:15:53.062477",
     "status": "completed"
    },
    "tags": []
   },
   "outputs": [
    {
     "name": "stdout",
     "output_type": "stream",
     "text": [
      "Time to fit = 0.179s\n"
     ]
    },
    {
     "data": {
      "text/plain": [
       "{'alpha': 1}"
      ]
     },
     "execution_count": 19,
     "metadata": {},
     "output_type": "execute_result"
    }
   ],
   "source": [
    "mnb = MultinomialNB()\n",
    "param_grid = {'alpha':[1,2,5,10]}\n",
    "mnb_grid = GridSearchCV(estimator=mnb, param_grid=param_grid, scoring='f1')\n",
    "mnb_start = time.time()\n",
    "mnb_grid.fit(X_train_tfidf, y_train)\n",
    "mnb_end = time.time()\n",
    "print(f'Time to fit = {mnb_end - mnb_start:.3f}s')\n",
    "mnb_grid.best_params_"
   ]
  },
  {
   "cell_type": "code",
   "execution_count": 20,
   "id": "eaef583f",
   "metadata": {
    "execution": {
     "iopub.execute_input": "2023-12-05T22:15:53.312774Z",
     "iopub.status.busy": "2023-12-05T22:15:53.312409Z",
     "iopub.status.idle": "2023-12-05T22:15:53.646131Z",
     "shell.execute_reply": "2023-12-05T22:15:53.644987Z"
    },
    "papermill": {
     "duration": 0.356558,
     "end_time": "2023-12-05T22:15:53.648933",
     "exception": false,
     "start_time": "2023-12-05T22:15:53.292375",
     "status": "completed"
    },
    "tags": []
   },
   "outputs": [
    {
     "name": "stdout",
     "output_type": "stream",
     "text": [
      "0.7407407407407407\n",
      "              precision    recall  f1-score   support\n",
      "\n",
      "           0       0.79      0.89      0.83       436\n",
      "           1       0.82      0.67      0.74       326\n",
      "\n",
      "    accuracy                           0.80       762\n",
      "   macro avg       0.80      0.78      0.79       762\n",
      "weighted avg       0.80      0.80      0.79       762\n",
      "\n"
     ]
    },
    {
     "data": {
      "image/png": "[encoded data removed]",
      "text/plain": [
       "<Figure size 640x480 with 2 Axes>"
      ]
     },
     "metadata": {},
     "output_type": "display_data"
    }
   ],
   "source": [
    "mnb_preds = mnb_grid.predict(X_test_tfidf)\n",
    "print(f1_score(y_test,mnb_preds))\n",
    "print(classification_report(y_test,mnb_preds))\n",
    "ConfusionMatrixDisplay(confusion_matrix=confusion_matrix(y_test, mnb_preds)).plot();"
   ]
  },
  {
   "cell_type": "markdown",
   "id": "13c82bfd",
   "metadata": {
    "papermill": {
     "duration": 0.018612,
     "end_time": "2023-12-05T22:15:53.687333",
     "exception": false,
     "start_time": "2023-12-05T22:15:53.668721",
     "status": "completed"
    },
    "tags": []
   },
   "source": [
    "###  LogisticRegression model"
   ]
  },
  {
   "cell_type": "code",
   "execution_count": 21,
   "id": "a1fc0d79",
   "metadata": {
    "execution": {
     "iopub.execute_input": "2023-12-05T22:15:53.727550Z",
     "iopub.status.busy": "2023-12-05T22:15:53.726419Z",
     "iopub.status.idle": "2023-12-05T22:16:14.869413Z",
     "shell.execute_reply": "2023-12-05T22:16:14.868023Z"
    },
    "papermill": {
     "duration": 21.168251,
     "end_time": "2023-12-05T22:16:14.874512",
     "exception": false,
     "start_time": "2023-12-05T22:15:53.706261",
     "status": "completed"
    },
    "tags": []
   },
   "outputs": [
    {
     "name": "stdout",
     "output_type": "stream",
     "text": [
      "Time to fit = 21.130s\n"
     ]
    },
    {
     "data": {
      "text/plain": [
       "{'C': 6}"
      ]
     },
     "execution_count": 21,
     "metadata": {},
     "output_type": "execute_result"
    }
   ],
   "source": [
    "log = LogisticRegression(max_iter=1000,)\n",
    "param_grid = {'C':[3,4,5,6,7,8]}\n",
    "log_grid = GridSearchCV(estimator=log, param_grid=param_grid, scoring='f1')\n",
    "log_start = time.time()\n",
    "log_grid.fit(X_train_tfidf, y_train)\n",
    "log_end = time.time()\n",
    "print(f'Time to fit = {log_end - log_start:.3f}s')\n",
    "log_grid.best_params_"
   ]
  },
  {
   "cell_type": "code",
   "execution_count": 22,
   "id": "d0a365f3",
   "metadata": {
    "execution": {
     "iopub.execute_input": "2023-12-05T22:16:14.995542Z",
     "iopub.status.busy": "2023-12-05T22:16:14.995158Z",
     "iopub.status.idle": "2023-12-05T22:16:15.320391Z",
     "shell.execute_reply": "2023-12-05T22:16:15.319507Z"
    },
    "papermill": {
     "duration": 0.366453,
     "end_time": "2023-12-05T22:16:15.322532",
     "exception": false,
     "start_time": "2023-12-05T22:16:14.956079",
     "status": "completed"
    },
    "tags": []
   },
   "outputs": [
    {
     "name": "stdout",
     "output_type": "stream",
     "text": [
      "0.7707006369426751\n",
      "              precision    recall  f1-score   support\n",
      "\n",
      "           0       0.82      0.86      0.84       436\n",
      "           1       0.80      0.74      0.77       326\n",
      "\n",
      "    accuracy                           0.81       762\n",
      "   macro avg       0.81      0.80      0.80       762\n",
      "weighted avg       0.81      0.81      0.81       762\n",
      "\n"
     ]
    },
    {
     "data": {
      "image/png": "[encoded data removed]",
      "text/plain": [
       "<Figure size 640x480 with 2 Axes>"
      ]
     },
     "metadata": {},
     "output_type": "display_data"
    }
   ],
   "source": [
    "log_preds = log_grid.predict(X_test_tfidf)\n",
    "print(f1_score(y_test,log_preds))\n",
    "print(classification_report(y_test,log_preds))\n",
    "ConfusionMatrixDisplay(confusion_matrix=confusion_matrix(y_test, log_preds)).plot();"
   ]
  },
  {
   "cell_type": "markdown",
   "id": "a2e13972",
   "metadata": {
    "papermill": {
     "duration": 0.021384,
     "end_time": "2023-12-05T22:16:15.363795",
     "exception": false,
     "start_time": "2023-12-05T22:16:15.342411",
     "status": "completed"
    },
    "tags": []
   },
   "source": [
    "### SGDClassifier model"
   ]
  },
  {
   "cell_type": "code",
   "execution_count": 23,
   "id": "091e6449",
   "metadata": {
    "execution": {
     "iopub.execute_input": "2023-12-05T22:16:15.406174Z",
     "iopub.status.busy": "2023-12-05T22:16:15.405285Z",
     "iopub.status.idle": "2023-12-05T22:16:15.473539Z",
     "shell.execute_reply": "2023-12-05T22:16:15.472155Z"
    },
    "papermill": {
     "duration": 0.094488,
     "end_time": "2023-12-05T22:16:15.478281",
     "exception": false,
     "start_time": "2023-12-05T22:16:15.383793",
     "status": "completed"
    },
    "tags": []
   },
   "outputs": [
    {
     "name": "stdout",
     "output_type": "stream",
     "text": [
      "Time to fit = 0.057s\n"
     ]
    },
    {
     "data": {
      "text/plain": [
       "array([[-0.16438377, -0.40259289,  0.34719673, ...,  0.43791409,\n",
       "        -0.14881844,  0.17508663]])"
      ]
     },
     "execution_count": 23,
     "metadata": {},
     "output_type": "execute_result"
    }
   ],
   "source": [
    "sgdc = SGDClassifier()\n",
    "#param_grid = {'C':[3,4,5,6,7,8]}\n",
    "#log_grid = GridSearchCV(estimator=log, param_grid=param_grid, scoring='f1')\n",
    "sgdc_start = time.time()\n",
    "sgdc.fit(X_train_tfidf, y_train)\n",
    "sgdc_end = time.time()\n",
    "print(f'Time to fit = {sgdc_end - sgdc_start:.3f}s')\n",
    "sgdc.coef_"
   ]
  },
  {
   "cell_type": "code",
   "execution_count": 24,
   "id": "2dd862f4",
   "metadata": {
    "execution": {
     "iopub.execute_input": "2023-12-05T22:16:15.551260Z",
     "iopub.status.busy": "2023-12-05T22:16:15.550828Z",
     "iopub.status.idle": "2023-12-05T22:16:15.878996Z",
     "shell.execute_reply": "2023-12-05T22:16:15.877914Z"
    },
    "papermill": {
     "duration": 0.361325,
     "end_time": "2023-12-05T22:16:15.882008",
     "exception": false,
     "start_time": "2023-12-05T22:16:15.520683",
     "status": "completed"
    },
    "tags": []
   },
   "outputs": [
    {
     "name": "stdout",
     "output_type": "stream",
     "text": [
      "0.7781350482315113\n",
      "              precision    recall  f1-score   support\n",
      "\n",
      "           0       0.82      0.88      0.85       436\n",
      "           1       0.82      0.74      0.78       326\n",
      "\n",
      "    accuracy                           0.82       762\n",
      "   macro avg       0.82      0.81      0.81       762\n",
      "weighted avg       0.82      0.82      0.82       762\n",
      "\n"
     ]
    },
    {
     "data": {
      "image/png": "[encoded data removed]",
      "text/plain": [
       "<Figure size 640x480 with 2 Axes>"
      ]
     },
     "metadata": {},
     "output_type": "display_data"
    }
   ],
   "source": [
    "sgdc_preds = sgdc.predict(X_test_tfidf)\n",
    "print(f1_score(y_test,sgdc_preds))\n",
    "print(classification_report(y_test,sgdc_preds))\n",
    "ConfusionMatrixDisplay(confusion_matrix=confusion_matrix(y_test, sgdc_preds)).plot();"
   ]
  },
  {
   "cell_type": "markdown",
   "id": "3a4ed139",
   "metadata": {
    "papermill": {
     "duration": 0.020419,
     "end_time": "2023-12-05T22:16:15.923517",
     "exception": false,
     "start_time": "2023-12-05T22:16:15.903098",
     "status": "completed"
    },
    "tags": []
   },
   "source": [
    "### LinearSVC model"
   ]
  },
  {
   "cell_type": "code",
   "execution_count": 25,
   "id": "52cac5a4",
   "metadata": {
    "execution": {
     "iopub.execute_input": "2023-12-05T22:16:15.967799Z",
     "iopub.status.busy": "2023-12-05T22:16:15.967385Z",
     "iopub.status.idle": "2023-12-05T22:16:17.779992Z",
     "shell.execute_reply": "2023-12-05T22:16:17.778905Z"
    },
    "papermill": {
     "duration": 1.837969,
     "end_time": "2023-12-05T22:16:17.782373",
     "exception": false,
     "start_time": "2023-12-05T22:16:15.944404",
     "status": "completed"
    },
    "tags": []
   },
   "outputs": [
    {
     "name": "stdout",
     "output_type": "stream",
     "text": [
      "Time to fit = 1.803s\n"
     ]
    },
    {
     "data": {
      "text/plain": [
       "{'C': 1}"
      ]
     },
     "execution_count": 25,
     "metadata": {},
     "output_type": "execute_result"
    }
   ],
   "source": [
    "lin_svc = LinearSVC()\n",
    "param_grid = {'C':[1,2,5,10]}\n",
    "lin_svc_grid = GridSearchCV(estimator=lin_svc, param_grid=param_grid, scoring='f1')\n",
    "lin_svc_start = time.time()\n",
    "lin_svc_grid.fit(X_train_tfidf, y_train)\n",
    "lin_svc_end = time.time()\n",
    "print(f'Time to fit = {lin_svc_end - lin_svc_start:.3f}s')\n",
    "lin_svc_grid.best_params_"
   ]
  },
  {
   "cell_type": "code",
   "execution_count": 26,
   "id": "a72ca19e",
   "metadata": {
    "execution": {
     "iopub.execute_input": "2023-12-05T22:16:17.826029Z",
     "iopub.status.busy": "2023-12-05T22:16:17.825642Z",
     "iopub.status.idle": "2023-12-05T22:16:18.144649Z",
     "shell.execute_reply": "2023-12-05T22:16:18.143548Z"
    },
    "papermill": {
     "duration": 0.343495,
     "end_time": "2023-12-05T22:16:18.147086",
     "exception": false,
     "start_time": "2023-12-05T22:16:17.803591",
     "status": "completed"
    },
    "tags": []
   },
   "outputs": [
    {
     "name": "stdout",
     "output_type": "stream",
     "text": [
      "0.7682539682539682\n",
      "              precision    recall  f1-score   support\n",
      "\n",
      "           0       0.82      0.86      0.84       436\n",
      "           1       0.80      0.74      0.77       326\n",
      "\n",
      "    accuracy                           0.81       762\n",
      "   macro avg       0.81      0.80      0.80       762\n",
      "weighted avg       0.81      0.81      0.81       762\n",
      "\n"
     ]
    },
    {
     "data": {
      "image/png": "[encoded data removed]",
      "text/plain": [
       "<Figure size 640x480 with 2 Axes>"
      ]
     },
     "metadata": {},
     "output_type": "display_data"
    }
   ],
   "source": [
    "lin_svc_preds = lin_svc_grid.predict(X_test_tfidf)\n",
    "print(f1_score(y_test,lin_svc_preds))\n",
    "print(classification_report(y_test,lin_svc_preds))\n",
    "ConfusionMatrixDisplay(confusion_matrix=confusion_matrix(y_test, lin_svc_preds)).plot();"
   ]
  },
  {
   "cell_type": "markdown",
   "id": "5335162c",
   "metadata": {
    "papermill": {
     "duration": 0.020839,
     "end_time": "2023-12-05T22:16:18.189237",
     "exception": false,
     "start_time": "2023-12-05T22:16:18.168398",
     "status": "completed"
    },
    "tags": []
   },
   "source": [
    "### SVC model\n",
    "<span style=\"font-size:16px;color:red;\"> Below cell is the slowest cell by far (takes ~4 minutes with the grid search) </span>"
   ]
  },
  {
   "cell_type": "code",
   "execution_count": 27,
   "id": "6622979f",
   "metadata": {
    "execution": {
     "iopub.execute_input": "2023-12-05T22:16:18.233595Z",
     "iopub.status.busy": "2023-12-05T22:16:18.233159Z",
     "iopub.status.idle": "2023-12-05T22:16:18.238073Z",
     "shell.execute_reply": "2023-12-05T22:16:18.237013Z"
    },
    "papermill": {
     "duration": 0.030104,
     "end_time": "2023-12-05T22:16:18.240193",
     "exception": false,
     "start_time": "2023-12-05T22:16:18.210089",
     "status": "completed"
    },
    "tags": []
   },
   "outputs": [],
   "source": [
    "# svc = SVC()\n",
    "# param_grid = {'C': [1,10,100], \n",
    "#               'gamma': [1,0.1,0.01]}\n",
    "# svc_grid = GridSearchCV(estimator=svc, param_grid=param_grid, scoring='f1')\n",
    "# svc_start = time.time()\n",
    "# svc_grid.fit(X_train_tfidf, y_train)\n",
    "# svc_end = time.time()\n",
    "# print(f'Time to fit = {svc_end - svc_start:.3f}s')\n",
    "# svc_grid.best_params_"
   ]
  },
  {
   "cell_type": "code",
   "execution_count": 28,
   "id": "0d9cf9c4",
   "metadata": {
    "execution": {
     "iopub.execute_input": "2023-12-05T22:16:18.283616Z",
     "iopub.status.busy": "2023-12-05T22:16:18.282969Z",
     "iopub.status.idle": "2023-12-05T22:16:18.287864Z",
     "shell.execute_reply": "2023-12-05T22:16:18.286816Z"
    },
    "papermill": {
     "duration": 0.028633,
     "end_time": "2023-12-05T22:16:18.289907",
     "exception": false,
     "start_time": "2023-12-05T22:16:18.261274",
     "status": "completed"
    },
    "tags": []
   },
   "outputs": [],
   "source": [
    "# svc_preds = svc_grid.predict(X_test_tfidf)\n",
    "# print(f1_score(y_test,svc_preds))\n",
    "# print(classification_report(y_test,svc_preds))\n",
    "# ConfusionMatrixDisplay(confusion_matrix=confusion_matrix(y_test, svc_preds)).plot();"
   ]
  },
  {
   "cell_type": "markdown",
   "id": "34700fb4",
   "metadata": {
    "papermill": {
     "duration": 0.021092,
     "end_time": "2023-12-05T22:16:18.331663",
     "exception": false,
     "start_time": "2023-12-05T22:16:18.310571",
     "status": "completed"
    },
    "tags": []
   },
   "source": [
    "# Compare Models"
   ]
  },
  {
   "cell_type": "code",
   "execution_count": 29,
   "id": "251cfe2f",
   "metadata": {
    "execution": {
     "iopub.execute_input": "2023-12-05T22:16:18.375842Z",
     "iopub.status.busy": "2023-12-05T22:16:18.375133Z",
     "iopub.status.idle": "2023-12-05T22:16:18.392969Z",
     "shell.execute_reply": "2023-12-05T22:16:18.391549Z"
    },
    "papermill": {
     "duration": 0.042517,
     "end_time": "2023-12-05T22:16:18.395297",
     "exception": false,
     "start_time": "2023-12-05T22:16:18.352780",
     "status": "completed"
    },
    "tags": []
   },
   "outputs": [
    {
     "name": "stdout",
     "output_type": "stream",
     "text": [
      "MNB time to fit = 0.179s\n",
      "MNB f1 score = 0.7407\n",
      "----------\n",
      "LogReg time to fit = 21.130s\n",
      "LogReg f1 score = 0.7707\n",
      "----------\n",
      "SGDClass time to fit = 0.057s\n",
      "SGDClass f1 score = 0.7781\n",
      "----------\n",
      "LinSVC time to fit = 1.803s\n",
      "LinSVC f1 score = 0.7683\n"
     ]
    }
   ],
   "source": [
    "print(f'MNB time to fit = {mnb_end - mnb_start:.3f}s')\n",
    "print(f'MNB f1 score = {f1_score(y_test,mnb_preds):.4f}')\n",
    "print('-'*10)\n",
    "print(f'LogReg time to fit = {log_end - log_start:.3f}s')\n",
    "print(f'LogReg f1 score = {f1_score(y_test,log_preds):.4f}')\n",
    "print('-'*10)\n",
    "print(f'SGDClass time to fit = {sgdc_end - sgdc_start:.3f}s')\n",
    "print(f'SGDClass f1 score = {f1_score(y_test,sgdc_preds):.4f}')\n",
    "print('-'*10)\n",
    "print(f'LinSVC time to fit = {lin_svc_end - lin_svc_start:.3f}s')\n",
    "print(f'LinSVC f1 score = {f1_score(y_test,lin_svc_preds):.4f}')\n",
    "# print('-'*10)\n",
    "# print(f'SVC time to fit = {svc_end - svc_start:.3f}s')\n",
    "# print(f'SVC f1 score = {f1_score(y_test,svc_preds):.4f}')"
   ]
  },
  {
   "cell_type": "markdown",
   "id": "34234db7",
   "metadata": {
    "papermill": {
     "duration": 0.021421,
     "end_time": "2023-12-05T22:16:18.438006",
     "exception": false,
     "start_time": "2023-12-05T22:16:18.416585",
     "status": "completed"
    },
    "tags": []
   },
   "source": [
    "# Final Data Set prep"
   ]
  },
  {
   "cell_type": "code",
   "execution_count": 30,
   "id": "1c285214",
   "metadata": {
    "execution": {
     "iopub.execute_input": "2023-12-05T22:16:18.482349Z",
     "iopub.status.busy": "2023-12-05T22:16:18.481957Z",
     "iopub.status.idle": "2023-12-05T22:16:19.121758Z",
     "shell.execute_reply": "2023-12-05T22:16:19.120548Z"
    },
    "papermill": {
     "duration": 0.665287,
     "end_time": "2023-12-05T22:16:19.124509",
     "exception": false,
     "start_time": "2023-12-05T22:16:18.459222",
     "status": "completed"
    },
    "tags": []
   },
   "outputs": [],
   "source": [
    "tfidf = TfidfVectorizer(stop_words='english')\n",
    "tfidf.fit(X['text combo'])\n",
    "X_final_train_tfidf = tfidf.transform(X['text combo'])\n",
    "X_final_test_tfidf = tfidf.transform(df_test['text combo'])\n",
    "ids_out = df_test['id']"
   ]
  },
  {
   "cell_type": "markdown",
   "id": "005ff1c9",
   "metadata": {
    "papermill": {
     "duration": 0.021387,
     "end_time": "2023-12-05T22:16:19.166986",
     "exception": false,
     "start_time": "2023-12-05T22:16:19.145599",
     "status": "completed"
    },
    "tags": []
   },
   "source": [
    "## Final dataset"
   ]
  },
  {
   "cell_type": "code",
   "execution_count": 31,
   "id": "1bcc51d2",
   "metadata": {
    "execution": {
     "iopub.execute_input": "2023-12-05T22:16:19.211436Z",
     "iopub.status.busy": "2023-12-05T22:16:19.211036Z",
     "iopub.status.idle": "2023-12-05T22:16:19.217738Z",
     "shell.execute_reply": "2023-12-05T22:16:19.216699Z"
    },
    "papermill": {
     "duration": 0.031732,
     "end_time": "2023-12-05T22:16:19.219839",
     "exception": false,
     "start_time": "2023-12-05T22:16:19.188107",
     "status": "completed"
    },
    "tags": []
   },
   "outputs": [
    {
     "data": {
      "text/plain": [
       "<7613x23181 sparse matrix of type '<class 'numpy.float64'>'\n",
       "\twith 84162 stored elements in Compressed Sparse Row format>"
      ]
     },
     "execution_count": 31,
     "metadata": {},
     "output_type": "execute_result"
    }
   ],
   "source": [
    "X_final_train_tfidf"
   ]
  },
  {
   "cell_type": "code",
   "execution_count": 32,
   "id": "63f86b25",
   "metadata": {
    "execution": {
     "iopub.execute_input": "2023-12-05T22:16:19.264311Z",
     "iopub.status.busy": "2023-12-05T22:16:19.263567Z",
     "iopub.status.idle": "2023-12-05T22:16:19.326821Z",
     "shell.execute_reply": "2023-12-05T22:16:19.325349Z"
    },
    "papermill": {
     "duration": 0.090388,
     "end_time": "2023-12-05T22:16:19.331031",
     "exception": false,
     "start_time": "2023-12-05T22:16:19.240643",
     "status": "completed"
    },
    "tags": []
   },
   "outputs": [
    {
     "name": "stdout",
     "output_type": "stream",
     "text": [
      "Time to fit = 0.056s\n"
     ]
    }
   ],
   "source": [
    "# model = SVC(**svc_grid.best_params_)\n",
    "# model = LogisticRegression(max_iter=1000, **log_grid.best_params_)\n",
    "model = SGDClassifier()\n",
    "final_start = time.time()\n",
    "model.fit(X_final_train_tfidf, y)\n",
    "final_end = time.time()\n",
    "print(f'Time to fit = {final_end - final_start:.3f}s')"
   ]
  },
  {
   "cell_type": "code",
   "execution_count": 33,
   "id": "638c1fcd",
   "metadata": {
    "execution": {
     "iopub.execute_input": "2023-12-05T22:16:19.410711Z",
     "iopub.status.busy": "2023-12-05T22:16:19.410287Z",
     "iopub.status.idle": "2023-12-05T22:16:19.416363Z",
     "shell.execute_reply": "2023-12-05T22:16:19.415274Z"
    },
    "papermill": {
     "duration": 0.036766,
     "end_time": "2023-12-05T22:16:19.418591",
     "exception": false,
     "start_time": "2023-12-05T22:16:19.381825",
     "status": "completed"
    },
    "tags": []
   },
   "outputs": [],
   "source": [
    "final_preds = model.predict(X_final_test_tfidf)"
   ]
  },
  {
   "cell_type": "markdown",
   "id": "72f21f51",
   "metadata": {
    "papermill": {
     "duration": 0.021079,
     "end_time": "2023-12-05T22:16:19.461578",
     "exception": false,
     "start_time": "2023-12-05T22:16:19.440499",
     "status": "completed"
    },
    "tags": []
   },
   "source": [
    "# Final output formatting"
   ]
  },
  {
   "cell_type": "code",
   "execution_count": 34,
   "id": "6ba78740",
   "metadata": {
    "execution": {
     "iopub.execute_input": "2023-12-05T22:16:19.506850Z",
     "iopub.status.busy": "2023-12-05T22:16:19.506410Z",
     "iopub.status.idle": "2023-12-05T22:16:19.512101Z",
     "shell.execute_reply": "2023-12-05T22:16:19.511122Z"
    },
    "papermill": {
     "duration": 0.030857,
     "end_time": "2023-12-05T22:16:19.514174",
     "exception": false,
     "start_time": "2023-12-05T22:16:19.483317",
     "status": "completed"
    },
    "tags": []
   },
   "outputs": [],
   "source": [
    "output_df = pd.DataFrame({'id': ids_out,\n",
    "                          'target': final_preds.squeeze()})"
   ]
  },
  {
   "cell_type": "code",
   "execution_count": 35,
   "id": "5fd64dec",
   "metadata": {
    "execution": {
     "iopub.execute_input": "2023-12-05T22:16:19.560152Z",
     "iopub.status.busy": "2023-12-05T22:16:19.559697Z",
     "iopub.status.idle": "2023-12-05T22:16:19.571575Z",
     "shell.execute_reply": "2023-12-05T22:16:19.570461Z"
    },
    "papermill": {
     "duration": 0.037464,
     "end_time": "2023-12-05T22:16:19.573808",
     "exception": false,
     "start_time": "2023-12-05T22:16:19.536344",
     "status": "completed"
    },
    "tags": []
   },
   "outputs": [
    {
     "data": {
      "text/html": [
       "<div>\n",
       "<style scoped>\n",
       "    .dataframe tbody tr th:only-of-type {\n",
       "        vertical-align: middle;\n",
       "    }\n",
       "\n",
       "    .dataframe tbody tr th {\n",
       "        vertical-align: top;\n",
       "    }\n",
       "\n",
       "    .dataframe thead th {\n",
       "        text-align: right;\n",
       "    }\n",
       "</style>\n",
       "<table border=\"1\" class=\"dataframe\">\n",
       "  <thead>\n",
       "    <tr style=\"text-align: right;\">\n",
       "      <th></th>\n",
       "      <th>id</th>\n",
       "      <th>target</th>\n",
       "    </tr>\n",
       "  </thead>\n",
       "  <tbody>\n",
       "    <tr>\n",
       "      <th>0</th>\n",
       "      <td>0</td>\n",
       "      <td>0</td>\n",
       "    </tr>\n",
       "    <tr>\n",
       "      <th>1</th>\n",
       "      <td>2</td>\n",
       "      <td>1</td>\n",
       "    </tr>\n",
       "    <tr>\n",
       "      <th>2</th>\n",
       "      <td>3</td>\n",
       "      <td>1</td>\n",
       "    </tr>\n",
       "    <tr>\n",
       "      <th>3</th>\n",
       "      <td>9</td>\n",
       "      <td>0</td>\n",
       "    </tr>\n",
       "    <tr>\n",
       "      <th>4</th>\n",
       "      <td>11</td>\n",
       "      <td>1</td>\n",
       "    </tr>\n",
       "    <tr>\n",
       "      <th>...</th>\n",
       "      <td>...</td>\n",
       "      <td>...</td>\n",
       "    </tr>\n",
       "    <tr>\n",
       "      <th>3258</th>\n",
       "      <td>10861</td>\n",
       "      <td>0</td>\n",
       "    </tr>\n",
       "    <tr>\n",
       "      <th>3259</th>\n",
       "      <td>10865</td>\n",
       "      <td>1</td>\n",
       "    </tr>\n",
       "    <tr>\n",
       "      <th>3260</th>\n",
       "      <td>10868</td>\n",
       "      <td>1</td>\n",
       "    </tr>\n",
       "    <tr>\n",
       "      <th>3261</th>\n",
       "      <td>10874</td>\n",
       "      <td>1</td>\n",
       "    </tr>\n",
       "    <tr>\n",
       "      <th>3262</th>\n",
       "      <td>10875</td>\n",
       "      <td>1</td>\n",
       "    </tr>\n",
       "  </tbody>\n",
       "</table>\n",
       "<p>3263 rows × 2 columns</p>\n",
       "</div>"
      ],
      "text/plain": [
       "         id  target\n",
       "0         0       0\n",
       "1         2       1\n",
       "2         3       1\n",
       "3         9       0\n",
       "4        11       1\n",
       "...     ...     ...\n",
       "3258  10861       0\n",
       "3259  10865       1\n",
       "3260  10868       1\n",
       "3261  10874       1\n",
       "3262  10875       1\n",
       "\n",
       "[3263 rows x 2 columns]"
      ]
     },
     "execution_count": 35,
     "metadata": {},
     "output_type": "execute_result"
    }
   ],
   "source": [
    "output_df"
   ]
  },
  {
   "cell_type": "code",
   "execution_count": 36,
   "id": "5fb81c13",
   "metadata": {
    "execution": {
     "iopub.execute_input": "2023-12-05T22:16:19.620532Z",
     "iopub.status.busy": "2023-12-05T22:16:19.619429Z",
     "iopub.status.idle": "2023-12-05T22:16:19.635056Z",
     "shell.execute_reply": "2023-12-05T22:16:19.634075Z"
    },
    "papermill": {
     "duration": 0.041481,
     "end_time": "2023-12-05T22:16:19.637540",
     "exception": false,
     "start_time": "2023-12-05T22:16:19.596059",
     "status": "completed"
    },
    "tags": []
   },
   "outputs": [],
   "source": [
    "output_df.to_csv('/kaggle/working/submission.csv', index=False)"
   ]
  },
  {
   "cell_type": "code",
   "execution_count": null,
   "id": "7288204a",
   "metadata": {
    "papermill": {
     "duration": 0.02154,
     "end_time": "2023-12-05T22:16:19.681163",
     "exception": false,
     "start_time": "2023-12-05T22:16:19.659623",
     "status": "completed"
    },
    "tags": []
   },
   "outputs": [],
   "source": []
  }
 ],
 "metadata": {
  "kaggle": {
   "accelerator": "none",
   "dataSources": [
    {
     "databundleVersionId": 869809,
     "sourceId": 17777,
     "sourceType": "competition"
    }
   ],
   "dockerImageVersionId": 30587,
   "isGpuEnabled": false,
   "isInternetEnabled": true,
   "language": "python",
   "sourceType": "notebook"
  },
  "kernelspec": {
   "display_name": "Python 3",
   "language": "python",
   "name": "python3"
  },
  "language_info": {
   "codemirror_mode": {
    "name": "ipython",
    "version": 3
   },
   "file_extension": ".py",
   "mimetype": "text/x-python",
   "name": "python",
   "nbconvert_exporter": "python",
   "pygments_lexer": "ipython3",
   "version": "3.10.12"
  },
  "papermill": {
   "default_parameters": {},
   "duration": 36.696279,
   "end_time": "2023-12-05T22:16:20.324258",
   "environment_variables": {},
   "exception": null,
   "input_path": "__notebook__.ipynb",
   "output_path": "__notebook__.ipynb",
   "parameters": {},
   "start_time": "2023-12-05T22:15:43.627979",
   "version": "2.4.0"
  }
 },
 "nbformat": 4,
 "nbformat_minor": 5
}
