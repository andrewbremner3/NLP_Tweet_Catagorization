{
 "cells": [
  {
   "cell_type": "code",
   "execution_count": 1,
   "id": "a91383db",
   "metadata": {
    "_cell_guid": "b1076dfc-b9ad-4769-8c92-a6c4dae69d19",
    "_uuid": "8f2839f25d086af736a60e9eeb907d3b93b6e0e5",
    "execution": {
     "iopub.execute_input": "2023-12-06T23:02:31.869900Z",
     "iopub.status.busy": "2023-12-06T23:02:31.869414Z",
     "iopub.status.idle": "2023-12-06T23:02:34.375493Z",
     "shell.execute_reply": "2023-12-06T23:02:34.374229Z"
    },
    "papermill": {
     "duration": 2.527882,
     "end_time": "2023-12-06T23:02:34.378348",
     "exception": false,
     "start_time": "2023-12-06T23:02:31.850466",
     "status": "completed"
    },
    "tags": []
   },
   "outputs": [
    {
     "name": "stdout",
     "output_type": "stream",
     "text": [
      "/kaggle/input/nlp-getting-started/sample_submission.csv\n",
      "/kaggle/input/nlp-getting-started/train.csv\n",
      "/kaggle/input/nlp-getting-started/test.csv\n"
     ]
    }
   ],
   "source": [
    "# This Python 3 environment comes with many helpful analytics libraries installed\n",
    "# It is defined by the kaggle/python Docker image: https://github.com/kaggle/docker-python\n",
    "# For example, here's several helpful packages to load\n",
    "\n",
    "import numpy as np # linear algebra\n",
    "import pandas as pd # data processing, CSV file I/O (e.g. pd.read_csv)\n",
    "import seaborn as sns\n",
    "import matplotlib.pyplot as plt\n",
    "import time\n",
    "import re\n",
    "\n",
    "# Input data files are available in the read-only \"../input/\" directory\n",
    "# For example, running this (by clicking run or pressing Shift+Enter) will list all files under the input directory\n",
    "\n",
    "import os\n",
    "for dirname, _, filenames in os.walk('/kaggle/input'):\n",
    "    for filename in filenames:\n",
    "        print(os.path.join(dirname, filename))\n",
    "\n",
    "# You can write up to 20GB to the current directory (/kaggle/working/) that gets preserved as output when you create a version using \"Save & Run All\" \n",
    "# You can also write temporary files to /kaggle/temp/, but they won't be saved outside of the current session"
   ]
  },
  {
   "cell_type": "markdown",
   "id": "fbf3019e",
   "metadata": {
    "papermill": {
     "duration": 0.016153,
     "end_time": "2023-12-06T23:02:34.411985",
     "exception": false,
     "start_time": "2023-12-06T23:02:34.395832",
     "status": "completed"
    },
    "tags": []
   },
   "source": [
    "# Read in Train and Test Data sets"
   ]
  },
  {
   "cell_type": "code",
   "execution_count": 2,
   "id": "013ca30a",
   "metadata": {
    "execution": {
     "iopub.execute_input": "2023-12-06T23:02:34.448431Z",
     "iopub.status.busy": "2023-12-06T23:02:34.447842Z",
     "iopub.status.idle": "2023-12-06T23:02:34.551358Z",
     "shell.execute_reply": "2023-12-06T23:02:34.550037Z"
    },
    "papermill": {
     "duration": 0.125289,
     "end_time": "2023-12-06T23:02:34.554476",
     "exception": false,
     "start_time": "2023-12-06T23:02:34.429187",
     "status": "completed"
    },
    "tags": []
   },
   "outputs": [],
   "source": [
    "df = pd.read_csv(\"/kaggle/input/nlp-getting-started/train.csv\")\n",
    "df_test = pd.read_csv(\"/kaggle/input/nlp-getting-started/test.csv\")\n",
    "df['unclean'] = df['text']"
   ]
  },
  {
   "cell_type": "code",
   "execution_count": 3,
   "id": "54b8efe0",
   "metadata": {
    "execution": {
     "iopub.execute_input": "2023-12-06T23:02:34.590303Z",
     "iopub.status.busy": "2023-12-06T23:02:34.589517Z",
     "iopub.status.idle": "2023-12-06T23:02:34.609918Z",
     "shell.execute_reply": "2023-12-06T23:02:34.608650Z"
    },
    "papermill": {
     "duration": 0.041774,
     "end_time": "2023-12-06T23:02:34.613049",
     "exception": false,
     "start_time": "2023-12-06T23:02:34.571275",
     "status": "completed"
    },
    "tags": []
   },
   "outputs": [
    {
     "data": {
      "text/html": [
       "<div>\n",
       "<style scoped>\n",
       "    .dataframe tbody tr th:only-of-type {\n",
       "        vertical-align: middle;\n",
       "    }\n",
       "\n",
       "    .dataframe tbody tr th {\n",
       "        vertical-align: top;\n",
       "    }\n",
       "\n",
       "    .dataframe thead th {\n",
       "        text-align: right;\n",
       "    }\n",
       "</style>\n",
       "<table border=\"1\" class=\"dataframe\">\n",
       "  <thead>\n",
       "    <tr style=\"text-align: right;\">\n",
       "      <th></th>\n",
       "      <th>id</th>\n",
       "      <th>keyword</th>\n",
       "      <th>location</th>\n",
       "      <th>text</th>\n",
       "      <th>target</th>\n",
       "      <th>unclean</th>\n",
       "    </tr>\n",
       "  </thead>\n",
       "  <tbody>\n",
       "    <tr>\n",
       "      <th>0</th>\n",
       "      <td>1</td>\n",
       "      <td>NaN</td>\n",
       "      <td>NaN</td>\n",
       "      <td>Our Deeds are the Reason of this #earthquake M...</td>\n",
       "      <td>1</td>\n",
       "      <td>Our Deeds are the Reason of this #earthquake M...</td>\n",
       "    </tr>\n",
       "    <tr>\n",
       "      <th>1</th>\n",
       "      <td>4</td>\n",
       "      <td>NaN</td>\n",
       "      <td>NaN</td>\n",
       "      <td>Forest fire near La Ronge Sask. Canada</td>\n",
       "      <td>1</td>\n",
       "      <td>Forest fire near La Ronge Sask. Canada</td>\n",
       "    </tr>\n",
       "    <tr>\n",
       "      <th>2</th>\n",
       "      <td>5</td>\n",
       "      <td>NaN</td>\n",
       "      <td>NaN</td>\n",
       "      <td>All residents asked to 'shelter in place' are ...</td>\n",
       "      <td>1</td>\n",
       "      <td>All residents asked to 'shelter in place' are ...</td>\n",
       "    </tr>\n",
       "    <tr>\n",
       "      <th>3</th>\n",
       "      <td>6</td>\n",
       "      <td>NaN</td>\n",
       "      <td>NaN</td>\n",
       "      <td>13,000 people receive #wildfires evacuation or...</td>\n",
       "      <td>1</td>\n",
       "      <td>13,000 people receive #wildfires evacuation or...</td>\n",
       "    </tr>\n",
       "    <tr>\n",
       "      <th>4</th>\n",
       "      <td>7</td>\n",
       "      <td>NaN</td>\n",
       "      <td>NaN</td>\n",
       "      <td>Just got sent this photo from Ruby #Alaska as ...</td>\n",
       "      <td>1</td>\n",
       "      <td>Just got sent this photo from Ruby #Alaska as ...</td>\n",
       "    </tr>\n",
       "  </tbody>\n",
       "</table>\n",
       "</div>"
      ],
      "text/plain": [
       "   id keyword location                                               text  \\\n",
       "0   1     NaN      NaN  Our Deeds are the Reason of this #earthquake M...   \n",
       "1   4     NaN      NaN             Forest fire near La Ronge Sask. Canada   \n",
       "2   5     NaN      NaN  All residents asked to 'shelter in place' are ...   \n",
       "3   6     NaN      NaN  13,000 people receive #wildfires evacuation or...   \n",
       "4   7     NaN      NaN  Just got sent this photo from Ruby #Alaska as ...   \n",
       "\n",
       "   target                                            unclean  \n",
       "0       1  Our Deeds are the Reason of this #earthquake M...  \n",
       "1       1             Forest fire near La Ronge Sask. Canada  \n",
       "2       1  All residents asked to 'shelter in place' are ...  \n",
       "3       1  13,000 people receive #wildfires evacuation or...  \n",
       "4       1  Just got sent this photo from Ruby #Alaska as ...  "
      ]
     },
     "execution_count": 3,
     "metadata": {},
     "output_type": "execute_result"
    }
   ],
   "source": [
    "df.head()"
   ]
  },
  {
   "cell_type": "markdown",
   "id": "459aa000",
   "metadata": {
    "papermill": {
     "duration": 0.016439,
     "end_time": "2023-12-06T23:02:34.646697",
     "exception": false,
     "start_time": "2023-12-06T23:02:34.630258",
     "status": "completed"
    },
    "tags": []
   },
   "source": [
    "### Check for null values"
   ]
  },
  {
   "cell_type": "code",
   "execution_count": 4,
   "id": "a1133486",
   "metadata": {
    "execution": {
     "iopub.execute_input": "2023-12-06T23:02:34.683429Z",
     "iopub.status.busy": "2023-12-06T23:02:34.682396Z",
     "iopub.status.idle": "2023-12-06T23:02:34.697676Z",
     "shell.execute_reply": "2023-12-06T23:02:34.696123Z"
    },
    "papermill": {
     "duration": 0.037089,
     "end_time": "2023-12-06T23:02:34.700676",
     "exception": false,
     "start_time": "2023-12-06T23:02:34.663587",
     "status": "completed"
    },
    "tags": []
   },
   "outputs": [
    {
     "data": {
      "text/plain": [
       "id             0\n",
       "keyword       61\n",
       "location    2533\n",
       "text           0\n",
       "target         0\n",
       "unclean        0\n",
       "dtype: int64"
      ]
     },
     "execution_count": 4,
     "metadata": {},
     "output_type": "execute_result"
    }
   ],
   "source": [
    "df.isnull().sum()"
   ]
  },
  {
   "cell_type": "code",
   "execution_count": 5,
   "id": "4ce38c59",
   "metadata": {
    "execution": {
     "iopub.execute_input": "2023-12-06T23:02:34.738838Z",
     "iopub.status.busy": "2023-12-06T23:02:34.738060Z",
     "iopub.status.idle": "2023-12-06T23:02:34.747858Z",
     "shell.execute_reply": "2023-12-06T23:02:34.746538Z"
    },
    "papermill": {
     "duration": 0.031566,
     "end_time": "2023-12-06T23:02:34.750174",
     "exception": false,
     "start_time": "2023-12-06T23:02:34.718608",
     "status": "completed"
    },
    "tags": []
   },
   "outputs": [
    {
     "data": {
      "text/plain": [
       "id             0\n",
       "keyword       26\n",
       "location    1105\n",
       "text           0\n",
       "dtype: int64"
      ]
     },
     "execution_count": 5,
     "metadata": {},
     "output_type": "execute_result"
    }
   ],
   "source": [
    "df_test.isnull().sum()"
   ]
  },
  {
   "cell_type": "markdown",
   "id": "089ce078",
   "metadata": {
    "papermill": {
     "duration": 0.01694,
     "end_time": "2023-12-06T23:02:34.784316",
     "exception": false,
     "start_time": "2023-12-06T23:02:34.767376",
     "status": "completed"
    },
    "tags": []
   },
   "source": [
    "Key words have %20 instead of spaces so fill those"
   ]
  },
  {
   "cell_type": "code",
   "execution_count": 6,
   "id": "75c02be7",
   "metadata": {
    "execution": {
     "iopub.execute_input": "2023-12-06T23:02:34.821711Z",
     "iopub.status.busy": "2023-12-06T23:02:34.821259Z",
     "iopub.status.idle": "2023-12-06T23:02:34.832672Z",
     "shell.execute_reply": "2023-12-06T23:02:34.831304Z"
    },
    "papermill": {
     "duration": 0.033373,
     "end_time": "2023-12-06T23:02:34.835252",
     "exception": false,
     "start_time": "2023-12-06T23:02:34.801879",
     "status": "completed"
    },
    "tags": []
   },
   "outputs": [
    {
     "data": {
      "text/plain": [
       "array([nan, 'ablaze', 'accident', 'aftershock', 'airplane%20accident',\n",
       "       'ambulance', 'annihilated', 'annihilation', 'apocalypse',\n",
       "       'armageddon', 'army', 'arson', 'arsonist', 'attack', 'attacked',\n",
       "       'avalanche', 'battle', 'bioterror', 'bioterrorism', 'blaze',\n",
       "       'blazing', 'bleeding', 'blew%20up', 'blight', 'blizzard'],\n",
       "      dtype=object)"
      ]
     },
     "execution_count": 6,
     "metadata": {},
     "output_type": "execute_result"
    }
   ],
   "source": [
    "df['keyword'].unique()[:25]"
   ]
  },
  {
   "cell_type": "markdown",
   "id": "364c1888",
   "metadata": {
    "papermill": {
     "duration": 0.016998,
     "end_time": "2023-12-06T23:02:34.869433",
     "exception": false,
     "start_time": "2023-12-06T23:02:34.852435",
     "status": "completed"
    },
    "tags": []
   },
   "source": [
    "**Tweet cleaner**"
   ]
  },
  {
   "cell_type": "code",
   "execution_count": 7,
   "id": "31db0718",
   "metadata": {
    "execution": {
     "iopub.execute_input": "2023-12-06T23:02:34.906252Z",
     "iopub.status.busy": "2023-12-06T23:02:34.905786Z",
     "iopub.status.idle": "2023-12-06T23:02:34.913391Z",
     "shell.execute_reply": "2023-12-06T23:02:34.912455Z"
    },
    "papermill": {
     "duration": 0.028915,
     "end_time": "2023-12-06T23:02:34.915743",
     "exception": false,
     "start_time": "2023-12-06T23:02:34.886828",
     "status": "completed"
    },
    "tags": []
   },
   "outputs": [],
   "source": [
    "def cleaner(tweet):\n",
    "    tweet = tweet.lower()\n",
    "    tweet = re.sub('[()!?]',\"\", tweet)\n",
    "#   tweet = re.sub('\\[.*?\\]',\"\", tweet)\n",
    "    tweet = re.sub(\"@[A-Za-z0-9_]+\",\"\",tweet) #Remove @ sign\n",
    "#   tweet = re.sub(\"#[A-Za-z0-9_]+\",\"\",tweet) # Remove Hashtags\n",
    "    tweet = re.sub(\"http\\S+\",\"\", tweet) #Remove http links\n",
    "    tweet = re.sub(\"www\\S+\",\"\", tweet) #Remove www links\n",
    "    tweet = re.sub(\"[^a-z0-9]\",\" \", tweet) # Filtering non-alphanumeric characters\n",
    "    return tweet.lower()"
   ]
  },
  {
   "cell_type": "markdown",
   "id": "7e331b42",
   "metadata": {
    "papermill": {
     "duration": 0.017261,
     "end_time": "2023-12-06T23:02:34.950921",
     "exception": false,
     "start_time": "2023-12-06T23:02:34.933660",
     "status": "completed"
    },
    "tags": []
   },
   "source": [
    "**Fix Training set by filling na values with '' and %20 with ' '.**"
   ]
  },
  {
   "cell_type": "code",
   "execution_count": 8,
   "id": "9358d1e2",
   "metadata": {
    "execution": {
     "iopub.execute_input": "2023-12-06T23:02:35.087713Z",
     "iopub.status.busy": "2023-12-06T23:02:35.087255Z",
     "iopub.status.idle": "2023-12-06T23:02:35.162275Z",
     "shell.execute_reply": "2023-12-06T23:02:35.161254Z"
    },
    "papermill": {
     "duration": 0.097706,
     "end_time": "2023-12-06T23:02:35.165245",
     "exception": false,
     "start_time": "2023-12-06T23:02:35.067539",
     "status": "completed"
    },
    "tags": []
   },
   "outputs": [],
   "source": [
    "df['location'] = df['location'].fillna('')\n",
    "df['keyword'] = df['keyword'].fillna('')\n",
    "#df['text'] = df['text'].map(lambda x: cleaner(x))\n",
    "df = df.replace('%20', ' ', regex=True)"
   ]
  },
  {
   "cell_type": "code",
   "execution_count": 9,
   "id": "1c6ef49e",
   "metadata": {
    "execution": {
     "iopub.execute_input": "2023-12-06T23:02:35.203315Z",
     "iopub.status.busy": "2023-12-06T23:02:35.202912Z",
     "iopub.status.idle": "2023-12-06T23:02:35.234625Z",
     "shell.execute_reply": "2023-12-06T23:02:35.233135Z"
    },
    "papermill": {
     "duration": 0.054735,
     "end_time": "2023-12-06T23:02:35.238016",
     "exception": false,
     "start_time": "2023-12-06T23:02:35.183281",
     "status": "completed"
    },
    "tags": []
   },
   "outputs": [],
   "source": [
    "df_test['location'] = df_test['location'].fillna('')\n",
    "df_test['keyword'] = df_test['keyword'].fillna('')\n",
    "#df_test['text'] = df_test['text'].map(lambda x: cleaner(x))\n",
    "df_test = df_test.replace('%20', ' ', regex=True)"
   ]
  },
  {
   "cell_type": "code",
   "execution_count": 10,
   "id": "0698277e",
   "metadata": {
    "execution": {
     "iopub.execute_input": "2023-12-06T23:02:35.277154Z",
     "iopub.status.busy": "2023-12-06T23:02:35.276135Z",
     "iopub.status.idle": "2023-12-06T23:02:35.294608Z",
     "shell.execute_reply": "2023-12-06T23:02:35.293000Z"
    },
    "papermill": {
     "duration": 0.04172,
     "end_time": "2023-12-06T23:02:35.297678",
     "exception": false,
     "start_time": "2023-12-06T23:02:35.255958",
     "status": "completed"
    },
    "tags": []
   },
   "outputs": [
    {
     "data": {
      "text/html": [
       "<div>\n",
       "<style scoped>\n",
       "    .dataframe tbody tr th:only-of-type {\n",
       "        vertical-align: middle;\n",
       "    }\n",
       "\n",
       "    .dataframe tbody tr th {\n",
       "        vertical-align: top;\n",
       "    }\n",
       "\n",
       "    .dataframe thead th {\n",
       "        text-align: right;\n",
       "    }\n",
       "</style>\n",
       "<table border=\"1\" class=\"dataframe\">\n",
       "  <thead>\n",
       "    <tr style=\"text-align: right;\">\n",
       "      <th></th>\n",
       "      <th>id</th>\n",
       "      <th>keyword</th>\n",
       "      <th>location</th>\n",
       "      <th>text</th>\n",
       "      <th>target</th>\n",
       "      <th>unclean</th>\n",
       "    </tr>\n",
       "  </thead>\n",
       "  <tbody>\n",
       "    <tr>\n",
       "      <th>400</th>\n",
       "      <td>577</td>\n",
       "      <td>arson</td>\n",
       "      <td>Los Angeles, CA</td>\n",
       "      <td>Owner of Chicago-Area Gay Bar Admits to Arson ...</td>\n",
       "      <td>0</td>\n",
       "      <td>Owner of Chicago-Area Gay Bar Admits to Arson ...</td>\n",
       "    </tr>\n",
       "    <tr>\n",
       "      <th>401</th>\n",
       "      <td>578</td>\n",
       "      <td>arson</td>\n",
       "      <td>North-East Region, Singapore</td>\n",
       "      <td>@sayn_ae angel or arson</td>\n",
       "      <td>0</td>\n",
       "      <td>@sayn_ae angel or arson</td>\n",
       "    </tr>\n",
       "    <tr>\n",
       "      <th>402</th>\n",
       "      <td>579</td>\n",
       "      <td>arson</td>\n",
       "      <td>Eldoret, kenya</td>\n",
       "      <td>#Kisii Police in Kisii hunt for students over ...</td>\n",
       "      <td>1</td>\n",
       "      <td>#Kisii Police in Kisii hunt for students over ...</td>\n",
       "    </tr>\n",
       "    <tr>\n",
       "      <th>403</th>\n",
       "      <td>580</td>\n",
       "      <td>arson</td>\n",
       "      <td></td>\n",
       "      <td>Mourning notices for stabbing arson victims st...</td>\n",
       "      <td>1</td>\n",
       "      <td>Mourning notices for stabbing arson victims st...</td>\n",
       "    </tr>\n",
       "    <tr>\n",
       "      <th>404</th>\n",
       "      <td>581</td>\n",
       "      <td>arson</td>\n",
       "      <td>Chicago</td>\n",
       "      <td>Owner of Chicago-Area Gay Bar Admits to Arson ...</td>\n",
       "      <td>0</td>\n",
       "      <td>Owner of Chicago-Area Gay Bar Admits to Arson ...</td>\n",
       "    </tr>\n",
       "    <tr>\n",
       "      <th>405</th>\n",
       "      <td>583</td>\n",
       "      <td>arson</td>\n",
       "      <td>EARTH</td>\n",
       "      <td>Owner of Chicago-Area Gay Bar Admits to Arson ...</td>\n",
       "      <td>0</td>\n",
       "      <td>Owner of Chicago-Area Gay Bar Admits to Arson ...</td>\n",
       "    </tr>\n",
       "    <tr>\n",
       "      <th>406</th>\n",
       "      <td>584</td>\n",
       "      <td>arson</td>\n",
       "      <td>Jerusalem, Israel</td>\n",
       "      <td>Mourning notices for stabbing arson victims st...</td>\n",
       "      <td>1</td>\n",
       "      <td>Mourning notices for stabbing arson victims st...</td>\n",
       "    </tr>\n",
       "    <tr>\n",
       "      <th>407</th>\n",
       "      <td>585</td>\n",
       "      <td>arson</td>\n",
       "      <td></td>\n",
       "      <td>Owner of Chicago-Area Gay Bar Admits to Arson ...</td>\n",
       "      <td>1</td>\n",
       "      <td>Owner of Chicago-Area Gay Bar Admits to Arson ...</td>\n",
       "    </tr>\n",
       "    <tr>\n",
       "      <th>408</th>\n",
       "      <td>588</td>\n",
       "      <td>arson</td>\n",
       "      <td>Menasha, WI</td>\n",
       "      <td>Arson suspect linked to 30 fires caught in Nor...</td>\n",
       "      <td>1</td>\n",
       "      <td>Arson suspect linked to 30 fires caught in Nor...</td>\n",
       "    </tr>\n",
       "    <tr>\n",
       "      <th>409</th>\n",
       "      <td>589</td>\n",
       "      <td>arson</td>\n",
       "      <td></td>\n",
       "      <td>Tennessee lesbian couple faked hate crime and ...</td>\n",
       "      <td>1</td>\n",
       "      <td>Tennessee lesbian couple faked hate crime and ...</td>\n",
       "    </tr>\n",
       "    <tr>\n",
       "      <th>410</th>\n",
       "      <td>592</td>\n",
       "      <td>arson</td>\n",
       "      <td></td>\n",
       "      <td>Arson suspect linked to 30 fires caught in Nor...</td>\n",
       "      <td>1</td>\n",
       "      <td>Arson suspect linked to 30 fires caught in Nor...</td>\n",
       "    </tr>\n",
       "    <tr>\n",
       "      <th>411</th>\n",
       "      <td>594</td>\n",
       "      <td>arson</td>\n",
       "      <td></td>\n",
       "      <td>Arson suspect linked to 30 fires caught in Nor...</td>\n",
       "      <td>1</td>\n",
       "      <td>Arson suspect linked to 30 fires caught in Nor...</td>\n",
       "    </tr>\n",
       "    <tr>\n",
       "      <th>412</th>\n",
       "      <td>598</td>\n",
       "      <td>arsonist</td>\n",
       "      <td>ss</td>\n",
       "      <td>@_301DC @Cloudy_goldrush i hate white people mo</td>\n",
       "      <td>1</td>\n",
       "      <td>@_301DC @Cloudy_goldrush i hate white people mo</td>\n",
       "    </tr>\n",
       "    <tr>\n",
       "      <th>413</th>\n",
       "      <td>599</td>\n",
       "      <td>arsonist</td>\n",
       "      <td>Atlanta</td>\n",
       "      <td>#NOWPLAYING Arsonist MC -  So Impressed -  @AR...</td>\n",
       "      <td>0</td>\n",
       "      <td>#NOWPLAYING Arsonist MC -  So Impressed -  @AR...</td>\n",
       "    </tr>\n",
       "    <tr>\n",
       "      <th>414</th>\n",
       "      <td>600</td>\n",
       "      <td>arsonist</td>\n",
       "      <td>Earth</td>\n",
       "      <td>Alleged East Bay serial arsonist arrested http...</td>\n",
       "      <td>1</td>\n",
       "      <td>Alleged East Bay serial arsonist arrested http...</td>\n",
       "    </tr>\n",
       "    <tr>\n",
       "      <th>415</th>\n",
       "      <td>603</td>\n",
       "      <td>arsonist</td>\n",
       "      <td>ss</td>\n",
       "      <td>@Safyuan just a minor citation for possesion o...</td>\n",
       "      <td>0</td>\n",
       "      <td>@Safyuan just a minor citation for possesion o...</td>\n",
       "    </tr>\n",
       "    <tr>\n",
       "      <th>416</th>\n",
       "      <td>604</td>\n",
       "      <td>arsonist</td>\n",
       "      <td>Worldwide</td>\n",
       "      <td>Suspected serial arsonist arrested in Calif. h...</td>\n",
       "      <td>1</td>\n",
       "      <td>Suspected serial arsonist arrested in Calif. h...</td>\n",
       "    </tr>\n",
       "    <tr>\n",
       "      <th>417</th>\n",
       "      <td>606</td>\n",
       "      <td>arsonist</td>\n",
       "      <td>Bleak House</td>\n",
       "      <td>Arson suspect linked to 30 fires caught in Nor...</td>\n",
       "      <td>1</td>\n",
       "      <td>Arson suspect linked to 30 fires caught in Nor...</td>\n",
       "    </tr>\n",
       "    <tr>\n",
       "      <th>418</th>\n",
       "      <td>607</td>\n",
       "      <td>arsonist</td>\n",
       "      <td>heccfidmss@gmail.com</td>\n",
       "      <td>@local_arsonist @diamorfiend the legal system ...</td>\n",
       "      <td>0</td>\n",
       "      <td>@local_arsonist @diamorfiend the legal system ...</td>\n",
       "    </tr>\n",
       "    <tr>\n",
       "      <th>419</th>\n",
       "      <td>608</td>\n",
       "      <td>arsonist</td>\n",
       "      <td>ss</td>\n",
       "      <td>@Casper_rmg u on dick</td>\n",
       "      <td>0</td>\n",
       "      <td>@Casper_rmg u on dick</td>\n",
       "    </tr>\n",
       "  </tbody>\n",
       "</table>\n",
       "</div>"
      ],
      "text/plain": [
       "      id   keyword                      location  \\\n",
       "400  577     arson               Los Angeles, CA   \n",
       "401  578     arson  North-East Region, Singapore   \n",
       "402  579     arson                Eldoret, kenya   \n",
       "403  580     arson                                 \n",
       "404  581     arson                       Chicago   \n",
       "405  583     arson                        EARTH    \n",
       "406  584     arson             Jerusalem, Israel   \n",
       "407  585     arson                                 \n",
       "408  588     arson                   Menasha, WI   \n",
       "409  589     arson                                 \n",
       "410  592     arson                                 \n",
       "411  594     arson                                 \n",
       "412  598  arsonist                            ss   \n",
       "413  599  arsonist                       Atlanta   \n",
       "414  600  arsonist                         Earth   \n",
       "415  603  arsonist                            ss   \n",
       "416  604  arsonist                     Worldwide   \n",
       "417  606  arsonist                   Bleak House   \n",
       "418  607  arsonist          heccfidmss@gmail.com   \n",
       "419  608  arsonist                            ss   \n",
       "\n",
       "                                                  text  target  \\\n",
       "400  Owner of Chicago-Area Gay Bar Admits to Arson ...       0   \n",
       "401                            @sayn_ae angel or arson       0   \n",
       "402  #Kisii Police in Kisii hunt for students over ...       1   \n",
       "403  Mourning notices for stabbing arson victims st...       1   \n",
       "404  Owner of Chicago-Area Gay Bar Admits to Arson ...       0   \n",
       "405  Owner of Chicago-Area Gay Bar Admits to Arson ...       0   \n",
       "406  Mourning notices for stabbing arson victims st...       1   \n",
       "407  Owner of Chicago-Area Gay Bar Admits to Arson ...       1   \n",
       "408  Arson suspect linked to 30 fires caught in Nor...       1   \n",
       "409  Tennessee lesbian couple faked hate crime and ...       1   \n",
       "410  Arson suspect linked to 30 fires caught in Nor...       1   \n",
       "411  Arson suspect linked to 30 fires caught in Nor...       1   \n",
       "412    @_301DC @Cloudy_goldrush i hate white people mo       1   \n",
       "413  #NOWPLAYING Arsonist MC -  So Impressed -  @AR...       0   \n",
       "414  Alleged East Bay serial arsonist arrested http...       1   \n",
       "415  @Safyuan just a minor citation for possesion o...       0   \n",
       "416  Suspected serial arsonist arrested in Calif. h...       1   \n",
       "417  Arson suspect linked to 30 fires caught in Nor...       1   \n",
       "418  @local_arsonist @diamorfiend the legal system ...       0   \n",
       "419                              @Casper_rmg u on dick       0   \n",
       "\n",
       "                                               unclean  \n",
       "400  Owner of Chicago-Area Gay Bar Admits to Arson ...  \n",
       "401                            @sayn_ae angel or arson  \n",
       "402  #Kisii Police in Kisii hunt for students over ...  \n",
       "403  Mourning notices for stabbing arson victims st...  \n",
       "404  Owner of Chicago-Area Gay Bar Admits to Arson ...  \n",
       "405  Owner of Chicago-Area Gay Bar Admits to Arson ...  \n",
       "406  Mourning notices for stabbing arson victims st...  \n",
       "407  Owner of Chicago-Area Gay Bar Admits to Arson ...  \n",
       "408  Arson suspect linked to 30 fires caught in Nor...  \n",
       "409  Tennessee lesbian couple faked hate crime and ...  \n",
       "410  Arson suspect linked to 30 fires caught in Nor...  \n",
       "411  Arson suspect linked to 30 fires caught in Nor...  \n",
       "412    @_301DC @Cloudy_goldrush i hate white people mo  \n",
       "413  #NOWPLAYING Arsonist MC -  So Impressed -  @AR...  \n",
       "414  Alleged East Bay serial arsonist arrested http...  \n",
       "415  @Safyuan just a minor citation for possesion o...  \n",
       "416  Suspected serial arsonist arrested in Calif. h...  \n",
       "417  Arson suspect linked to 30 fires caught in Nor...  \n",
       "418  @local_arsonist @diamorfiend the legal system ...  \n",
       "419                              @Casper_rmg u on dick  "
      ]
     },
     "execution_count": 10,
     "metadata": {},
     "output_type": "execute_result"
    }
   ],
   "source": [
    "df[400:420]"
   ]
  },
  {
   "cell_type": "code",
   "execution_count": 11,
   "id": "5686d8ed",
   "metadata": {
    "execution": {
     "iopub.execute_input": "2023-12-06T23:02:35.337474Z",
     "iopub.status.busy": "2023-12-06T23:02:35.337050Z",
     "iopub.status.idle": "2023-12-06T23:02:35.695986Z",
     "shell.execute_reply": "2023-12-06T23:02:35.694816Z"
    },
    "papermill": {
     "duration": 0.381838,
     "end_time": "2023-12-06T23:02:35.698683",
     "exception": false,
     "start_time": "2023-12-06T23:02:35.316845",
     "status": "completed"
    },
    "tags": []
   },
   "outputs": [
    {
     "data": {
      "image/png": "[encoded data removed]",
      "text/plain": [
       "<Figure size 640x480 with 1 Axes>"
      ]
     },
     "metadata": {},
     "output_type": "display_data"
    }
   ],
   "source": [
    "sns.countplot(data=df, x='target');"
   ]
  },
  {
   "cell_type": "code",
   "execution_count": 12,
   "id": "91a02091",
   "metadata": {
    "execution": {
     "iopub.execute_input": "2023-12-06T23:02:35.737810Z",
     "iopub.status.busy": "2023-12-06T23:02:35.737286Z",
     "iopub.status.idle": "2023-12-06T23:02:35.758480Z",
     "shell.execute_reply": "2023-12-06T23:02:35.757095Z"
    },
    "papermill": {
     "duration": 0.045103,
     "end_time": "2023-12-06T23:02:35.761790",
     "exception": false,
     "start_time": "2023-12-06T23:02:35.716687",
     "status": "completed"
    },
    "tags": []
   },
   "outputs": [
    {
     "data": {
      "text/html": [
       "<div>\n",
       "<style scoped>\n",
       "    .dataframe tbody tr th:only-of-type {\n",
       "        vertical-align: middle;\n",
       "    }\n",
       "\n",
       "    .dataframe tbody tr th {\n",
       "        vertical-align: top;\n",
       "    }\n",
       "\n",
       "    .dataframe thead th {\n",
       "        text-align: right;\n",
       "    }\n",
       "</style>\n",
       "<table border=\"1\" class=\"dataframe\">\n",
       "  <thead>\n",
       "    <tr style=\"text-align: right;\">\n",
       "      <th></th>\n",
       "      <th>id</th>\n",
       "      <th>keyword</th>\n",
       "      <th>location</th>\n",
       "      <th>text</th>\n",
       "      <th>target</th>\n",
       "      <th>unclean</th>\n",
       "    </tr>\n",
       "  </thead>\n",
       "  <tbody>\n",
       "    <tr>\n",
       "      <th>800</th>\n",
       "      <td>1160</td>\n",
       "      <td>blight</td>\n",
       "      <td>Laventillemoorings</td>\n",
       "      <td>If you dotish to blight your car go right ahea...</td>\n",
       "      <td>0</td>\n",
       "      <td>If you dotish to blight your car go right ahea...</td>\n",
       "    </tr>\n",
       "    <tr>\n",
       "      <th>801</th>\n",
       "      <td>1162</td>\n",
       "      <td>blight</td>\n",
       "      <td>UK</td>\n",
       "      <td>Sexual Revolution:Blight For Women is out! htt...</td>\n",
       "      <td>0</td>\n",
       "      <td>Sexual Revolution:Blight For Women is out! htt...</td>\n",
       "    </tr>\n",
       "    <tr>\n",
       "      <th>802</th>\n",
       "      <td>1164</td>\n",
       "      <td>blight</td>\n",
       "      <td>Scotland</td>\n",
       "      <td>LIKE I SWEAR THE SECRET WE'LL UNCOVER IS THE O...</td>\n",
       "      <td>0</td>\n",
       "      <td>LIKE I SWEAR THE SECRET WE'LL UNCOVER IS THE O...</td>\n",
       "    </tr>\n",
       "    <tr>\n",
       "      <th>803</th>\n",
       "      <td>1166</td>\n",
       "      <td>blight</td>\n",
       "      <td>London</td>\n",
       "      <td>@WillHillBet what is double result live on the...</td>\n",
       "      <td>0</td>\n",
       "      <td>@WillHillBet what is double result live on the...</td>\n",
       "    </tr>\n",
       "    <tr>\n",
       "      <th>804</th>\n",
       "      <td>1167</td>\n",
       "      <td>blight</td>\n",
       "      <td>Vancouver, BC</td>\n",
       "      <td>@parksboardfacts first off it is the #ZippoLin...</td>\n",
       "      <td>0</td>\n",
       "      <td>@parksboardfacts first off it is the #ZippoLin...</td>\n",
       "    </tr>\n",
       "    <tr>\n",
       "      <th>...</th>\n",
       "      <td>...</td>\n",
       "      <td>...</td>\n",
       "      <td>...</td>\n",
       "      <td>...</td>\n",
       "      <td>...</td>\n",
       "      <td>...</td>\n",
       "    </tr>\n",
       "    <tr>\n",
       "      <th>1395</th>\n",
       "      <td>2014</td>\n",
       "      <td>casualties</td>\n",
       "      <td>Philippines</td>\n",
       "      <td>Civilian casualties rise as Afghan war intensi...</td>\n",
       "      <td>1</td>\n",
       "      <td>Civilian casualties rise as Afghan war intensi...</td>\n",
       "    </tr>\n",
       "    <tr>\n",
       "      <th>1396</th>\n",
       "      <td>2015</td>\n",
       "      <td>casualties</td>\n",
       "      <td></td>\n",
       "      <td>Afghan conflict sees 'sharp rise' in female ca...</td>\n",
       "      <td>1</td>\n",
       "      <td>Afghan conflict sees 'sharp rise' in female ca...</td>\n",
       "    </tr>\n",
       "    <tr>\n",
       "      <th>1397</th>\n",
       "      <td>2016</td>\n",
       "      <td>casualties</td>\n",
       "      <td>Bronx, New York</td>\n",
       "      <td>Warfighting Robots Could Reduce Civilian Casua...</td>\n",
       "      <td>1</td>\n",
       "      <td>Warfighting Robots Could Reduce Civilian Casua...</td>\n",
       "    </tr>\n",
       "    <tr>\n",
       "      <th>1398</th>\n",
       "      <td>2017</td>\n",
       "      <td>casualties</td>\n",
       "      <td>Canadian bread</td>\n",
       "      <td>@LibertarianLuke I'm all for that to be honest...</td>\n",
       "      <td>0</td>\n",
       "      <td>@LibertarianLuke I'm all for that to be honest...</td>\n",
       "    </tr>\n",
       "    <tr>\n",
       "      <th>1399</th>\n",
       "      <td>2019</td>\n",
       "      <td>casualties</td>\n",
       "      <td>Phoenix, AZ</td>\n",
       "      <td>Afghanistan: U.N. Reports 'Record-High Levels'...</td>\n",
       "      <td>1</td>\n",
       "      <td>Afghanistan: U.N. Reports 'Record-High Levels'...</td>\n",
       "    </tr>\n",
       "  </tbody>\n",
       "</table>\n",
       "<p>600 rows × 6 columns</p>\n",
       "</div>"
      ],
      "text/plain": [
       "        id     keyword             location  \\\n",
       "800   1160      blight  Laventillemoorings    \n",
       "801   1162      blight                   UK   \n",
       "802   1164      blight             Scotland   \n",
       "803   1166      blight               London   \n",
       "804   1167      blight        Vancouver, BC   \n",
       "...    ...         ...                  ...   \n",
       "1395  2014  casualties          Philippines   \n",
       "1396  2015  casualties                        \n",
       "1397  2016  casualties      Bronx, New York   \n",
       "1398  2017  casualties       Canadian bread   \n",
       "1399  2019  casualties          Phoenix, AZ   \n",
       "\n",
       "                                                   text  target  \\\n",
       "800   If you dotish to blight your car go right ahea...       0   \n",
       "801   Sexual Revolution:Blight For Women is out! htt...       0   \n",
       "802   LIKE I SWEAR THE SECRET WE'LL UNCOVER IS THE O...       0   \n",
       "803   @WillHillBet what is double result live on the...       0   \n",
       "804   @parksboardfacts first off it is the #ZippoLin...       0   \n",
       "...                                                 ...     ...   \n",
       "1395  Civilian casualties rise as Afghan war intensi...       1   \n",
       "1396  Afghan conflict sees 'sharp rise' in female ca...       1   \n",
       "1397  Warfighting Robots Could Reduce Civilian Casua...       1   \n",
       "1398  @LibertarianLuke I'm all for that to be honest...       0   \n",
       "1399  Afghanistan: U.N. Reports 'Record-High Levels'...       1   \n",
       "\n",
       "                                                unclean  \n",
       "800   If you dotish to blight your car go right ahea...  \n",
       "801   Sexual Revolution:Blight For Women is out! htt...  \n",
       "802   LIKE I SWEAR THE SECRET WE'LL UNCOVER IS THE O...  \n",
       "803   @WillHillBet what is double result live on the...  \n",
       "804   @parksboardfacts first off it is the #ZippoLin...  \n",
       "...                                                 ...  \n",
       "1395  Civilian casualties rise as Afghan war intensi...  \n",
       "1396  Afghan conflict sees 'sharp rise' in female ca...  \n",
       "1397  Warfighting Robots Could Reduce Civilian Casua...  \n",
       "1398  @LibertarianLuke I'm all for that to be honest...  \n",
       "1399  Afghanistan: U.N. Reports 'Record-High Levels'...  \n",
       "\n",
       "[600 rows x 6 columns]"
      ]
     },
     "execution_count": 12,
     "metadata": {},
     "output_type": "execute_result"
    }
   ],
   "source": [
    "df[800:1400]"
   ]
  },
  {
   "cell_type": "markdown",
   "id": "6c30fe10",
   "metadata": {
    "papermill": {
     "duration": 0.018442,
     "end_time": "2023-12-06T23:02:35.799269",
     "exception": false,
     "start_time": "2023-12-06T23:02:35.780827",
     "status": "completed"
    },
    "tags": []
   },
   "source": [
    "## Plot to show some of the positive/negative ratios for given keywords\n",
    "Some of the keywords are pretty strongly correlated"
   ]
  },
  {
   "cell_type": "code",
   "execution_count": 13,
   "id": "282eff8e",
   "metadata": {
    "execution": {
     "iopub.execute_input": "2023-12-06T23:02:35.839417Z",
     "iopub.status.busy": "2023-12-06T23:02:35.838956Z",
     "iopub.status.idle": "2023-12-06T23:02:36.825032Z",
     "shell.execute_reply": "2023-12-06T23:02:36.824038Z"
    },
    "papermill": {
     "duration": 1.009272,
     "end_time": "2023-12-06T23:02:36.827651",
     "exception": false,
     "start_time": "2023-12-06T23:02:35.818379",
     "status": "completed"
    },
    "tags": []
   },
   "outputs": [
    {
     "data": {
      "image/png": "[encoded data removed]",
      "text/plain": [
       "<Figure size 1000x400 with 1 Axes>"
      ]
     },
     "metadata": {},
     "output_type": "display_data"
    }
   ],
   "source": [
    "plt.figure(figsize=(10,4))\n",
    "sns.countplot(data=df[1000:2500], x='keyword',hue='target')\n",
    "plt.xticks(rotation=90);"
   ]
  },
  {
   "cell_type": "markdown",
   "id": "daabc14b",
   "metadata": {
    "papermill": {
     "duration": 0.019146,
     "end_time": "2023-12-06T23:02:36.866351",
     "exception": false,
     "start_time": "2023-12-06T23:02:36.847205",
     "status": "completed"
    },
    "tags": []
   },
   "source": [
    "# Split Train Data to do inital testing"
   ]
  },
  {
   "cell_type": "code",
   "execution_count": 14,
   "id": "3d0dd6f2",
   "metadata": {
    "execution": {
     "iopub.execute_input": "2023-12-06T23:02:36.909209Z",
     "iopub.status.busy": "2023-12-06T23:02:36.908701Z",
     "iopub.status.idle": "2023-12-06T23:02:37.222045Z",
     "shell.execute_reply": "2023-12-06T23:02:37.220604Z"
    },
    "papermill": {
     "duration": 0.338663,
     "end_time": "2023-12-06T23:02:37.225111",
     "exception": false,
     "start_time": "2023-12-06T23:02:36.886448",
     "status": "completed"
    },
    "tags": []
   },
   "outputs": [],
   "source": [
    "from sklearn.model_selection import train_test_split"
   ]
  },
  {
   "cell_type": "code",
   "execution_count": 15,
   "id": "fb7eb697",
   "metadata": {
    "execution": {
     "iopub.execute_input": "2023-12-06T23:02:37.266804Z",
     "iopub.status.busy": "2023-12-06T23:02:37.266196Z",
     "iopub.status.idle": "2023-12-06T23:02:37.294748Z",
     "shell.execute_reply": "2023-12-06T23:02:37.293524Z"
    },
    "papermill": {
     "duration": 0.052131,
     "end_time": "2023-12-06T23:02:37.297409",
     "exception": false,
     "start_time": "2023-12-06T23:02:37.245278",
     "status": "completed"
    },
    "tags": []
   },
   "outputs": [
    {
     "data": {
      "text/html": [
       "<div>\n",
       "<style scoped>\n",
       "    .dataframe tbody tr th:only-of-type {\n",
       "        vertical-align: middle;\n",
       "    }\n",
       "\n",
       "    .dataframe tbody tr th {\n",
       "        vertical-align: top;\n",
       "    }\n",
       "\n",
       "    .dataframe thead th {\n",
       "        text-align: right;\n",
       "    }\n",
       "</style>\n",
       "<table border=\"1\" class=\"dataframe\">\n",
       "  <thead>\n",
       "    <tr style=\"text-align: right;\">\n",
       "      <th></th>\n",
       "      <th>id</th>\n",
       "      <th>keyword</th>\n",
       "      <th>location</th>\n",
       "      <th>text</th>\n",
       "      <th>target</th>\n",
       "      <th>unclean</th>\n",
       "      <th>text combo</th>\n",
       "    </tr>\n",
       "  </thead>\n",
       "  <tbody>\n",
       "    <tr>\n",
       "      <th>800</th>\n",
       "      <td>1160</td>\n",
       "      <td>blight</td>\n",
       "      <td>Laventillemoorings</td>\n",
       "      <td>If you dotish to blight your car go right ahea...</td>\n",
       "      <td>0</td>\n",
       "      <td>If you dotish to blight your car go right ahea...</td>\n",
       "      <td>blight Laventillemoorings  If you dotish to bl...</td>\n",
       "    </tr>\n",
       "    <tr>\n",
       "      <th>801</th>\n",
       "      <td>1162</td>\n",
       "      <td>blight</td>\n",
       "      <td>UK</td>\n",
       "      <td>Sexual Revolution:Blight For Women is out! htt...</td>\n",
       "      <td>0</td>\n",
       "      <td>Sexual Revolution:Blight For Women is out! htt...</td>\n",
       "      <td>blight UK Sexual Revolution:Blight For Women i...</td>\n",
       "    </tr>\n",
       "    <tr>\n",
       "      <th>802</th>\n",
       "      <td>1164</td>\n",
       "      <td>blight</td>\n",
       "      <td>Scotland</td>\n",
       "      <td>LIKE I SWEAR THE SECRET WE'LL UNCOVER IS THE O...</td>\n",
       "      <td>0</td>\n",
       "      <td>LIKE I SWEAR THE SECRET WE'LL UNCOVER IS THE O...</td>\n",
       "      <td>blight Scotland LIKE I SWEAR THE SECRET WE'LL ...</td>\n",
       "    </tr>\n",
       "    <tr>\n",
       "      <th>803</th>\n",
       "      <td>1166</td>\n",
       "      <td>blight</td>\n",
       "      <td>London</td>\n",
       "      <td>@WillHillBet what is double result live on the...</td>\n",
       "      <td>0</td>\n",
       "      <td>@WillHillBet what is double result live on the...</td>\n",
       "      <td>blight London @WillHillBet what is double resu...</td>\n",
       "    </tr>\n",
       "  </tbody>\n",
       "</table>\n",
       "</div>"
      ],
      "text/plain": [
       "       id keyword             location  \\\n",
       "800  1160  blight  Laventillemoorings    \n",
       "801  1162  blight                   UK   \n",
       "802  1164  blight             Scotland   \n",
       "803  1166  blight               London   \n",
       "\n",
       "                                                  text  target  \\\n",
       "800  If you dotish to blight your car go right ahea...       0   \n",
       "801  Sexual Revolution:Blight For Women is out! htt...       0   \n",
       "802  LIKE I SWEAR THE SECRET WE'LL UNCOVER IS THE O...       0   \n",
       "803  @WillHillBet what is double result live on the...       0   \n",
       "\n",
       "                                               unclean  \\\n",
       "800  If you dotish to blight your car go right ahea...   \n",
       "801  Sexual Revolution:Blight For Women is out! htt...   \n",
       "802  LIKE I SWEAR THE SECRET WE'LL UNCOVER IS THE O...   \n",
       "803  @WillHillBet what is double result live on the...   \n",
       "\n",
       "                                            text combo  \n",
       "800  blight Laventillemoorings  If you dotish to bl...  \n",
       "801  blight UK Sexual Revolution:Blight For Women i...  \n",
       "802  blight Scotland LIKE I SWEAR THE SECRET WE'LL ...  \n",
       "803  blight London @WillHillBet what is double resu...  "
      ]
     },
     "execution_count": 15,
     "metadata": {},
     "output_type": "execute_result"
    }
   ],
   "source": [
    "df['text combo'] = df['keyword']+\" \"+df['location']+\" \"+df['text']\n",
    "df_test['text combo'] = df_test['keyword']+\" \"+df_test['location']+\" \"+df_test['text']\n",
    "\n",
    "df[800:804]"
   ]
  },
  {
   "cell_type": "code",
   "execution_count": 16,
   "id": "a82ef4bf",
   "metadata": {
    "execution": {
     "iopub.execute_input": "2023-12-06T23:02:37.339836Z",
     "iopub.status.busy": "2023-12-06T23:02:37.339393Z",
     "iopub.status.idle": "2023-12-06T23:02:37.356616Z",
     "shell.execute_reply": "2023-12-06T23:02:37.355251Z"
    },
    "papermill": {
     "duration": 0.041814,
     "end_time": "2023-12-06T23:02:37.360033",
     "exception": false,
     "start_time": "2023-12-06T23:02:37.318219",
     "status": "completed"
    },
    "tags": []
   },
   "outputs": [],
   "source": [
    "#X = df.drop(['target','id'], axis=1)\n",
    "X = df.drop('target',axis=1)\n",
    "y = df['target']\n",
    "X_train, X_test, y_train, y_test = train_test_split(X, y, test_size=0.2, random_state=814)\n",
    "ids_train = X_train['id']\n",
    "X_train = X_train['text combo']\n",
    "ids_test = X_test['id']\n",
    "X_test = X_test['text combo']"
   ]
  },
  {
   "cell_type": "code",
   "execution_count": 17,
   "id": "03e21d17",
   "metadata": {
    "execution": {
     "iopub.execute_input": "2023-12-06T23:02:37.404502Z",
     "iopub.status.busy": "2023-12-06T23:02:37.404101Z",
     "iopub.status.idle": "2023-12-06T23:02:37.421474Z",
     "shell.execute_reply": "2023-12-06T23:02:37.420056Z"
    },
    "papermill": {
     "duration": 0.043318,
     "end_time": "2023-12-06T23:02:37.424243",
     "exception": false,
     "start_time": "2023-12-06T23:02:37.380925",
     "status": "completed"
    },
    "tags": []
   },
   "outputs": [
    {
     "data": {
      "text/html": [
       "<div>\n",
       "<style scoped>\n",
       "    .dataframe tbody tr th:only-of-type {\n",
       "        vertical-align: middle;\n",
       "    }\n",
       "\n",
       "    .dataframe tbody tr th {\n",
       "        vertical-align: top;\n",
       "    }\n",
       "\n",
       "    .dataframe thead th {\n",
       "        text-align: right;\n",
       "    }\n",
       "</style>\n",
       "<table border=\"1\" class=\"dataframe\">\n",
       "  <thead>\n",
       "    <tr style=\"text-align: right;\">\n",
       "      <th></th>\n",
       "      <th>id</th>\n",
       "      <th>keyword</th>\n",
       "      <th>location</th>\n",
       "      <th>text</th>\n",
       "      <th>text combo</th>\n",
       "    </tr>\n",
       "  </thead>\n",
       "  <tbody>\n",
       "    <tr>\n",
       "      <th>0</th>\n",
       "      <td>0</td>\n",
       "      <td></td>\n",
       "      <td></td>\n",
       "      <td>Just happened a terrible car crash</td>\n",
       "      <td>Just happened a terrible car crash</td>\n",
       "    </tr>\n",
       "    <tr>\n",
       "      <th>1</th>\n",
       "      <td>2</td>\n",
       "      <td></td>\n",
       "      <td></td>\n",
       "      <td>Heard about #earthquake is different cities, s...</td>\n",
       "      <td>Heard about #earthquake is different cities,...</td>\n",
       "    </tr>\n",
       "    <tr>\n",
       "      <th>2</th>\n",
       "      <td>3</td>\n",
       "      <td></td>\n",
       "      <td></td>\n",
       "      <td>there is a forest fire at spot pond, geese are...</td>\n",
       "      <td>there is a forest fire at spot pond, geese a...</td>\n",
       "    </tr>\n",
       "    <tr>\n",
       "      <th>3</th>\n",
       "      <td>9</td>\n",
       "      <td></td>\n",
       "      <td></td>\n",
       "      <td>Apocalypse lighting. #Spokane #wildfires</td>\n",
       "      <td>Apocalypse lighting. #Spokane #wildfires</td>\n",
       "    </tr>\n",
       "    <tr>\n",
       "      <th>4</th>\n",
       "      <td>11</td>\n",
       "      <td></td>\n",
       "      <td></td>\n",
       "      <td>Typhoon Soudelor kills 28 in China and Taiwan</td>\n",
       "      <td>Typhoon Soudelor kills 28 in China and Taiwan</td>\n",
       "    </tr>\n",
       "    <tr>\n",
       "      <th>...</th>\n",
       "      <td>...</td>\n",
       "      <td>...</td>\n",
       "      <td>...</td>\n",
       "      <td>...</td>\n",
       "      <td>...</td>\n",
       "    </tr>\n",
       "    <tr>\n",
       "      <th>3258</th>\n",
       "      <td>10861</td>\n",
       "      <td></td>\n",
       "      <td></td>\n",
       "      <td>EARTHQUAKE SAFETY LOS ANGELES ÛÒ SAFETY FASTE...</td>\n",
       "      <td>EARTHQUAKE SAFETY LOS ANGELES ÛÒ SAFETY FAS...</td>\n",
       "    </tr>\n",
       "    <tr>\n",
       "      <th>3259</th>\n",
       "      <td>10865</td>\n",
       "      <td></td>\n",
       "      <td></td>\n",
       "      <td>Storm in RI worse than last hurricane. My city...</td>\n",
       "      <td>Storm in RI worse than last hurricane. My ci...</td>\n",
       "    </tr>\n",
       "    <tr>\n",
       "      <th>3260</th>\n",
       "      <td>10868</td>\n",
       "      <td></td>\n",
       "      <td></td>\n",
       "      <td>Green Line derailment in Chicago http://t.co/U...</td>\n",
       "      <td>Green Line derailment in Chicago http://t.co...</td>\n",
       "    </tr>\n",
       "    <tr>\n",
       "      <th>3261</th>\n",
       "      <td>10874</td>\n",
       "      <td></td>\n",
       "      <td></td>\n",
       "      <td>MEG issues Hazardous Weather Outlook (HWO) htt...</td>\n",
       "      <td>MEG issues Hazardous Weather Outlook (HWO) h...</td>\n",
       "    </tr>\n",
       "    <tr>\n",
       "      <th>3262</th>\n",
       "      <td>10875</td>\n",
       "      <td></td>\n",
       "      <td></td>\n",
       "      <td>#CityofCalgary has activated its Municipal Eme...</td>\n",
       "      <td>#CityofCalgary has activated its Municipal E...</td>\n",
       "    </tr>\n",
       "  </tbody>\n",
       "</table>\n",
       "<p>3263 rows × 5 columns</p>\n",
       "</div>"
      ],
      "text/plain": [
       "         id keyword location  \\\n",
       "0         0                    \n",
       "1         2                    \n",
       "2         3                    \n",
       "3         9                    \n",
       "4        11                    \n",
       "...     ...     ...      ...   \n",
       "3258  10861                    \n",
       "3259  10865                    \n",
       "3260  10868                    \n",
       "3261  10874                    \n",
       "3262  10875                    \n",
       "\n",
       "                                                   text  \\\n",
       "0                    Just happened a terrible car crash   \n",
       "1     Heard about #earthquake is different cities, s...   \n",
       "2     there is a forest fire at spot pond, geese are...   \n",
       "3              Apocalypse lighting. #Spokane #wildfires   \n",
       "4         Typhoon Soudelor kills 28 in China and Taiwan   \n",
       "...                                                 ...   \n",
       "3258  EARTHQUAKE SAFETY LOS ANGELES ÛÒ SAFETY FASTE...   \n",
       "3259  Storm in RI worse than last hurricane. My city...   \n",
       "3260  Green Line derailment in Chicago http://t.co/U...   \n",
       "3261  MEG issues Hazardous Weather Outlook (HWO) htt...   \n",
       "3262  #CityofCalgary has activated its Municipal Eme...   \n",
       "\n",
       "                                             text combo  \n",
       "0                    Just happened a terrible car crash  \n",
       "1       Heard about #earthquake is different cities,...  \n",
       "2       there is a forest fire at spot pond, geese a...  \n",
       "3              Apocalypse lighting. #Spokane #wildfires  \n",
       "4         Typhoon Soudelor kills 28 in China and Taiwan  \n",
       "...                                                 ...  \n",
       "3258    EARTHQUAKE SAFETY LOS ANGELES ÛÒ SAFETY FAS...  \n",
       "3259    Storm in RI worse than last hurricane. My ci...  \n",
       "3260    Green Line derailment in Chicago http://t.co...  \n",
       "3261    MEG issues Hazardous Weather Outlook (HWO) h...  \n",
       "3262    #CityofCalgary has activated its Municipal E...  \n",
       "\n",
       "[3263 rows x 5 columns]"
      ]
     },
     "execution_count": 17,
     "metadata": {},
     "output_type": "execute_result"
    }
   ],
   "source": [
    "df_test"
   ]
  },
  {
   "cell_type": "markdown",
   "id": "8afeda59",
   "metadata": {
    "papermill": {
     "duration": 0.022054,
     "end_time": "2023-12-06T23:02:37.467839",
     "exception": false,
     "start_time": "2023-12-06T23:02:37.445785",
     "status": "completed"
    },
    "tags": []
   },
   "source": [
    "# Setup various models to test"
   ]
  },
  {
   "cell_type": "code",
   "execution_count": 18,
   "id": "4489c838",
   "metadata": {
    "execution": {
     "iopub.execute_input": "2023-12-06T23:02:37.512321Z",
     "iopub.status.busy": "2023-12-06T23:02:37.511909Z",
     "iopub.status.idle": "2023-12-06T23:02:37.632679Z",
     "shell.execute_reply": "2023-12-06T23:02:37.631006Z"
    },
    "papermill": {
     "duration": 0.146324,
     "end_time": "2023-12-06T23:02:37.636069",
     "exception": false,
     "start_time": "2023-12-06T23:02:37.489745",
     "status": "completed"
    },
    "tags": []
   },
   "outputs": [],
   "source": [
    "#from sklearn.pipeline import Pipeline\n",
    "from sklearn.feature_extraction.text import TfidfVectorizer, CountVectorizer\n",
    "from sklearn.model_selection import GridSearchCV\n",
    "from sklearn.naive_bayes import MultinomialNB\n",
    "from sklearn.linear_model import LogisticRegression, SGDClassifier\n",
    "from sklearn.svm import LinearSVC, SVC\n",
    "from sklearn.metrics import classification_report,f1_score,confusion_matrix,ConfusionMatrixDisplay"
   ]
  },
  {
   "cell_type": "markdown",
   "id": "950fddf2",
   "metadata": {
    "papermill": {
     "duration": 0.020407,
     "end_time": "2023-12-06T23:02:37.678166",
     "exception": false,
     "start_time": "2023-12-06T23:02:37.657759",
     "status": "completed"
    },
    "tags": []
   },
   "source": [
    "### Vectorize the text data"
   ]
  },
  {
   "cell_type": "code",
   "execution_count": 19,
   "id": "1b23bb3c",
   "metadata": {
    "execution": {
     "iopub.execute_input": "2023-12-06T23:02:37.721617Z",
     "iopub.status.busy": "2023-12-06T23:02:37.721136Z",
     "iopub.status.idle": "2023-12-06T23:02:38.230566Z",
     "shell.execute_reply": "2023-12-06T23:02:38.229175Z"
    },
    "papermill": {
     "duration": 0.535146,
     "end_time": "2023-12-06T23:02:38.233940",
     "exception": false,
     "start_time": "2023-12-06T23:02:37.698794",
     "status": "completed"
    },
    "tags": []
   },
   "outputs": [],
   "source": [
    "tfidf = TfidfVectorizer(stop_words='english')\n",
    "tfidf.fit(X_train)\n",
    "X_train_tfidf = tfidf.transform(X_train)\n",
    "X_test_tfidf = tfidf.transform(X_test)"
   ]
  },
  {
   "cell_type": "code",
   "execution_count": 20,
   "id": "2b7cf48d",
   "metadata": {
    "execution": {
     "iopub.execute_input": "2023-12-06T23:02:38.278983Z",
     "iopub.status.busy": "2023-12-06T23:02:38.278183Z",
     "iopub.status.idle": "2023-12-06T23:02:38.285778Z",
     "shell.execute_reply": "2023-12-06T23:02:38.284573Z"
    },
    "papermill": {
     "duration": 0.032955,
     "end_time": "2023-12-06T23:02:38.288137",
     "exception": false,
     "start_time": "2023-12-06T23:02:38.255182",
     "status": "completed"
    },
    "tags": []
   },
   "outputs": [
    {
     "data": {
      "text/plain": [
       "<6090x19857 sparse matrix of type '<class 'numpy.float64'>'\n",
       "\twith 67292 stored elements in Compressed Sparse Row format>"
      ]
     },
     "execution_count": 20,
     "metadata": {},
     "output_type": "execute_result"
    }
   ],
   "source": [
    "X_train_tfidf"
   ]
  },
  {
   "cell_type": "markdown",
   "id": "48c1b2db",
   "metadata": {
    "papermill": {
     "duration": 0.020762,
     "end_time": "2023-12-06T23:02:38.329852",
     "exception": false,
     "start_time": "2023-12-06T23:02:38.309090",
     "status": "completed"
    },
    "tags": []
   },
   "source": [
    "###  MultinomialNB model"
   ]
  },
  {
   "cell_type": "code",
   "execution_count": 21,
   "id": "cdd15ae7",
   "metadata": {
    "execution": {
     "iopub.execute_input": "2023-12-06T23:02:38.375628Z",
     "iopub.status.busy": "2023-12-06T23:02:38.374480Z",
     "iopub.status.idle": "2023-12-06T23:02:38.589096Z",
     "shell.execute_reply": "2023-12-06T23:02:38.587494Z"
    },
    "papermill": {
     "duration": 0.241064,
     "end_time": "2023-12-06T23:02:38.591901",
     "exception": false,
     "start_time": "2023-12-06T23:02:38.350837",
     "status": "completed"
    },
    "tags": []
   },
   "outputs": [
    {
     "name": "stdout",
     "output_type": "stream",
     "text": [
      "Time to fit = 0.203s\n"
     ]
    },
    {
     "data": {
      "text/plain": [
       "{'alpha': 1}"
      ]
     },
     "execution_count": 21,
     "metadata": {},
     "output_type": "execute_result"
    }
   ],
   "source": [
    "mnb = MultinomialNB()\n",
    "param_grid = {'alpha':[1,2,5,10]}\n",
    "mnb_grid = GridSearchCV(estimator=mnb, param_grid=param_grid, scoring='f1')\n",
    "mnb_start = time.time()\n",
    "mnb_grid.fit(X_train_tfidf, y_train)\n",
    "mnb_end = time.time()\n",
    "print(f'Time to fit = {mnb_end - mnb_start:.3f}s')\n",
    "mnb_grid.best_params_"
   ]
  },
  {
   "cell_type": "code",
   "execution_count": 22,
   "id": "416a69bc",
   "metadata": {
    "execution": {
     "iopub.execute_input": "2023-12-06T23:02:38.636243Z",
     "iopub.status.busy": "2023-12-06T23:02:38.635804Z",
     "iopub.status.idle": "2023-12-06T23:02:39.005783Z",
     "shell.execute_reply": "2023-12-06T23:02:39.004544Z"
    },
    "papermill": {
     "duration": 0.394975,
     "end_time": "2023-12-06T23:02:39.008464",
     "exception": false,
     "start_time": "2023-12-06T23:02:38.613489",
     "status": "completed"
    },
    "tags": []
   },
   "outputs": [
    {
     "name": "stdout",
     "output_type": "stream",
     "text": [
      "0.731958762886598\n",
      "              precision    recall  f1-score   support\n",
      "\n",
      "           0       0.77      0.90      0.83       868\n",
      "           1       0.84      0.65      0.73       655\n",
      "\n",
      "    accuracy                           0.80      1523\n",
      "   macro avg       0.81      0.78      0.78      1523\n",
      "weighted avg       0.80      0.80      0.79      1523\n",
      "\n"
     ]
    },
    {
     "data": {
      "image/png": "[encoded data removed]",
      "text/plain": [
       "<Figure size 640x480 with 2 Axes>"
      ]
     },
     "metadata": {},
     "output_type": "display_data"
    }
   ],
   "source": [
    "mnb_preds = mnb_grid.predict(X_test_tfidf)\n",
    "print(f1_score(y_test,mnb_preds))\n",
    "print(classification_report(y_test,mnb_preds))\n",
    "ConfusionMatrixDisplay(confusion_matrix=confusion_matrix(y_test, mnb_preds)).plot();"
   ]
  },
  {
   "cell_type": "markdown",
   "id": "bdc80103",
   "metadata": {
    "papermill": {
     "duration": 0.020986,
     "end_time": "2023-12-06T23:02:39.050568",
     "exception": false,
     "start_time": "2023-12-06T23:02:39.029582",
     "status": "completed"
    },
    "tags": []
   },
   "source": [
    "###  LogisticRegression model"
   ]
  },
  {
   "cell_type": "code",
   "execution_count": 23,
   "id": "15a0dde0",
   "metadata": {
    "execution": {
     "iopub.execute_input": "2023-12-06T23:02:39.095968Z",
     "iopub.status.busy": "2023-12-06T23:02:39.094942Z",
     "iopub.status.idle": "2023-12-06T23:03:01.527226Z",
     "shell.execute_reply": "2023-12-06T23:03:01.524529Z"
    },
    "papermill": {
     "duration": 22.459816,
     "end_time": "2023-12-06T23:03:01.531380",
     "exception": false,
     "start_time": "2023-12-06T23:02:39.071564",
     "status": "completed"
    },
    "tags": []
   },
   "outputs": [
    {
     "name": "stdout",
     "output_type": "stream",
     "text": [
      "Time to fit = 22.409s\n"
     ]
    },
    {
     "data": {
      "text/plain": [
       "{'C': 4}"
      ]
     },
     "execution_count": 23,
     "metadata": {},
     "output_type": "execute_result"
    }
   ],
   "source": [
    "log = LogisticRegression(max_iter=1000)\n",
    "param_grid = {'C':[3,4,5,6,7,8]}\n",
    "log_grid = GridSearchCV(estimator=log, param_grid=param_grid, scoring='f1')\n",
    "log_start = time.time()\n",
    "log_grid.fit(X_train_tfidf, y_train)\n",
    "log_end = time.time()\n",
    "print(f'Time to fit = {log_end - log_start:.3f}s')\n",
    "log_grid.best_params_"
   ]
  },
  {
   "cell_type": "code",
   "execution_count": 24,
   "id": "51fbb576",
   "metadata": {
    "execution": {
     "iopub.execute_input": "2023-12-06T23:03:01.655779Z",
     "iopub.status.busy": "2023-12-06T23:03:01.655258Z",
     "iopub.status.idle": "2023-12-06T23:03:02.014834Z",
     "shell.execute_reply": "2023-12-06T23:03:02.013221Z"
    },
    "papermill": {
     "duration": 0.386593,
     "end_time": "2023-12-06T23:03:02.017880",
     "exception": false,
     "start_time": "2023-12-06T23:03:01.631287",
     "status": "completed"
    },
    "tags": []
   },
   "outputs": [
    {
     "name": "stdout",
     "output_type": "stream",
     "text": [
      "0.7470071827613728\n",
      "              precision    recall  f1-score   support\n",
      "\n",
      "           0       0.80      0.85      0.82       868\n",
      "           1       0.78      0.71      0.75       655\n",
      "\n",
      "    accuracy                           0.79      1523\n",
      "   macro avg       0.79      0.78      0.79      1523\n",
      "weighted avg       0.79      0.79      0.79      1523\n",
      "\n"
     ]
    },
    {
     "data": {
      "image/png": "[encoded data removed]",
      "text/plain": [
       "<Figure size 640x480 with 2 Axes>"
      ]
     },
     "metadata": {},
     "output_type": "display_data"
    }
   ],
   "source": [
    "log_preds = log_grid.predict(X_test_tfidf)\n",
    "print(f1_score(y_test,log_preds))\n",
    "print(classification_report(y_test,log_preds))\n",
    "ConfusionMatrixDisplay(confusion_matrix=confusion_matrix(y_test, log_preds)).plot();"
   ]
  },
  {
   "cell_type": "markdown",
   "id": "7398e14d",
   "metadata": {
    "papermill": {
     "duration": 0.02234,
     "end_time": "2023-12-06T23:03:02.062875",
     "exception": false,
     "start_time": "2023-12-06T23:03:02.040535",
     "status": "completed"
    },
    "tags": []
   },
   "source": [
    "### SGDClassifier model"
   ]
  },
  {
   "cell_type": "code",
   "execution_count": 25,
   "id": "c7501c1c",
   "metadata": {
    "execution": {
     "iopub.execute_input": "2023-12-06T23:03:02.110819Z",
     "iopub.status.busy": "2023-12-06T23:03:02.110320Z",
     "iopub.status.idle": "2023-12-06T23:03:02.172692Z",
     "shell.execute_reply": "2023-12-06T23:03:02.170932Z"
    },
    "papermill": {
     "duration": 0.093236,
     "end_time": "2023-12-06T23:03:02.179130",
     "exception": false,
     "start_time": "2023-12-06T23:03:02.085894",
     "status": "completed"
    },
    "tags": []
   },
   "outputs": [
    {
     "name": "stdout",
     "output_type": "stream",
     "text": [
      "Time to fit = 0.049s\n"
     ]
    },
    {
     "data": {
      "text/plain": [
       "array([[-0.32796702, -0.48454173,  0.40476673, ...,  0.38797534,\n",
       "        -0.18033906,  0.21186879]])"
      ]
     },
     "execution_count": 25,
     "metadata": {},
     "output_type": "execute_result"
    }
   ],
   "source": [
    "sgdc = SGDClassifier()\n",
    "#param_grid = {'C':[3,4,5,6,7,8]}\n",
    "#log_grid = GridSearchCV(estimator=log, param_grid=param_grid, scoring='f1')\n",
    "sgdc_start = time.time()\n",
    "sgdc.fit(X_train_tfidf, y_train)\n",
    "sgdc_end = time.time()\n",
    "print(f'Time to fit = {sgdc_end - sgdc_start:.3f}s')\n",
    "sgdc.coef_"
   ]
  },
  {
   "cell_type": "code",
   "execution_count": 26,
   "id": "d2534245",
   "metadata": {
    "execution": {
     "iopub.execute_input": "2023-12-06T23:03:02.259908Z",
     "iopub.status.busy": "2023-12-06T23:03:02.259467Z",
     "iopub.status.idle": "2023-12-06T23:03:02.552411Z",
     "shell.execute_reply": "2023-12-06T23:03:02.551057Z"
    },
    "papermill": {
     "duration": 0.328121,
     "end_time": "2023-12-06T23:03:02.555075",
     "exception": false,
     "start_time": "2023-12-06T23:03:02.226954",
     "status": "completed"
    },
    "tags": []
   },
   "outputs": [
    {
     "name": "stdout",
     "output_type": "stream",
     "text": [
      "0.7508038585209004\n",
      "              precision    recall  f1-score   support\n",
      "\n",
      "           0       0.80      0.86      0.83       868\n",
      "           1       0.79      0.71      0.75       655\n",
      "\n",
      "    accuracy                           0.80      1523\n",
      "   macro avg       0.80      0.79      0.79      1523\n",
      "weighted avg       0.80      0.80      0.79      1523\n",
      "\n"
     ]
    },
    {
     "data": {
      "image/png": "[encoded data removed]",
      "text/plain": [
       "<Figure size 640x480 with 2 Axes>"
      ]
     },
     "metadata": {},
     "output_type": "display_data"
    }
   ],
   "source": [
    "sgdc_preds = sgdc.predict(X_test_tfidf)\n",
    "print(f1_score(y_test,sgdc_preds))\n",
    "print(classification_report(y_test,sgdc_preds))\n",
    "ConfusionMatrixDisplay(confusion_matrix=confusion_matrix(y_test, sgdc_preds)).plot();"
   ]
  },
  {
   "cell_type": "markdown",
   "id": "2379371d",
   "metadata": {
    "papermill": {
     "duration": 0.022395,
     "end_time": "2023-12-06T23:03:02.600179",
     "exception": false,
     "start_time": "2023-12-06T23:03:02.577784",
     "status": "completed"
    },
    "tags": []
   },
   "source": [
    "### LinearSVC model"
   ]
  },
  {
   "cell_type": "code",
   "execution_count": 27,
   "id": "cedf110e",
   "metadata": {
    "execution": {
     "iopub.execute_input": "2023-12-06T23:03:02.650095Z",
     "iopub.status.busy": "2023-12-06T23:03:02.649580Z",
     "iopub.status.idle": "2023-12-06T23:03:04.313770Z",
     "shell.execute_reply": "2023-12-06T23:03:04.312448Z"
    },
    "papermill": {
     "duration": 1.691452,
     "end_time": "2023-12-06T23:03:04.316431",
     "exception": false,
     "start_time": "2023-12-06T23:03:02.624979",
     "status": "completed"
    },
    "tags": []
   },
   "outputs": [
    {
     "name": "stdout",
     "output_type": "stream",
     "text": [
      "Time to fit = 1.653s\n"
     ]
    },
    {
     "data": {
      "text/plain": [
       "{'C': 1}"
      ]
     },
     "execution_count": 27,
     "metadata": {},
     "output_type": "execute_result"
    }
   ],
   "source": [
    "lin_svc = LinearSVC()\n",
    "param_grid = {'C':[1,2,5,10]}\n",
    "lin_svc_grid = GridSearchCV(estimator=lin_svc, param_grid=param_grid, scoring='f1')\n",
    "lin_svc_start = time.time()\n",
    "lin_svc_grid.fit(X_train_tfidf, y_train)\n",
    "lin_svc_end = time.time()\n",
    "print(f'Time to fit = {lin_svc_end - lin_svc_start:.3f}s')\n",
    "lin_svc_grid.best_params_"
   ]
  },
  {
   "cell_type": "code",
   "execution_count": 28,
   "id": "662b6682",
   "metadata": {
    "execution": {
     "iopub.execute_input": "2023-12-06T23:03:04.364565Z",
     "iopub.status.busy": "2023-12-06T23:03:04.364158Z",
     "iopub.status.idle": "2023-12-06T23:03:04.658055Z",
     "shell.execute_reply": "2023-12-06T23:03:04.656756Z"
    },
    "papermill": {
     "duration": 0.321409,
     "end_time": "2023-12-06T23:03:04.660838",
     "exception": false,
     "start_time": "2023-12-06T23:03:04.339429",
     "status": "completed"
    },
    "tags": []
   },
   "outputs": [
    {
     "name": "stdout",
     "output_type": "stream",
     "text": [
      "0.7432646592709985\n",
      "              precision    recall  f1-score   support\n",
      "\n",
      "           0       0.80      0.84      0.82       868\n",
      "           1       0.77      0.72      0.74       655\n",
      "\n",
      "    accuracy                           0.79      1523\n",
      "   macro avg       0.78      0.78      0.78      1523\n",
      "weighted avg       0.79      0.79      0.79      1523\n",
      "\n"
     ]
    },
    {
     "data": {
      "image/png": "[encoded data removed]",
      "text/plain": [
       "<Figure size 640x480 with 2 Axes>"
      ]
     },
     "metadata": {},
     "output_type": "display_data"
    }
   ],
   "source": [
    "lin_svc_preds = lin_svc_grid.predict(X_test_tfidf)\n",
    "print(f1_score(y_test,lin_svc_preds))\n",
    "print(classification_report(y_test,lin_svc_preds))\n",
    "ConfusionMatrixDisplay(confusion_matrix=confusion_matrix(y_test, lin_svc_preds)).plot();"
   ]
  },
  {
   "cell_type": "markdown",
   "id": "82cebf33",
   "metadata": {
    "papermill": {
     "duration": 0.022975,
     "end_time": "2023-12-06T23:03:04.707149",
     "exception": false,
     "start_time": "2023-12-06T23:03:04.684174",
     "status": "completed"
    },
    "tags": []
   },
   "source": [
    "### SVC model\n",
    "<span style=\"font-size:16px;color:red;\"> Below cell is the slowest cell by far (takes ~4 minutes with the grid search) </span>"
   ]
  },
  {
   "cell_type": "code",
   "execution_count": 29,
   "id": "e1570867",
   "metadata": {
    "execution": {
     "iopub.execute_input": "2023-12-06T23:03:04.756146Z",
     "iopub.status.busy": "2023-12-06T23:03:04.755413Z",
     "iopub.status.idle": "2023-12-06T23:03:04.760357Z",
     "shell.execute_reply": "2023-12-06T23:03:04.759559Z"
    },
    "papermill": {
     "duration": 0.032151,
     "end_time": "2023-12-06T23:03:04.762672",
     "exception": false,
     "start_time": "2023-12-06T23:03:04.730521",
     "status": "completed"
    },
    "tags": []
   },
   "outputs": [],
   "source": [
    "# svc = SVC()\n",
    "# param_grid = {'C': [1,10,100], \n",
    "#               'gamma': [1,0.1,0.01]}\n",
    "# svc_grid = GridSearchCV(estimator=svc, param_grid=param_grid, scoring='f1')\n",
    "# svc_start = time.time()\n",
    "# svc_grid.fit(X_train_tfidf, y_train)\n",
    "# svc_end = time.time()\n",
    "# print(f'Time to fit = {svc_end - svc_start:.3f}s')\n",
    "# svc_grid.best_params_"
   ]
  },
  {
   "cell_type": "code",
   "execution_count": 30,
   "id": "60d93186",
   "metadata": {
    "execution": {
     "iopub.execute_input": "2023-12-06T23:03:04.811173Z",
     "iopub.status.busy": "2023-12-06T23:03:04.810440Z",
     "iopub.status.idle": "2023-12-06T23:03:04.815418Z",
     "shell.execute_reply": "2023-12-06T23:03:04.814490Z"
    },
    "papermill": {
     "duration": 0.031948,
     "end_time": "2023-12-06T23:03:04.817786",
     "exception": false,
     "start_time": "2023-12-06T23:03:04.785838",
     "status": "completed"
    },
    "tags": []
   },
   "outputs": [],
   "source": [
    "# svc_preds = svc_grid.predict(X_test_tfidf)\n",
    "# print(f1_score(y_test,svc_preds))\n",
    "# print(classification_report(y_test,svc_preds))\n",
    "# ConfusionMatrixDisplay(confusion_matrix=confusion_matrix(y_test, svc_preds)).plot();"
   ]
  },
  {
   "cell_type": "markdown",
   "id": "e365ce5d",
   "metadata": {
    "papermill": {
     "duration": 0.023009,
     "end_time": "2023-12-06T23:03:04.864264",
     "exception": false,
     "start_time": "2023-12-06T23:03:04.841255",
     "status": "completed"
    },
    "tags": []
   },
   "source": [
    "# Compare Models"
   ]
  },
  {
   "cell_type": "code",
   "execution_count": 31,
   "id": "31a6ec02",
   "metadata": {
    "execution": {
     "iopub.execute_input": "2023-12-06T23:03:04.913576Z",
     "iopub.status.busy": "2023-12-06T23:03:04.912792Z",
     "iopub.status.idle": "2023-12-06T23:03:04.932927Z",
     "shell.execute_reply": "2023-12-06T23:03:04.931814Z"
    },
    "papermill": {
     "duration": 0.048085,
     "end_time": "2023-12-06T23:03:04.935699",
     "exception": false,
     "start_time": "2023-12-06T23:03:04.887614",
     "status": "completed"
    },
    "tags": []
   },
   "outputs": [
    {
     "name": "stdout",
     "output_type": "stream",
     "text": [
      "MNB time to fit = 0.203s\n",
      "MNB f1 score = 0.7320\n",
      "----------\n",
      "LogReg time to fit = 22.409s\n",
      "LogReg f1 score = 0.7470\n",
      "----------\n",
      "SGDClass time to fit = 0.049s\n",
      "SGDClass f1 score = 0.7508\n",
      "----------\n",
      "LinSVC time to fit = 1.653s\n",
      "LinSVC f1 score = 0.7433\n"
     ]
    }
   ],
   "source": [
    "print(f'MNB time to fit = {mnb_end - mnb_start:.3f}s')\n",
    "print(f'MNB f1 score = {f1_score(y_test,mnb_preds):.4f}')\n",
    "print('-'*10)\n",
    "print(f'LogReg time to fit = {log_end - log_start:.3f}s')\n",
    "print(f'LogReg f1 score = {f1_score(y_test,log_preds):.4f}')\n",
    "print('-'*10)\n",
    "print(f'SGDClass time to fit = {sgdc_end - sgdc_start:.3f}s')\n",
    "print(f'SGDClass f1 score = {f1_score(y_test,sgdc_preds):.4f}')\n",
    "print('-'*10)\n",
    "print(f'LinSVC time to fit = {lin_svc_end - lin_svc_start:.3f}s')\n",
    "print(f'LinSVC f1 score = {f1_score(y_test,lin_svc_preds):.4f}')\n",
    "# print('-'*10)\n",
    "# print(f'SVC time to fit = {svc_end - svc_start:.3f}s')\n",
    "# print(f'SVC f1 score = {f1_score(y_test,svc_preds):.4f}')"
   ]
  },
  {
   "cell_type": "markdown",
   "id": "ae52a174",
   "metadata": {
    "papermill": {
     "duration": 0.022983,
     "end_time": "2023-12-06T23:03:04.981977",
     "exception": false,
     "start_time": "2023-12-06T23:03:04.958994",
     "status": "completed"
    },
    "tags": []
   },
   "source": [
    "# Final Data Set prep"
   ]
  },
  {
   "cell_type": "code",
   "execution_count": 32,
   "id": "c46ba636",
   "metadata": {
    "execution": {
     "iopub.execute_input": "2023-12-06T23:03:05.032804Z",
     "iopub.status.busy": "2023-12-06T23:03:05.032352Z",
     "iopub.status.idle": "2023-12-06T23:03:05.678385Z",
     "shell.execute_reply": "2023-12-06T23:03:05.676927Z"
    },
    "papermill": {
     "duration": 0.675337,
     "end_time": "2023-12-06T23:03:05.681388",
     "exception": false,
     "start_time": "2023-12-06T23:03:05.006051",
     "status": "completed"
    },
    "tags": []
   },
   "outputs": [],
   "source": [
    "tfidf = TfidfVectorizer(stop_words='english')\n",
    "tfidf.fit(X['text combo'])\n",
    "X_final_train_tfidf = tfidf.transform(X['text combo'])\n",
    "X_final_test_tfidf = tfidf.transform(df_test['text combo'])\n",
    "ids_out = df_test['id']"
   ]
  },
  {
   "cell_type": "markdown",
   "id": "a2db420c",
   "metadata": {
    "papermill": {
     "duration": 0.023592,
     "end_time": "2023-12-06T23:03:05.728939",
     "exception": false,
     "start_time": "2023-12-06T23:03:05.705347",
     "status": "completed"
    },
    "tags": []
   },
   "source": [
    "## Final dataset"
   ]
  },
  {
   "cell_type": "code",
   "execution_count": 33,
   "id": "79cbddd3",
   "metadata": {
    "execution": {
     "iopub.execute_input": "2023-12-06T23:03:05.779813Z",
     "iopub.status.busy": "2023-12-06T23:03:05.779298Z",
     "iopub.status.idle": "2023-12-06T23:03:05.787891Z",
     "shell.execute_reply": "2023-12-06T23:03:05.786521Z"
    },
    "papermill": {
     "duration": 0.03733,
     "end_time": "2023-12-06T23:03:05.790528",
     "exception": false,
     "start_time": "2023-12-06T23:03:05.753198",
     "status": "completed"
    },
    "tags": []
   },
   "outputs": [
    {
     "data": {
      "text/plain": [
       "<7613x23181 sparse matrix of type '<class 'numpy.float64'>'\n",
       "\twith 84162 stored elements in Compressed Sparse Row format>"
      ]
     },
     "execution_count": 33,
     "metadata": {},
     "output_type": "execute_result"
    }
   ],
   "source": [
    "X_final_train_tfidf"
   ]
  },
  {
   "cell_type": "code",
   "execution_count": 34,
   "id": "420ba71c",
   "metadata": {
    "execution": {
     "iopub.execute_input": "2023-12-06T23:03:05.841784Z",
     "iopub.status.busy": "2023-12-06T23:03:05.841256Z",
     "iopub.status.idle": "2023-12-06T23:03:06.930687Z",
     "shell.execute_reply": "2023-12-06T23:03:06.928153Z"
    },
    "papermill": {
     "duration": 1.1204,
     "end_time": "2023-12-06T23:03:06.935089",
     "exception": false,
     "start_time": "2023-12-06T23:03:05.814689",
     "status": "completed"
    },
    "tags": []
   },
   "outputs": [
    {
     "name": "stdout",
     "output_type": "stream",
     "text": [
      "Time to fit = 1.076s\n"
     ]
    }
   ],
   "source": [
    "# model = SVC(**svc_grid.best_params_)\n",
    "model = LogisticRegression(max_iter=1000, **log_grid.best_params_)\n",
    "# model = SGDClassifier()\n",
    "final_start = time.time()\n",
    "model.fit(X_final_train_tfidf, y)\n",
    "final_end = time.time()\n",
    "print(f'Time to fit = {final_end - final_start:.3f}s')"
   ]
  },
  {
   "cell_type": "code",
   "execution_count": 35,
   "id": "63493db9",
   "metadata": {
    "execution": {
     "iopub.execute_input": "2023-12-06T23:03:07.061121Z",
     "iopub.status.busy": "2023-12-06T23:03:07.060622Z",
     "iopub.status.idle": "2023-12-06T23:03:07.066665Z",
     "shell.execute_reply": "2023-12-06T23:03:07.065800Z"
    },
    "papermill": {
     "duration": 0.042137,
     "end_time": "2023-12-06T23:03:07.069659",
     "exception": false,
     "start_time": "2023-12-06T23:03:07.027522",
     "status": "completed"
    },
    "tags": []
   },
   "outputs": [],
   "source": [
    "final_preds = model.predict(X_final_test_tfidf)"
   ]
  },
  {
   "cell_type": "markdown",
   "id": "d6101be2",
   "metadata": {
    "papermill": {
     "duration": 0.023417,
     "end_time": "2023-12-06T23:03:07.116600",
     "exception": false,
     "start_time": "2023-12-06T23:03:07.093183",
     "status": "completed"
    },
    "tags": []
   },
   "source": [
    "# Final output formatting"
   ]
  },
  {
   "cell_type": "code",
   "execution_count": 36,
   "id": "125b5855",
   "metadata": {
    "execution": {
     "iopub.execute_input": "2023-12-06T23:03:07.165472Z",
     "iopub.status.busy": "2023-12-06T23:03:07.165080Z",
     "iopub.status.idle": "2023-12-06T23:03:07.171152Z",
     "shell.execute_reply": "2023-12-06T23:03:07.170000Z"
    },
    "papermill": {
     "duration": 0.033102,
     "end_time": "2023-12-06T23:03:07.173444",
     "exception": false,
     "start_time": "2023-12-06T23:03:07.140342",
     "status": "completed"
    },
    "tags": []
   },
   "outputs": [],
   "source": [
    "output_df = pd.DataFrame({'id': ids_out,\n",
    "                          'target': final_preds.squeeze()})"
   ]
  },
  {
   "cell_type": "code",
   "execution_count": 37,
   "id": "b8e13ded",
   "metadata": {
    "execution": {
     "iopub.execute_input": "2023-12-06T23:03:07.223240Z",
     "iopub.status.busy": "2023-12-06T23:03:07.222581Z",
     "iopub.status.idle": "2023-12-06T23:03:07.235502Z",
     "shell.execute_reply": "2023-12-06T23:03:07.234271Z"
    },
    "papermill": {
     "duration": 0.041456,
     "end_time": "2023-12-06T23:03:07.238280",
     "exception": false,
     "start_time": "2023-12-06T23:03:07.196824",
     "status": "completed"
    },
    "tags": []
   },
   "outputs": [
    {
     "data": {
      "text/html": [
       "<div>\n",
       "<style scoped>\n",
       "    .dataframe tbody tr th:only-of-type {\n",
       "        vertical-align: middle;\n",
       "    }\n",
       "\n",
       "    .dataframe tbody tr th {\n",
       "        vertical-align: top;\n",
       "    }\n",
       "\n",
       "    .dataframe thead th {\n",
       "        text-align: right;\n",
       "    }\n",
       "</style>\n",
       "<table border=\"1\" class=\"dataframe\">\n",
       "  <thead>\n",
       "    <tr style=\"text-align: right;\">\n",
       "      <th></th>\n",
       "      <th>id</th>\n",
       "      <th>target</th>\n",
       "    </tr>\n",
       "  </thead>\n",
       "  <tbody>\n",
       "    <tr>\n",
       "      <th>0</th>\n",
       "      <td>0</td>\n",
       "      <td>1</td>\n",
       "    </tr>\n",
       "    <tr>\n",
       "      <th>1</th>\n",
       "      <td>2</td>\n",
       "      <td>1</td>\n",
       "    </tr>\n",
       "    <tr>\n",
       "      <th>2</th>\n",
       "      <td>3</td>\n",
       "      <td>1</td>\n",
       "    </tr>\n",
       "    <tr>\n",
       "      <th>3</th>\n",
       "      <td>9</td>\n",
       "      <td>1</td>\n",
       "    </tr>\n",
       "    <tr>\n",
       "      <th>4</th>\n",
       "      <td>11</td>\n",
       "      <td>1</td>\n",
       "    </tr>\n",
       "    <tr>\n",
       "      <th>...</th>\n",
       "      <td>...</td>\n",
       "      <td>...</td>\n",
       "    </tr>\n",
       "    <tr>\n",
       "      <th>3258</th>\n",
       "      <td>10861</td>\n",
       "      <td>1</td>\n",
       "    </tr>\n",
       "    <tr>\n",
       "      <th>3259</th>\n",
       "      <td>10865</td>\n",
       "      <td>1</td>\n",
       "    </tr>\n",
       "    <tr>\n",
       "      <th>3260</th>\n",
       "      <td>10868</td>\n",
       "      <td>1</td>\n",
       "    </tr>\n",
       "    <tr>\n",
       "      <th>3261</th>\n",
       "      <td>10874</td>\n",
       "      <td>1</td>\n",
       "    </tr>\n",
       "    <tr>\n",
       "      <th>3262</th>\n",
       "      <td>10875</td>\n",
       "      <td>1</td>\n",
       "    </tr>\n",
       "  </tbody>\n",
       "</table>\n",
       "<p>3263 rows × 2 columns</p>\n",
       "</div>"
      ],
      "text/plain": [
       "         id  target\n",
       "0         0       1\n",
       "1         2       1\n",
       "2         3       1\n",
       "3         9       1\n",
       "4        11       1\n",
       "...     ...     ...\n",
       "3258  10861       1\n",
       "3259  10865       1\n",
       "3260  10868       1\n",
       "3261  10874       1\n",
       "3262  10875       1\n",
       "\n",
       "[3263 rows x 2 columns]"
      ]
     },
     "execution_count": 37,
     "metadata": {},
     "output_type": "execute_result"
    }
   ],
   "source": [
    "output_df"
   ]
  },
  {
   "cell_type": "code",
   "execution_count": 38,
   "id": "7904f3be",
   "metadata": {
    "execution": {
     "iopub.execute_input": "2023-12-06T23:03:07.288565Z",
     "iopub.status.busy": "2023-12-06T23:03:07.287954Z",
     "iopub.status.idle": "2023-12-06T23:03:07.305684Z",
     "shell.execute_reply": "2023-12-06T23:03:07.304036Z"
    },
    "papermill": {
     "duration": 0.046601,
     "end_time": "2023-12-06T23:03:07.308835",
     "exception": false,
     "start_time": "2023-12-06T23:03:07.262234",
     "status": "completed"
    },
    "tags": []
   },
   "outputs": [],
   "source": [
    "output_df.to_csv('/kaggle/working/submission.csv', index=False)"
   ]
  },
  {
   "cell_type": "code",
   "execution_count": null,
   "id": "7ce42ed9",
   "metadata": {
    "papermill": {
     "duration": 0.023693,
     "end_time": "2023-12-06T23:03:07.356764",
     "exception": false,
     "start_time": "2023-12-06T23:03:07.333071",
     "status": "completed"
    },
    "tags": []
   },
   "outputs": [],
   "source": []
  }
 ],
 "metadata": {
  "kaggle": {
   "accelerator": "none",
   "dataSources": [
    {
     "databundleVersionId": 869809,
     "sourceId": 17777,
     "sourceType": "competition"
    }
   ],
   "dockerImageVersionId": 30587,
   "isGpuEnabled": false,
   "isInternetEnabled": true,
   "language": "python",
   "sourceType": "notebook"
  },
  "kernelspec": {
   "display_name": "Python 3",
   "language": "python",
   "name": "python3"
  },
  "language_info": {
   "codemirror_mode": {
    "name": "ipython",
    "version": 3
   },
   "file_extension": ".py",
   "mimetype": "text/x-python",
   "name": "python",
   "nbconvert_exporter": "python",
   "pygments_lexer": "ipython3",
   "version": "3.10.12"
  },
  "papermill": {
   "default_parameters": {},
   "duration": 41.591145,
   "end_time": "2023-12-06T23:03:08.405621",
   "environment_variables": {},
   "exception": null,
   "input_path": "__notebook__.ipynb",
   "output_path": "__notebook__.ipynb",
   "parameters": {},
   "start_time": "2023-12-06T23:02:26.814476",
   "version": "2.4.0"
  }
 },
 "nbformat": 4,
 "nbformat_minor": 5
}
