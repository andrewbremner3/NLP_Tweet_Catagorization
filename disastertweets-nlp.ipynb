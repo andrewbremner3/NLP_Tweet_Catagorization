{
 "cells": [
  {
   "cell_type": "code",
   "execution_count": 1,
   "id": "88d8ae08",
   "metadata": {
    "_cell_guid": "b1076dfc-b9ad-4769-8c92-a6c4dae69d19",
    "_uuid": "8f2839f25d086af736a60e9eeb907d3b93b6e0e5",
    "execution": {
     "iopub.execute_input": "2023-12-05T22:30:13.708765Z",
     "iopub.status.busy": "2023-12-05T22:30:13.708138Z",
     "iopub.status.idle": "2023-12-05T22:30:16.158138Z",
     "shell.execute_reply": "2023-12-05T22:30:16.156296Z"
    },
    "papermill": {
     "duration": 2.474351,
     "end_time": "2023-12-05T22:30:16.162925",
     "exception": false,
     "start_time": "2023-12-05T22:30:13.688574",
     "status": "completed"
    },
    "tags": []
   },
   "outputs": [
    {
     "name": "stdout",
     "output_type": "stream",
     "text": [
      "/kaggle/input/nlp-getting-started/sample_submission.csv\n",
      "/kaggle/input/nlp-getting-started/train.csv\n",
      "/kaggle/input/nlp-getting-started/test.csv\n"
     ]
    }
   ],
   "source": [
    "# This Python 3 environment comes with many helpful analytics libraries installed\n",
    "# It is defined by the kaggle/python Docker image: https://github.com/kaggle/docker-python\n",
    "# For example, here's several helpful packages to load\n",
    "\n",
    "import numpy as np # linear algebra\n",
    "import pandas as pd # data processing, CSV file I/O (e.g. pd.read_csv)\n",
    "import seaborn as sns\n",
    "import matplotlib.pyplot as plt\n",
    "import time\n",
    "import re\n",
    "\n",
    "# Input data files are available in the read-only \"../input/\" directory\n",
    "# For example, running this (by clicking run or pressing Shift+Enter) will list all files under the input directory\n",
    "\n",
    "import os\n",
    "for dirname, _, filenames in os.walk('/kaggle/input'):\n",
    "    for filename in filenames:\n",
    "        print(os.path.join(dirname, filename))\n",
    "\n",
    "# You can write up to 20GB to the current directory (/kaggle/working/) that gets preserved as output when you create a version using \"Save & Run All\" \n",
    "# You can also write temporary files to /kaggle/temp/, but they won't be saved outside of the current session"
   ]
  },
  {
   "cell_type": "markdown",
   "id": "a46703a5",
   "metadata": {
    "papermill": {
     "duration": 0.021006,
     "end_time": "2023-12-05T22:30:16.207393",
     "exception": false,
     "start_time": "2023-12-05T22:30:16.186387",
     "status": "completed"
    },
    "tags": []
   },
   "source": [
    "# Read in Train and Test Data sets"
   ]
  },
  {
   "cell_type": "code",
   "execution_count": 2,
   "id": "8a450a14",
   "metadata": {
    "execution": {
     "iopub.execute_input": "2023-12-05T22:30:16.242918Z",
     "iopub.status.busy": "2023-12-05T22:30:16.241932Z",
     "iopub.status.idle": "2023-12-05T22:30:16.344588Z",
     "shell.execute_reply": "2023-12-05T22:30:16.343390Z"
    },
    "papermill": {
     "duration": 0.124024,
     "end_time": "2023-12-05T22:30:16.347794",
     "exception": false,
     "start_time": "2023-12-05T22:30:16.223770",
     "status": "completed"
    },
    "tags": []
   },
   "outputs": [],
   "source": [
    "df = pd.read_csv(\"/kaggle/input/nlp-getting-started/train.csv\")\n",
    "df_test = pd.read_csv(\"/kaggle/input/nlp-getting-started/test.csv\")"
   ]
  },
  {
   "cell_type": "code",
   "execution_count": 3,
   "id": "7b05fd3b",
   "metadata": {
    "execution": {
     "iopub.execute_input": "2023-12-05T22:30:16.383645Z",
     "iopub.status.busy": "2023-12-05T22:30:16.382798Z",
     "iopub.status.idle": "2023-12-05T22:30:16.410626Z",
     "shell.execute_reply": "2023-12-05T22:30:16.409230Z"
    },
    "papermill": {
     "duration": 0.049271,
     "end_time": "2023-12-05T22:30:16.413950",
     "exception": false,
     "start_time": "2023-12-05T22:30:16.364679",
     "status": "completed"
    },
    "tags": []
   },
   "outputs": [
    {
     "data": {
      "text/html": [
       "<div>\n",
       "<style scoped>\n",
       "    .dataframe tbody tr th:only-of-type {\n",
       "        vertical-align: middle;\n",
       "    }\n",
       "\n",
       "    .dataframe tbody tr th {\n",
       "        vertical-align: top;\n",
       "    }\n",
       "\n",
       "    .dataframe thead th {\n",
       "        text-align: right;\n",
       "    }\n",
       "</style>\n",
       "<table border=\"1\" class=\"dataframe\">\n",
       "  <thead>\n",
       "    <tr style=\"text-align: right;\">\n",
       "      <th></th>\n",
       "      <th>id</th>\n",
       "      <th>keyword</th>\n",
       "      <th>location</th>\n",
       "      <th>text</th>\n",
       "      <th>target</th>\n",
       "    </tr>\n",
       "  </thead>\n",
       "  <tbody>\n",
       "    <tr>\n",
       "      <th>0</th>\n",
       "      <td>1</td>\n",
       "      <td>NaN</td>\n",
       "      <td>NaN</td>\n",
       "      <td>Our Deeds are the Reason of this #earthquake M...</td>\n",
       "      <td>1</td>\n",
       "    </tr>\n",
       "    <tr>\n",
       "      <th>1</th>\n",
       "      <td>4</td>\n",
       "      <td>NaN</td>\n",
       "      <td>NaN</td>\n",
       "      <td>Forest fire near La Ronge Sask. Canada</td>\n",
       "      <td>1</td>\n",
       "    </tr>\n",
       "    <tr>\n",
       "      <th>2</th>\n",
       "      <td>5</td>\n",
       "      <td>NaN</td>\n",
       "      <td>NaN</td>\n",
       "      <td>All residents asked to 'shelter in place' are ...</td>\n",
       "      <td>1</td>\n",
       "    </tr>\n",
       "    <tr>\n",
       "      <th>3</th>\n",
       "      <td>6</td>\n",
       "      <td>NaN</td>\n",
       "      <td>NaN</td>\n",
       "      <td>13,000 people receive #wildfires evacuation or...</td>\n",
       "      <td>1</td>\n",
       "    </tr>\n",
       "    <tr>\n",
       "      <th>4</th>\n",
       "      <td>7</td>\n",
       "      <td>NaN</td>\n",
       "      <td>NaN</td>\n",
       "      <td>Just got sent this photo from Ruby #Alaska as ...</td>\n",
       "      <td>1</td>\n",
       "    </tr>\n",
       "  </tbody>\n",
       "</table>\n",
       "</div>"
      ],
      "text/plain": [
       "   id keyword location                                               text  \\\n",
       "0   1     NaN      NaN  Our Deeds are the Reason of this #earthquake M...   \n",
       "1   4     NaN      NaN             Forest fire near La Ronge Sask. Canada   \n",
       "2   5     NaN      NaN  All residents asked to 'shelter in place' are ...   \n",
       "3   6     NaN      NaN  13,000 people receive #wildfires evacuation or...   \n",
       "4   7     NaN      NaN  Just got sent this photo from Ruby #Alaska as ...   \n",
       "\n",
       "   target  \n",
       "0       1  \n",
       "1       1  \n",
       "2       1  \n",
       "3       1  \n",
       "4       1  "
      ]
     },
     "execution_count": 3,
     "metadata": {},
     "output_type": "execute_result"
    }
   ],
   "source": [
    "df.head()"
   ]
  },
  {
   "cell_type": "markdown",
   "id": "b9a0507e",
   "metadata": {
    "papermill": {
     "duration": 0.016332,
     "end_time": "2023-12-05T22:30:16.447013",
     "exception": false,
     "start_time": "2023-12-05T22:30:16.430681",
     "status": "completed"
    },
    "tags": []
   },
   "source": [
    "### Check for null values"
   ]
  },
  {
   "cell_type": "code",
   "execution_count": 4,
   "id": "4ca30708",
   "metadata": {
    "execution": {
     "iopub.execute_input": "2023-12-05T22:30:16.483790Z",
     "iopub.status.busy": "2023-12-05T22:30:16.483251Z",
     "iopub.status.idle": "2023-12-05T22:30:16.502742Z",
     "shell.execute_reply": "2023-12-05T22:30:16.501322Z"
    },
    "papermill": {
     "duration": 0.042357,
     "end_time": "2023-12-05T22:30:16.506500",
     "exception": false,
     "start_time": "2023-12-05T22:30:16.464143",
     "status": "completed"
    },
    "tags": []
   },
   "outputs": [
    {
     "data": {
      "text/plain": [
       "id             0\n",
       "keyword       61\n",
       "location    2533\n",
       "text           0\n",
       "target         0\n",
       "dtype: int64"
      ]
     },
     "execution_count": 4,
     "metadata": {},
     "output_type": "execute_result"
    }
   ],
   "source": [
    "df.isnull().sum()"
   ]
  },
  {
   "cell_type": "code",
   "execution_count": 5,
   "id": "5c459cb2",
   "metadata": {
    "execution": {
     "iopub.execute_input": "2023-12-05T22:30:16.551266Z",
     "iopub.status.busy": "2023-12-05T22:30:16.549855Z",
     "iopub.status.idle": "2023-12-05T22:30:16.564238Z",
     "shell.execute_reply": "2023-12-05T22:30:16.562854Z"
    },
    "papermill": {
     "duration": 0.038817,
     "end_time": "2023-12-05T22:30:16.567277",
     "exception": false,
     "start_time": "2023-12-05T22:30:16.528460",
     "status": "completed"
    },
    "tags": []
   },
   "outputs": [
    {
     "data": {
      "text/plain": [
       "id             0\n",
       "keyword       26\n",
       "location    1105\n",
       "text           0\n",
       "dtype: int64"
      ]
     },
     "execution_count": 5,
     "metadata": {},
     "output_type": "execute_result"
    }
   ],
   "source": [
    "df_test.isnull().sum()"
   ]
  },
  {
   "cell_type": "markdown",
   "id": "0ed7eb24",
   "metadata": {
    "papermill": {
     "duration": 0.019738,
     "end_time": "2023-12-05T22:30:16.604284",
     "exception": false,
     "start_time": "2023-12-05T22:30:16.584546",
     "status": "completed"
    },
    "tags": []
   },
   "source": [
    "Key words have %20 instead of spaces so fill those"
   ]
  },
  {
   "cell_type": "code",
   "execution_count": 6,
   "id": "bc4e8f19",
   "metadata": {
    "execution": {
     "iopub.execute_input": "2023-12-05T22:30:16.642582Z",
     "iopub.status.busy": "2023-12-05T22:30:16.641679Z",
     "iopub.status.idle": "2023-12-05T22:30:16.655307Z",
     "shell.execute_reply": "2023-12-05T22:30:16.653821Z"
    },
    "papermill": {
     "duration": 0.036953,
     "end_time": "2023-12-05T22:30:16.658303",
     "exception": false,
     "start_time": "2023-12-05T22:30:16.621350",
     "status": "completed"
    },
    "tags": []
   },
   "outputs": [
    {
     "data": {
      "text/plain": [
       "array([nan, 'ablaze', 'accident', 'aftershock', 'airplane%20accident',\n",
       "       'ambulance', 'annihilated', 'annihilation', 'apocalypse',\n",
       "       'armageddon', 'army', 'arson', 'arsonist', 'attack', 'attacked',\n",
       "       'avalanche', 'battle', 'bioterror', 'bioterrorism', 'blaze',\n",
       "       'blazing', 'bleeding', 'blew%20up', 'blight', 'blizzard'],\n",
       "      dtype=object)"
      ]
     },
     "execution_count": 6,
     "metadata": {},
     "output_type": "execute_result"
    }
   ],
   "source": [
    "df['keyword'].unique()[:25]"
   ]
  },
  {
   "cell_type": "markdown",
   "id": "3e52f502",
   "metadata": {
    "papermill": {
     "duration": 0.017459,
     "end_time": "2023-12-05T22:30:16.693422",
     "exception": false,
     "start_time": "2023-12-05T22:30:16.675963",
     "status": "completed"
    },
    "tags": []
   },
   "source": [
    "**Tweet cleaner**"
   ]
  },
  {
   "cell_type": "code",
   "execution_count": 7,
   "id": "5311e8e7",
   "metadata": {
    "execution": {
     "iopub.execute_input": "2023-12-05T22:30:16.731967Z",
     "iopub.status.busy": "2023-12-05T22:30:16.730514Z",
     "iopub.status.idle": "2023-12-05T22:30:16.739193Z",
     "shell.execute_reply": "2023-12-05T22:30:16.737654Z"
    },
    "papermill": {
     "duration": 0.030729,
     "end_time": "2023-12-05T22:30:16.742303",
     "exception": false,
     "start_time": "2023-12-05T22:30:16.711574",
     "status": "completed"
    },
    "tags": []
   },
   "outputs": [],
   "source": [
    "def cleaner(tweet):\n",
    "    tweet = re.sub(\"@[A-Za-z0-9]+\",\"\",tweet) #Remove @ sign\n",
    "    tweet = re.sub(r\"(?:\\@|http?\\://|https?\\://|www)\\S+\", \"\", tweet) #Remove http links\n",
    "    tweet = \" \".join(tweet.split())\n",
    "    #tweet = ''.join(c for c in tweet if c not in emoji.UNICODE_EMOJI) #Remove Emojis\n",
    "    tweet = tweet.replace(\"#\", \"\").replace(\"_\", \" \") #Remove hashtag sign but keep the text\n",
    "    #tweet = \" \".join(w for w in nltk.wordpunct_tokenize(tweet) \\\n",
    "    #    if w.lower() in words or not w.isalpha())\n",
    "    return tweet"
   ]
  },
  {
   "cell_type": "markdown",
   "id": "0239a0c8",
   "metadata": {
    "papermill": {
     "duration": 0.016603,
     "end_time": "2023-12-05T22:30:16.776953",
     "exception": false,
     "start_time": "2023-12-05T22:30:16.760350",
     "status": "completed"
    },
    "tags": []
   },
   "source": [
    "**Fix Training set by filling na values with '' and %20 with ' '.**"
   ]
  },
  {
   "cell_type": "code",
   "execution_count": 8,
   "id": "f680fed0",
   "metadata": {
    "execution": {
     "iopub.execute_input": "2023-12-05T22:30:16.917981Z",
     "iopub.status.busy": "2023-12-05T22:30:16.916878Z",
     "iopub.status.idle": "2023-12-05T22:30:17.046358Z",
     "shell.execute_reply": "2023-12-05T22:30:17.045128Z"
    },
    "papermill": {
     "duration": 0.15987,
     "end_time": "2023-12-05T22:30:17.049456",
     "exception": false,
     "start_time": "2023-12-05T22:30:16.889586",
     "status": "completed"
    },
    "tags": []
   },
   "outputs": [],
   "source": [
    "df['location']=df['location'].fillna('')\n",
    "df['keyword']=df['keyword'].fillna('')\n",
    "df['text'] = df['text'].map(lambda x: cleaner(x))\n",
    "df = df.replace('%20', ' ', regex=True)"
   ]
  },
  {
   "cell_type": "code",
   "execution_count": 9,
   "id": "fea4a413",
   "metadata": {
    "execution": {
     "iopub.execute_input": "2023-12-05T22:30:17.086523Z",
     "iopub.status.busy": "2023-12-05T22:30:17.086004Z",
     "iopub.status.idle": "2023-12-05T22:30:17.146905Z",
     "shell.execute_reply": "2023-12-05T22:30:17.145505Z"
    },
    "papermill": {
     "duration": 0.083816,
     "end_time": "2023-12-05T22:30:17.150643",
     "exception": false,
     "start_time": "2023-12-05T22:30:17.066827",
     "status": "completed"
    },
    "tags": []
   },
   "outputs": [],
   "source": [
    "df_test['location'] = df_test['location'].fillna('')\n",
    "df_test['keyword'] = df_test['keyword'].fillna('')\n",
    "df_test['text'] = df_test['text'].map(lambda x: cleaner(x))\n",
    "df_test = df_test.replace('%20', ' ', regex=True)"
   ]
  },
  {
   "cell_type": "code",
   "execution_count": 10,
   "id": "32babd7b",
   "metadata": {
    "execution": {
     "iopub.execute_input": "2023-12-05T22:30:17.189020Z",
     "iopub.status.busy": "2023-12-05T22:30:17.188205Z",
     "iopub.status.idle": "2023-12-05T22:30:17.596435Z",
     "shell.execute_reply": "2023-12-05T22:30:17.594999Z"
    },
    "papermill": {
     "duration": 0.431671,
     "end_time": "2023-12-05T22:30:17.599871",
     "exception": false,
     "start_time": "2023-12-05T22:30:17.168200",
     "status": "completed"
    },
    "tags": []
   },
   "outputs": [
    {
     "data": {
      "image/png": "[encoded data removed]",
      "text/plain": [
       "<Figure size 640x480 with 1 Axes>"
      ]
     },
     "metadata": {},
     "output_type": "display_data"
    }
   ],
   "source": [
    "sns.countplot(data=df, x='target');"
   ]
  },
  {
   "cell_type": "code",
   "execution_count": 11,
   "id": "f6f0ccf9",
   "metadata": {
    "execution": {
     "iopub.execute_input": "2023-12-05T22:30:17.638067Z",
     "iopub.status.busy": "2023-12-05T22:30:17.637506Z",
     "iopub.status.idle": "2023-12-05T22:30:17.658239Z",
     "shell.execute_reply": "2023-12-05T22:30:17.657201Z"
    },
    "papermill": {
     "duration": 0.043113,
     "end_time": "2023-12-05T22:30:17.660988",
     "exception": false,
     "start_time": "2023-12-05T22:30:17.617875",
     "status": "completed"
    },
    "tags": []
   },
   "outputs": [
    {
     "data": {
      "text/html": [
       "<div>\n",
       "<style scoped>\n",
       "    .dataframe tbody tr th:only-of-type {\n",
       "        vertical-align: middle;\n",
       "    }\n",
       "\n",
       "    .dataframe tbody tr th {\n",
       "        vertical-align: top;\n",
       "    }\n",
       "\n",
       "    .dataframe thead th {\n",
       "        text-align: right;\n",
       "    }\n",
       "</style>\n",
       "<table border=\"1\" class=\"dataframe\">\n",
       "  <thead>\n",
       "    <tr style=\"text-align: right;\">\n",
       "      <th></th>\n",
       "      <th>id</th>\n",
       "      <th>keyword</th>\n",
       "      <th>location</th>\n",
       "      <th>text</th>\n",
       "      <th>target</th>\n",
       "    </tr>\n",
       "  </thead>\n",
       "  <tbody>\n",
       "    <tr>\n",
       "      <th>800</th>\n",
       "      <td>1160</td>\n",
       "      <td>blight</td>\n",
       "      <td>Laventillemoorings</td>\n",
       "      <td>If you dotish to blight your car go right ahea...</td>\n",
       "      <td>0</td>\n",
       "    </tr>\n",
       "    <tr>\n",
       "      <th>801</th>\n",
       "      <td>1162</td>\n",
       "      <td>blight</td>\n",
       "      <td>UK</td>\n",
       "      <td>Sexual Revolution:Blight For Women is out! Sto...</td>\n",
       "      <td>0</td>\n",
       "    </tr>\n",
       "    <tr>\n",
       "      <th>802</th>\n",
       "      <td>1164</td>\n",
       "      <td>blight</td>\n",
       "      <td>Scotland</td>\n",
       "      <td>LIKE I SWEAR THE SECRET WE'LL UNCOVER IS THE O...</td>\n",
       "      <td>0</td>\n",
       "    </tr>\n",
       "    <tr>\n",
       "      <th>803</th>\n",
       "      <td>1166</td>\n",
       "      <td>blight</td>\n",
       "      <td>London</td>\n",
       "      <td>what is double result live on the app?</td>\n",
       "      <td>0</td>\n",
       "    </tr>\n",
       "    <tr>\n",
       "      <th>804</th>\n",
       "      <td>1167</td>\n",
       "      <td>blight</td>\n",
       "      <td>Vancouver, BC</td>\n",
       "      <td>first off it is the ZippoLine as no one wants ...</td>\n",
       "      <td>0</td>\n",
       "    </tr>\n",
       "    <tr>\n",
       "      <th>...</th>\n",
       "      <td>...</td>\n",
       "      <td>...</td>\n",
       "      <td>...</td>\n",
       "      <td>...</td>\n",
       "      <td>...</td>\n",
       "    </tr>\n",
       "    <tr>\n",
       "      <th>1395</th>\n",
       "      <td>2014</td>\n",
       "      <td>casualties</td>\n",
       "      <td>Philippines</td>\n",
       "      <td>Civilian casualties rise as Afghan war intensi...</td>\n",
       "      <td>1</td>\n",
       "    </tr>\n",
       "    <tr>\n",
       "      <th>1396</th>\n",
       "      <td>2015</td>\n",
       "      <td>casualties</td>\n",
       "      <td></td>\n",
       "      <td>Afghan conflict sees 'sharp rise' in female ca...</td>\n",
       "      <td>1</td>\n",
       "    </tr>\n",
       "    <tr>\n",
       "      <th>1397</th>\n",
       "      <td>2016</td>\n",
       "      <td>casualties</td>\n",
       "      <td>Bronx, New York</td>\n",
       "      <td>Warfighting Robots Could Reduce Civilian Casua...</td>\n",
       "      <td>1</td>\n",
       "    </tr>\n",
       "    <tr>\n",
       "      <th>1398</th>\n",
       "      <td>2017</td>\n",
       "      <td>casualties</td>\n",
       "      <td>Canadian bread</td>\n",
       "      <td>I'm all for that to be honest. If people want ...</td>\n",
       "      <td>0</td>\n",
       "    </tr>\n",
       "    <tr>\n",
       "      <th>1399</th>\n",
       "      <td>2019</td>\n",
       "      <td>casualties</td>\n",
       "      <td>Phoenix, AZ</td>\n",
       "      <td>Afghanistan: U.N. Reports 'Record-High Levels'...</td>\n",
       "      <td>1</td>\n",
       "    </tr>\n",
       "  </tbody>\n",
       "</table>\n",
       "<p>600 rows × 5 columns</p>\n",
       "</div>"
      ],
      "text/plain": [
       "        id     keyword             location  \\\n",
       "800   1160      blight  Laventillemoorings    \n",
       "801   1162      blight                   UK   \n",
       "802   1164      blight             Scotland   \n",
       "803   1166      blight               London   \n",
       "804   1167      blight        Vancouver, BC   \n",
       "...    ...         ...                  ...   \n",
       "1395  2014  casualties          Philippines   \n",
       "1396  2015  casualties                        \n",
       "1397  2016  casualties      Bronx, New York   \n",
       "1398  2017  casualties       Canadian bread   \n",
       "1399  2019  casualties          Phoenix, AZ   \n",
       "\n",
       "                                                   text  target  \n",
       "800   If you dotish to blight your car go right ahea...       0  \n",
       "801   Sexual Revolution:Blight For Women is out! Sto...       0  \n",
       "802   LIKE I SWEAR THE SECRET WE'LL UNCOVER IS THE O...       0  \n",
       "803              what is double result live on the app?       0  \n",
       "804   first off it is the ZippoLine as no one wants ...       0  \n",
       "...                                                 ...     ...  \n",
       "1395  Civilian casualties rise as Afghan war intensi...       1  \n",
       "1396  Afghan conflict sees 'sharp rise' in female ca...       1  \n",
       "1397  Warfighting Robots Could Reduce Civilian Casua...       1  \n",
       "1398  I'm all for that to be honest. If people want ...       0  \n",
       "1399  Afghanistan: U.N. Reports 'Record-High Levels'...       1  \n",
       "\n",
       "[600 rows x 5 columns]"
      ]
     },
     "execution_count": 11,
     "metadata": {},
     "output_type": "execute_result"
    }
   ],
   "source": [
    "df[800:1400]"
   ]
  },
  {
   "cell_type": "markdown",
   "id": "27861f11",
   "metadata": {
    "papermill": {
     "duration": 0.017947,
     "end_time": "2023-12-05T22:30:17.697572",
     "exception": false,
     "start_time": "2023-12-05T22:30:17.679625",
     "status": "completed"
    },
    "tags": []
   },
   "source": [
    "## Plot to show some of the positive/negative ratios for given keywords\n",
    "Some of the keywords are pretty strongly correlated"
   ]
  },
  {
   "cell_type": "code",
   "execution_count": 12,
   "id": "785cabf1",
   "metadata": {
    "execution": {
     "iopub.execute_input": "2023-12-05T22:30:17.736344Z",
     "iopub.status.busy": "2023-12-05T22:30:17.735468Z",
     "iopub.status.idle": "2023-12-05T22:30:18.762185Z",
     "shell.execute_reply": "2023-12-05T22:30:18.759572Z"
    },
    "papermill": {
     "duration": 1.049924,
     "end_time": "2023-12-05T22:30:18.765587",
     "exception": false,
     "start_time": "2023-12-05T22:30:17.715663",
     "status": "completed"
    },
    "tags": []
   },
   "outputs": [
    {
     "data": {
      "image/png": "[encoded data removed]",
      "text/plain": [
       "<Figure size 1000x400 with 1 Axes>"
      ]
     },
     "metadata": {},
     "output_type": "display_data"
    }
   ],
   "source": [
    "plt.figure(figsize=(10,4))\n",
    "sns.countplot(data=df[1000:2500], x='keyword',hue='target')\n",
    "plt.xticks(rotation=90);"
   ]
  },
  {
   "cell_type": "markdown",
   "id": "27d6379a",
   "metadata": {
    "papermill": {
     "duration": 0.019352,
     "end_time": "2023-12-05T22:30:18.805397",
     "exception": false,
     "start_time": "2023-12-05T22:30:18.786045",
     "status": "completed"
    },
    "tags": []
   },
   "source": [
    "# Split Train Data to do inital testing"
   ]
  },
  {
   "cell_type": "code",
   "execution_count": 13,
   "id": "ca95efdd",
   "metadata": {
    "execution": {
     "iopub.execute_input": "2023-12-05T22:30:18.847141Z",
     "iopub.status.busy": "2023-12-05T22:30:18.846313Z",
     "iopub.status.idle": "2023-12-05T22:30:19.176520Z",
     "shell.execute_reply": "2023-12-05T22:30:19.174764Z"
    },
    "papermill": {
     "duration": 0.354565,
     "end_time": "2023-12-05T22:30:19.179790",
     "exception": false,
     "start_time": "2023-12-05T22:30:18.825225",
     "status": "completed"
    },
    "tags": []
   },
   "outputs": [],
   "source": [
    "from sklearn.model_selection import train_test_split"
   ]
  },
  {
   "cell_type": "code",
   "execution_count": 14,
   "id": "c8e38f23",
   "metadata": {
    "execution": {
     "iopub.execute_input": "2023-12-05T22:30:19.223699Z",
     "iopub.status.busy": "2023-12-05T22:30:19.223203Z",
     "iopub.status.idle": "2023-12-05T22:30:19.255469Z",
     "shell.execute_reply": "2023-12-05T22:30:19.254101Z"
    },
    "papermill": {
     "duration": 0.056858,
     "end_time": "2023-12-05T22:30:19.258508",
     "exception": false,
     "start_time": "2023-12-05T22:30:19.201650",
     "status": "completed"
    },
    "tags": []
   },
   "outputs": [
    {
     "data": {
      "text/html": [
       "<div>\n",
       "<style scoped>\n",
       "    .dataframe tbody tr th:only-of-type {\n",
       "        vertical-align: middle;\n",
       "    }\n",
       "\n",
       "    .dataframe tbody tr th {\n",
       "        vertical-align: top;\n",
       "    }\n",
       "\n",
       "    .dataframe thead th {\n",
       "        text-align: right;\n",
       "    }\n",
       "</style>\n",
       "<table border=\"1\" class=\"dataframe\">\n",
       "  <thead>\n",
       "    <tr style=\"text-align: right;\">\n",
       "      <th></th>\n",
       "      <th>id</th>\n",
       "      <th>keyword</th>\n",
       "      <th>location</th>\n",
       "      <th>text</th>\n",
       "      <th>target</th>\n",
       "      <th>text combo</th>\n",
       "    </tr>\n",
       "  </thead>\n",
       "  <tbody>\n",
       "    <tr>\n",
       "      <th>800</th>\n",
       "      <td>1160</td>\n",
       "      <td>blight</td>\n",
       "      <td>Laventillemoorings</td>\n",
       "      <td>If you dotish to blight your car go right ahea...</td>\n",
       "      <td>0</td>\n",
       "      <td>blight blight blight Laventillemoorings  If yo...</td>\n",
       "    </tr>\n",
       "    <tr>\n",
       "      <th>801</th>\n",
       "      <td>1162</td>\n",
       "      <td>blight</td>\n",
       "      <td>UK</td>\n",
       "      <td>Sexual Revolution:Blight For Women is out! Sto...</td>\n",
       "      <td>0</td>\n",
       "      <td>blight blight blight UK Sexual Revolution:Blig...</td>\n",
       "    </tr>\n",
       "    <tr>\n",
       "      <th>802</th>\n",
       "      <td>1164</td>\n",
       "      <td>blight</td>\n",
       "      <td>Scotland</td>\n",
       "      <td>LIKE I SWEAR THE SECRET WE'LL UNCOVER IS THE O...</td>\n",
       "      <td>0</td>\n",
       "      <td>blight blight blight Scotland LIKE I SWEAR THE...</td>\n",
       "    </tr>\n",
       "    <tr>\n",
       "      <th>803</th>\n",
       "      <td>1166</td>\n",
       "      <td>blight</td>\n",
       "      <td>London</td>\n",
       "      <td>what is double result live on the app?</td>\n",
       "      <td>0</td>\n",
       "      <td>blight blight blight London what is double res...</td>\n",
       "    </tr>\n",
       "  </tbody>\n",
       "</table>\n",
       "</div>"
      ],
      "text/plain": [
       "       id keyword             location  \\\n",
       "800  1160  blight  Laventillemoorings    \n",
       "801  1162  blight                   UK   \n",
       "802  1164  blight             Scotland   \n",
       "803  1166  blight               London   \n",
       "\n",
       "                                                  text  target  \\\n",
       "800  If you dotish to blight your car go right ahea...       0   \n",
       "801  Sexual Revolution:Blight For Women is out! Sto...       0   \n",
       "802  LIKE I SWEAR THE SECRET WE'LL UNCOVER IS THE O...       0   \n",
       "803             what is double result live on the app?       0   \n",
       "\n",
       "                                            text combo  \n",
       "800  blight blight blight Laventillemoorings  If yo...  \n",
       "801  blight blight blight UK Sexual Revolution:Blig...  \n",
       "802  blight blight blight Scotland LIKE I SWEAR THE...  \n",
       "803  blight blight blight London what is double res...  "
      ]
     },
     "execution_count": 14,
     "metadata": {},
     "output_type": "execute_result"
    }
   ],
   "source": [
    "df['text combo'] = (df['keyword']+\" \")*3+df['location']+\" \"+df['text']\n",
    "df_test['text combo'] = (df_test['keyword']+\" \")*3+df_test['location']+\" \"+df_test['text']\n",
    "\n",
    "df[800:804]"
   ]
  },
  {
   "cell_type": "code",
   "execution_count": 15,
   "id": "273f6f3f",
   "metadata": {
    "execution": {
     "iopub.execute_input": "2023-12-05T22:30:19.300592Z",
     "iopub.status.busy": "2023-12-05T22:30:19.300106Z",
     "iopub.status.idle": "2023-12-05T22:30:19.318146Z",
     "shell.execute_reply": "2023-12-05T22:30:19.316967Z"
    },
    "papermill": {
     "duration": 0.043332,
     "end_time": "2023-12-05T22:30:19.321504",
     "exception": false,
     "start_time": "2023-12-05T22:30:19.278172",
     "status": "completed"
    },
    "tags": []
   },
   "outputs": [],
   "source": [
    "#X = df.drop(['target','id'], axis=1)\n",
    "X = df.drop('target',axis=1)\n",
    "y = df['target']\n",
    "X_train, X_test, y_train, y_test = train_test_split(X, y, test_size=0.1, random_state=814)\n",
    "ids_train = X_train['id']\n",
    "X_train = X_train['text combo']\n",
    "ids_test = X_test['id']\n",
    "X_test = X_test['text combo']"
   ]
  },
  {
   "cell_type": "code",
   "execution_count": 16,
   "id": "1af6e407",
   "metadata": {
    "execution": {
     "iopub.execute_input": "2023-12-05T22:30:19.363495Z",
     "iopub.status.busy": "2023-12-05T22:30:19.362799Z",
     "iopub.status.idle": "2023-12-05T22:30:19.381384Z",
     "shell.execute_reply": "2023-12-05T22:30:19.379974Z"
    },
    "papermill": {
     "duration": 0.042987,
     "end_time": "2023-12-05T22:30:19.384238",
     "exception": false,
     "start_time": "2023-12-05T22:30:19.341251",
     "status": "completed"
    },
    "tags": []
   },
   "outputs": [
    {
     "data": {
      "text/html": [
       "<div>\n",
       "<style scoped>\n",
       "    .dataframe tbody tr th:only-of-type {\n",
       "        vertical-align: middle;\n",
       "    }\n",
       "\n",
       "    .dataframe tbody tr th {\n",
       "        vertical-align: top;\n",
       "    }\n",
       "\n",
       "    .dataframe thead th {\n",
       "        text-align: right;\n",
       "    }\n",
       "</style>\n",
       "<table border=\"1\" class=\"dataframe\">\n",
       "  <thead>\n",
       "    <tr style=\"text-align: right;\">\n",
       "      <th></th>\n",
       "      <th>id</th>\n",
       "      <th>keyword</th>\n",
       "      <th>location</th>\n",
       "      <th>text</th>\n",
       "      <th>text combo</th>\n",
       "    </tr>\n",
       "  </thead>\n",
       "  <tbody>\n",
       "    <tr>\n",
       "      <th>0</th>\n",
       "      <td>0</td>\n",
       "      <td></td>\n",
       "      <td></td>\n",
       "      <td>Just happened a terrible car crash</td>\n",
       "      <td>Just happened a terrible car crash</td>\n",
       "    </tr>\n",
       "    <tr>\n",
       "      <th>1</th>\n",
       "      <td>2</td>\n",
       "      <td></td>\n",
       "      <td></td>\n",
       "      <td>Heard about earthquake is different cities, st...</td>\n",
       "      <td>Heard about earthquake is different cities...</td>\n",
       "    </tr>\n",
       "    <tr>\n",
       "      <th>2</th>\n",
       "      <td>3</td>\n",
       "      <td></td>\n",
       "      <td></td>\n",
       "      <td>there is a forest fire at spot pond, geese are...</td>\n",
       "      <td>there is a forest fire at spot pond, geese...</td>\n",
       "    </tr>\n",
       "    <tr>\n",
       "      <th>3</th>\n",
       "      <td>9</td>\n",
       "      <td></td>\n",
       "      <td></td>\n",
       "      <td>Apocalypse lighting. Spokane wildfires</td>\n",
       "      <td>Apocalypse lighting. Spokane wildfires</td>\n",
       "    </tr>\n",
       "    <tr>\n",
       "      <th>4</th>\n",
       "      <td>11</td>\n",
       "      <td></td>\n",
       "      <td></td>\n",
       "      <td>Typhoon Soudelor kills 28 in China and Taiwan</td>\n",
       "      <td>Typhoon Soudelor kills 28 in China and Taiwan</td>\n",
       "    </tr>\n",
       "    <tr>\n",
       "      <th>...</th>\n",
       "      <td>...</td>\n",
       "      <td>...</td>\n",
       "      <td>...</td>\n",
       "      <td>...</td>\n",
       "      <td>...</td>\n",
       "    </tr>\n",
       "    <tr>\n",
       "      <th>3258</th>\n",
       "      <td>10861</td>\n",
       "      <td></td>\n",
       "      <td></td>\n",
       "      <td>EARTHQUAKE SAFETY LOS ANGELES ÛÒ SAFETY FASTE...</td>\n",
       "      <td>EARTHQUAKE SAFETY LOS ANGELES ÛÒ SAFETY F...</td>\n",
       "    </tr>\n",
       "    <tr>\n",
       "      <th>3259</th>\n",
       "      <td>10865</td>\n",
       "      <td></td>\n",
       "      <td></td>\n",
       "      <td>Storm in RI worse than last hurricane. My city...</td>\n",
       "      <td>Storm in RI worse than last hurricane. My ...</td>\n",
       "    </tr>\n",
       "    <tr>\n",
       "      <th>3260</th>\n",
       "      <td>10868</td>\n",
       "      <td></td>\n",
       "      <td></td>\n",
       "      <td>Green Line derailment in Chicago</td>\n",
       "      <td>Green Line derailment in Chicago</td>\n",
       "    </tr>\n",
       "    <tr>\n",
       "      <th>3261</th>\n",
       "      <td>10874</td>\n",
       "      <td></td>\n",
       "      <td></td>\n",
       "      <td>MEG issues Hazardous Weather Outlook (HWO)</td>\n",
       "      <td>MEG issues Hazardous Weather Outlook (HWO)</td>\n",
       "    </tr>\n",
       "    <tr>\n",
       "      <th>3262</th>\n",
       "      <td>10875</td>\n",
       "      <td></td>\n",
       "      <td></td>\n",
       "      <td>CityofCalgary has activated its Municipal Emer...</td>\n",
       "      <td>CityofCalgary has activated its Municipal ...</td>\n",
       "    </tr>\n",
       "  </tbody>\n",
       "</table>\n",
       "<p>3263 rows × 5 columns</p>\n",
       "</div>"
      ],
      "text/plain": [
       "         id keyword location  \\\n",
       "0         0                    \n",
       "1         2                    \n",
       "2         3                    \n",
       "3         9                    \n",
       "4        11                    \n",
       "...     ...     ...      ...   \n",
       "3258  10861                    \n",
       "3259  10865                    \n",
       "3260  10868                    \n",
       "3261  10874                    \n",
       "3262  10875                    \n",
       "\n",
       "                                                   text  \\\n",
       "0                    Just happened a terrible car crash   \n",
       "1     Heard about earthquake is different cities, st...   \n",
       "2     there is a forest fire at spot pond, geese are...   \n",
       "3                Apocalypse lighting. Spokane wildfires   \n",
       "4         Typhoon Soudelor kills 28 in China and Taiwan   \n",
       "...                                                 ...   \n",
       "3258  EARTHQUAKE SAFETY LOS ANGELES ÛÒ SAFETY FASTE...   \n",
       "3259  Storm in RI worse than last hurricane. My city...   \n",
       "3260                   Green Line derailment in Chicago   \n",
       "3261         MEG issues Hazardous Weather Outlook (HWO)   \n",
       "3262  CityofCalgary has activated its Municipal Emer...   \n",
       "\n",
       "                                             text combo  \n",
       "0                    Just happened a terrible car crash  \n",
       "1         Heard about earthquake is different cities...  \n",
       "2         there is a forest fire at spot pond, geese...  \n",
       "3                Apocalypse lighting. Spokane wildfires  \n",
       "4         Typhoon Soudelor kills 28 in China and Taiwan  \n",
       "...                                                 ...  \n",
       "3258      EARTHQUAKE SAFETY LOS ANGELES ÛÒ SAFETY F...  \n",
       "3259      Storm in RI worse than last hurricane. My ...  \n",
       "3260                   Green Line derailment in Chicago  \n",
       "3261         MEG issues Hazardous Weather Outlook (HWO)  \n",
       "3262      CityofCalgary has activated its Municipal ...  \n",
       "\n",
       "[3263 rows x 5 columns]"
      ]
     },
     "execution_count": 16,
     "metadata": {},
     "output_type": "execute_result"
    }
   ],
   "source": [
    "df_test"
   ]
  },
  {
   "cell_type": "markdown",
   "id": "a69924f9",
   "metadata": {
    "papermill": {
     "duration": 0.019403,
     "end_time": "2023-12-05T22:30:19.423594",
     "exception": false,
     "start_time": "2023-12-05T22:30:19.404191",
     "status": "completed"
    },
    "tags": []
   },
   "source": [
    "# Setup various models to test"
   ]
  },
  {
   "cell_type": "code",
   "execution_count": 17,
   "id": "98c6177b",
   "metadata": {
    "execution": {
     "iopub.execute_input": "2023-12-05T22:30:19.466784Z",
     "iopub.status.busy": "2023-12-05T22:30:19.465799Z",
     "iopub.status.idle": "2023-12-05T22:30:19.598962Z",
     "shell.execute_reply": "2023-12-05T22:30:19.597734Z"
    },
    "papermill": {
     "duration": 0.158548,
     "end_time": "2023-12-05T22:30:19.602251",
     "exception": false,
     "start_time": "2023-12-05T22:30:19.443703",
     "status": "completed"
    },
    "tags": []
   },
   "outputs": [],
   "source": [
    "#from sklearn.pipeline import Pipeline\n",
    "from sklearn.feature_extraction.text import TfidfVectorizer, CountVectorizer\n",
    "from sklearn.model_selection import GridSearchCV\n",
    "from sklearn.naive_bayes import MultinomialNB\n",
    "from sklearn.linear_model import LogisticRegression, SGDClassifier\n",
    "from sklearn.svm import LinearSVC, SVC\n",
    "from sklearn.metrics import classification_report,f1_score,confusion_matrix,ConfusionMatrixDisplay"
   ]
  },
  {
   "cell_type": "markdown",
   "id": "914e5b9c",
   "metadata": {
    "papermill": {
     "duration": 0.019304,
     "end_time": "2023-12-05T22:30:19.641489",
     "exception": false,
     "start_time": "2023-12-05T22:30:19.622185",
     "status": "completed"
    },
    "tags": []
   },
   "source": [
    "### Vectorize the text data"
   ]
  },
  {
   "cell_type": "code",
   "execution_count": 18,
   "id": "18e18386",
   "metadata": {
    "execution": {
     "iopub.execute_input": "2023-12-05T22:30:19.683270Z",
     "iopub.status.busy": "2023-12-05T22:30:19.682776Z",
     "iopub.status.idle": "2023-12-05T22:30:20.168743Z",
     "shell.execute_reply": "2023-12-05T22:30:20.167452Z"
    },
    "papermill": {
     "duration": 0.510869,
     "end_time": "2023-12-05T22:30:20.171997",
     "exception": false,
     "start_time": "2023-12-05T22:30:19.661128",
     "status": "completed"
    },
    "tags": []
   },
   "outputs": [],
   "source": [
    "tfidf = TfidfVectorizer(stop_words='english')\n",
    "tfidf.fit(X_train)\n",
    "X_train_tfidf = tfidf.transform(X_train)\n",
    "X_test_tfidf = tfidf.transform(X_test)"
   ]
  },
  {
   "cell_type": "code",
   "execution_count": 19,
   "id": "dcdbe14b",
   "metadata": {
    "execution": {
     "iopub.execute_input": "2023-12-05T22:30:20.215695Z",
     "iopub.status.busy": "2023-12-05T22:30:20.215224Z",
     "iopub.status.idle": "2023-12-05T22:30:20.223263Z",
     "shell.execute_reply": "2023-12-05T22:30:20.221982Z"
    },
    "papermill": {
     "duration": 0.033809,
     "end_time": "2023-12-05T22:30:20.226069",
     "exception": false,
     "start_time": "2023-12-05T22:30:20.192260",
     "status": "completed"
    },
    "tags": []
   },
   "outputs": [
    {
     "data": {
      "text/plain": [
       "<6851x15543 sparse matrix of type '<class 'numpy.float64'>'\n",
       "\twith 65402 stored elements in Compressed Sparse Row format>"
      ]
     },
     "execution_count": 19,
     "metadata": {},
     "output_type": "execute_result"
    }
   ],
   "source": [
    "X_train_tfidf"
   ]
  },
  {
   "cell_type": "markdown",
   "id": "30920b93",
   "metadata": {
    "papermill": {
     "duration": 0.019289,
     "end_time": "2023-12-05T22:30:20.265356",
     "exception": false,
     "start_time": "2023-12-05T22:30:20.246067",
     "status": "completed"
    },
    "tags": []
   },
   "source": [
    "###  MultinomialNB model"
   ]
  },
  {
   "cell_type": "code",
   "execution_count": 20,
   "id": "4bdf0b3b",
   "metadata": {
    "execution": {
     "iopub.execute_input": "2023-12-05T22:30:20.307764Z",
     "iopub.status.busy": "2023-12-05T22:30:20.307260Z",
     "iopub.status.idle": "2023-12-05T22:30:20.507068Z",
     "shell.execute_reply": "2023-12-05T22:30:20.505774Z"
    },
    "papermill": {
     "duration": 0.225187,
     "end_time": "2023-12-05T22:30:20.510205",
     "exception": false,
     "start_time": "2023-12-05T22:30:20.285018",
     "status": "completed"
    },
    "tags": []
   },
   "outputs": [
    {
     "name": "stdout",
     "output_type": "stream",
     "text": [
      "Time to fit = 0.189s\n"
     ]
    },
    {
     "data": {
      "text/plain": [
       "{'alpha': 1}"
      ]
     },
     "execution_count": 20,
     "metadata": {},
     "output_type": "execute_result"
    }
   ],
   "source": [
    "mnb = MultinomialNB()\n",
    "param_grid = {'alpha':[1,2,5,10]}\n",
    "mnb_grid = GridSearchCV(estimator=mnb, param_grid=param_grid, scoring='f1')\n",
    "mnb_start = time.time()\n",
    "mnb_grid.fit(X_train_tfidf, y_train)\n",
    "mnb_end = time.time()\n",
    "print(f'Time to fit = {mnb_end - mnb_start:.3f}s')\n",
    "mnb_grid.best_params_"
   ]
  },
  {
   "cell_type": "code",
   "execution_count": 21,
   "id": "d370bcbc",
   "metadata": {
    "execution": {
     "iopub.execute_input": "2023-12-05T22:30:20.553651Z",
     "iopub.status.busy": "2023-12-05T22:30:20.553152Z",
     "iopub.status.idle": "2023-12-05T22:30:20.912691Z",
     "shell.execute_reply": "2023-12-05T22:30:20.910537Z"
    },
    "papermill": {
     "duration": 0.385335,
     "end_time": "2023-12-05T22:30:20.916021",
     "exception": false,
     "start_time": "2023-12-05T22:30:20.530686",
     "status": "completed"
    },
    "tags": []
   },
   "outputs": [
    {
     "name": "stdout",
     "output_type": "stream",
     "text": [
      "0.7370184254606366\n",
      "              precision    recall  f1-score   support\n",
      "\n",
      "           0       0.78      0.88      0.83       436\n",
      "           1       0.81      0.67      0.74       326\n",
      "\n",
      "    accuracy                           0.79       762\n",
      "   macro avg       0.80      0.78      0.78       762\n",
      "weighted avg       0.80      0.79      0.79       762\n",
      "\n"
     ]
    },
    {
     "data": {
      "image/png": "[encoded data removed]",
      "text/plain": [
       "<Figure size 640x480 with 2 Axes>"
      ]
     },
     "metadata": {},
     "output_type": "display_data"
    }
   ],
   "source": [
    "mnb_preds = mnb_grid.predict(X_test_tfidf)\n",
    "print(f1_score(y_test,mnb_preds))\n",
    "print(classification_report(y_test,mnb_preds))\n",
    "ConfusionMatrixDisplay(confusion_matrix=confusion_matrix(y_test, mnb_preds)).plot();"
   ]
  },
  {
   "cell_type": "markdown",
   "id": "901555d9",
   "metadata": {
    "papermill": {
     "duration": 0.020398,
     "end_time": "2023-12-05T22:30:20.957634",
     "exception": false,
     "start_time": "2023-12-05T22:30:20.937236",
     "status": "completed"
    },
    "tags": []
   },
   "source": [
    "###  LogisticRegression model"
   ]
  },
  {
   "cell_type": "code",
   "execution_count": 22,
   "id": "7c56f1f6",
   "metadata": {
    "execution": {
     "iopub.execute_input": "2023-12-05T22:30:21.001399Z",
     "iopub.status.busy": "2023-12-05T22:30:21.000892Z",
     "iopub.status.idle": "2023-12-05T22:30:46.217590Z",
     "shell.execute_reply": "2023-12-05T22:30:46.216173Z"
    },
    "papermill": {
     "duration": 25.246971,
     "end_time": "2023-12-05T22:30:46.225283",
     "exception": false,
     "start_time": "2023-12-05T22:30:20.978312",
     "status": "completed"
    },
    "tags": []
   },
   "outputs": [
    {
     "name": "stdout",
     "output_type": "stream",
     "text": [
      "Time to fit = 25.197s\n"
     ]
    },
    {
     "data": {
      "text/plain": [
       "{'C': 7}"
      ]
     },
     "execution_count": 22,
     "metadata": {},
     "output_type": "execute_result"
    }
   ],
   "source": [
    "log = LogisticRegression(max_iter=1000)\n",
    "param_grid = {'C':[3,4,5,6,7,8]}\n",
    "log_grid = GridSearchCV(estimator=log, param_grid=param_grid, scoring='f1')\n",
    "log_start = time.time()\n",
    "log_grid.fit(X_train_tfidf, y_train)\n",
    "log_end = time.time()\n",
    "print(f'Time to fit = {log_end - log_start:.3f}s')\n",
    "log_grid.best_params_"
   ]
  },
  {
   "cell_type": "code",
   "execution_count": 23,
   "id": "542084d8",
   "metadata": {
    "execution": {
     "iopub.execute_input": "2023-12-05T22:30:46.355874Z",
     "iopub.status.busy": "2023-12-05T22:30:46.355079Z",
     "iopub.status.idle": "2023-12-05T22:30:46.718442Z",
     "shell.execute_reply": "2023-12-05T22:30:46.716955Z"
    },
    "papermill": {
     "duration": 0.401748,
     "end_time": "2023-12-05T22:30:46.721520",
     "exception": false,
     "start_time": "2023-12-05T22:30:46.319772",
     "status": "completed"
    },
    "tags": []
   },
   "outputs": [
    {
     "name": "stdout",
     "output_type": "stream",
     "text": [
      "0.7645161290322581\n",
      "              precision    recall  f1-score   support\n",
      "\n",
      "           0       0.81      0.87      0.84       436\n",
      "           1       0.81      0.73      0.76       326\n",
      "\n",
      "    accuracy                           0.81       762\n",
      "   macro avg       0.81      0.80      0.80       762\n",
      "weighted avg       0.81      0.81      0.81       762\n",
      "\n"
     ]
    },
    {
     "data": {
      "image/png": "[encoded data removed]",
      "text/plain": [
       "<Figure size 640x480 with 2 Axes>"
      ]
     },
     "metadata": {},
     "output_type": "display_data"
    }
   ],
   "source": [
    "log_preds = log_grid.predict(X_test_tfidf)\n",
    "print(f1_score(y_test,log_preds))\n",
    "print(classification_report(y_test,log_preds))\n",
    "ConfusionMatrixDisplay(confusion_matrix=confusion_matrix(y_test, log_preds)).plot();"
   ]
  },
  {
   "cell_type": "markdown",
   "id": "0b2738fc",
   "metadata": {
    "papermill": {
     "duration": 0.022222,
     "end_time": "2023-12-05T22:30:46.765900",
     "exception": false,
     "start_time": "2023-12-05T22:30:46.743678",
     "status": "completed"
    },
    "tags": []
   },
   "source": [
    "### SGDClassifier model"
   ]
  },
  {
   "cell_type": "code",
   "execution_count": 24,
   "id": "6f8888e4",
   "metadata": {
    "execution": {
     "iopub.execute_input": "2023-12-05T22:30:46.810860Z",
     "iopub.status.busy": "2023-12-05T22:30:46.810302Z",
     "iopub.status.idle": "2023-12-05T22:30:46.883089Z",
     "shell.execute_reply": "2023-12-05T22:30:46.881387Z"
    },
    "papermill": {
     "duration": 0.102884,
     "end_time": "2023-12-05T22:30:46.890214",
     "exception": false,
     "start_time": "2023-12-05T22:30:46.787330",
     "status": "completed"
    },
    "tags": []
   },
   "outputs": [
    {
     "name": "stdout",
     "output_type": "stream",
     "text": [
      "Time to fit = 0.059s\n"
     ]
    },
    {
     "data": {
      "text/plain": [
       "array([[-0.14646251, -0.42454053,  0.34740741, ...,  0.46041115,\n",
       "        -0.2021227 ,  0.32989639]])"
      ]
     },
     "execution_count": 24,
     "metadata": {},
     "output_type": "execute_result"
    }
   ],
   "source": [
    "sgdc = SGDClassifier()\n",
    "#param_grid = {'C':[3,4,5,6,7,8]}\n",
    "#log_grid = GridSearchCV(estimator=log, param_grid=param_grid, scoring='f1')\n",
    "sgdc_start = time.time()\n",
    "sgdc.fit(X_train_tfidf, y_train)\n",
    "sgdc_end = time.time()\n",
    "print(f'Time to fit = {sgdc_end - sgdc_start:.3f}s')\n",
    "sgdc.coef_"
   ]
  },
  {
   "cell_type": "code",
   "execution_count": 25,
   "id": "c7cbfadc",
   "metadata": {
    "execution": {
     "iopub.execute_input": "2023-12-05T22:30:46.964565Z",
     "iopub.status.busy": "2023-12-05T22:30:46.964078Z",
     "iopub.status.idle": "2023-12-05T22:30:47.319280Z",
     "shell.execute_reply": "2023-12-05T22:30:47.318171Z"
    },
    "papermill": {
     "duration": 0.385482,
     "end_time": "2023-12-05T22:30:47.321847",
     "exception": false,
     "start_time": "2023-12-05T22:30:46.936365",
     "status": "completed"
    },
    "tags": []
   },
   "outputs": [
    {
     "name": "stdout",
     "output_type": "stream",
     "text": [
      "0.7592891760904684\n",
      "              precision    recall  f1-score   support\n",
      "\n",
      "           0       0.81      0.87      0.84       436\n",
      "           1       0.80      0.72      0.76       326\n",
      "\n",
      "    accuracy                           0.80       762\n",
      "   macro avg       0.80      0.79      0.80       762\n",
      "weighted avg       0.80      0.80      0.80       762\n",
      "\n"
     ]
    },
    {
     "data": {
      "image/png": "[encoded data removed]",
      "text/plain": [
       "<Figure size 640x480 with 2 Axes>"
      ]
     },
     "metadata": {},
     "output_type": "display_data"
    }
   ],
   "source": [
    "sgdc_preds = sgdc.predict(X_test_tfidf)\n",
    "print(f1_score(y_test,sgdc_preds))\n",
    "print(classification_report(y_test,sgdc_preds))\n",
    "ConfusionMatrixDisplay(confusion_matrix=confusion_matrix(y_test, sgdc_preds)).plot();"
   ]
  },
  {
   "cell_type": "markdown",
   "id": "080c3b1c",
   "metadata": {
    "papermill": {
     "duration": 0.02427,
     "end_time": "2023-12-05T22:30:47.370667",
     "exception": false,
     "start_time": "2023-12-05T22:30:47.346397",
     "status": "completed"
    },
    "tags": []
   },
   "source": [
    "### LinearSVC model"
   ]
  },
  {
   "cell_type": "code",
   "execution_count": 26,
   "id": "ea9bd1c9",
   "metadata": {
    "execution": {
     "iopub.execute_input": "2023-12-05T22:30:47.418431Z",
     "iopub.status.busy": "2023-12-05T22:30:47.417535Z",
     "iopub.status.idle": "2023-12-05T22:30:49.176339Z",
     "shell.execute_reply": "2023-12-05T22:30:49.174953Z"
    },
    "papermill": {
     "duration": 1.786004,
     "end_time": "2023-12-05T22:30:49.179365",
     "exception": false,
     "start_time": "2023-12-05T22:30:47.393361",
     "status": "completed"
    },
    "tags": []
   },
   "outputs": [
    {
     "name": "stdout",
     "output_type": "stream",
     "text": [
      "Time to fit = 1.744s\n"
     ]
    },
    {
     "data": {
      "text/plain": [
       "{'C': 1}"
      ]
     },
     "execution_count": 26,
     "metadata": {},
     "output_type": "execute_result"
    }
   ],
   "source": [
    "lin_svc = LinearSVC()\n",
    "param_grid = {'C':[1,2,5,10]}\n",
    "lin_svc_grid = GridSearchCV(estimator=lin_svc, param_grid=param_grid, scoring='f1')\n",
    "lin_svc_start = time.time()\n",
    "lin_svc_grid.fit(X_train_tfidf, y_train)\n",
    "lin_svc_end = time.time()\n",
    "print(f'Time to fit = {lin_svc_end - lin_svc_start:.3f}s')\n",
    "lin_svc_grid.best_params_"
   ]
  },
  {
   "cell_type": "code",
   "execution_count": 27,
   "id": "69276e55",
   "metadata": {
    "execution": {
     "iopub.execute_input": "2023-12-05T22:30:49.227742Z",
     "iopub.status.busy": "2023-12-05T22:30:49.227160Z",
     "iopub.status.idle": "2023-12-05T22:30:49.580292Z",
     "shell.execute_reply": "2023-12-05T22:30:49.579327Z"
    },
    "papermill": {
     "duration": 0.3801,
     "end_time": "2023-12-05T22:30:49.582623",
     "exception": false,
     "start_time": "2023-12-05T22:30:49.202523",
     "status": "completed"
    },
    "tags": []
   },
   "outputs": [
    {
     "name": "stdout",
     "output_type": "stream",
     "text": [
      "0.7684887459807074\n",
      "              precision    recall  f1-score   support\n",
      "\n",
      "           0       0.81      0.87      0.84       436\n",
      "           1       0.81      0.73      0.77       326\n",
      "\n",
      "    accuracy                           0.81       762\n",
      "   macro avg       0.81      0.80      0.80       762\n",
      "weighted avg       0.81      0.81      0.81       762\n",
      "\n"
     ]
    },
    {
     "data": {
      "image/png": "[encoded data removed]",
      "text/plain": [
       "<Figure size 640x480 with 2 Axes>"
      ]
     },
     "metadata": {},
     "output_type": "display_data"
    }
   ],
   "source": [
    "lin_svc_preds = lin_svc_grid.predict(X_test_tfidf)\n",
    "print(f1_score(y_test,lin_svc_preds))\n",
    "print(classification_report(y_test,lin_svc_preds))\n",
    "ConfusionMatrixDisplay(confusion_matrix=confusion_matrix(y_test, lin_svc_preds)).plot();"
   ]
  },
  {
   "cell_type": "markdown",
   "id": "539244b4",
   "metadata": {
    "papermill": {
     "duration": 0.022858,
     "end_time": "2023-12-05T22:30:49.628632",
     "exception": false,
     "start_time": "2023-12-05T22:30:49.605774",
     "status": "completed"
    },
    "tags": []
   },
   "source": [
    "### SVC model\n",
    "<span style=\"font-size:16px;color:red;\"> Below cell is the slowest cell by far (takes ~4 minutes with the grid search) </span>"
   ]
  },
  {
   "cell_type": "code",
   "execution_count": 28,
   "id": "96e1ae97",
   "metadata": {
    "execution": {
     "iopub.execute_input": "2023-12-05T22:30:49.678995Z",
     "iopub.status.busy": "2023-12-05T22:30:49.678142Z",
     "iopub.status.idle": "2023-12-05T22:30:49.683148Z",
     "shell.execute_reply": "2023-12-05T22:30:49.682224Z"
    },
    "papermill": {
     "duration": 0.033029,
     "end_time": "2023-12-05T22:30:49.685800",
     "exception": false,
     "start_time": "2023-12-05T22:30:49.652771",
     "status": "completed"
    },
    "tags": []
   },
   "outputs": [],
   "source": [
    "# svc = SVC()\n",
    "# param_grid = {'C': [1,10,100], \n",
    "#               'gamma': [1,0.1,0.01]}\n",
    "# svc_grid = GridSearchCV(estimator=svc, param_grid=param_grid, scoring='f1')\n",
    "# svc_start = time.time()\n",
    "# svc_grid.fit(X_train_tfidf, y_train)\n",
    "# svc_end = time.time()\n",
    "# print(f'Time to fit = {svc_end - svc_start:.3f}s')\n",
    "# svc_grid.best_params_"
   ]
  },
  {
   "cell_type": "code",
   "execution_count": 29,
   "id": "aee340c1",
   "metadata": {
    "execution": {
     "iopub.execute_input": "2023-12-05T22:30:49.738177Z",
     "iopub.status.busy": "2023-12-05T22:30:49.737303Z",
     "iopub.status.idle": "2023-12-05T22:30:49.741955Z",
     "shell.execute_reply": "2023-12-05T22:30:49.740896Z"
    },
    "papermill": {
     "duration": 0.034565,
     "end_time": "2023-12-05T22:30:49.744658",
     "exception": false,
     "start_time": "2023-12-05T22:30:49.710093",
     "status": "completed"
    },
    "tags": []
   },
   "outputs": [],
   "source": [
    "# svc_preds = svc_grid.predict(X_test_tfidf)\n",
    "# print(f1_score(y_test,svc_preds))\n",
    "# print(classification_report(y_test,svc_preds))\n",
    "# ConfusionMatrixDisplay(confusion_matrix=confusion_matrix(y_test, svc_preds)).plot();"
   ]
  },
  {
   "cell_type": "markdown",
   "id": "0059b159",
   "metadata": {
    "papermill": {
     "duration": 0.023693,
     "end_time": "2023-12-05T22:30:49.792195",
     "exception": false,
     "start_time": "2023-12-05T22:30:49.768502",
     "status": "completed"
    },
    "tags": []
   },
   "source": [
    "# Compare Models"
   ]
  },
  {
   "cell_type": "code",
   "execution_count": 30,
   "id": "e71811c8",
   "metadata": {
    "execution": {
     "iopub.execute_input": "2023-12-05T22:30:49.845362Z",
     "iopub.status.busy": "2023-12-05T22:30:49.844035Z",
     "iopub.status.idle": "2023-12-05T22:30:49.866118Z",
     "shell.execute_reply": "2023-12-05T22:30:49.864703Z"
    },
    "papermill": {
     "duration": 0.05322,
     "end_time": "2023-12-05T22:30:49.869404",
     "exception": false,
     "start_time": "2023-12-05T22:30:49.816184",
     "status": "completed"
    },
    "tags": []
   },
   "outputs": [
    {
     "name": "stdout",
     "output_type": "stream",
     "text": [
      "MNB time to fit = 0.189s\n",
      "MNB f1 score = 0.7370\n",
      "----------\n",
      "LogReg time to fit = 25.197s\n",
      "LogReg f1 score = 0.7645\n",
      "----------\n",
      "SGDClass time to fit = 0.059s\n",
      "SGDClass f1 score = 0.7593\n",
      "----------\n",
      "LinSVC time to fit = 1.744s\n",
      "LinSVC f1 score = 0.7685\n"
     ]
    }
   ],
   "source": [
    "print(f'MNB time to fit = {mnb_end - mnb_start:.3f}s')\n",
    "print(f'MNB f1 score = {f1_score(y_test,mnb_preds):.4f}')\n",
    "print('-'*10)\n",
    "print(f'LogReg time to fit = {log_end - log_start:.3f}s')\n",
    "print(f'LogReg f1 score = {f1_score(y_test,log_preds):.4f}')\n",
    "print('-'*10)\n",
    "print(f'SGDClass time to fit = {sgdc_end - sgdc_start:.3f}s')\n",
    "print(f'SGDClass f1 score = {f1_score(y_test,sgdc_preds):.4f}')\n",
    "print('-'*10)\n",
    "print(f'LinSVC time to fit = {lin_svc_end - lin_svc_start:.3f}s')\n",
    "print(f'LinSVC f1 score = {f1_score(y_test,lin_svc_preds):.4f}')\n",
    "# print('-'*10)\n",
    "# print(f'SVC time to fit = {svc_end - svc_start:.3f}s')\n",
    "# print(f'SVC f1 score = {f1_score(y_test,svc_preds):.4f}')"
   ]
  },
  {
   "cell_type": "markdown",
   "id": "0fdda3d1",
   "metadata": {
    "papermill": {
     "duration": 0.022734,
     "end_time": "2023-12-05T22:30:49.915876",
     "exception": false,
     "start_time": "2023-12-05T22:30:49.893142",
     "status": "completed"
    },
    "tags": []
   },
   "source": [
    "# Final Data Set prep"
   ]
  },
  {
   "cell_type": "code",
   "execution_count": 31,
   "id": "aaa3690c",
   "metadata": {
    "execution": {
     "iopub.execute_input": "2023-12-05T22:30:49.965259Z",
     "iopub.status.busy": "2023-12-05T22:30:49.964700Z",
     "iopub.status.idle": "2023-12-05T22:30:50.558441Z",
     "shell.execute_reply": "2023-12-05T22:30:50.557351Z"
    },
    "papermill": {
     "duration": 0.622461,
     "end_time": "2023-12-05T22:30:50.561808",
     "exception": false,
     "start_time": "2023-12-05T22:30:49.939347",
     "status": "completed"
    },
    "tags": []
   },
   "outputs": [],
   "source": [
    "tfidf = TfidfVectorizer(stop_words='english')\n",
    "tfidf.fit(X['text combo'])\n",
    "X_final_train_tfidf = tfidf.transform(X['text combo'])\n",
    "X_final_test_tfidf = tfidf.transform(df_test['text combo'])\n",
    "ids_out = df_test['id']"
   ]
  },
  {
   "cell_type": "markdown",
   "id": "4668a975",
   "metadata": {
    "papermill": {
     "duration": 0.023151,
     "end_time": "2023-12-05T22:30:50.608743",
     "exception": false,
     "start_time": "2023-12-05T22:30:50.585592",
     "status": "completed"
    },
    "tags": []
   },
   "source": [
    "## Final dataset"
   ]
  },
  {
   "cell_type": "code",
   "execution_count": 32,
   "id": "8fa9df56",
   "metadata": {
    "execution": {
     "iopub.execute_input": "2023-12-05T22:30:50.657964Z",
     "iopub.status.busy": "2023-12-05T22:30:50.657465Z",
     "iopub.status.idle": "2023-12-05T22:30:50.664091Z",
     "shell.execute_reply": "2023-12-05T22:30:50.663198Z"
    },
    "papermill": {
     "duration": 0.034576,
     "end_time": "2023-12-05T22:30:50.666749",
     "exception": false,
     "start_time": "2023-12-05T22:30:50.632173",
     "status": "completed"
    },
    "tags": []
   },
   "outputs": [
    {
     "data": {
      "text/plain": [
       "<7613x16523 sparse matrix of type '<class 'numpy.float64'>'\n",
       "\twith 72688 stored elements in Compressed Sparse Row format>"
      ]
     },
     "execution_count": 32,
     "metadata": {},
     "output_type": "execute_result"
    }
   ],
   "source": [
    "X_final_train_tfidf"
   ]
  },
  {
   "cell_type": "code",
   "execution_count": 33,
   "id": "3e3b1996",
   "metadata": {
    "execution": {
     "iopub.execute_input": "2023-12-05T22:30:50.718248Z",
     "iopub.status.busy": "2023-12-05T22:30:50.717420Z",
     "iopub.status.idle": "2023-12-05T22:30:51.724631Z",
     "shell.execute_reply": "2023-12-05T22:30:51.722376Z"
    },
    "papermill": {
     "duration": 1.039102,
     "end_time": "2023-12-05T22:30:51.730242",
     "exception": false,
     "start_time": "2023-12-05T22:30:50.691140",
     "status": "completed"
    },
    "tags": []
   },
   "outputs": [
    {
     "name": "stdout",
     "output_type": "stream",
     "text": [
      "Time to fit = 0.992s\n"
     ]
    }
   ],
   "source": [
    "# model = SVC(**svc_grid.best_params_)\n",
    "model = LogisticRegression(max_iter=1000, **log_grid.best_params_)\n",
    "# model = SGDClassifier()\n",
    "final_start = time.time()\n",
    "model.fit(X_final_train_tfidf, y)\n",
    "final_end = time.time()\n",
    "print(f'Time to fit = {final_end - final_start:.3f}s')"
   ]
  },
  {
   "cell_type": "code",
   "execution_count": 34,
   "id": "e2b1be94",
   "metadata": {
    "execution": {
     "iopub.execute_input": "2023-12-05T22:30:51.853873Z",
     "iopub.status.busy": "2023-12-05T22:30:51.853396Z",
     "iopub.status.idle": "2023-12-05T22:30:51.859420Z",
     "shell.execute_reply": "2023-12-05T22:30:51.858413Z"
    },
    "papermill": {
     "duration": 0.037044,
     "end_time": "2023-12-05T22:30:51.862277",
     "exception": false,
     "start_time": "2023-12-05T22:30:51.825233",
     "status": "completed"
    },
    "tags": []
   },
   "outputs": [],
   "source": [
    "final_preds = model.predict(X_final_test_tfidf)"
   ]
  },
  {
   "cell_type": "markdown",
   "id": "894f4749",
   "metadata": {
    "papermill": {
     "duration": 0.023216,
     "end_time": "2023-12-05T22:30:51.910068",
     "exception": false,
     "start_time": "2023-12-05T22:30:51.886852",
     "status": "completed"
    },
    "tags": []
   },
   "source": [
    "# Final output formatting"
   ]
  },
  {
   "cell_type": "code",
   "execution_count": 35,
   "id": "a97dcf5b",
   "metadata": {
    "execution": {
     "iopub.execute_input": "2023-12-05T22:30:51.959255Z",
     "iopub.status.busy": "2023-12-05T22:30:51.958767Z",
     "iopub.status.idle": "2023-12-05T22:30:51.965534Z",
     "shell.execute_reply": "2023-12-05T22:30:51.964170Z"
    },
    "papermill": {
     "duration": 0.034375,
     "end_time": "2023-12-05T22:30:51.968205",
     "exception": false,
     "start_time": "2023-12-05T22:30:51.933830",
     "status": "completed"
    },
    "tags": []
   },
   "outputs": [],
   "source": [
    "output_df = pd.DataFrame({'id': ids_out,\n",
    "                          'target': final_preds.squeeze()})"
   ]
  },
  {
   "cell_type": "code",
   "execution_count": 36,
   "id": "84ff91fa",
   "metadata": {
    "execution": {
     "iopub.execute_input": "2023-12-05T22:30:52.017273Z",
     "iopub.status.busy": "2023-12-05T22:30:52.016803Z",
     "iopub.status.idle": "2023-12-05T22:30:52.030161Z",
     "shell.execute_reply": "2023-12-05T22:30:52.028924Z"
    },
    "papermill": {
     "duration": 0.041159,
     "end_time": "2023-12-05T22:30:52.032656",
     "exception": false,
     "start_time": "2023-12-05T22:30:51.991497",
     "status": "completed"
    },
    "tags": []
   },
   "outputs": [
    {
     "data": {
      "text/html": [
       "<div>\n",
       "<style scoped>\n",
       "    .dataframe tbody tr th:only-of-type {\n",
       "        vertical-align: middle;\n",
       "    }\n",
       "\n",
       "    .dataframe tbody tr th {\n",
       "        vertical-align: top;\n",
       "    }\n",
       "\n",
       "    .dataframe thead th {\n",
       "        text-align: right;\n",
       "    }\n",
       "</style>\n",
       "<table border=\"1\" class=\"dataframe\">\n",
       "  <thead>\n",
       "    <tr style=\"text-align: right;\">\n",
       "      <th></th>\n",
       "      <th>id</th>\n",
       "      <th>target</th>\n",
       "    </tr>\n",
       "  </thead>\n",
       "  <tbody>\n",
       "    <tr>\n",
       "      <th>0</th>\n",
       "      <td>0</td>\n",
       "      <td>1</td>\n",
       "    </tr>\n",
       "    <tr>\n",
       "      <th>1</th>\n",
       "      <td>2</td>\n",
       "      <td>1</td>\n",
       "    </tr>\n",
       "    <tr>\n",
       "      <th>2</th>\n",
       "      <td>3</td>\n",
       "      <td>1</td>\n",
       "    </tr>\n",
       "    <tr>\n",
       "      <th>3</th>\n",
       "      <td>9</td>\n",
       "      <td>1</td>\n",
       "    </tr>\n",
       "    <tr>\n",
       "      <th>4</th>\n",
       "      <td>11</td>\n",
       "      <td>1</td>\n",
       "    </tr>\n",
       "    <tr>\n",
       "      <th>...</th>\n",
       "      <td>...</td>\n",
       "      <td>...</td>\n",
       "    </tr>\n",
       "    <tr>\n",
       "      <th>3258</th>\n",
       "      <td>10861</td>\n",
       "      <td>0</td>\n",
       "    </tr>\n",
       "    <tr>\n",
       "      <th>3259</th>\n",
       "      <td>10865</td>\n",
       "      <td>1</td>\n",
       "    </tr>\n",
       "    <tr>\n",
       "      <th>3260</th>\n",
       "      <td>10868</td>\n",
       "      <td>1</td>\n",
       "    </tr>\n",
       "    <tr>\n",
       "      <th>3261</th>\n",
       "      <td>10874</td>\n",
       "      <td>1</td>\n",
       "    </tr>\n",
       "    <tr>\n",
       "      <th>3262</th>\n",
       "      <td>10875</td>\n",
       "      <td>1</td>\n",
       "    </tr>\n",
       "  </tbody>\n",
       "</table>\n",
       "<p>3263 rows × 2 columns</p>\n",
       "</div>"
      ],
      "text/plain": [
       "         id  target\n",
       "0         0       1\n",
       "1         2       1\n",
       "2         3       1\n",
       "3         9       1\n",
       "4        11       1\n",
       "...     ...     ...\n",
       "3258  10861       0\n",
       "3259  10865       1\n",
       "3260  10868       1\n",
       "3261  10874       1\n",
       "3262  10875       1\n",
       "\n",
       "[3263 rows x 2 columns]"
      ]
     },
     "execution_count": 36,
     "metadata": {},
     "output_type": "execute_result"
    }
   ],
   "source": [
    "output_df"
   ]
  },
  {
   "cell_type": "code",
   "execution_count": 37,
   "id": "5d6d9d8e",
   "metadata": {
    "execution": {
     "iopub.execute_input": "2023-12-05T22:30:52.082526Z",
     "iopub.status.busy": "2023-12-05T22:30:52.081996Z",
     "iopub.status.idle": "2023-12-05T22:30:52.100207Z",
     "shell.execute_reply": "2023-12-05T22:30:52.098840Z"
    },
    "papermill": {
     "duration": 0.047399,
     "end_time": "2023-12-05T22:30:52.103807",
     "exception": false,
     "start_time": "2023-12-05T22:30:52.056408",
     "status": "completed"
    },
    "tags": []
   },
   "outputs": [],
   "source": [
    "output_df.to_csv('/kaggle/working/submission.csv', index=False)"
   ]
  },
  {
   "cell_type": "code",
   "execution_count": null,
   "id": "8998d263",
   "metadata": {
    "papermill": {
     "duration": 0.023285,
     "end_time": "2023-12-05T22:30:52.151531",
     "exception": false,
     "start_time": "2023-12-05T22:30:52.128246",
     "status": "completed"
    },
    "tags": []
   },
   "outputs": [],
   "source": []
  }
 ],
 "metadata": {
  "kaggle": {
   "accelerator": "none",
   "dataSources": [
    {
     "databundleVersionId": 869809,
     "sourceId": 17777,
     "sourceType": "competition"
    }
   ],
   "dockerImageVersionId": 30587,
   "isGpuEnabled": false,
   "isInternetEnabled": true,
   "language": "python",
   "sourceType": "notebook"
  },
  "kernelspec": {
   "display_name": "Python 3",
   "language": "python",
   "name": "python3"
  },
  "language_info": {
   "codemirror_mode": {
    "name": "ipython",
    "version": 3
   },
   "file_extension": ".py",
   "mimetype": "text/x-python",
   "name": "python",
   "nbconvert_exporter": "python",
   "pygments_lexer": "ipython3",
   "version": "3.10.12"
  },
  "papermill": {
   "default_parameters": {},
   "duration": 44.52533,
   "end_time": "2023-12-05T22:30:53.202192",
   "environment_variables": {},
   "exception": null,
   "input_path": "__notebook__.ipynb",
   "output_path": "__notebook__.ipynb",
   "parameters": {},
   "start_time": "2023-12-05T22:30:08.676862",
   "version": "2.4.0"
  }
 },
 "nbformat": 4,
 "nbformat_minor": 5
}
