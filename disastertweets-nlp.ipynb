{
 "cells": [
  {
   "cell_type": "code",
   "execution_count": 1,
   "id": "6eb40c42",
   "metadata": {
    "_cell_guid": "b1076dfc-b9ad-4769-8c92-a6c4dae69d19",
    "_uuid": "8f2839f25d086af736a60e9eeb907d3b93b6e0e5",
    "execution": {
     "iopub.execute_input": "2024-01-18T19:39:26.141512Z",
     "iopub.status.busy": "2024-01-18T19:39:26.140397Z",
     "iopub.status.idle": "2024-01-18T19:39:28.620498Z",
     "shell.execute_reply": "2024-01-18T19:39:28.619290Z"
    },
    "papermill": {
     "duration": 2.504355,
     "end_time": "2024-01-18T19:39:28.623599",
     "exception": false,
     "start_time": "2024-01-18T19:39:26.119244",
     "status": "completed"
    },
    "tags": []
   },
   "outputs": [
    {
     "name": "stdout",
     "output_type": "stream",
     "text": [
      "/kaggle/input/nlp-getting-started/sample_submission.csv\n",
      "/kaggle/input/nlp-getting-started/train.csv\n",
      "/kaggle/input/nlp-getting-started/test.csv\n"
     ]
    }
   ],
   "source": [
    "# This Python 3 environment comes with many helpful analytics libraries installed\n",
    "# It is defined by the kaggle/python Docker image: https://github.com/kaggle/docker-python\n",
    "# For example, here's several helpful packages to load\n",
    "\n",
    "import numpy as np # linear algebra\n",
    "import pandas as pd # data processing, CSV file I/O (e.g. pd.read_csv)\n",
    "import seaborn as sns\n",
    "import matplotlib.pyplot as plt\n",
    "import time\n",
    "import re\n",
    "\n",
    "# Input data files are available in the read-only \"../input/\" directory\n",
    "# For example, running this (by clicking run or pressing Shift+Enter) will list all files under the input directory\n",
    "\n",
    "import os\n",
    "for dirname, _, filenames in os.walk('/kaggle/input'):\n",
    "    for filename in filenames:\n",
    "        print(os.path.join(dirname, filename))\n",
    "\n",
    "# You can write up to 20GB to the current directory (/kaggle/working/) that gets preserved as output when you create a version using \"Save & Run All\" \n",
    "# You can also write temporary files to /kaggle/temp/, but they won't be saved outside of the current session"
   ]
  },
  {
   "cell_type": "markdown",
   "id": "5201c43d",
   "metadata": {
    "papermill": {
     "duration": 0.017254,
     "end_time": "2024-01-18T19:39:28.658397",
     "exception": false,
     "start_time": "2024-01-18T19:39:28.641143",
     "status": "completed"
    },
    "tags": []
   },
   "source": [
    "# Read in Train and Test Data sets"
   ]
  },
  {
   "cell_type": "code",
   "execution_count": 2,
   "id": "9e2b9029",
   "metadata": {
    "execution": {
     "iopub.execute_input": "2024-01-18T19:39:28.697469Z",
     "iopub.status.busy": "2024-01-18T19:39:28.696386Z",
     "iopub.status.idle": "2024-01-18T19:39:28.797995Z",
     "shell.execute_reply": "2024-01-18T19:39:28.796700Z"
    },
    "papermill": {
     "duration": 0.124674,
     "end_time": "2024-01-18T19:39:28.801236",
     "exception": false,
     "start_time": "2024-01-18T19:39:28.676562",
     "status": "completed"
    },
    "tags": []
   },
   "outputs": [],
   "source": [
    "df = pd.read_csv(\"/kaggle/input/nlp-getting-started/train.csv\")\n",
    "df_test = pd.read_csv(\"/kaggle/input/nlp-getting-started/test.csv\")\n",
    "df['unclean'] = df['text']"
   ]
  },
  {
   "cell_type": "code",
   "execution_count": 3,
   "id": "5a5f9072",
   "metadata": {
    "execution": {
     "iopub.execute_input": "2024-01-18T19:39:28.839172Z",
     "iopub.status.busy": "2024-01-18T19:39:28.838648Z",
     "iopub.status.idle": "2024-01-18T19:39:28.859357Z",
     "shell.execute_reply": "2024-01-18T19:39:28.858194Z"
    },
    "papermill": {
     "duration": 0.042955,
     "end_time": "2024-01-18T19:39:28.862028",
     "exception": false,
     "start_time": "2024-01-18T19:39:28.819073",
     "status": "completed"
    },
    "tags": []
   },
   "outputs": [
    {
     "data": {
      "text/html": [
       "<div>\n",
       "<style scoped>\n",
       "    .dataframe tbody tr th:only-of-type {\n",
       "        vertical-align: middle;\n",
       "    }\n",
       "\n",
       "    .dataframe tbody tr th {\n",
       "        vertical-align: top;\n",
       "    }\n",
       "\n",
       "    .dataframe thead th {\n",
       "        text-align: right;\n",
       "    }\n",
       "</style>\n",
       "<table border=\"1\" class=\"dataframe\">\n",
       "  <thead>\n",
       "    <tr style=\"text-align: right;\">\n",
       "      <th></th>\n",
       "      <th>id</th>\n",
       "      <th>keyword</th>\n",
       "      <th>location</th>\n",
       "      <th>text</th>\n",
       "      <th>target</th>\n",
       "      <th>unclean</th>\n",
       "    </tr>\n",
       "  </thead>\n",
       "  <tbody>\n",
       "    <tr>\n",
       "      <th>0</th>\n",
       "      <td>1</td>\n",
       "      <td>NaN</td>\n",
       "      <td>NaN</td>\n",
       "      <td>Our Deeds are the Reason of this #earthquake M...</td>\n",
       "      <td>1</td>\n",
       "      <td>Our Deeds are the Reason of this #earthquake M...</td>\n",
       "    </tr>\n",
       "    <tr>\n",
       "      <th>1</th>\n",
       "      <td>4</td>\n",
       "      <td>NaN</td>\n",
       "      <td>NaN</td>\n",
       "      <td>Forest fire near La Ronge Sask. Canada</td>\n",
       "      <td>1</td>\n",
       "      <td>Forest fire near La Ronge Sask. Canada</td>\n",
       "    </tr>\n",
       "    <tr>\n",
       "      <th>2</th>\n",
       "      <td>5</td>\n",
       "      <td>NaN</td>\n",
       "      <td>NaN</td>\n",
       "      <td>All residents asked to 'shelter in place' are ...</td>\n",
       "      <td>1</td>\n",
       "      <td>All residents asked to 'shelter in place' are ...</td>\n",
       "    </tr>\n",
       "    <tr>\n",
       "      <th>3</th>\n",
       "      <td>6</td>\n",
       "      <td>NaN</td>\n",
       "      <td>NaN</td>\n",
       "      <td>13,000 people receive #wildfires evacuation or...</td>\n",
       "      <td>1</td>\n",
       "      <td>13,000 people receive #wildfires evacuation or...</td>\n",
       "    </tr>\n",
       "    <tr>\n",
       "      <th>4</th>\n",
       "      <td>7</td>\n",
       "      <td>NaN</td>\n",
       "      <td>NaN</td>\n",
       "      <td>Just got sent this photo from Ruby #Alaska as ...</td>\n",
       "      <td>1</td>\n",
       "      <td>Just got sent this photo from Ruby #Alaska as ...</td>\n",
       "    </tr>\n",
       "  </tbody>\n",
       "</table>\n",
       "</div>"
      ],
      "text/plain": [
       "   id keyword location                                               text  \\\n",
       "0   1     NaN      NaN  Our Deeds are the Reason of this #earthquake M...   \n",
       "1   4     NaN      NaN             Forest fire near La Ronge Sask. Canada   \n",
       "2   5     NaN      NaN  All residents asked to 'shelter in place' are ...   \n",
       "3   6     NaN      NaN  13,000 people receive #wildfires evacuation or...   \n",
       "4   7     NaN      NaN  Just got sent this photo from Ruby #Alaska as ...   \n",
       "\n",
       "   target                                            unclean  \n",
       "0       1  Our Deeds are the Reason of this #earthquake M...  \n",
       "1       1             Forest fire near La Ronge Sask. Canada  \n",
       "2       1  All residents asked to 'shelter in place' are ...  \n",
       "3       1  13,000 people receive #wildfires evacuation or...  \n",
       "4       1  Just got sent this photo from Ruby #Alaska as ...  "
      ]
     },
     "execution_count": 3,
     "metadata": {},
     "output_type": "execute_result"
    }
   ],
   "source": [
    "df.head()"
   ]
  },
  {
   "cell_type": "markdown",
   "id": "70c8f9f5",
   "metadata": {
    "papermill": {
     "duration": 0.017622,
     "end_time": "2024-01-18T19:39:28.898296",
     "exception": false,
     "start_time": "2024-01-18T19:39:28.880674",
     "status": "completed"
    },
    "tags": []
   },
   "source": [
    "### Check for null values"
   ]
  },
  {
   "cell_type": "code",
   "execution_count": 4,
   "id": "59fbd021",
   "metadata": {
    "execution": {
     "iopub.execute_input": "2024-01-18T19:39:28.939549Z",
     "iopub.status.busy": "2024-01-18T19:39:28.938086Z",
     "iopub.status.idle": "2024-01-18T19:39:28.954396Z",
     "shell.execute_reply": "2024-01-18T19:39:28.953191Z"
    },
    "papermill": {
     "duration": 0.038713,
     "end_time": "2024-01-18T19:39:28.956976",
     "exception": false,
     "start_time": "2024-01-18T19:39:28.918263",
     "status": "completed"
    },
    "tags": []
   },
   "outputs": [
    {
     "data": {
      "text/plain": [
       "id             0\n",
       "keyword       61\n",
       "location    2533\n",
       "text           0\n",
       "target         0\n",
       "unclean        0\n",
       "dtype: int64"
      ]
     },
     "execution_count": 4,
     "metadata": {},
     "output_type": "execute_result"
    }
   ],
   "source": [
    "df.isnull().sum()"
   ]
  },
  {
   "cell_type": "code",
   "execution_count": 5,
   "id": "677313c3",
   "metadata": {
    "execution": {
     "iopub.execute_input": "2024-01-18T19:39:28.995112Z",
     "iopub.status.busy": "2024-01-18T19:39:28.994617Z",
     "iopub.status.idle": "2024-01-18T19:39:29.006405Z",
     "shell.execute_reply": "2024-01-18T19:39:29.004824Z"
    },
    "papermill": {
     "duration": 0.03414,
     "end_time": "2024-01-18T19:39:29.009076",
     "exception": false,
     "start_time": "2024-01-18T19:39:28.974936",
     "status": "completed"
    },
    "tags": []
   },
   "outputs": [
    {
     "data": {
      "text/plain": [
       "id             0\n",
       "keyword       26\n",
       "location    1105\n",
       "text           0\n",
       "dtype: int64"
      ]
     },
     "execution_count": 5,
     "metadata": {},
     "output_type": "execute_result"
    }
   ],
   "source": [
    "df_test.isnull().sum()"
   ]
  },
  {
   "cell_type": "markdown",
   "id": "8710fa98",
   "metadata": {
    "papermill": {
     "duration": 0.01797,
     "end_time": "2024-01-18T19:39:29.045451",
     "exception": false,
     "start_time": "2024-01-18T19:39:29.027481",
     "status": "completed"
    },
    "tags": []
   },
   "source": [
    "Key words have %20 instead of spaces so fill those"
   ]
  },
  {
   "cell_type": "code",
   "execution_count": 6,
   "id": "353cc903",
   "metadata": {
    "execution": {
     "iopub.execute_input": "2024-01-18T19:39:29.083617Z",
     "iopub.status.busy": "2024-01-18T19:39:29.082794Z",
     "iopub.status.idle": "2024-01-18T19:39:29.095726Z",
     "shell.execute_reply": "2024-01-18T19:39:29.094287Z"
    },
    "papermill": {
     "duration": 0.035307,
     "end_time": "2024-01-18T19:39:29.098507",
     "exception": false,
     "start_time": "2024-01-18T19:39:29.063200",
     "status": "completed"
    },
    "tags": []
   },
   "outputs": [
    {
     "data": {
      "text/plain": [
       "array([nan, 'ablaze', 'accident', 'aftershock', 'airplane%20accident',\n",
       "       'ambulance', 'annihilated', 'annihilation', 'apocalypse',\n",
       "       'armageddon', 'army', 'arson', 'arsonist', 'attack', 'attacked',\n",
       "       'avalanche', 'battle', 'bioterror', 'bioterrorism', 'blaze',\n",
       "       'blazing', 'bleeding', 'blew%20up', 'blight', 'blizzard'],\n",
       "      dtype=object)"
      ]
     },
     "execution_count": 6,
     "metadata": {},
     "output_type": "execute_result"
    }
   ],
   "source": [
    "df['keyword'].unique()[:25]"
   ]
  },
  {
   "cell_type": "markdown",
   "id": "4694ab4d",
   "metadata": {
    "papermill": {
     "duration": 0.018071,
     "end_time": "2024-01-18T19:39:29.135115",
     "exception": false,
     "start_time": "2024-01-18T19:39:29.117044",
     "status": "completed"
    },
    "tags": []
   },
   "source": [
    "**Tweet cleaner**"
   ]
  },
  {
   "cell_type": "code",
   "execution_count": 7,
   "id": "8a82293c",
   "metadata": {
    "execution": {
     "iopub.execute_input": "2024-01-18T19:39:29.173850Z",
     "iopub.status.busy": "2024-01-18T19:39:29.173419Z",
     "iopub.status.idle": "2024-01-18T19:39:29.179609Z",
     "shell.execute_reply": "2024-01-18T19:39:29.178361Z"
    },
    "papermill": {
     "duration": 0.028675,
     "end_time": "2024-01-18T19:39:29.182030",
     "exception": false,
     "start_time": "2024-01-18T19:39:29.153355",
     "status": "completed"
    },
    "tags": []
   },
   "outputs": [],
   "source": [
    "# Neirly all of these changes make the performance actually worse!\n",
    "def cleaner(tweet):\n",
    "    tweet = tweet.lower()\n",
    "#    tweet = re.sub('[()!?]',\"\", tweet)\n",
    "#    tweet = re.sub('\\[.*?\\]',\"\", tweet)\n",
    "#    tweet = re.sub(\"@[A-Za-z0-9_]+\",\"\",tweet) #Remove @ sign\n",
    "#    tweet = re.sub(\"#[A-Za-z0-9_]+\",\"\",tweet) # Remove Hashtags\n",
    "#    tweet = re.sub(\"http\\S+\",\"\", tweet) #Remove http links\n",
    "#    tweet = re.sub(\"www\\S+\",\"\", tweet) #Remove www links\n",
    "#    tweet = re.sub(\"[^a-z0-9]\",\" \", tweet) # Filtering non-alphanumeric characters\n",
    "    return tweet"
   ]
  },
  {
   "cell_type": "markdown",
   "id": "a2cff39b",
   "metadata": {
    "papermill": {
     "duration": 0.107948,
     "end_time": "2024-01-18T19:39:29.308930",
     "exception": false,
     "start_time": "2024-01-18T19:39:29.200982",
     "status": "completed"
    },
    "tags": []
   },
   "source": [
    "**Fix Training set by filling na values with '' and %20 with ' '.**"
   ]
  },
  {
   "cell_type": "code",
   "execution_count": 8,
   "id": "dc259232",
   "metadata": {
    "execution": {
     "iopub.execute_input": "2024-01-18T19:39:29.349126Z",
     "iopub.status.busy": "2024-01-18T19:39:29.348443Z",
     "iopub.status.idle": "2024-01-18T19:39:29.463081Z",
     "shell.execute_reply": "2024-01-18T19:39:29.461447Z"
    },
    "papermill": {
     "duration": 0.140321,
     "end_time": "2024-01-18T19:39:29.467099",
     "exception": false,
     "start_time": "2024-01-18T19:39:29.326778",
     "status": "completed"
    },
    "tags": []
   },
   "outputs": [],
   "source": [
    "df['location'] = df['location'].fillna('')\n",
    "df['keyword'] = df['keyword'].fillna('')\n",
    "df['text'] = df['text'].map(lambda x: cleaner(x))\n",
    "df = df.replace('%20', ' ', regex=True)"
   ]
  },
  {
   "cell_type": "code",
   "execution_count": 9,
   "id": "9b4ed944",
   "metadata": {
    "execution": {
     "iopub.execute_input": "2024-01-18T19:39:29.510127Z",
     "iopub.status.busy": "2024-01-18T19:39:29.509605Z",
     "iopub.status.idle": "2024-01-18T19:39:29.549695Z",
     "shell.execute_reply": "2024-01-18T19:39:29.548695Z"
    },
    "papermill": {
     "duration": 0.063916,
     "end_time": "2024-01-18T19:39:29.553223",
     "exception": false,
     "start_time": "2024-01-18T19:39:29.489307",
     "status": "completed"
    },
    "tags": []
   },
   "outputs": [],
   "source": [
    "df_test['location'] = df_test['location'].fillna('')\n",
    "df_test['keyword'] = df_test['keyword'].fillna('')\n",
    "df_test['text'] = df_test['text'].map(lambda x: cleaner(x))\n",
    "df_test = df_test.replace('%20', ' ', regex=True)"
   ]
  },
  {
   "cell_type": "code",
   "execution_count": 10,
   "id": "137960fe",
   "metadata": {
    "execution": {
     "iopub.execute_input": "2024-01-18T19:39:29.598326Z",
     "iopub.status.busy": "2024-01-18T19:39:29.597284Z",
     "iopub.status.idle": "2024-01-18T19:39:29.616919Z",
     "shell.execute_reply": "2024-01-18T19:39:29.615405Z"
    },
    "papermill": {
     "duration": 0.043822,
     "end_time": "2024-01-18T19:39:29.620157",
     "exception": false,
     "start_time": "2024-01-18T19:39:29.576335",
     "status": "completed"
    },
    "tags": []
   },
   "outputs": [
    {
     "data": {
      "text/html": [
       "<div>\n",
       "<style scoped>\n",
       "    .dataframe tbody tr th:only-of-type {\n",
       "        vertical-align: middle;\n",
       "    }\n",
       "\n",
       "    .dataframe tbody tr th {\n",
       "        vertical-align: top;\n",
       "    }\n",
       "\n",
       "    .dataframe thead th {\n",
       "        text-align: right;\n",
       "    }\n",
       "</style>\n",
       "<table border=\"1\" class=\"dataframe\">\n",
       "  <thead>\n",
       "    <tr style=\"text-align: right;\">\n",
       "      <th></th>\n",
       "      <th>id</th>\n",
       "      <th>keyword</th>\n",
       "      <th>location</th>\n",
       "      <th>text</th>\n",
       "      <th>target</th>\n",
       "      <th>unclean</th>\n",
       "    </tr>\n",
       "  </thead>\n",
       "  <tbody>\n",
       "    <tr>\n",
       "      <th>400</th>\n",
       "      <td>577</td>\n",
       "      <td>arson</td>\n",
       "      <td>Los Angeles, CA</td>\n",
       "      <td>owner of chicago-area gay bar admits to arson ...</td>\n",
       "      <td>0</td>\n",
       "      <td>Owner of Chicago-Area Gay Bar Admits to Arson ...</td>\n",
       "    </tr>\n",
       "    <tr>\n",
       "      <th>401</th>\n",
       "      <td>578</td>\n",
       "      <td>arson</td>\n",
       "      <td>North-East Region, Singapore</td>\n",
       "      <td>@sayn_ae angel or arson</td>\n",
       "      <td>0</td>\n",
       "      <td>@sayn_ae angel or arson</td>\n",
       "    </tr>\n",
       "    <tr>\n",
       "      <th>402</th>\n",
       "      <td>579</td>\n",
       "      <td>arson</td>\n",
       "      <td>Eldoret, kenya</td>\n",
       "      <td>#kisii police in kisii hunt for students over ...</td>\n",
       "      <td>1</td>\n",
       "      <td>#Kisii Police in Kisii hunt for students over ...</td>\n",
       "    </tr>\n",
       "    <tr>\n",
       "      <th>403</th>\n",
       "      <td>580</td>\n",
       "      <td>arson</td>\n",
       "      <td></td>\n",
       "      <td>mourning notices for stabbing arson victims st...</td>\n",
       "      <td>1</td>\n",
       "      <td>Mourning notices for stabbing arson victims st...</td>\n",
       "    </tr>\n",
       "    <tr>\n",
       "      <th>404</th>\n",
       "      <td>581</td>\n",
       "      <td>arson</td>\n",
       "      <td>Chicago</td>\n",
       "      <td>owner of chicago-area gay bar admits to arson ...</td>\n",
       "      <td>0</td>\n",
       "      <td>Owner of Chicago-Area Gay Bar Admits to Arson ...</td>\n",
       "    </tr>\n",
       "    <tr>\n",
       "      <th>405</th>\n",
       "      <td>583</td>\n",
       "      <td>arson</td>\n",
       "      <td>EARTH</td>\n",
       "      <td>owner of chicago-area gay bar admits to arson ...</td>\n",
       "      <td>0</td>\n",
       "      <td>Owner of Chicago-Area Gay Bar Admits to Arson ...</td>\n",
       "    </tr>\n",
       "    <tr>\n",
       "      <th>406</th>\n",
       "      <td>584</td>\n",
       "      <td>arson</td>\n",
       "      <td>Jerusalem, Israel</td>\n",
       "      <td>mourning notices for stabbing arson victims st...</td>\n",
       "      <td>1</td>\n",
       "      <td>Mourning notices for stabbing arson victims st...</td>\n",
       "    </tr>\n",
       "    <tr>\n",
       "      <th>407</th>\n",
       "      <td>585</td>\n",
       "      <td>arson</td>\n",
       "      <td></td>\n",
       "      <td>owner of chicago-area gay bar admits to arson ...</td>\n",
       "      <td>1</td>\n",
       "      <td>Owner of Chicago-Area Gay Bar Admits to Arson ...</td>\n",
       "    </tr>\n",
       "    <tr>\n",
       "      <th>408</th>\n",
       "      <td>588</td>\n",
       "      <td>arson</td>\n",
       "      <td>Menasha, WI</td>\n",
       "      <td>arson suspect linked to 30 fires caught in nor...</td>\n",
       "      <td>1</td>\n",
       "      <td>Arson suspect linked to 30 fires caught in Nor...</td>\n",
       "    </tr>\n",
       "    <tr>\n",
       "      <th>409</th>\n",
       "      <td>589</td>\n",
       "      <td>arson</td>\n",
       "      <td></td>\n",
       "      <td>tennessee lesbian couple faked hate crime and ...</td>\n",
       "      <td>1</td>\n",
       "      <td>Tennessee lesbian couple faked hate crime and ...</td>\n",
       "    </tr>\n",
       "  </tbody>\n",
       "</table>\n",
       "</div>"
      ],
      "text/plain": [
       "      id keyword                      location  \\\n",
       "400  577   arson               Los Angeles, CA   \n",
       "401  578   arson  North-East Region, Singapore   \n",
       "402  579   arson                Eldoret, kenya   \n",
       "403  580   arson                                 \n",
       "404  581   arson                       Chicago   \n",
       "405  583   arson                        EARTH    \n",
       "406  584   arson             Jerusalem, Israel   \n",
       "407  585   arson                                 \n",
       "408  588   arson                   Menasha, WI   \n",
       "409  589   arson                                 \n",
       "\n",
       "                                                  text  target  \\\n",
       "400  owner of chicago-area gay bar admits to arson ...       0   \n",
       "401                            @sayn_ae angel or arson       0   \n",
       "402  #kisii police in kisii hunt for students over ...       1   \n",
       "403  mourning notices for stabbing arson victims st...       1   \n",
       "404  owner of chicago-area gay bar admits to arson ...       0   \n",
       "405  owner of chicago-area gay bar admits to arson ...       0   \n",
       "406  mourning notices for stabbing arson victims st...       1   \n",
       "407  owner of chicago-area gay bar admits to arson ...       1   \n",
       "408  arson suspect linked to 30 fires caught in nor...       1   \n",
       "409  tennessee lesbian couple faked hate crime and ...       1   \n",
       "\n",
       "                                               unclean  \n",
       "400  Owner of Chicago-Area Gay Bar Admits to Arson ...  \n",
       "401                            @sayn_ae angel or arson  \n",
       "402  #Kisii Police in Kisii hunt for students over ...  \n",
       "403  Mourning notices for stabbing arson victims st...  \n",
       "404  Owner of Chicago-Area Gay Bar Admits to Arson ...  \n",
       "405  Owner of Chicago-Area Gay Bar Admits to Arson ...  \n",
       "406  Mourning notices for stabbing arson victims st...  \n",
       "407  Owner of Chicago-Area Gay Bar Admits to Arson ...  \n",
       "408  Arson suspect linked to 30 fires caught in Nor...  \n",
       "409  Tennessee lesbian couple faked hate crime and ...  "
      ]
     },
     "execution_count": 10,
     "metadata": {},
     "output_type": "execute_result"
    }
   ],
   "source": [
    "df[400:410]"
   ]
  },
  {
   "cell_type": "code",
   "execution_count": 11,
   "id": "5c5803ff",
   "metadata": {
    "execution": {
     "iopub.execute_input": "2024-01-18T19:39:29.659758Z",
     "iopub.status.busy": "2024-01-18T19:39:29.658714Z",
     "iopub.status.idle": "2024-01-18T19:39:30.053946Z",
     "shell.execute_reply": "2024-01-18T19:39:30.052634Z"
    },
    "papermill": {
     "duration": 0.418269,
     "end_time": "2024-01-18T19:39:30.056950",
     "exception": false,
     "start_time": "2024-01-18T19:39:29.638681",
     "status": "completed"
    },
    "tags": []
   },
   "outputs": [
    {
     "data": {
      "image/png": "[encoded data removed]",
      "text/plain": [
       "<Figure size 640x480 with 1 Axes>"
      ]
     },
     "metadata": {},
     "output_type": "display_data"
    }
   ],
   "source": [
    "sns.countplot(data=df, x='target');"
   ]
  },
  {
   "cell_type": "code",
   "execution_count": 12,
   "id": "00249552",
   "metadata": {
    "execution": {
     "iopub.execute_input": "2024-01-18T19:39:30.096597Z",
     "iopub.status.busy": "2024-01-18T19:39:30.096198Z",
     "iopub.status.idle": "2024-01-18T19:39:30.115309Z",
     "shell.execute_reply": "2024-01-18T19:39:30.114095Z"
    },
    "papermill": {
     "duration": 0.041764,
     "end_time": "2024-01-18T19:39:30.117977",
     "exception": false,
     "start_time": "2024-01-18T19:39:30.076213",
     "status": "completed"
    },
    "tags": []
   },
   "outputs": [
    {
     "data": {
      "text/html": [
       "<div>\n",
       "<style scoped>\n",
       "    .dataframe tbody tr th:only-of-type {\n",
       "        vertical-align: middle;\n",
       "    }\n",
       "\n",
       "    .dataframe tbody tr th {\n",
       "        vertical-align: top;\n",
       "    }\n",
       "\n",
       "    .dataframe thead th {\n",
       "        text-align: right;\n",
       "    }\n",
       "</style>\n",
       "<table border=\"1\" class=\"dataframe\">\n",
       "  <thead>\n",
       "    <tr style=\"text-align: right;\">\n",
       "      <th></th>\n",
       "      <th>id</th>\n",
       "      <th>keyword</th>\n",
       "      <th>location</th>\n",
       "      <th>text</th>\n",
       "      <th>target</th>\n",
       "      <th>unclean</th>\n",
       "    </tr>\n",
       "  </thead>\n",
       "  <tbody>\n",
       "    <tr>\n",
       "      <th>800</th>\n",
       "      <td>1160</td>\n",
       "      <td>blight</td>\n",
       "      <td>Laventillemoorings</td>\n",
       "      <td>if you dotish to blight your car go right ahea...</td>\n",
       "      <td>0</td>\n",
       "      <td>If you dotish to blight your car go right ahea...</td>\n",
       "    </tr>\n",
       "    <tr>\n",
       "      <th>801</th>\n",
       "      <td>1162</td>\n",
       "      <td>blight</td>\n",
       "      <td>UK</td>\n",
       "      <td>sexual revolution:blight for women is out! htt...</td>\n",
       "      <td>0</td>\n",
       "      <td>Sexual Revolution:Blight For Women is out! htt...</td>\n",
       "    </tr>\n",
       "    <tr>\n",
       "      <th>802</th>\n",
       "      <td>1164</td>\n",
       "      <td>blight</td>\n",
       "      <td>Scotland</td>\n",
       "      <td>like i swear the secret we'll uncover is the o...</td>\n",
       "      <td>0</td>\n",
       "      <td>LIKE I SWEAR THE SECRET WE'LL UNCOVER IS THE O...</td>\n",
       "    </tr>\n",
       "    <tr>\n",
       "      <th>803</th>\n",
       "      <td>1166</td>\n",
       "      <td>blight</td>\n",
       "      <td>London</td>\n",
       "      <td>@willhillbet what is double result live on the...</td>\n",
       "      <td>0</td>\n",
       "      <td>@WillHillBet what is double result live on the...</td>\n",
       "    </tr>\n",
       "    <tr>\n",
       "      <th>804</th>\n",
       "      <td>1167</td>\n",
       "      <td>blight</td>\n",
       "      <td>Vancouver, BC</td>\n",
       "      <td>@parksboardfacts first off it is the #zippolin...</td>\n",
       "      <td>0</td>\n",
       "      <td>@parksboardfacts first off it is the #ZippoLin...</td>\n",
       "    </tr>\n",
       "    <tr>\n",
       "      <th>...</th>\n",
       "      <td>...</td>\n",
       "      <td>...</td>\n",
       "      <td>...</td>\n",
       "      <td>...</td>\n",
       "      <td>...</td>\n",
       "      <td>...</td>\n",
       "    </tr>\n",
       "    <tr>\n",
       "      <th>1395</th>\n",
       "      <td>2014</td>\n",
       "      <td>casualties</td>\n",
       "      <td>Philippines</td>\n",
       "      <td>civilian casualties rise as afghan war intensi...</td>\n",
       "      <td>1</td>\n",
       "      <td>Civilian casualties rise as Afghan war intensi...</td>\n",
       "    </tr>\n",
       "    <tr>\n",
       "      <th>1396</th>\n",
       "      <td>2015</td>\n",
       "      <td>casualties</td>\n",
       "      <td></td>\n",
       "      <td>afghan conflict sees 'sharp rise' in female ca...</td>\n",
       "      <td>1</td>\n",
       "      <td>Afghan conflict sees 'sharp rise' in female ca...</td>\n",
       "    </tr>\n",
       "    <tr>\n",
       "      <th>1397</th>\n",
       "      <td>2016</td>\n",
       "      <td>casualties</td>\n",
       "      <td>Bronx, New York</td>\n",
       "      <td>warfighting robots could reduce civilian casua...</td>\n",
       "      <td>1</td>\n",
       "      <td>Warfighting Robots Could Reduce Civilian Casua...</td>\n",
       "    </tr>\n",
       "    <tr>\n",
       "      <th>1398</th>\n",
       "      <td>2017</td>\n",
       "      <td>casualties</td>\n",
       "      <td>Canadian bread</td>\n",
       "      <td>@libertarianluke i'm all for that to be honest...</td>\n",
       "      <td>0</td>\n",
       "      <td>@LibertarianLuke I'm all for that to be honest...</td>\n",
       "    </tr>\n",
       "    <tr>\n",
       "      <th>1399</th>\n",
       "      <td>2019</td>\n",
       "      <td>casualties</td>\n",
       "      <td>Phoenix, AZ</td>\n",
       "      <td>afghanistan: u.n. reports 'record-high levels'...</td>\n",
       "      <td>1</td>\n",
       "      <td>Afghanistan: U.N. Reports 'Record-High Levels'...</td>\n",
       "    </tr>\n",
       "  </tbody>\n",
       "</table>\n",
       "<p>600 rows × 6 columns</p>\n",
       "</div>"
      ],
      "text/plain": [
       "        id     keyword             location  \\\n",
       "800   1160      blight  Laventillemoorings    \n",
       "801   1162      blight                   UK   \n",
       "802   1164      blight             Scotland   \n",
       "803   1166      blight               London   \n",
       "804   1167      blight        Vancouver, BC   \n",
       "...    ...         ...                  ...   \n",
       "1395  2014  casualties          Philippines   \n",
       "1396  2015  casualties                        \n",
       "1397  2016  casualties      Bronx, New York   \n",
       "1398  2017  casualties       Canadian bread   \n",
       "1399  2019  casualties          Phoenix, AZ   \n",
       "\n",
       "                                                   text  target  \\\n",
       "800   if you dotish to blight your car go right ahea...       0   \n",
       "801   sexual revolution:blight for women is out! htt...       0   \n",
       "802   like i swear the secret we'll uncover is the o...       0   \n",
       "803   @willhillbet what is double result live on the...       0   \n",
       "804   @parksboardfacts first off it is the #zippolin...       0   \n",
       "...                                                 ...     ...   \n",
       "1395  civilian casualties rise as afghan war intensi...       1   \n",
       "1396  afghan conflict sees 'sharp rise' in female ca...       1   \n",
       "1397  warfighting robots could reduce civilian casua...       1   \n",
       "1398  @libertarianluke i'm all for that to be honest...       0   \n",
       "1399  afghanistan: u.n. reports 'record-high levels'...       1   \n",
       "\n",
       "                                                unclean  \n",
       "800   If you dotish to blight your car go right ahea...  \n",
       "801   Sexual Revolution:Blight For Women is out! htt...  \n",
       "802   LIKE I SWEAR THE SECRET WE'LL UNCOVER IS THE O...  \n",
       "803   @WillHillBet what is double result live on the...  \n",
       "804   @parksboardfacts first off it is the #ZippoLin...  \n",
       "...                                                 ...  \n",
       "1395  Civilian casualties rise as Afghan war intensi...  \n",
       "1396  Afghan conflict sees 'sharp rise' in female ca...  \n",
       "1397  Warfighting Robots Could Reduce Civilian Casua...  \n",
       "1398  @LibertarianLuke I'm all for that to be honest...  \n",
       "1399  Afghanistan: U.N. Reports 'Record-High Levels'...  \n",
       "\n",
       "[600 rows x 6 columns]"
      ]
     },
     "execution_count": 12,
     "metadata": {},
     "output_type": "execute_result"
    }
   ],
   "source": [
    "df[800:1400]"
   ]
  },
  {
   "cell_type": "markdown",
   "id": "0338b2ef",
   "metadata": {
    "papermill": {
     "duration": 0.018627,
     "end_time": "2024-01-18T19:39:30.156237",
     "exception": false,
     "start_time": "2024-01-18T19:39:30.137610",
     "status": "completed"
    },
    "tags": []
   },
   "source": [
    "## Plot to show some of the positive/negative ratios for given keywords\n",
    "Some of the keywords are pretty strongly correlated"
   ]
  },
  {
   "cell_type": "code",
   "execution_count": 13,
   "id": "19c1fb0d",
   "metadata": {
    "execution": {
     "iopub.execute_input": "2024-01-18T19:39:30.196716Z",
     "iopub.status.busy": "2024-01-18T19:39:30.196314Z",
     "iopub.status.idle": "2024-01-18T19:39:31.200472Z",
     "shell.execute_reply": "2024-01-18T19:39:31.199452Z"
    },
    "papermill": {
     "duration": 1.027462,
     "end_time": "2024-01-18T19:39:31.202836",
     "exception": false,
     "start_time": "2024-01-18T19:39:30.175374",
     "status": "completed"
    },
    "tags": []
   },
   "outputs": [
    {
     "data": {
      "image/png": "[encoded data removed]",
      "text/plain": [
       "<Figure size 1000x400 with 1 Axes>"
      ]
     },
     "metadata": {},
     "output_type": "display_data"
    }
   ],
   "source": [
    "plt.figure(figsize=(10,4))\n",
    "sns.countplot(data=df[1000:2500], x='keyword',hue='target')\n",
    "plt.xticks(rotation=90);"
   ]
  },
  {
   "cell_type": "markdown",
   "id": "a69cf370",
   "metadata": {
    "papermill": {
     "duration": 0.020137,
     "end_time": "2024-01-18T19:39:31.243638",
     "exception": false,
     "start_time": "2024-01-18T19:39:31.223501",
     "status": "completed"
    },
    "tags": []
   },
   "source": [
    "## Word Cloud test"
   ]
  },
  {
   "cell_type": "code",
   "execution_count": 14,
   "id": "4a9fa6b9",
   "metadata": {
    "execution": {
     "iopub.execute_input": "2024-01-18T19:39:31.288259Z",
     "iopub.status.busy": "2024-01-18T19:39:31.287733Z",
     "iopub.status.idle": "2024-01-18T19:39:31.293051Z",
     "shell.execute_reply": "2024-01-18T19:39:31.291713Z"
    },
    "papermill": {
     "duration": 0.029626,
     "end_time": "2024-01-18T19:39:31.295309",
     "exception": false,
     "start_time": "2024-01-18T19:39:31.265683",
     "status": "completed"
    },
    "tags": []
   },
   "outputs": [],
   "source": [
    "# import collections\n",
    "# from wordcloud import WordCloud, STOPWORDS"
   ]
  },
  {
   "cell_type": "code",
   "execution_count": 15,
   "id": "88fc2454",
   "metadata": {
    "execution": {
     "iopub.execute_input": "2024-01-18T19:39:31.337872Z",
     "iopub.status.busy": "2024-01-18T19:39:31.337393Z",
     "iopub.status.idle": "2024-01-18T19:39:31.342839Z",
     "shell.execute_reply": "2024-01-18T19:39:31.341905Z"
    },
    "papermill": {
     "duration": 0.029597,
     "end_time": "2024-01-18T19:39:31.345000",
     "exception": false,
     "start_time": "2024-01-18T19:39:31.315403",
     "status": "completed"
    },
    "tags": []
   },
   "outputs": [],
   "source": [
    "# #STOPWORDS.add('http')\n",
    "\n",
    "# def Plot_world(text):\n",
    "    \n",
    "#     comment_words = ' '\n",
    "#     stopwords = set(STOPWORDS)\n",
    "    \n",
    "#     for val in text:\n",
    "#         val = str(val)\n",
    "#         tokens = val.split()\n",
    "        \n",
    "#         for i in range(len(tokens)):\n",
    "#             tokens[i] = tokens[i].lower()\n",
    "            \n",
    "#         for words in tokens:\n",
    "#             comment_words = comment_words + words + ' '\n",
    "            \n",
    "#     wordcloud = WordCloud(width = 5000, \n",
    "#                           height = 4000,\n",
    "#                           background_color = 'white',\n",
    "#                           stopwords = stopwords,\n",
    "#                           min_font_size = 10).generate(comment_words)\n",
    "    \n",
    "#     plt.figure(figsize=(12, 8))\n",
    "#     plt.imshow(wordcloud)\n",
    "#     plt.axis('off')"
   ]
  },
  {
   "cell_type": "code",
   "execution_count": 16,
   "id": "dad2c534",
   "metadata": {
    "execution": {
     "iopub.execute_input": "2024-01-18T19:39:31.388384Z",
     "iopub.status.busy": "2024-01-18T19:39:31.386982Z",
     "iopub.status.idle": "2024-01-18T19:39:31.392286Z",
     "shell.execute_reply": "2024-01-18T19:39:31.391360Z"
    },
    "papermill": {
     "duration": 0.029481,
     "end_time": "2024-01-18T19:39:31.394750",
     "exception": false,
     "start_time": "2024-01-18T19:39:31.365269",
     "status": "completed"
    },
    "tags": []
   },
   "outputs": [],
   "source": [
    "# text = df.text.values\n",
    "# Plot_world(text)"
   ]
  },
  {
   "cell_type": "markdown",
   "id": "7f05bfe5",
   "metadata": {
    "papermill": {
     "duration": 0.020681,
     "end_time": "2024-01-18T19:39:31.436559",
     "exception": false,
     "start_time": "2024-01-18T19:39:31.415878",
     "status": "completed"
    },
    "tags": []
   },
   "source": [
    "# Split Train Data to do inital testing"
   ]
  },
  {
   "cell_type": "code",
   "execution_count": 17,
   "id": "1c37ac7e",
   "metadata": {
    "execution": {
     "iopub.execute_input": "2024-01-18T19:39:31.480949Z",
     "iopub.status.busy": "2024-01-18T19:39:31.480134Z",
     "iopub.status.idle": "2024-01-18T19:39:31.766376Z",
     "shell.execute_reply": "2024-01-18T19:39:31.765135Z"
    },
    "papermill": {
     "duration": 0.312107,
     "end_time": "2024-01-18T19:39:31.769793",
     "exception": false,
     "start_time": "2024-01-18T19:39:31.457686",
     "status": "completed"
    },
    "tags": []
   },
   "outputs": [],
   "source": [
    "from sklearn.model_selection import train_test_split"
   ]
  },
  {
   "cell_type": "code",
   "execution_count": 18,
   "id": "969fb76d",
   "metadata": {
    "execution": {
     "iopub.execute_input": "2024-01-18T19:39:31.815043Z",
     "iopub.status.busy": "2024-01-18T19:39:31.814550Z",
     "iopub.status.idle": "2024-01-18T19:39:31.846980Z",
     "shell.execute_reply": "2024-01-18T19:39:31.845642Z"
    },
    "papermill": {
     "duration": 0.058461,
     "end_time": "2024-01-18T19:39:31.849760",
     "exception": false,
     "start_time": "2024-01-18T19:39:31.791299",
     "status": "completed"
    },
    "tags": []
   },
   "outputs": [
    {
     "data": {
      "text/html": [
       "<div>\n",
       "<style scoped>\n",
       "    .dataframe tbody tr th:only-of-type {\n",
       "        vertical-align: middle;\n",
       "    }\n",
       "\n",
       "    .dataframe tbody tr th {\n",
       "        vertical-align: top;\n",
       "    }\n",
       "\n",
       "    .dataframe thead th {\n",
       "        text-align: right;\n",
       "    }\n",
       "</style>\n",
       "<table border=\"1\" class=\"dataframe\">\n",
       "  <thead>\n",
       "    <tr style=\"text-align: right;\">\n",
       "      <th></th>\n",
       "      <th>id</th>\n",
       "      <th>keyword</th>\n",
       "      <th>location</th>\n",
       "      <th>text</th>\n",
       "      <th>target</th>\n",
       "      <th>unclean</th>\n",
       "      <th>text combo</th>\n",
       "    </tr>\n",
       "  </thead>\n",
       "  <tbody>\n",
       "    <tr>\n",
       "      <th>800</th>\n",
       "      <td>1160</td>\n",
       "      <td>blight</td>\n",
       "      <td>Laventillemoorings</td>\n",
       "      <td>if you dotish to blight your car go right ahea...</td>\n",
       "      <td>0</td>\n",
       "      <td>If you dotish to blight your car go right ahea...</td>\n",
       "      <td>if you dotish to blight your car go right ahea...</td>\n",
       "    </tr>\n",
       "    <tr>\n",
       "      <th>801</th>\n",
       "      <td>1162</td>\n",
       "      <td>blight</td>\n",
       "      <td>UK</td>\n",
       "      <td>sexual revolution:blight for women is out! htt...</td>\n",
       "      <td>0</td>\n",
       "      <td>Sexual Revolution:Blight For Women is out! htt...</td>\n",
       "      <td>sexual revolution:blight for women is out! htt...</td>\n",
       "    </tr>\n",
       "    <tr>\n",
       "      <th>802</th>\n",
       "      <td>1164</td>\n",
       "      <td>blight</td>\n",
       "      <td>Scotland</td>\n",
       "      <td>like i swear the secret we'll uncover is the o...</td>\n",
       "      <td>0</td>\n",
       "      <td>LIKE I SWEAR THE SECRET WE'LL UNCOVER IS THE O...</td>\n",
       "      <td>like i swear the secret we'll uncover is the o...</td>\n",
       "    </tr>\n",
       "    <tr>\n",
       "      <th>803</th>\n",
       "      <td>1166</td>\n",
       "      <td>blight</td>\n",
       "      <td>London</td>\n",
       "      <td>@willhillbet what is double result live on the...</td>\n",
       "      <td>0</td>\n",
       "      <td>@WillHillBet what is double result live on the...</td>\n",
       "      <td>@willhillbet what is double result live on the...</td>\n",
       "    </tr>\n",
       "    <tr>\n",
       "      <th>804</th>\n",
       "      <td>1167</td>\n",
       "      <td>blight</td>\n",
       "      <td>Vancouver, BC</td>\n",
       "      <td>@parksboardfacts first off it is the #zippolin...</td>\n",
       "      <td>0</td>\n",
       "      <td>@parksboardfacts first off it is the #ZippoLin...</td>\n",
       "      <td>@parksboardfacts first off it is the #zippolin...</td>\n",
       "    </tr>\n",
       "    <tr>\n",
       "      <th>805</th>\n",
       "      <td>1168</td>\n",
       "      <td>blight</td>\n",
       "      <td>Cleveland, OH</td>\n",
       "      <td>look for my policy matters ohio report on #cle...</td>\n",
       "      <td>0</td>\n",
       "      <td>Look for my Policy Matters Ohio report on #CLE...</td>\n",
       "      <td>look for my policy matters ohio report on #cle...</td>\n",
       "    </tr>\n",
       "    <tr>\n",
       "      <th>806</th>\n",
       "      <td>1170</td>\n",
       "      <td>blight</td>\n",
       "      <td>Kama | 18 | France</td>\n",
       "      <td>@anellatulip and put the taint there and that ...</td>\n",
       "      <td>0</td>\n",
       "      <td>@anellatulip and put the taint there and that ...</td>\n",
       "      <td>@anellatulip and put the taint there and that ...</td>\n",
       "    </tr>\n",
       "  </tbody>\n",
       "</table>\n",
       "</div>"
      ],
      "text/plain": [
       "       id keyword             location  \\\n",
       "800  1160  blight  Laventillemoorings    \n",
       "801  1162  blight                   UK   \n",
       "802  1164  blight             Scotland   \n",
       "803  1166  blight               London   \n",
       "804  1167  blight        Vancouver, BC   \n",
       "805  1168  blight        Cleveland, OH   \n",
       "806  1170  blight  Kama | 18 | France    \n",
       "\n",
       "                                                  text  target  \\\n",
       "800  if you dotish to blight your car go right ahea...       0   \n",
       "801  sexual revolution:blight for women is out! htt...       0   \n",
       "802  like i swear the secret we'll uncover is the o...       0   \n",
       "803  @willhillbet what is double result live on the...       0   \n",
       "804  @parksboardfacts first off it is the #zippolin...       0   \n",
       "805  look for my policy matters ohio report on #cle...       0   \n",
       "806  @anellatulip and put the taint there and that ...       0   \n",
       "\n",
       "                                               unclean  \\\n",
       "800  If you dotish to blight your car go right ahea...   \n",
       "801  Sexual Revolution:Blight For Women is out! htt...   \n",
       "802  LIKE I SWEAR THE SECRET WE'LL UNCOVER IS THE O...   \n",
       "803  @WillHillBet what is double result live on the...   \n",
       "804  @parksboardfacts first off it is the #ZippoLin...   \n",
       "805  Look for my Policy Matters Ohio report on #CLE...   \n",
       "806  @anellatulip and put the taint there and that ...   \n",
       "\n",
       "                                            text combo  \n",
       "800  if you dotish to blight your car go right ahea...  \n",
       "801  sexual revolution:blight for women is out! htt...  \n",
       "802  like i swear the secret we'll uncover is the o...  \n",
       "803  @willhillbet what is double result live on the...  \n",
       "804  @parksboardfacts first off it is the #zippolin...  \n",
       "805  look for my policy matters ohio report on #cle...  \n",
       "806  @anellatulip and put the taint there and that ...  "
      ]
     },
     "execution_count": 18,
     "metadata": {},
     "output_type": "execute_result"
    }
   ],
   "source": [
    "df['text combo'] = df['text'] + \" \" + df['keyword'] +\" \"+ df['location']\n",
    "df_test['text combo'] = df_test['text'] + \" \" + df_test['keyword'] +\" \"+ df_test['location']\n",
    "\n",
    "df[800:807]"
   ]
  },
  {
   "cell_type": "code",
   "execution_count": 19,
   "id": "b9d78dc4",
   "metadata": {
    "execution": {
     "iopub.execute_input": "2024-01-18T19:39:31.894085Z",
     "iopub.status.busy": "2024-01-18T19:39:31.893576Z",
     "iopub.status.idle": "2024-01-18T19:39:31.911367Z",
     "shell.execute_reply": "2024-01-18T19:39:31.909979Z"
    },
    "papermill": {
     "duration": 0.043165,
     "end_time": "2024-01-18T19:39:31.913945",
     "exception": false,
     "start_time": "2024-01-18T19:39:31.870780",
     "status": "completed"
    },
    "tags": []
   },
   "outputs": [],
   "source": [
    "#X = df.drop(['target','id'], axis=1)\n",
    "X = df.drop('target',axis=1)\n",
    "y = df['target']\n",
    "X_train, X_test, y_train, y_test = train_test_split(X, y, test_size=0.2, random_state=814)\n",
    "ids_train = X_train['id']\n",
    "X_train = X_train['text combo']\n",
    "ids_test = X_test['id']\n",
    "X_test = X_test['text combo']"
   ]
  },
  {
   "cell_type": "code",
   "execution_count": 20,
   "id": "fc3d47e9",
   "metadata": {
    "execution": {
     "iopub.execute_input": "2024-01-18T19:39:31.959218Z",
     "iopub.status.busy": "2024-01-18T19:39:31.958690Z",
     "iopub.status.idle": "2024-01-18T19:39:31.974576Z",
     "shell.execute_reply": "2024-01-18T19:39:31.973479Z"
    },
    "papermill": {
     "duration": 0.041489,
     "end_time": "2024-01-18T19:39:31.976831",
     "exception": false,
     "start_time": "2024-01-18T19:39:31.935342",
     "status": "completed"
    },
    "tags": []
   },
   "outputs": [
    {
     "data": {
      "text/html": [
       "<div>\n",
       "<style scoped>\n",
       "    .dataframe tbody tr th:only-of-type {\n",
       "        vertical-align: middle;\n",
       "    }\n",
       "\n",
       "    .dataframe tbody tr th {\n",
       "        vertical-align: top;\n",
       "    }\n",
       "\n",
       "    .dataframe thead th {\n",
       "        text-align: right;\n",
       "    }\n",
       "</style>\n",
       "<table border=\"1\" class=\"dataframe\">\n",
       "  <thead>\n",
       "    <tr style=\"text-align: right;\">\n",
       "      <th></th>\n",
       "      <th>id</th>\n",
       "      <th>keyword</th>\n",
       "      <th>location</th>\n",
       "      <th>text</th>\n",
       "      <th>text combo</th>\n",
       "    </tr>\n",
       "  </thead>\n",
       "  <tbody>\n",
       "    <tr>\n",
       "      <th>0</th>\n",
       "      <td>0</td>\n",
       "      <td></td>\n",
       "      <td></td>\n",
       "      <td>just happened a terrible car crash</td>\n",
       "      <td>just happened a terrible car crash</td>\n",
       "    </tr>\n",
       "    <tr>\n",
       "      <th>1</th>\n",
       "      <td>2</td>\n",
       "      <td></td>\n",
       "      <td></td>\n",
       "      <td>heard about #earthquake is different cities, s...</td>\n",
       "      <td>heard about #earthquake is different cities, s...</td>\n",
       "    </tr>\n",
       "    <tr>\n",
       "      <th>2</th>\n",
       "      <td>3</td>\n",
       "      <td></td>\n",
       "      <td></td>\n",
       "      <td>there is a forest fire at spot pond, geese are...</td>\n",
       "      <td>there is a forest fire at spot pond, geese are...</td>\n",
       "    </tr>\n",
       "    <tr>\n",
       "      <th>3</th>\n",
       "      <td>9</td>\n",
       "      <td></td>\n",
       "      <td></td>\n",
       "      <td>apocalypse lighting. #spokane #wildfires</td>\n",
       "      <td>apocalypse lighting. #spokane #wildfires</td>\n",
       "    </tr>\n",
       "    <tr>\n",
       "      <th>4</th>\n",
       "      <td>11</td>\n",
       "      <td></td>\n",
       "      <td></td>\n",
       "      <td>typhoon soudelor kills 28 in china and taiwan</td>\n",
       "      <td>typhoon soudelor kills 28 in china and taiwan</td>\n",
       "    </tr>\n",
       "    <tr>\n",
       "      <th>...</th>\n",
       "      <td>...</td>\n",
       "      <td>...</td>\n",
       "      <td>...</td>\n",
       "      <td>...</td>\n",
       "      <td>...</td>\n",
       "    </tr>\n",
       "    <tr>\n",
       "      <th>3258</th>\n",
       "      <td>10861</td>\n",
       "      <td></td>\n",
       "      <td></td>\n",
       "      <td>earthquake safety los angeles ûò safety faste...</td>\n",
       "      <td>earthquake safety los angeles ûò safety faste...</td>\n",
       "    </tr>\n",
       "    <tr>\n",
       "      <th>3259</th>\n",
       "      <td>10865</td>\n",
       "      <td></td>\n",
       "      <td></td>\n",
       "      <td>storm in ri worse than last hurricane. my city...</td>\n",
       "      <td>storm in ri worse than last hurricane. my city...</td>\n",
       "    </tr>\n",
       "    <tr>\n",
       "      <th>3260</th>\n",
       "      <td>10868</td>\n",
       "      <td></td>\n",
       "      <td></td>\n",
       "      <td>green line derailment in chicago http://t.co/u...</td>\n",
       "      <td>green line derailment in chicago http://t.co/u...</td>\n",
       "    </tr>\n",
       "    <tr>\n",
       "      <th>3261</th>\n",
       "      <td>10874</td>\n",
       "      <td></td>\n",
       "      <td></td>\n",
       "      <td>meg issues hazardous weather outlook (hwo) htt...</td>\n",
       "      <td>meg issues hazardous weather outlook (hwo) htt...</td>\n",
       "    </tr>\n",
       "    <tr>\n",
       "      <th>3262</th>\n",
       "      <td>10875</td>\n",
       "      <td></td>\n",
       "      <td></td>\n",
       "      <td>#cityofcalgary has activated its municipal eme...</td>\n",
       "      <td>#cityofcalgary has activated its municipal eme...</td>\n",
       "    </tr>\n",
       "  </tbody>\n",
       "</table>\n",
       "<p>3263 rows × 5 columns</p>\n",
       "</div>"
      ],
      "text/plain": [
       "         id keyword location  \\\n",
       "0         0                    \n",
       "1         2                    \n",
       "2         3                    \n",
       "3         9                    \n",
       "4        11                    \n",
       "...     ...     ...      ...   \n",
       "3258  10861                    \n",
       "3259  10865                    \n",
       "3260  10868                    \n",
       "3261  10874                    \n",
       "3262  10875                    \n",
       "\n",
       "                                                   text  \\\n",
       "0                    just happened a terrible car crash   \n",
       "1     heard about #earthquake is different cities, s...   \n",
       "2     there is a forest fire at spot pond, geese are...   \n",
       "3              apocalypse lighting. #spokane #wildfires   \n",
       "4         typhoon soudelor kills 28 in china and taiwan   \n",
       "...                                                 ...   \n",
       "3258  earthquake safety los angeles ûò safety faste...   \n",
       "3259  storm in ri worse than last hurricane. my city...   \n",
       "3260  green line derailment in chicago http://t.co/u...   \n",
       "3261  meg issues hazardous weather outlook (hwo) htt...   \n",
       "3262  #cityofcalgary has activated its municipal eme...   \n",
       "\n",
       "                                             text combo  \n",
       "0                  just happened a terrible car crash    \n",
       "1     heard about #earthquake is different cities, s...  \n",
       "2     there is a forest fire at spot pond, geese are...  \n",
       "3            apocalypse lighting. #spokane #wildfires    \n",
       "4       typhoon soudelor kills 28 in china and taiwan    \n",
       "...                                                 ...  \n",
       "3258  earthquake safety los angeles ûò safety faste...  \n",
       "3259  storm in ri worse than last hurricane. my city...  \n",
       "3260  green line derailment in chicago http://t.co/u...  \n",
       "3261  meg issues hazardous weather outlook (hwo) htt...  \n",
       "3262  #cityofcalgary has activated its municipal eme...  \n",
       "\n",
       "[3263 rows x 5 columns]"
      ]
     },
     "execution_count": 20,
     "metadata": {},
     "output_type": "execute_result"
    }
   ],
   "source": [
    "df_test"
   ]
  },
  {
   "cell_type": "markdown",
   "id": "e5f68e2d",
   "metadata": {
    "papermill": {
     "duration": 0.022757,
     "end_time": "2024-01-18T19:39:32.021221",
     "exception": false,
     "start_time": "2024-01-18T19:39:31.998464",
     "status": "completed"
    },
    "tags": []
   },
   "source": [
    "# Setup various models to test"
   ]
  },
  {
   "cell_type": "code",
   "execution_count": 21,
   "id": "9ce2cc15",
   "metadata": {
    "execution": {
     "iopub.execute_input": "2024-01-18T19:39:32.066372Z",
     "iopub.status.busy": "2024-01-18T19:39:32.065940Z",
     "iopub.status.idle": "2024-01-18T19:39:32.194940Z",
     "shell.execute_reply": "2024-01-18T19:39:32.193503Z"
    },
    "papermill": {
     "duration": 0.155272,
     "end_time": "2024-01-18T19:39:32.198207",
     "exception": false,
     "start_time": "2024-01-18T19:39:32.042935",
     "status": "completed"
    },
    "tags": []
   },
   "outputs": [],
   "source": [
    "#from sklearn.pipeline import Pipeline\n",
    "from sklearn.feature_extraction.text import TfidfVectorizer, CountVectorizer\n",
    "from sklearn.model_selection import GridSearchCV\n",
    "from sklearn.naive_bayes import MultinomialNB\n",
    "from sklearn.linear_model import LogisticRegression, SGDClassifier\n",
    "from sklearn.svm import LinearSVC, SVC\n",
    "from sklearn.metrics import classification_report,f1_score,confusion_matrix,ConfusionMatrixDisplay"
   ]
  },
  {
   "cell_type": "markdown",
   "id": "c73b6f01",
   "metadata": {
    "papermill": {
     "duration": 0.022111,
     "end_time": "2024-01-18T19:39:32.242368",
     "exception": false,
     "start_time": "2024-01-18T19:39:32.220257",
     "status": "completed"
    },
    "tags": []
   },
   "source": [
    "### Vectorize the text data"
   ]
  },
  {
   "cell_type": "code",
   "execution_count": 22,
   "id": "73c98107",
   "metadata": {
    "execution": {
     "iopub.execute_input": "2024-01-18T19:39:32.289928Z",
     "iopub.status.busy": "2024-01-18T19:39:32.289411Z",
     "iopub.status.idle": "2024-01-18T19:39:32.794026Z",
     "shell.execute_reply": "2024-01-18T19:39:32.792629Z"
    },
    "papermill": {
     "duration": 0.531143,
     "end_time": "2024-01-18T19:39:32.797239",
     "exception": false,
     "start_time": "2024-01-18T19:39:32.266096",
     "status": "completed"
    },
    "tags": []
   },
   "outputs": [],
   "source": [
    "#tfidf = CountVectorizer(stop_words='english')\n",
    "tfidf = TfidfVectorizer(stop_words='english')\n",
    "tfidf.fit(X_train)\n",
    "X_train_tfidf = tfidf.transform(X_train)\n",
    "X_test_tfidf = tfidf.transform(X_test)"
   ]
  },
  {
   "cell_type": "code",
   "execution_count": 23,
   "id": "7aa20cb8",
   "metadata": {
    "execution": {
     "iopub.execute_input": "2024-01-18T19:39:32.843899Z",
     "iopub.status.busy": "2024-01-18T19:39:32.843406Z",
     "iopub.status.idle": "2024-01-18T19:39:32.852090Z",
     "shell.execute_reply": "2024-01-18T19:39:32.850721Z"
    },
    "papermill": {
     "duration": 0.034611,
     "end_time": "2024-01-18T19:39:32.854674",
     "exception": false,
     "start_time": "2024-01-18T19:39:32.820063",
     "status": "completed"
    },
    "tags": []
   },
   "outputs": [
    {
     "data": {
      "text/plain": [
       "<6090x19857 sparse matrix of type '<class 'numpy.float64'>'\n",
       "\twith 67292 stored elements in Compressed Sparse Row format>"
      ]
     },
     "execution_count": 23,
     "metadata": {},
     "output_type": "execute_result"
    }
   ],
   "source": [
    "X_train_tfidf"
   ]
  },
  {
   "cell_type": "markdown",
   "id": "b4248b7d",
   "metadata": {
    "papermill": {
     "duration": 0.022253,
     "end_time": "2024-01-18T19:39:32.898962",
     "exception": false,
     "start_time": "2024-01-18T19:39:32.876709",
     "status": "completed"
    },
    "tags": []
   },
   "source": [
    "###  MultinomialNB model"
   ]
  },
  {
   "cell_type": "code",
   "execution_count": 24,
   "id": "c27b5dcf",
   "metadata": {
    "execution": {
     "iopub.execute_input": "2024-01-18T19:39:32.944737Z",
     "iopub.status.busy": "2024-01-18T19:39:32.944248Z",
     "iopub.status.idle": "2024-01-18T19:39:33.141636Z",
     "shell.execute_reply": "2024-01-18T19:39:33.140424Z"
    },
    "papermill": {
     "duration": 0.222997,
     "end_time": "2024-01-18T19:39:33.144241",
     "exception": false,
     "start_time": "2024-01-18T19:39:32.921244",
     "status": "completed"
    },
    "tags": []
   },
   "outputs": [
    {
     "name": "stdout",
     "output_type": "stream",
     "text": [
      "Time to fit = 0.184s\n"
     ]
    },
    {
     "data": {
      "text/plain": [
       "{'alpha': 1}"
      ]
     },
     "execution_count": 24,
     "metadata": {},
     "output_type": "execute_result"
    }
   ],
   "source": [
    "mnb = MultinomialNB()\n",
    "param_grid = {'alpha':[1,2,5,10]}\n",
    "mnb_grid = GridSearchCV(estimator=mnb, param_grid=param_grid, scoring='f1')\n",
    "mnb_start = time.time()\n",
    "mnb_grid.fit(X_train_tfidf, y_train)\n",
    "mnb_end = time.time()\n",
    "print(f'Time to fit = {mnb_end - mnb_start:.3f}s')\n",
    "mnb_grid.best_params_"
   ]
  },
  {
   "cell_type": "code",
   "execution_count": 25,
   "id": "15791d79",
   "metadata": {
    "execution": {
     "iopub.execute_input": "2024-01-18T19:39:33.191462Z",
     "iopub.status.busy": "2024-01-18T19:39:33.190050Z",
     "iopub.status.idle": "2024-01-18T19:39:33.556650Z",
     "shell.execute_reply": "2024-01-18T19:39:33.555417Z"
    },
    "papermill": {
     "duration": 0.39326,
     "end_time": "2024-01-18T19:39:33.559404",
     "exception": false,
     "start_time": "2024-01-18T19:39:33.166144",
     "status": "completed"
    },
    "tags": []
   },
   "outputs": [
    {
     "name": "stdout",
     "output_type": "stream",
     "text": [
      "0.731958762886598\n",
      "              precision    recall  f1-score   support\n",
      "\n",
      "           0       0.77      0.90      0.83       868\n",
      "           1       0.84      0.65      0.73       655\n",
      "\n",
      "    accuracy                           0.80      1523\n",
      "   macro avg       0.81      0.78      0.78      1523\n",
      "weighted avg       0.80      0.80      0.79      1523\n",
      "\n"
     ]
    },
    {
     "data": {
      "image/png": "[encoded data removed]",
      "text/plain": [
       "<Figure size 640x480 with 2 Axes>"
      ]
     },
     "metadata": {},
     "output_type": "display_data"
    }
   ],
   "source": [
    "mnb_preds = mnb_grid.predict(X_test_tfidf)\n",
    "print(f1_score(y_test,mnb_preds))\n",
    "print(classification_report(y_test,mnb_preds))\n",
    "ConfusionMatrixDisplay(confusion_matrix=confusion_matrix(y_test, mnb_preds)).plot();"
   ]
  },
  {
   "cell_type": "markdown",
   "id": "b35a5b85",
   "metadata": {
    "papermill": {
     "duration": 0.021282,
     "end_time": "2024-01-18T19:39:33.602499",
     "exception": false,
     "start_time": "2024-01-18T19:39:33.581217",
     "status": "completed"
    },
    "tags": []
   },
   "source": [
    "###  LogisticRegression model"
   ]
  },
  {
   "cell_type": "code",
   "execution_count": 26,
   "id": "d2df4f87",
   "metadata": {
    "execution": {
     "iopub.execute_input": "2024-01-18T19:39:33.649200Z",
     "iopub.status.busy": "2024-01-18T19:39:33.647654Z",
     "iopub.status.idle": "2024-01-18T19:39:54.960588Z",
     "shell.execute_reply": "2024-01-18T19:39:54.958886Z"
    },
    "papermill": {
     "duration": 21.341443,
     "end_time": "2024-01-18T19:39:54.965984",
     "exception": false,
     "start_time": "2024-01-18T19:39:33.624541",
     "status": "completed"
    },
    "tags": []
   },
   "outputs": [
    {
     "name": "stdout",
     "output_type": "stream",
     "text": [
      "Time to fit = 21.287s\n"
     ]
    },
    {
     "data": {
      "text/plain": [
       "{'C': 3}"
      ]
     },
     "execution_count": 26,
     "metadata": {},
     "output_type": "execute_result"
    }
   ],
   "source": [
    "log = LogisticRegression(max_iter=1000,class_weight='balanced')\n",
    "param_grid = {'C':[3,4,5,6,7,8]}\n",
    "log_grid = GridSearchCV(estimator=log, param_grid=param_grid, scoring='f1')\n",
    "log_start = time.time()\n",
    "log_grid.fit(X_train_tfidf, y_train)\n",
    "log_end = time.time()\n",
    "print(f'Time to fit = {log_end - log_start:.3f}s')\n",
    "log_grid.best_params_"
   ]
  },
  {
   "cell_type": "code",
   "execution_count": 27,
   "id": "5c03e814",
   "metadata": {
    "execution": {
     "iopub.execute_input": "2024-01-18T19:39:55.062237Z",
     "iopub.status.busy": "2024-01-18T19:39:55.061661Z",
     "iopub.status.idle": "2024-01-18T19:39:55.355978Z",
     "shell.execute_reply": "2024-01-18T19:39:55.352898Z"
    },
    "papermill": {
     "duration": 0.345759,
     "end_time": "2024-01-18T19:39:55.359223",
     "exception": false,
     "start_time": "2024-01-18T19:39:55.013464",
     "status": "completed"
    },
    "tags": []
   },
   "outputs": [
    {
     "name": "stdout",
     "output_type": "stream",
     "text": [
      "0.7555217060167555\n",
      "              precision    recall  f1-score   support\n",
      "\n",
      "           0       0.82      0.81      0.81       868\n",
      "           1       0.75      0.76      0.76       655\n",
      "\n",
      "    accuracy                           0.79      1523\n",
      "   macro avg       0.78      0.79      0.79      1523\n",
      "weighted avg       0.79      0.79      0.79      1523\n",
      "\n"
     ]
    },
    {
     "data": {
      "image/png": "[encoded data removed]",
      "text/plain": [
       "<Figure size 640x480 with 2 Axes>"
      ]
     },
     "metadata": {},
     "output_type": "display_data"
    }
   ],
   "source": [
    "log_preds = log_grid.predict(X_test_tfidf)\n",
    "print(f1_score(y_test,log_preds))\n",
    "print(classification_report(y_test,log_preds))\n",
    "ConfusionMatrixDisplay(confusion_matrix=confusion_matrix(y_test, log_preds)).plot();"
   ]
  },
  {
   "cell_type": "markdown",
   "id": "afa60ccc",
   "metadata": {
    "papermill": {
     "duration": 0.025806,
     "end_time": "2024-01-18T19:39:55.409070",
     "exception": false,
     "start_time": "2024-01-18T19:39:55.383264",
     "status": "completed"
    },
    "tags": []
   },
   "source": [
    "### SGDClassifier model"
   ]
  },
  {
   "cell_type": "code",
   "execution_count": 28,
   "id": "6c33ddfd",
   "metadata": {
    "execution": {
     "iopub.execute_input": "2024-01-18T19:39:55.459136Z",
     "iopub.status.busy": "2024-01-18T19:39:55.458643Z",
     "iopub.status.idle": "2024-01-18T19:39:55.519674Z",
     "shell.execute_reply": "2024-01-18T19:39:55.518444Z"
    },
    "papermill": {
     "duration": 0.091613,
     "end_time": "2024-01-18T19:39:55.525216",
     "exception": false,
     "start_time": "2024-01-18T19:39:55.433603",
     "status": "completed"
    },
    "tags": []
   },
   "outputs": [
    {
     "name": "stdout",
     "output_type": "stream",
     "text": [
      "Time to fit = 0.049s\n"
     ]
    },
    {
     "data": {
      "text/plain": [
       "array([[-0.3275207 , -0.52471999,  0.43317304, ...,  0.35821456,\n",
       "        -0.20934396,  0.17275248]])"
      ]
     },
     "execution_count": 28,
     "metadata": {},
     "output_type": "execute_result"
    }
   ],
   "source": [
    "sgdc = SGDClassifier(class_weight='balanced')\n",
    "#param_grid = {'C':[3,4,5,6,7,8]}\n",
    "#log_grid = GridSearchCV(estimator=log, param_grid=param_grid, scoring='f1')\n",
    "sgdc_start = time.time()\n",
    "sgdc.fit(X_train_tfidf, y_train)\n",
    "sgdc_end = time.time()\n",
    "print(f'Time to fit = {sgdc_end - sgdc_start:.3f}s')\n",
    "sgdc.coef_"
   ]
  },
  {
   "cell_type": "code",
   "execution_count": 29,
   "id": "6531dc92",
   "metadata": {
    "execution": {
     "iopub.execute_input": "2024-01-18T19:39:55.609793Z",
     "iopub.status.busy": "2024-01-18T19:39:55.609335Z",
     "iopub.status.idle": "2024-01-18T19:39:55.896829Z",
     "shell.execute_reply": "2024-01-18T19:39:55.895351Z"
    },
    "papermill": {
     "duration": 0.324701,
     "end_time": "2024-01-18T19:39:55.899693",
     "exception": false,
     "start_time": "2024-01-18T19:39:55.574992",
     "status": "completed"
    },
    "tags": []
   },
   "outputs": [
    {
     "name": "stdout",
     "output_type": "stream",
     "text": [
      "0.7501933488012374\n",
      "              precision    recall  f1-score   support\n",
      "\n",
      "           0       0.81      0.82      0.82       868\n",
      "           1       0.76      0.74      0.75       655\n",
      "\n",
      "    accuracy                           0.79      1523\n",
      "   macro avg       0.78      0.78      0.78      1523\n",
      "weighted avg       0.79      0.79      0.79      1523\n",
      "\n"
     ]
    },
    {
     "data": {
      "image/png": "[encoded data removed]",
      "text/plain": [
       "<Figure size 640x480 with 2 Axes>"
      ]
     },
     "metadata": {},
     "output_type": "display_data"
    }
   ],
   "source": [
    "sgdc_preds = sgdc.predict(X_test_tfidf)\n",
    "print(f1_score(y_test,sgdc_preds))\n",
    "print(classification_report(y_test,sgdc_preds))\n",
    "ConfusionMatrixDisplay(confusion_matrix=confusion_matrix(y_test, sgdc_preds)).plot();"
   ]
  },
  {
   "cell_type": "markdown",
   "id": "f184be57",
   "metadata": {
    "papermill": {
     "duration": 0.023748,
     "end_time": "2024-01-18T19:39:55.947438",
     "exception": false,
     "start_time": "2024-01-18T19:39:55.923690",
     "status": "completed"
    },
    "tags": []
   },
   "source": [
    "### LinearSVC model"
   ]
  },
  {
   "cell_type": "code",
   "execution_count": 30,
   "id": "8c3d9be9",
   "metadata": {
    "execution": {
     "iopub.execute_input": "2024-01-18T19:39:55.998168Z",
     "iopub.status.busy": "2024-01-18T19:39:55.997668Z",
     "iopub.status.idle": "2024-01-18T19:39:57.696944Z",
     "shell.execute_reply": "2024-01-18T19:39:57.695287Z"
    },
    "papermill": {
     "duration": 1.729282,
     "end_time": "2024-01-18T19:39:57.700885",
     "exception": false,
     "start_time": "2024-01-18T19:39:55.971603",
     "status": "completed"
    },
    "tags": []
   },
   "outputs": [
    {
     "name": "stdout",
     "output_type": "stream",
     "text": [
      "Time to fit = 1.689s\n"
     ]
    },
    {
     "data": {
      "text/plain": [
       "{'C': 1}"
      ]
     },
     "execution_count": 30,
     "metadata": {},
     "output_type": "execute_result"
    }
   ],
   "source": [
    "lin_svc = LinearSVC(class_weight='balanced')\n",
    "param_grid = {'C':[1,2,5,10]}\n",
    "lin_svc_grid = GridSearchCV(estimator=lin_svc, param_grid=param_grid, scoring='f1')\n",
    "lin_svc_start = time.time()\n",
    "lin_svc_grid.fit(X_train_tfidf, y_train)\n",
    "lin_svc_end = time.time()\n",
    "print(f'Time to fit = {lin_svc_end - lin_svc_start:.3f}s')\n",
    "lin_svc_grid.best_params_"
   ]
  },
  {
   "cell_type": "code",
   "execution_count": 31,
   "id": "acce7137",
   "metadata": {
    "execution": {
     "iopub.execute_input": "2024-01-18T19:39:57.753048Z",
     "iopub.status.busy": "2024-01-18T19:39:57.752607Z",
     "iopub.status.idle": "2024-01-18T19:39:58.091897Z",
     "shell.execute_reply": "2024-01-18T19:39:58.090611Z"
    },
    "papermill": {
     "duration": 0.368604,
     "end_time": "2024-01-18T19:39:58.094444",
     "exception": false,
     "start_time": "2024-01-18T19:39:57.725840",
     "status": "completed"
    },
    "tags": []
   },
   "outputs": [
    {
     "name": "stdout",
     "output_type": "stream",
     "text": [
      "0.7450381679389312\n",
      "              precision    recall  f1-score   support\n",
      "\n",
      "           0       0.81      0.81      0.81       868\n",
      "           1       0.75      0.75      0.75       655\n",
      "\n",
      "    accuracy                           0.78      1523\n",
      "   macro avg       0.78      0.78      0.78      1523\n",
      "weighted avg       0.78      0.78      0.78      1523\n",
      "\n"
     ]
    },
    {
     "data": {
      "image/png": "[encoded data removed]",
      "text/plain": [
       "<Figure size 640x480 with 2 Axes>"
      ]
     },
     "metadata": {},
     "output_type": "display_data"
    }
   ],
   "source": [
    "lin_svc_preds = lin_svc_grid.predict(X_test_tfidf)\n",
    "print(f1_score(y_test,lin_svc_preds))\n",
    "print(classification_report(y_test,lin_svc_preds))\n",
    "ConfusionMatrixDisplay(confusion_matrix=confusion_matrix(y_test, lin_svc_preds)).plot();"
   ]
  },
  {
   "cell_type": "markdown",
   "id": "0919a435",
   "metadata": {
    "papermill": {
     "duration": 0.024846,
     "end_time": "2024-01-18T19:39:58.144024",
     "exception": false,
     "start_time": "2024-01-18T19:39:58.119178",
     "status": "completed"
    },
    "tags": []
   },
   "source": [
    "### SVC model\n",
    "<span style=\"font-size:16px;color:red;\"> Below cell is the slowest cell by far (takes ~4 minutes with the grid search) </span>"
   ]
  },
  {
   "cell_type": "code",
   "execution_count": 32,
   "id": "ac897c1d",
   "metadata": {
    "execution": {
     "iopub.execute_input": "2024-01-18T19:39:58.198007Z",
     "iopub.status.busy": "2024-01-18T19:39:58.197473Z",
     "iopub.status.idle": "2024-01-18T19:39:58.203009Z",
     "shell.execute_reply": "2024-01-18T19:39:58.201772Z"
    },
    "papermill": {
     "duration": 0.034733,
     "end_time": "2024-01-18T19:39:58.205509",
     "exception": false,
     "start_time": "2024-01-18T19:39:58.170776",
     "status": "completed"
    },
    "tags": []
   },
   "outputs": [],
   "source": [
    "# svc = SVC()\n",
    "# param_grid = {'C': [1,10,100], \n",
    "#               'gamma': [1,0.1,0.01]}\n",
    "# svc_grid = GridSearchCV(estimator=svc, param_grid=param_grid, scoring='f1')\n",
    "# svc_start = time.time()\n",
    "# svc_grid.fit(X_train_tfidf, y_train)\n",
    "# svc_end = time.time()\n",
    "# print(f'Time to fit = {svc_end - svc_start:.3f}s')\n",
    "# svc_grid.best_params_"
   ]
  },
  {
   "cell_type": "code",
   "execution_count": 33,
   "id": "55d51f7d",
   "metadata": {
    "execution": {
     "iopub.execute_input": "2024-01-18T19:39:58.257482Z",
     "iopub.status.busy": "2024-01-18T19:39:58.256201Z",
     "iopub.status.idle": "2024-01-18T19:39:58.262122Z",
     "shell.execute_reply": "2024-01-18T19:39:58.260945Z"
    },
    "papermill": {
     "duration": 0.034955,
     "end_time": "2024-01-18T19:39:58.264559",
     "exception": false,
     "start_time": "2024-01-18T19:39:58.229604",
     "status": "completed"
    },
    "tags": []
   },
   "outputs": [],
   "source": [
    "# svc_preds = svc_grid.predict(X_test_tfidf)\n",
    "# print(f1_score(y_test,svc_preds))\n",
    "# print(classification_report(y_test,svc_preds))\n",
    "# ConfusionMatrixDisplay(confusion_matrix=confusion_matrix(y_test, svc_preds)).plot();"
   ]
  },
  {
   "cell_type": "markdown",
   "id": "804cda26",
   "metadata": {
    "papermill": {
     "duration": 0.023861,
     "end_time": "2024-01-18T19:39:58.312835",
     "exception": false,
     "start_time": "2024-01-18T19:39:58.288974",
     "status": "completed"
    },
    "tags": []
   },
   "source": [
    "# Compare Models"
   ]
  },
  {
   "cell_type": "code",
   "execution_count": 34,
   "id": "e2601fdd",
   "metadata": {
    "execution": {
     "iopub.execute_input": "2024-01-18T19:39:58.364454Z",
     "iopub.status.busy": "2024-01-18T19:39:58.363958Z",
     "iopub.status.idle": "2024-01-18T19:39:58.385789Z",
     "shell.execute_reply": "2024-01-18T19:39:58.384451Z"
    },
    "papermill": {
     "duration": 0.051358,
     "end_time": "2024-01-18T19:39:58.388323",
     "exception": false,
     "start_time": "2024-01-18T19:39:58.336965",
     "status": "completed"
    },
    "tags": []
   },
   "outputs": [
    {
     "name": "stdout",
     "output_type": "stream",
     "text": [
      "MNB time to fit = 0.184s\n",
      "MNB f1 score = 0.7320\n",
      "----------\n",
      "LogReg time to fit = 21.287s\n",
      "LogReg f1 score = 0.7555\n",
      "----------\n",
      "SGDClass time to fit = 0.049s\n",
      "SGDClass f1 score = 0.7502\n",
      "----------\n",
      "LinSVC time to fit = 1.689s\n",
      "LinSVC f1 score = 0.7450\n"
     ]
    }
   ],
   "source": [
    "print(f'MNB time to fit = {mnb_end - mnb_start:.3f}s')\n",
    "print(f'MNB f1 score = {f1_score(y_test,mnb_preds):.4f}')\n",
    "print('-'*10)\n",
    "print(f'LogReg time to fit = {log_end - log_start:.3f}s')\n",
    "print(f'LogReg f1 score = {f1_score(y_test,log_preds):.4f}')\n",
    "print('-'*10)\n",
    "print(f'SGDClass time to fit = {sgdc_end - sgdc_start:.3f}s')\n",
    "print(f'SGDClass f1 score = {f1_score(y_test,sgdc_preds):.4f}')\n",
    "print('-'*10)\n",
    "print(f'LinSVC time to fit = {lin_svc_end - lin_svc_start:.3f}s')\n",
    "print(f'LinSVC f1 score = {f1_score(y_test,lin_svc_preds):.4f}')\n",
    "# print('-'*10)\n",
    "# print(f'SVC time to fit = {svc_end - svc_start:.3f}s')\n",
    "# print(f'SVC f1 score = {f1_score(y_test,svc_preds):.4f}')\n",
    "# MNB time to fit = 0.150s\n",
    "# MNB f1 score = 0.7320\n",
    "# ----------\n",
    "# LogReg time to fit = 18.991s\n",
    "# LogReg f1 score = 0.7470\n",
    "# ----------\n",
    "# SGDClass time to fit = 0.036s\n",
    "# SGDClass f1 score = 0.7436\n",
    "# ----------\n",
    "# LinSVC time to fit = 1.530s\n",
    "# LinSVC f1 score = 0.7433"
   ]
  },
  {
   "cell_type": "markdown",
   "id": "81e51925",
   "metadata": {
    "papermill": {
     "duration": 0.02475,
     "end_time": "2024-01-18T19:39:58.440245",
     "exception": false,
     "start_time": "2024-01-18T19:39:58.415495",
     "status": "completed"
    },
    "tags": []
   },
   "source": [
    "# Final Data Set prep"
   ]
  },
  {
   "cell_type": "code",
   "execution_count": 35,
   "id": "24b43e85",
   "metadata": {
    "execution": {
     "iopub.execute_input": "2024-01-18T19:39:58.494251Z",
     "iopub.status.busy": "2024-01-18T19:39:58.492700Z",
     "iopub.status.idle": "2024-01-18T19:39:59.133933Z",
     "shell.execute_reply": "2024-01-18T19:39:59.132547Z"
    },
    "papermill": {
     "duration": 0.67188,
     "end_time": "2024-01-18T19:39:59.137022",
     "exception": false,
     "start_time": "2024-01-18T19:39:58.465142",
     "status": "completed"
    },
    "tags": []
   },
   "outputs": [],
   "source": [
    "tfidf = TfidfVectorizer(stop_words='english')\n",
    "tfidf.fit(X['text combo'])\n",
    "X_final_train_tfidf = tfidf.transform(X['text combo'])\n",
    "X_final_test_tfidf = tfidf.transform(df_test['text combo'])\n",
    "ids_out = df_test['id']"
   ]
  },
  {
   "cell_type": "markdown",
   "id": "44cbf5d4",
   "metadata": {
    "papermill": {
     "duration": 0.023785,
     "end_time": "2024-01-18T19:39:59.184899",
     "exception": false,
     "start_time": "2024-01-18T19:39:59.161114",
     "status": "completed"
    },
    "tags": []
   },
   "source": [
    "## Final dataset"
   ]
  },
  {
   "cell_type": "code",
   "execution_count": 36,
   "id": "d0af7082",
   "metadata": {
    "execution": {
     "iopub.execute_input": "2024-01-18T19:39:59.238065Z",
     "iopub.status.busy": "2024-01-18T19:39:59.237541Z",
     "iopub.status.idle": "2024-01-18T19:39:59.245797Z",
     "shell.execute_reply": "2024-01-18T19:39:59.244535Z"
    },
    "papermill": {
     "duration": 0.037107,
     "end_time": "2024-01-18T19:39:59.248310",
     "exception": false,
     "start_time": "2024-01-18T19:39:59.211203",
     "status": "completed"
    },
    "tags": []
   },
   "outputs": [
    {
     "data": {
      "text/plain": [
       "<7613x23181 sparse matrix of type '<class 'numpy.float64'>'\n",
       "\twith 84162 stored elements in Compressed Sparse Row format>"
      ]
     },
     "execution_count": 36,
     "metadata": {},
     "output_type": "execute_result"
    }
   ],
   "source": [
    "X_final_train_tfidf"
   ]
  },
  {
   "cell_type": "code",
   "execution_count": 37,
   "id": "9516d469",
   "metadata": {
    "execution": {
     "iopub.execute_input": "2024-01-18T19:39:59.299058Z",
     "iopub.status.busy": "2024-01-18T19:39:59.298533Z",
     "iopub.status.idle": "2024-01-18T19:39:59.824708Z",
     "shell.execute_reply": "2024-01-18T19:39:59.822753Z"
    },
    "papermill": {
     "duration": 0.55685,
     "end_time": "2024-01-18T19:39:59.829314",
     "exception": false,
     "start_time": "2024-01-18T19:39:59.272464",
     "status": "completed"
    },
    "tags": []
   },
   "outputs": [
    {
     "name": "stdout",
     "output_type": "stream",
     "text": [
      "Time to fit = 0.512s\n"
     ]
    }
   ],
   "source": [
    "# model = SVC(**svc_grid.best_params_)\n",
    "model = LogisticRegression(max_iter=1000, **log_grid.best_params_, class_weight='balanced')\n",
    "# model = SGDClassifier()\n",
    "final_start = time.time()\n",
    "model.fit(X_final_train_tfidf, y)\n",
    "final_end = time.time()\n",
    "print(f'Time to fit = {final_end - final_start:.3f}s')"
   ]
  },
  {
   "cell_type": "code",
   "execution_count": 38,
   "id": "4be1aa68",
   "metadata": {
    "execution": {
     "iopub.execute_input": "2024-01-18T19:39:59.959010Z",
     "iopub.status.busy": "2024-01-18T19:39:59.958457Z",
     "iopub.status.idle": "2024-01-18T19:39:59.965209Z",
     "shell.execute_reply": "2024-01-18T19:39:59.964176Z"
    },
    "papermill": {
     "duration": 0.0368,
     "end_time": "2024-01-18T19:39:59.967694",
     "exception": false,
     "start_time": "2024-01-18T19:39:59.930894",
     "status": "completed"
    },
    "tags": []
   },
   "outputs": [],
   "source": [
    "final_preds = model.predict(X_final_test_tfidf)"
   ]
  },
  {
   "cell_type": "markdown",
   "id": "0825cfc1",
   "metadata": {
    "papermill": {
     "duration": 0.02613,
     "end_time": "2024-01-18T19:40:00.020073",
     "exception": false,
     "start_time": "2024-01-18T19:39:59.993943",
     "status": "completed"
    },
    "tags": []
   },
   "source": [
    "# Final output formatting"
   ]
  },
  {
   "cell_type": "code",
   "execution_count": 39,
   "id": "610d5979",
   "metadata": {
    "execution": {
     "iopub.execute_input": "2024-01-18T19:40:00.077136Z",
     "iopub.status.busy": "2024-01-18T19:40:00.076322Z",
     "iopub.status.idle": "2024-01-18T19:40:00.082389Z",
     "shell.execute_reply": "2024-01-18T19:40:00.081548Z"
    },
    "papermill": {
     "duration": 0.035805,
     "end_time": "2024-01-18T19:40:00.084742",
     "exception": false,
     "start_time": "2024-01-18T19:40:00.048937",
     "status": "completed"
    },
    "tags": []
   },
   "outputs": [],
   "source": [
    "output_df = pd.DataFrame({'id': ids_out,\n",
    "                          'target': final_preds.squeeze()})"
   ]
  },
  {
   "cell_type": "code",
   "execution_count": 40,
   "id": "b8bf2e39",
   "metadata": {
    "execution": {
     "iopub.execute_input": "2024-01-18T19:40:00.137930Z",
     "iopub.status.busy": "2024-01-18T19:40:00.137119Z",
     "iopub.status.idle": "2024-01-18T19:40:00.151354Z",
     "shell.execute_reply": "2024-01-18T19:40:00.149908Z"
    },
    "papermill": {
     "duration": 0.044271,
     "end_time": "2024-01-18T19:40:00.154112",
     "exception": false,
     "start_time": "2024-01-18T19:40:00.109841",
     "status": "completed"
    },
    "tags": []
   },
   "outputs": [
    {
     "data": {
      "text/html": [
       "<div>\n",
       "<style scoped>\n",
       "    .dataframe tbody tr th:only-of-type {\n",
       "        vertical-align: middle;\n",
       "    }\n",
       "\n",
       "    .dataframe tbody tr th {\n",
       "        vertical-align: top;\n",
       "    }\n",
       "\n",
       "    .dataframe thead th {\n",
       "        text-align: right;\n",
       "    }\n",
       "</style>\n",
       "<table border=\"1\" class=\"dataframe\">\n",
       "  <thead>\n",
       "    <tr style=\"text-align: right;\">\n",
       "      <th></th>\n",
       "      <th>id</th>\n",
       "      <th>target</th>\n",
       "    </tr>\n",
       "  </thead>\n",
       "  <tbody>\n",
       "    <tr>\n",
       "      <th>0</th>\n",
       "      <td>0</td>\n",
       "      <td>1</td>\n",
       "    </tr>\n",
       "    <tr>\n",
       "      <th>1</th>\n",
       "      <td>2</td>\n",
       "      <td>1</td>\n",
       "    </tr>\n",
       "    <tr>\n",
       "      <th>2</th>\n",
       "      <td>3</td>\n",
       "      <td>1</td>\n",
       "    </tr>\n",
       "    <tr>\n",
       "      <th>3</th>\n",
       "      <td>9</td>\n",
       "      <td>1</td>\n",
       "    </tr>\n",
       "    <tr>\n",
       "      <th>4</th>\n",
       "      <td>11</td>\n",
       "      <td>1</td>\n",
       "    </tr>\n",
       "    <tr>\n",
       "      <th>...</th>\n",
       "      <td>...</td>\n",
       "      <td>...</td>\n",
       "    </tr>\n",
       "    <tr>\n",
       "      <th>3258</th>\n",
       "      <td>10861</td>\n",
       "      <td>1</td>\n",
       "    </tr>\n",
       "    <tr>\n",
       "      <th>3259</th>\n",
       "      <td>10865</td>\n",
       "      <td>1</td>\n",
       "    </tr>\n",
       "    <tr>\n",
       "      <th>3260</th>\n",
       "      <td>10868</td>\n",
       "      <td>1</td>\n",
       "    </tr>\n",
       "    <tr>\n",
       "      <th>3261</th>\n",
       "      <td>10874</td>\n",
       "      <td>1</td>\n",
       "    </tr>\n",
       "    <tr>\n",
       "      <th>3262</th>\n",
       "      <td>10875</td>\n",
       "      <td>1</td>\n",
       "    </tr>\n",
       "  </tbody>\n",
       "</table>\n",
       "<p>3263 rows × 2 columns</p>\n",
       "</div>"
      ],
      "text/plain": [
       "         id  target\n",
       "0         0       1\n",
       "1         2       1\n",
       "2         3       1\n",
       "3         9       1\n",
       "4        11       1\n",
       "...     ...     ...\n",
       "3258  10861       1\n",
       "3259  10865       1\n",
       "3260  10868       1\n",
       "3261  10874       1\n",
       "3262  10875       1\n",
       "\n",
       "[3263 rows x 2 columns]"
      ]
     },
     "execution_count": 40,
     "metadata": {},
     "output_type": "execute_result"
    }
   ],
   "source": [
    "output_df"
   ]
  },
  {
   "cell_type": "code",
   "execution_count": 41,
   "id": "80acab5b",
   "metadata": {
    "execution": {
     "iopub.execute_input": "2024-01-18T19:40:00.207784Z",
     "iopub.status.busy": "2024-01-18T19:40:00.207334Z",
     "iopub.status.idle": "2024-01-18T19:40:00.224129Z",
     "shell.execute_reply": "2024-01-18T19:40:00.223077Z"
    },
    "papermill": {
     "duration": 0.046759,
     "end_time": "2024-01-18T19:40:00.226831",
     "exception": false,
     "start_time": "2024-01-18T19:40:00.180072",
     "status": "completed"
    },
    "tags": []
   },
   "outputs": [],
   "source": [
    "output_df.to_csv('/kaggle/working/submission.csv', index=False)"
   ]
  },
  {
   "cell_type": "code",
   "execution_count": null,
   "id": "76cdadc6",
   "metadata": {
    "papermill": {
     "duration": 0.024377,
     "end_time": "2024-01-18T19:40:00.276145",
     "exception": false,
     "start_time": "2024-01-18T19:40:00.251768",
     "status": "completed"
    },
    "tags": []
   },
   "outputs": [],
   "source": []
  }
 ],
 "metadata": {
  "kaggle": {
   "accelerator": "none",
   "dataSources": [
    {
     "databundleVersionId": 869809,
     "sourceId": 17777,
     "sourceType": "competition"
    }
   ],
   "dockerImageVersionId": 30587,
   "isGpuEnabled": false,
   "isInternetEnabled": true,
   "language": "python",
   "sourceType": "notebook"
  },
  "kernelspec": {
   "display_name": "Python 3",
   "language": "python",
   "name": "python3"
  },
  "language_info": {
   "codemirror_mode": {
    "name": "ipython",
    "version": 3
   },
   "file_extension": ".py",
   "mimetype": "text/x-python",
   "name": "python",
   "nbconvert_exporter": "python",
   "pygments_lexer": "ipython3",
   "version": "3.10.12"
  },
  "papermill": {
   "default_parameters": {},
   "duration": 39.108438,
   "end_time": "2024-01-18T19:40:01.125367",
   "environment_variables": {},
   "exception": null,
   "input_path": "__notebook__.ipynb",
   "output_path": "__notebook__.ipynb",
   "parameters": {},
   "start_time": "2024-01-18T19:39:22.016929",
   "version": "2.4.0"
  }
 },
 "nbformat": 4,
 "nbformat_minor": 5
}
