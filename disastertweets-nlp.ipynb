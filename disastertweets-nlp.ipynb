{
 "cells": [
  {
   "cell_type": "code",
   "execution_count": 1,
   "id": "6702c3b1",
   "metadata": {
    "_cell_guid": "b1076dfc-b9ad-4769-8c92-a6c4dae69d19",
    "_uuid": "8f2839f25d086af736a60e9eeb907d3b93b6e0e5",
    "execution": {
     "iopub.execute_input": "2023-12-05T21:40:36.180070Z",
     "iopub.status.busy": "2023-12-05T21:40:36.179415Z",
     "iopub.status.idle": "2023-12-05T21:40:37.994177Z",
     "shell.execute_reply": "2023-12-05T21:40:37.993044Z"
    },
    "papermill": {
     "duration": 1.834901,
     "end_time": "2023-12-05T21:40:37.996771",
     "exception": false,
     "start_time": "2023-12-05T21:40:36.161870",
     "status": "completed"
    },
    "tags": []
   },
   "outputs": [
    {
     "name": "stdout",
     "output_type": "stream",
     "text": [
      "/kaggle/input/nlp-getting-started/sample_submission.csv\n",
      "/kaggle/input/nlp-getting-started/train.csv\n",
      "/kaggle/input/nlp-getting-started/test.csv\n"
     ]
    }
   ],
   "source": [
    "# This Python 3 environment comes with many helpful analytics libraries installed\n",
    "# It is defined by the kaggle/python Docker image: https://github.com/kaggle/docker-python\n",
    "# For example, here's several helpful packages to load\n",
    "\n",
    "import numpy as np # linear algebra\n",
    "import pandas as pd # data processing, CSV file I/O (e.g. pd.read_csv)\n",
    "import seaborn as sns\n",
    "import matplotlib.pyplot as plt\n",
    "import time\n",
    "\n",
    "# Input data files are available in the read-only \"../input/\" directory\n",
    "# For example, running this (by clicking run or pressing Shift+Enter) will list all files under the input directory\n",
    "\n",
    "import os\n",
    "for dirname, _, filenames in os.walk('/kaggle/input'):\n",
    "    for filename in filenames:\n",
    "        print(os.path.join(dirname, filename))\n",
    "\n",
    "# You can write up to 20GB to the current directory (/kaggle/working/) that gets preserved as output when you create a version using \"Save & Run All\" \n",
    "# You can also write temporary files to /kaggle/temp/, but they won't be saved outside of the current session"
   ]
  },
  {
   "cell_type": "markdown",
   "id": "70ea07a3",
   "metadata": {
    "papermill": {
     "duration": 0.014044,
     "end_time": "2023-12-05T21:40:38.025559",
     "exception": false,
     "start_time": "2023-12-05T21:40:38.011515",
     "status": "completed"
    },
    "tags": []
   },
   "source": [
    "# Read in Train and Test Data sets"
   ]
  },
  {
   "cell_type": "code",
   "execution_count": 2,
   "id": "40e2e97c",
   "metadata": {
    "execution": {
     "iopub.execute_input": "2023-12-05T21:40:38.057408Z",
     "iopub.status.busy": "2023-12-05T21:40:38.056308Z",
     "iopub.status.idle": "2023-12-05T21:40:38.131870Z",
     "shell.execute_reply": "2023-12-05T21:40:38.130493Z"
    },
    "papermill": {
     "duration": 0.094552,
     "end_time": "2023-12-05T21:40:38.134723",
     "exception": false,
     "start_time": "2023-12-05T21:40:38.040171",
     "status": "completed"
    },
    "tags": []
   },
   "outputs": [],
   "source": [
    "df = pd.read_csv(\"/kaggle/input/nlp-getting-started/train.csv\")\n",
    "df_test = pd.read_csv(\"/kaggle/input/nlp-getting-started/test.csv\")"
   ]
  },
  {
   "cell_type": "code",
   "execution_count": 3,
   "id": "bfbc1bc7",
   "metadata": {
    "execution": {
     "iopub.execute_input": "2023-12-05T21:40:38.166687Z",
     "iopub.status.busy": "2023-12-05T21:40:38.165626Z",
     "iopub.status.idle": "2023-12-05T21:40:38.188601Z",
     "shell.execute_reply": "2023-12-05T21:40:38.187804Z"
    },
    "papermill": {
     "duration": 0.041169,
     "end_time": "2023-12-05T21:40:38.190882",
     "exception": false,
     "start_time": "2023-12-05T21:40:38.149713",
     "status": "completed"
    },
    "tags": []
   },
   "outputs": [
    {
     "data": {
      "text/html": [
       "<div>\n",
       "<style scoped>\n",
       "    .dataframe tbody tr th:only-of-type {\n",
       "        vertical-align: middle;\n",
       "    }\n",
       "\n",
       "    .dataframe tbody tr th {\n",
       "        vertical-align: top;\n",
       "    }\n",
       "\n",
       "    .dataframe thead th {\n",
       "        text-align: right;\n",
       "    }\n",
       "</style>\n",
       "<table border=\"1\" class=\"dataframe\">\n",
       "  <thead>\n",
       "    <tr style=\"text-align: right;\">\n",
       "      <th></th>\n",
       "      <th>id</th>\n",
       "      <th>keyword</th>\n",
       "      <th>location</th>\n",
       "      <th>text</th>\n",
       "      <th>target</th>\n",
       "    </tr>\n",
       "  </thead>\n",
       "  <tbody>\n",
       "    <tr>\n",
       "      <th>0</th>\n",
       "      <td>1</td>\n",
       "      <td>NaN</td>\n",
       "      <td>NaN</td>\n",
       "      <td>Our Deeds are the Reason of this #earthquake M...</td>\n",
       "      <td>1</td>\n",
       "    </tr>\n",
       "    <tr>\n",
       "      <th>1</th>\n",
       "      <td>4</td>\n",
       "      <td>NaN</td>\n",
       "      <td>NaN</td>\n",
       "      <td>Forest fire near La Ronge Sask. Canada</td>\n",
       "      <td>1</td>\n",
       "    </tr>\n",
       "    <tr>\n",
       "      <th>2</th>\n",
       "      <td>5</td>\n",
       "      <td>NaN</td>\n",
       "      <td>NaN</td>\n",
       "      <td>All residents asked to 'shelter in place' are ...</td>\n",
       "      <td>1</td>\n",
       "    </tr>\n",
       "    <tr>\n",
       "      <th>3</th>\n",
       "      <td>6</td>\n",
       "      <td>NaN</td>\n",
       "      <td>NaN</td>\n",
       "      <td>13,000 people receive #wildfires evacuation or...</td>\n",
       "      <td>1</td>\n",
       "    </tr>\n",
       "    <tr>\n",
       "      <th>4</th>\n",
       "      <td>7</td>\n",
       "      <td>NaN</td>\n",
       "      <td>NaN</td>\n",
       "      <td>Just got sent this photo from Ruby #Alaska as ...</td>\n",
       "      <td>1</td>\n",
       "    </tr>\n",
       "  </tbody>\n",
       "</table>\n",
       "</div>"
      ],
      "text/plain": [
       "   id keyword location                                               text  \\\n",
       "0   1     NaN      NaN  Our Deeds are the Reason of this #earthquake M...   \n",
       "1   4     NaN      NaN             Forest fire near La Ronge Sask. Canada   \n",
       "2   5     NaN      NaN  All residents asked to 'shelter in place' are ...   \n",
       "3   6     NaN      NaN  13,000 people receive #wildfires evacuation or...   \n",
       "4   7     NaN      NaN  Just got sent this photo from Ruby #Alaska as ...   \n",
       "\n",
       "   target  \n",
       "0       1  \n",
       "1       1  \n",
       "2       1  \n",
       "3       1  \n",
       "4       1  "
      ]
     },
     "execution_count": 3,
     "metadata": {},
     "output_type": "execute_result"
    }
   ],
   "source": [
    "df.head()"
   ]
  },
  {
   "cell_type": "markdown",
   "id": "6c91f4e6",
   "metadata": {
    "papermill": {
     "duration": 0.014337,
     "end_time": "2023-12-05T21:40:38.219901",
     "exception": false,
     "start_time": "2023-12-05T21:40:38.205564",
     "status": "completed"
    },
    "tags": []
   },
   "source": [
    "### Check for null values"
   ]
  },
  {
   "cell_type": "code",
   "execution_count": 4,
   "id": "396f61f3",
   "metadata": {
    "execution": {
     "iopub.execute_input": "2023-12-05T21:40:38.254088Z",
     "iopub.status.busy": "2023-12-05T21:40:38.253323Z",
     "iopub.status.idle": "2023-12-05T21:40:38.266535Z",
     "shell.execute_reply": "2023-12-05T21:40:38.265263Z"
    },
    "papermill": {
     "duration": 0.034749,
     "end_time": "2023-12-05T21:40:38.269476",
     "exception": false,
     "start_time": "2023-12-05T21:40:38.234727",
     "status": "completed"
    },
    "tags": []
   },
   "outputs": [
    {
     "data": {
      "text/plain": [
       "id             0\n",
       "keyword       61\n",
       "location    2533\n",
       "text           0\n",
       "target         0\n",
       "dtype: int64"
      ]
     },
     "execution_count": 4,
     "metadata": {},
     "output_type": "execute_result"
    }
   ],
   "source": [
    "df.isnull().sum()"
   ]
  },
  {
   "cell_type": "code",
   "execution_count": 5,
   "id": "503c3da5",
   "metadata": {
    "execution": {
     "iopub.execute_input": "2023-12-05T21:40:38.301836Z",
     "iopub.status.busy": "2023-12-05T21:40:38.301023Z",
     "iopub.status.idle": "2023-12-05T21:40:38.311198Z",
     "shell.execute_reply": "2023-12-05T21:40:38.309841Z"
    },
    "papermill": {
     "duration": 0.029255,
     "end_time": "2023-12-05T21:40:38.313769",
     "exception": false,
     "start_time": "2023-12-05T21:40:38.284514",
     "status": "completed"
    },
    "tags": []
   },
   "outputs": [
    {
     "data": {
      "text/plain": [
       "id             0\n",
       "keyword       26\n",
       "location    1105\n",
       "text           0\n",
       "dtype: int64"
      ]
     },
     "execution_count": 5,
     "metadata": {},
     "output_type": "execute_result"
    }
   ],
   "source": [
    "df_test.isnull().sum()"
   ]
  },
  {
   "cell_type": "markdown",
   "id": "12d517f9",
   "metadata": {
    "papermill": {
     "duration": 0.014701,
     "end_time": "2023-12-05T21:40:38.343587",
     "exception": false,
     "start_time": "2023-12-05T21:40:38.328886",
     "status": "completed"
    },
    "tags": []
   },
   "source": [
    "Key words have %20 instead of spaces so fill those"
   ]
  },
  {
   "cell_type": "code",
   "execution_count": 6,
   "id": "1056bc97",
   "metadata": {
    "execution": {
     "iopub.execute_input": "2023-12-05T21:40:38.375383Z",
     "iopub.status.busy": "2023-12-05T21:40:38.374960Z",
     "iopub.status.idle": "2023-12-05T21:40:38.385695Z",
     "shell.execute_reply": "2023-12-05T21:40:38.384860Z"
    },
    "papermill": {
     "duration": 0.029742,
     "end_time": "2023-12-05T21:40:38.388315",
     "exception": false,
     "start_time": "2023-12-05T21:40:38.358573",
     "status": "completed"
    },
    "tags": []
   },
   "outputs": [
    {
     "data": {
      "text/plain": [
       "array([nan, 'ablaze', 'accident', 'aftershock', 'airplane%20accident',\n",
       "       'ambulance', 'annihilated', 'annihilation', 'apocalypse',\n",
       "       'armageddon', 'army', 'arson', 'arsonist', 'attack', 'attacked',\n",
       "       'avalanche', 'battle', 'bioterror', 'bioterrorism', 'blaze',\n",
       "       'blazing', 'bleeding', 'blew%20up', 'blight', 'blizzard'],\n",
       "      dtype=object)"
      ]
     },
     "execution_count": 6,
     "metadata": {},
     "output_type": "execute_result"
    }
   ],
   "source": [
    "df['keyword'].unique()[:25]"
   ]
  },
  {
   "cell_type": "markdown",
   "id": "8b4d3507",
   "metadata": {
    "papermill": {
     "duration": 0.014937,
     "end_time": "2023-12-05T21:40:38.418956",
     "exception": false,
     "start_time": "2023-12-05T21:40:38.404019",
     "status": "completed"
    },
    "tags": []
   },
   "source": [
    "**Fix Training set by filling na values with '' and %20 with ' '.**"
   ]
  },
  {
   "cell_type": "code",
   "execution_count": 7,
   "id": "eb1779a5",
   "metadata": {
    "execution": {
     "iopub.execute_input": "2023-12-05T21:40:38.451207Z",
     "iopub.status.busy": "2023-12-05T21:40:38.450525Z",
     "iopub.status.idle": "2023-12-05T21:40:38.510272Z",
     "shell.execute_reply": "2023-12-05T21:40:38.508694Z"
    },
    "papermill": {
     "duration": 0.079294,
     "end_time": "2023-12-05T21:40:38.513375",
     "exception": false,
     "start_time": "2023-12-05T21:40:38.434081",
     "status": "completed"
    },
    "tags": []
   },
   "outputs": [],
   "source": [
    "df['location']=df['location'].fillna('')\n",
    "df['keyword']=df['keyword'].fillna('')\n",
    "df = df.replace('%20', ' ', regex=True)"
   ]
  },
  {
   "cell_type": "code",
   "execution_count": 8,
   "id": "7c222c70",
   "metadata": {
    "execution": {
     "iopub.execute_input": "2023-12-05T21:40:38.545919Z",
     "iopub.status.busy": "2023-12-05T21:40:38.545282Z",
     "iopub.status.idle": "2023-12-05T21:40:38.574217Z",
     "shell.execute_reply": "2023-12-05T21:40:38.572801Z"
    },
    "papermill": {
     "duration": 0.048805,
     "end_time": "2023-12-05T21:40:38.577418",
     "exception": false,
     "start_time": "2023-12-05T21:40:38.528613",
     "status": "completed"
    },
    "tags": []
   },
   "outputs": [],
   "source": [
    "df_test['location'] = df_test['location'].fillna('')\n",
    "df_test['keyword'] = df_test['keyword'].fillna('')\n",
    "df_test = df_test.replace('%20', ' ', regex=True)"
   ]
  },
  {
   "cell_type": "code",
   "execution_count": 9,
   "id": "e2440778",
   "metadata": {
    "execution": {
     "iopub.execute_input": "2023-12-05T21:40:38.673404Z",
     "iopub.status.busy": "2023-12-05T21:40:38.672653Z",
     "iopub.status.idle": "2023-12-05T21:40:39.014665Z",
     "shell.execute_reply": "2023-12-05T21:40:39.013768Z"
    },
    "papermill": {
     "duration": 0.362036,
     "end_time": "2023-12-05T21:40:39.017173",
     "exception": false,
     "start_time": "2023-12-05T21:40:38.655137",
     "status": "completed"
    },
    "tags": []
   },
   "outputs": [
    {
     "data": {
      "image/png": "[encoded data removed]",
      "text/plain": [
       "<Figure size 640x480 with 1 Axes>"
      ]
     },
     "metadata": {},
     "output_type": "display_data"
    }
   ],
   "source": [
    "sns.countplot(data=df, x='target');"
   ]
  },
  {
   "cell_type": "code",
   "execution_count": 10,
   "id": "83e7791b",
   "metadata": {
    "execution": {
     "iopub.execute_input": "2023-12-05T21:40:39.050054Z",
     "iopub.status.busy": "2023-12-05T21:40:39.049614Z",
     "iopub.status.idle": "2023-12-05T21:40:39.066929Z",
     "shell.execute_reply": "2023-12-05T21:40:39.065778Z"
    },
    "papermill": {
     "duration": 0.037086,
     "end_time": "2023-12-05T21:40:39.069656",
     "exception": false,
     "start_time": "2023-12-05T21:40:39.032570",
     "status": "completed"
    },
    "tags": []
   },
   "outputs": [
    {
     "data": {
      "text/html": [
       "<div>\n",
       "<style scoped>\n",
       "    .dataframe tbody tr th:only-of-type {\n",
       "        vertical-align: middle;\n",
       "    }\n",
       "\n",
       "    .dataframe tbody tr th {\n",
       "        vertical-align: top;\n",
       "    }\n",
       "\n",
       "    .dataframe thead th {\n",
       "        text-align: right;\n",
       "    }\n",
       "</style>\n",
       "<table border=\"1\" class=\"dataframe\">\n",
       "  <thead>\n",
       "    <tr style=\"text-align: right;\">\n",
       "      <th></th>\n",
       "      <th>id</th>\n",
       "      <th>keyword</th>\n",
       "      <th>location</th>\n",
       "      <th>text</th>\n",
       "      <th>target</th>\n",
       "    </tr>\n",
       "  </thead>\n",
       "  <tbody>\n",
       "    <tr>\n",
       "      <th>800</th>\n",
       "      <td>1160</td>\n",
       "      <td>blight</td>\n",
       "      <td>Laventillemoorings</td>\n",
       "      <td>If you dotish to blight your car go right ahea...</td>\n",
       "      <td>0</td>\n",
       "    </tr>\n",
       "    <tr>\n",
       "      <th>801</th>\n",
       "      <td>1162</td>\n",
       "      <td>blight</td>\n",
       "      <td>UK</td>\n",
       "      <td>Sexual Revolution:Blight For Women is out! htt...</td>\n",
       "      <td>0</td>\n",
       "    </tr>\n",
       "    <tr>\n",
       "      <th>802</th>\n",
       "      <td>1164</td>\n",
       "      <td>blight</td>\n",
       "      <td>Scotland</td>\n",
       "      <td>LIKE I SWEAR THE SECRET WE'LL UNCOVER IS THE O...</td>\n",
       "      <td>0</td>\n",
       "    </tr>\n",
       "    <tr>\n",
       "      <th>803</th>\n",
       "      <td>1166</td>\n",
       "      <td>blight</td>\n",
       "      <td>London</td>\n",
       "      <td>@WillHillBet what is double result live on the...</td>\n",
       "      <td>0</td>\n",
       "    </tr>\n",
       "    <tr>\n",
       "      <th>804</th>\n",
       "      <td>1167</td>\n",
       "      <td>blight</td>\n",
       "      <td>Vancouver, BC</td>\n",
       "      <td>@parksboardfacts first off it is the #ZippoLin...</td>\n",
       "      <td>0</td>\n",
       "    </tr>\n",
       "    <tr>\n",
       "      <th>...</th>\n",
       "      <td>...</td>\n",
       "      <td>...</td>\n",
       "      <td>...</td>\n",
       "      <td>...</td>\n",
       "      <td>...</td>\n",
       "    </tr>\n",
       "    <tr>\n",
       "      <th>1395</th>\n",
       "      <td>2014</td>\n",
       "      <td>casualties</td>\n",
       "      <td>Philippines</td>\n",
       "      <td>Civilian casualties rise as Afghan war intensi...</td>\n",
       "      <td>1</td>\n",
       "    </tr>\n",
       "    <tr>\n",
       "      <th>1396</th>\n",
       "      <td>2015</td>\n",
       "      <td>casualties</td>\n",
       "      <td></td>\n",
       "      <td>Afghan conflict sees 'sharp rise' in female ca...</td>\n",
       "      <td>1</td>\n",
       "    </tr>\n",
       "    <tr>\n",
       "      <th>1397</th>\n",
       "      <td>2016</td>\n",
       "      <td>casualties</td>\n",
       "      <td>Bronx, New York</td>\n",
       "      <td>Warfighting Robots Could Reduce Civilian Casua...</td>\n",
       "      <td>1</td>\n",
       "    </tr>\n",
       "    <tr>\n",
       "      <th>1398</th>\n",
       "      <td>2017</td>\n",
       "      <td>casualties</td>\n",
       "      <td>Canadian bread</td>\n",
       "      <td>@LibertarianLuke I'm all for that to be honest...</td>\n",
       "      <td>0</td>\n",
       "    </tr>\n",
       "    <tr>\n",
       "      <th>1399</th>\n",
       "      <td>2019</td>\n",
       "      <td>casualties</td>\n",
       "      <td>Phoenix, AZ</td>\n",
       "      <td>Afghanistan: U.N. Reports 'Record-High Levels'...</td>\n",
       "      <td>1</td>\n",
       "    </tr>\n",
       "  </tbody>\n",
       "</table>\n",
       "<p>600 rows × 5 columns</p>\n",
       "</div>"
      ],
      "text/plain": [
       "        id     keyword             location  \\\n",
       "800   1160      blight  Laventillemoorings    \n",
       "801   1162      blight                   UK   \n",
       "802   1164      blight             Scotland   \n",
       "803   1166      blight               London   \n",
       "804   1167      blight        Vancouver, BC   \n",
       "...    ...         ...                  ...   \n",
       "1395  2014  casualties          Philippines   \n",
       "1396  2015  casualties                        \n",
       "1397  2016  casualties      Bronx, New York   \n",
       "1398  2017  casualties       Canadian bread   \n",
       "1399  2019  casualties          Phoenix, AZ   \n",
       "\n",
       "                                                   text  target  \n",
       "800   If you dotish to blight your car go right ahea...       0  \n",
       "801   Sexual Revolution:Blight For Women is out! htt...       0  \n",
       "802   LIKE I SWEAR THE SECRET WE'LL UNCOVER IS THE O...       0  \n",
       "803   @WillHillBet what is double result live on the...       0  \n",
       "804   @parksboardfacts first off it is the #ZippoLin...       0  \n",
       "...                                                 ...     ...  \n",
       "1395  Civilian casualties rise as Afghan war intensi...       1  \n",
       "1396  Afghan conflict sees 'sharp rise' in female ca...       1  \n",
       "1397  Warfighting Robots Could Reduce Civilian Casua...       1  \n",
       "1398  @LibertarianLuke I'm all for that to be honest...       0  \n",
       "1399  Afghanistan: U.N. Reports 'Record-High Levels'...       1  \n",
       "\n",
       "[600 rows x 5 columns]"
      ]
     },
     "execution_count": 10,
     "metadata": {},
     "output_type": "execute_result"
    }
   ],
   "source": [
    "df[800:1400]"
   ]
  },
  {
   "cell_type": "markdown",
   "id": "d74f872c",
   "metadata": {
    "papermill": {
     "duration": 0.015799,
     "end_time": "2023-12-05T21:40:39.101661",
     "exception": false,
     "start_time": "2023-12-05T21:40:39.085862",
     "status": "completed"
    },
    "tags": []
   },
   "source": [
    "## Plot to show some of the positive/negative ratios for given keywords\n",
    "Some of the keywords are pretty strongly correlated"
   ]
  },
  {
   "cell_type": "code",
   "execution_count": 11,
   "id": "8212b23b",
   "metadata": {
    "execution": {
     "iopub.execute_input": "2023-12-05T21:40:39.135822Z",
     "iopub.status.busy": "2023-12-05T21:40:39.135381Z",
     "iopub.status.idle": "2023-12-05T21:40:40.107733Z",
     "shell.execute_reply": "2023-12-05T21:40:40.106832Z"
    },
    "papermill": {
     "duration": 0.992479,
     "end_time": "2023-12-05T21:40:40.110201",
     "exception": false,
     "start_time": "2023-12-05T21:40:39.117722",
     "status": "completed"
    },
    "tags": []
   },
   "outputs": [
    {
     "data": {
      "image/png": "[encoded data removed]",
      "text/plain": [
       "<Figure size 1000x400 with 1 Axes>"
      ]
     },
     "metadata": {},
     "output_type": "display_data"
    }
   ],
   "source": [
    "plt.figure(figsize=(10,4))\n",
    "sns.countplot(data=df[1000:2500], x='keyword',hue='target')\n",
    "plt.xticks(rotation=90);"
   ]
  },
  {
   "cell_type": "markdown",
   "id": "8f07a0e0",
   "metadata": {
    "papermill": {
     "duration": 0.017034,
     "end_time": "2023-12-05T21:40:40.144703",
     "exception": false,
     "start_time": "2023-12-05T21:40:40.127669",
     "status": "completed"
    },
    "tags": []
   },
   "source": [
    "# Split Train Data to do inital testing"
   ]
  },
  {
   "cell_type": "code",
   "execution_count": 12,
   "id": "cc982d94",
   "metadata": {
    "execution": {
     "iopub.execute_input": "2023-12-05T21:40:40.182878Z",
     "iopub.status.busy": "2023-12-05T21:40:40.181633Z",
     "iopub.status.idle": "2023-12-05T21:40:40.467503Z",
     "shell.execute_reply": "2023-12-05T21:40:40.466448Z"
    },
    "papermill": {
     "duration": 0.307316,
     "end_time": "2023-12-05T21:40:40.470156",
     "exception": false,
     "start_time": "2023-12-05T21:40:40.162840",
     "status": "completed"
    },
    "tags": []
   },
   "outputs": [],
   "source": [
    "from sklearn.model_selection import train_test_split"
   ]
  },
  {
   "cell_type": "code",
   "execution_count": 13,
   "id": "70b39356",
   "metadata": {
    "execution": {
     "iopub.execute_input": "2023-12-05T21:40:40.507135Z",
     "iopub.status.busy": "2023-12-05T21:40:40.506675Z",
     "iopub.status.idle": "2023-12-05T21:40:40.532756Z",
     "shell.execute_reply": "2023-12-05T21:40:40.531659Z"
    },
    "papermill": {
     "duration": 0.047551,
     "end_time": "2023-12-05T21:40:40.535170",
     "exception": false,
     "start_time": "2023-12-05T21:40:40.487619",
     "status": "completed"
    },
    "tags": []
   },
   "outputs": [
    {
     "data": {
      "text/html": [
       "<div>\n",
       "<style scoped>\n",
       "    .dataframe tbody tr th:only-of-type {\n",
       "        vertical-align: middle;\n",
       "    }\n",
       "\n",
       "    .dataframe tbody tr th {\n",
       "        vertical-align: top;\n",
       "    }\n",
       "\n",
       "    .dataframe thead th {\n",
       "        text-align: right;\n",
       "    }\n",
       "</style>\n",
       "<table border=\"1\" class=\"dataframe\">\n",
       "  <thead>\n",
       "    <tr style=\"text-align: right;\">\n",
       "      <th></th>\n",
       "      <th>id</th>\n",
       "      <th>keyword</th>\n",
       "      <th>location</th>\n",
       "      <th>text</th>\n",
       "      <th>target</th>\n",
       "      <th>text combo</th>\n",
       "    </tr>\n",
       "  </thead>\n",
       "  <tbody>\n",
       "    <tr>\n",
       "      <th>800</th>\n",
       "      <td>1160</td>\n",
       "      <td>blight</td>\n",
       "      <td>Laventillemoorings</td>\n",
       "      <td>If you dotish to blight your car go right ahea...</td>\n",
       "      <td>0</td>\n",
       "      <td>blight Laventillemoorings  If you dotish to bl...</td>\n",
       "    </tr>\n",
       "    <tr>\n",
       "      <th>801</th>\n",
       "      <td>1162</td>\n",
       "      <td>blight</td>\n",
       "      <td>UK</td>\n",
       "      <td>Sexual Revolution:Blight For Women is out! htt...</td>\n",
       "      <td>0</td>\n",
       "      <td>blight UK Sexual Revolution:Blight For Women i...</td>\n",
       "    </tr>\n",
       "    <tr>\n",
       "      <th>802</th>\n",
       "      <td>1164</td>\n",
       "      <td>blight</td>\n",
       "      <td>Scotland</td>\n",
       "      <td>LIKE I SWEAR THE SECRET WE'LL UNCOVER IS THE O...</td>\n",
       "      <td>0</td>\n",
       "      <td>blight Scotland LIKE I SWEAR THE SECRET WE'LL ...</td>\n",
       "    </tr>\n",
       "    <tr>\n",
       "      <th>803</th>\n",
       "      <td>1166</td>\n",
       "      <td>blight</td>\n",
       "      <td>London</td>\n",
       "      <td>@WillHillBet what is double result live on the...</td>\n",
       "      <td>0</td>\n",
       "      <td>blight London @WillHillBet what is double resu...</td>\n",
       "    </tr>\n",
       "  </tbody>\n",
       "</table>\n",
       "</div>"
      ],
      "text/plain": [
       "       id keyword             location  \\\n",
       "800  1160  blight  Laventillemoorings    \n",
       "801  1162  blight                   UK   \n",
       "802  1164  blight             Scotland   \n",
       "803  1166  blight               London   \n",
       "\n",
       "                                                  text  target  \\\n",
       "800  If you dotish to blight your car go right ahea...       0   \n",
       "801  Sexual Revolution:Blight For Women is out! htt...       0   \n",
       "802  LIKE I SWEAR THE SECRET WE'LL UNCOVER IS THE O...       0   \n",
       "803  @WillHillBet what is double result live on the...       0   \n",
       "\n",
       "                                            text combo  \n",
       "800  blight Laventillemoorings  If you dotish to bl...  \n",
       "801  blight UK Sexual Revolution:Blight For Women i...  \n",
       "802  blight Scotland LIKE I SWEAR THE SECRET WE'LL ...  \n",
       "803  blight London @WillHillBet what is double resu...  "
      ]
     },
     "execution_count": 13,
     "metadata": {},
     "output_type": "execute_result"
    }
   ],
   "source": [
    "df['text combo'] = df['keyword']+\" \"+df['location']+\" \"+df['text']\n",
    "df_test['text combo'] = df_test['keyword']+\" \"+df_test['location']+\" \"+df_test['text']\n",
    "\n",
    "df[800:804]"
   ]
  },
  {
   "cell_type": "code",
   "execution_count": 14,
   "id": "219a38e6",
   "metadata": {
    "execution": {
     "iopub.execute_input": "2023-12-05T21:40:40.572124Z",
     "iopub.status.busy": "2023-12-05T21:40:40.570943Z",
     "iopub.status.idle": "2023-12-05T21:40:40.586560Z",
     "shell.execute_reply": "2023-12-05T21:40:40.585344Z"
    },
    "papermill": {
     "duration": 0.037018,
     "end_time": "2023-12-05T21:40:40.589256",
     "exception": false,
     "start_time": "2023-12-05T21:40:40.552238",
     "status": "completed"
    },
    "tags": []
   },
   "outputs": [],
   "source": [
    "#X = df.drop(['target','id'], axis=1)\n",
    "X = df.drop('target',axis=1)\n",
    "y = df['target']\n",
    "X_train, X_test, y_train, y_test = train_test_split(X, y, test_size=0.1, random_state=814)\n",
    "ids_train = X_train['id']\n",
    "X_train = X_train['text combo']\n",
    "ids_test = X_test['id']\n",
    "X_test = X_test['text combo']"
   ]
  },
  {
   "cell_type": "code",
   "execution_count": 15,
   "id": "a80ab454",
   "metadata": {
    "execution": {
     "iopub.execute_input": "2023-12-05T21:40:40.625935Z",
     "iopub.status.busy": "2023-12-05T21:40:40.625507Z",
     "iopub.status.idle": "2023-12-05T21:40:40.640246Z",
     "shell.execute_reply": "2023-12-05T21:40:40.639327Z"
    },
    "papermill": {
     "duration": 0.036239,
     "end_time": "2023-12-05T21:40:40.642886",
     "exception": false,
     "start_time": "2023-12-05T21:40:40.606647",
     "status": "completed"
    },
    "tags": []
   },
   "outputs": [
    {
     "data": {
      "text/html": [
       "<div>\n",
       "<style scoped>\n",
       "    .dataframe tbody tr th:only-of-type {\n",
       "        vertical-align: middle;\n",
       "    }\n",
       "\n",
       "    .dataframe tbody tr th {\n",
       "        vertical-align: top;\n",
       "    }\n",
       "\n",
       "    .dataframe thead th {\n",
       "        text-align: right;\n",
       "    }\n",
       "</style>\n",
       "<table border=\"1\" class=\"dataframe\">\n",
       "  <thead>\n",
       "    <tr style=\"text-align: right;\">\n",
       "      <th></th>\n",
       "      <th>id</th>\n",
       "      <th>keyword</th>\n",
       "      <th>location</th>\n",
       "      <th>text</th>\n",
       "      <th>text combo</th>\n",
       "    </tr>\n",
       "  </thead>\n",
       "  <tbody>\n",
       "    <tr>\n",
       "      <th>0</th>\n",
       "      <td>0</td>\n",
       "      <td></td>\n",
       "      <td></td>\n",
       "      <td>Just happened a terrible car crash</td>\n",
       "      <td>Just happened a terrible car crash</td>\n",
       "    </tr>\n",
       "    <tr>\n",
       "      <th>1</th>\n",
       "      <td>2</td>\n",
       "      <td></td>\n",
       "      <td></td>\n",
       "      <td>Heard about #earthquake is different cities, s...</td>\n",
       "      <td>Heard about #earthquake is different cities,...</td>\n",
       "    </tr>\n",
       "    <tr>\n",
       "      <th>2</th>\n",
       "      <td>3</td>\n",
       "      <td></td>\n",
       "      <td></td>\n",
       "      <td>there is a forest fire at spot pond, geese are...</td>\n",
       "      <td>there is a forest fire at spot pond, geese a...</td>\n",
       "    </tr>\n",
       "    <tr>\n",
       "      <th>3</th>\n",
       "      <td>9</td>\n",
       "      <td></td>\n",
       "      <td></td>\n",
       "      <td>Apocalypse lighting. #Spokane #wildfires</td>\n",
       "      <td>Apocalypse lighting. #Spokane #wildfires</td>\n",
       "    </tr>\n",
       "    <tr>\n",
       "      <th>4</th>\n",
       "      <td>11</td>\n",
       "      <td></td>\n",
       "      <td></td>\n",
       "      <td>Typhoon Soudelor kills 28 in China and Taiwan</td>\n",
       "      <td>Typhoon Soudelor kills 28 in China and Taiwan</td>\n",
       "    </tr>\n",
       "    <tr>\n",
       "      <th>...</th>\n",
       "      <td>...</td>\n",
       "      <td>...</td>\n",
       "      <td>...</td>\n",
       "      <td>...</td>\n",
       "      <td>...</td>\n",
       "    </tr>\n",
       "    <tr>\n",
       "      <th>3258</th>\n",
       "      <td>10861</td>\n",
       "      <td></td>\n",
       "      <td></td>\n",
       "      <td>EARTHQUAKE SAFETY LOS ANGELES ÛÒ SAFETY FASTE...</td>\n",
       "      <td>EARTHQUAKE SAFETY LOS ANGELES ÛÒ SAFETY FAS...</td>\n",
       "    </tr>\n",
       "    <tr>\n",
       "      <th>3259</th>\n",
       "      <td>10865</td>\n",
       "      <td></td>\n",
       "      <td></td>\n",
       "      <td>Storm in RI worse than last hurricane. My city...</td>\n",
       "      <td>Storm in RI worse than last hurricane. My ci...</td>\n",
       "    </tr>\n",
       "    <tr>\n",
       "      <th>3260</th>\n",
       "      <td>10868</td>\n",
       "      <td></td>\n",
       "      <td></td>\n",
       "      <td>Green Line derailment in Chicago http://t.co/U...</td>\n",
       "      <td>Green Line derailment in Chicago http://t.co...</td>\n",
       "    </tr>\n",
       "    <tr>\n",
       "      <th>3261</th>\n",
       "      <td>10874</td>\n",
       "      <td></td>\n",
       "      <td></td>\n",
       "      <td>MEG issues Hazardous Weather Outlook (HWO) htt...</td>\n",
       "      <td>MEG issues Hazardous Weather Outlook (HWO) h...</td>\n",
       "    </tr>\n",
       "    <tr>\n",
       "      <th>3262</th>\n",
       "      <td>10875</td>\n",
       "      <td></td>\n",
       "      <td></td>\n",
       "      <td>#CityofCalgary has activated its Municipal Eme...</td>\n",
       "      <td>#CityofCalgary has activated its Municipal E...</td>\n",
       "    </tr>\n",
       "  </tbody>\n",
       "</table>\n",
       "<p>3263 rows × 5 columns</p>\n",
       "</div>"
      ],
      "text/plain": [
       "         id keyword location  \\\n",
       "0         0                    \n",
       "1         2                    \n",
       "2         3                    \n",
       "3         9                    \n",
       "4        11                    \n",
       "...     ...     ...      ...   \n",
       "3258  10861                    \n",
       "3259  10865                    \n",
       "3260  10868                    \n",
       "3261  10874                    \n",
       "3262  10875                    \n",
       "\n",
       "                                                   text  \\\n",
       "0                    Just happened a terrible car crash   \n",
       "1     Heard about #earthquake is different cities, s...   \n",
       "2     there is a forest fire at spot pond, geese are...   \n",
       "3              Apocalypse lighting. #Spokane #wildfires   \n",
       "4         Typhoon Soudelor kills 28 in China and Taiwan   \n",
       "...                                                 ...   \n",
       "3258  EARTHQUAKE SAFETY LOS ANGELES ÛÒ SAFETY FASTE...   \n",
       "3259  Storm in RI worse than last hurricane. My city...   \n",
       "3260  Green Line derailment in Chicago http://t.co/U...   \n",
       "3261  MEG issues Hazardous Weather Outlook (HWO) htt...   \n",
       "3262  #CityofCalgary has activated its Municipal Eme...   \n",
       "\n",
       "                                             text combo  \n",
       "0                    Just happened a terrible car crash  \n",
       "1       Heard about #earthquake is different cities,...  \n",
       "2       there is a forest fire at spot pond, geese a...  \n",
       "3              Apocalypse lighting. #Spokane #wildfires  \n",
       "4         Typhoon Soudelor kills 28 in China and Taiwan  \n",
       "...                                                 ...  \n",
       "3258    EARTHQUAKE SAFETY LOS ANGELES ÛÒ SAFETY FAS...  \n",
       "3259    Storm in RI worse than last hurricane. My ci...  \n",
       "3260    Green Line derailment in Chicago http://t.co...  \n",
       "3261    MEG issues Hazardous Weather Outlook (HWO) h...  \n",
       "3262    #CityofCalgary has activated its Municipal E...  \n",
       "\n",
       "[3263 rows x 5 columns]"
      ]
     },
     "execution_count": 15,
     "metadata": {},
     "output_type": "execute_result"
    }
   ],
   "source": [
    "df_test"
   ]
  },
  {
   "cell_type": "markdown",
   "id": "c85b0294",
   "metadata": {
    "papermill": {
     "duration": 0.017447,
     "end_time": "2023-12-05T21:40:40.678088",
     "exception": false,
     "start_time": "2023-12-05T21:40:40.660641",
     "status": "completed"
    },
    "tags": []
   },
   "source": [
    "# Setup various models to test"
   ]
  },
  {
   "cell_type": "code",
   "execution_count": 16,
   "id": "fbf931ba",
   "metadata": {
    "execution": {
     "iopub.execute_input": "2023-12-05T21:40:40.715721Z",
     "iopub.status.busy": "2023-12-05T21:40:40.715035Z",
     "iopub.status.idle": "2023-12-05T21:40:40.832710Z",
     "shell.execute_reply": "2023-12-05T21:40:40.831502Z"
    },
    "papermill": {
     "duration": 0.139977,
     "end_time": "2023-12-05T21:40:40.835717",
     "exception": false,
     "start_time": "2023-12-05T21:40:40.695740",
     "status": "completed"
    },
    "tags": []
   },
   "outputs": [],
   "source": [
    "#from sklearn.pipeline import Pipeline\n",
    "from sklearn.feature_extraction.text import TfidfVectorizer, CountVectorizer\n",
    "from sklearn.model_selection import GridSearchCV\n",
    "from sklearn.naive_bayes import MultinomialNB\n",
    "from sklearn.linear_model import LogisticRegression\n",
    "from sklearn.svm import LinearSVC, SVC\n",
    "from sklearn.metrics import classification_report,f1_score,confusion_matrix,ConfusionMatrixDisplay"
   ]
  },
  {
   "cell_type": "markdown",
   "id": "e0e5151a",
   "metadata": {
    "papermill": {
     "duration": 0.017229,
     "end_time": "2023-12-05T21:40:40.870676",
     "exception": false,
     "start_time": "2023-12-05T21:40:40.853447",
     "status": "completed"
    },
    "tags": []
   },
   "source": [
    "### Vectorize the text data"
   ]
  },
  {
   "cell_type": "code",
   "execution_count": 17,
   "id": "1567f77e",
   "metadata": {
    "execution": {
     "iopub.execute_input": "2023-12-05T21:40:40.910322Z",
     "iopub.status.busy": "2023-12-05T21:40:40.909379Z",
     "iopub.status.idle": "2023-12-05T21:40:41.419182Z",
     "shell.execute_reply": "2023-12-05T21:40:41.417917Z"
    },
    "papermill": {
     "duration": 0.533658,
     "end_time": "2023-12-05T21:40:41.422195",
     "exception": false,
     "start_time": "2023-12-05T21:40:40.888537",
     "status": "completed"
    },
    "tags": []
   },
   "outputs": [],
   "source": [
    "tfidf = TfidfVectorizer(stop_words='english')\n",
    "tfidf.fit(X_train)\n",
    "X_train_tfidf = tfidf.transform(X_train)\n",
    "X_test_tfidf = tfidf.transform(X_test)"
   ]
  },
  {
   "cell_type": "code",
   "execution_count": 18,
   "id": "660753d4",
   "metadata": {
    "execution": {
     "iopub.execute_input": "2023-12-05T21:40:41.462109Z",
     "iopub.status.busy": "2023-12-05T21:40:41.461622Z",
     "iopub.status.idle": "2023-12-05T21:40:41.468351Z",
     "shell.execute_reply": "2023-12-05T21:40:41.467508Z"
    },
    "papermill": {
     "duration": 0.029297,
     "end_time": "2023-12-05T21:40:41.470779",
     "exception": false,
     "start_time": "2023-12-05T21:40:41.441482",
     "status": "completed"
    },
    "tags": []
   },
   "outputs": [
    {
     "data": {
      "text/plain": [
       "<6851x21557 sparse matrix of type '<class 'numpy.float64'>'\n",
       "\twith 75722 stored elements in Compressed Sparse Row format>"
      ]
     },
     "execution_count": 18,
     "metadata": {},
     "output_type": "execute_result"
    }
   ],
   "source": [
    "X_train_tfidf"
   ]
  },
  {
   "cell_type": "markdown",
   "id": "621f9e6e",
   "metadata": {
    "papermill": {
     "duration": 0.017724,
     "end_time": "2023-12-05T21:40:41.507517",
     "exception": false,
     "start_time": "2023-12-05T21:40:41.489793",
     "status": "completed"
    },
    "tags": []
   },
   "source": [
    "###  MultinomialNB model"
   ]
  },
  {
   "cell_type": "code",
   "execution_count": 19,
   "id": "3b375a69",
   "metadata": {
    "execution": {
     "iopub.execute_input": "2023-12-05T21:40:41.545170Z",
     "iopub.status.busy": "2023-12-05T21:40:41.544698Z",
     "iopub.status.idle": "2023-12-05T21:40:41.735918Z",
     "shell.execute_reply": "2023-12-05T21:40:41.734496Z"
    },
    "papermill": {
     "duration": 0.212997,
     "end_time": "2023-12-05T21:40:41.738542",
     "exception": false,
     "start_time": "2023-12-05T21:40:41.525545",
     "status": "completed"
    },
    "tags": []
   },
   "outputs": [
    {
     "name": "stdout",
     "output_type": "stream",
     "text": [
      "Time to fit = 0.181s\n"
     ]
    },
    {
     "data": {
      "text/plain": [
       "{'alpha': 1}"
      ]
     },
     "execution_count": 19,
     "metadata": {},
     "output_type": "execute_result"
    }
   ],
   "source": [
    "mnb = MultinomialNB()\n",
    "param_grid = {'alpha':[1,2,5,10]}\n",
    "mnb_grid = GridSearchCV(estimator=mnb, param_grid=param_grid, scoring='f1')\n",
    "mnb_start = time.time()\n",
    "mnb_grid.fit(X_train_tfidf, y_train)\n",
    "mnb_end = time.time()\n",
    "print(f'Time to fit = {mnb_end - mnb_start:.3f}s')\n",
    "mnb_grid.best_params_"
   ]
  },
  {
   "cell_type": "code",
   "execution_count": 20,
   "id": "e430b769",
   "metadata": {
    "execution": {
     "iopub.execute_input": "2023-12-05T21:40:41.776795Z",
     "iopub.status.busy": "2023-12-05T21:40:41.776350Z",
     "iopub.status.idle": "2023-12-05T21:40:42.128878Z",
     "shell.execute_reply": "2023-12-05T21:40:42.127902Z"
    },
    "papermill": {
     "duration": 0.374417,
     "end_time": "2023-12-05T21:40:42.131028",
     "exception": false,
     "start_time": "2023-12-05T21:40:41.756611",
     "status": "completed"
    },
    "tags": []
   },
   "outputs": [
    {
     "name": "stdout",
     "output_type": "stream",
     "text": [
      "0.7461669505962523\n",
      "              precision    recall  f1-score   support\n",
      "\n",
      "           0       0.79      0.90      0.84       436\n",
      "           1       0.84      0.67      0.75       326\n",
      "\n",
      "    accuracy                           0.80       762\n",
      "   macro avg       0.81      0.79      0.79       762\n",
      "weighted avg       0.81      0.80      0.80       762\n",
      "\n"
     ]
    },
    {
     "data": {
      "image/png": "[encoded data removed]",
      "text/plain": [
       "<Figure size 640x480 with 2 Axes>"
      ]
     },
     "metadata": {},
     "output_type": "display_data"
    }
   ],
   "source": [
    "mnb_preds = mnb_grid.predict(X_test_tfidf)\n",
    "print(f1_score(y_test,mnb_preds))\n",
    "print(classification_report(y_test,mnb_preds))\n",
    "ConfusionMatrixDisplay(confusion_matrix=confusion_matrix(y_test, mnb_preds)).plot();"
   ]
  },
  {
   "cell_type": "markdown",
   "id": "ed65a068",
   "metadata": {
    "papermill": {
     "duration": 0.019304,
     "end_time": "2023-12-05T21:40:42.169647",
     "exception": false,
     "start_time": "2023-12-05T21:40:42.150343",
     "status": "completed"
    },
    "tags": []
   },
   "source": [
    "###  LogisticRegression model"
   ]
  },
  {
   "cell_type": "code",
   "execution_count": 21,
   "id": "ac7fdefa",
   "metadata": {
    "execution": {
     "iopub.execute_input": "2023-12-05T21:40:42.209938Z",
     "iopub.status.busy": "2023-12-05T21:40:42.208777Z",
     "iopub.status.idle": "2023-12-05T21:40:57.808943Z",
     "shell.execute_reply": "2023-12-05T21:40:57.807320Z"
    },
    "papermill": {
     "duration": 15.625116,
     "end_time": "2023-12-05T21:40:57.813783",
     "exception": false,
     "start_time": "2023-12-05T21:40:42.188667",
     "status": "completed"
    },
    "tags": []
   },
   "outputs": [
    {
     "name": "stdout",
     "output_type": "stream",
     "text": [
      "Time to fit = 15.580s\n"
     ]
    },
    {
     "data": {
      "text/plain": [
       "{'C': 5}"
      ]
     },
     "execution_count": 21,
     "metadata": {},
     "output_type": "execute_result"
    }
   ],
   "source": [
    "log = LogisticRegression(max_iter=1000)\n",
    "param_grid = {'C':[1,2,5,10]}\n",
    "log_grid = GridSearchCV(estimator=log, param_grid=param_grid, scoring='f1')\n",
    "log_start = time.time()\n",
    "log_grid.fit(X_train_tfidf, y_train)\n",
    "log_end = time.time()\n",
    "print(f'Time to fit = {log_end - log_start:.3f}s')\n",
    "log_grid.best_params_"
   ]
  },
  {
   "cell_type": "code",
   "execution_count": 22,
   "id": "050edf1a",
   "metadata": {
    "execution": {
     "iopub.execute_input": "2023-12-05T21:40:57.927135Z",
     "iopub.status.busy": "2023-12-05T21:40:57.926725Z",
     "iopub.status.idle": "2023-12-05T21:40:58.258386Z",
     "shell.execute_reply": "2023-12-05T21:40:58.257164Z"
    },
    "papermill": {
     "duration": 0.369748,
     "end_time": "2023-12-05T21:40:58.261042",
     "exception": false,
     "start_time": "2023-12-05T21:40:57.891294",
     "status": "completed"
    },
    "tags": []
   },
   "outputs": [
    {
     "name": "stdout",
     "output_type": "stream",
     "text": [
      "0.7769110764430577\n",
      "              precision    recall  f1-score   support\n",
      "\n",
      "           0       0.83      0.85      0.84       436\n",
      "           1       0.79      0.76      0.78       326\n",
      "\n",
      "    accuracy                           0.81       762\n",
      "   macro avg       0.81      0.81      0.81       762\n",
      "weighted avg       0.81      0.81      0.81       762\n",
      "\n"
     ]
    },
    {
     "data": {
      "image/png": "[encoded data removed]",
      "text/plain": [
       "<Figure size 640x480 with 2 Axes>"
      ]
     },
     "metadata": {},
     "output_type": "display_data"
    }
   ],
   "source": [
    "log_preds = log_grid.predict(X_test_tfidf)\n",
    "print(f1_score(y_test,log_preds))\n",
    "print(classification_report(y_test,log_preds))\n",
    "ConfusionMatrixDisplay(confusion_matrix=confusion_matrix(y_test, log_preds)).plot();"
   ]
  },
  {
   "cell_type": "markdown",
   "id": "0de5133f",
   "metadata": {
    "papermill": {
     "duration": 0.019753,
     "end_time": "2023-12-05T21:40:58.300367",
     "exception": false,
     "start_time": "2023-12-05T21:40:58.280614",
     "status": "completed"
    },
    "tags": []
   },
   "source": [
    "### LinearSVC model"
   ]
  },
  {
   "cell_type": "code",
   "execution_count": 23,
   "id": "a69de64f",
   "metadata": {
    "execution": {
     "iopub.execute_input": "2023-12-05T21:40:58.342126Z",
     "iopub.status.busy": "2023-12-05T21:40:58.341651Z",
     "iopub.status.idle": "2023-12-05T21:41:00.147488Z",
     "shell.execute_reply": "2023-12-05T21:41:00.146374Z"
    },
    "papermill": {
     "duration": 1.830376,
     "end_time": "2023-12-05T21:41:00.150090",
     "exception": false,
     "start_time": "2023-12-05T21:40:58.319714",
     "status": "completed"
    },
    "tags": []
   },
   "outputs": [
    {
     "name": "stdout",
     "output_type": "stream",
     "text": [
      "Time to fit = 1.796s\n"
     ]
    },
    {
     "data": {
      "text/plain": [
       "{'C': 1}"
      ]
     },
     "execution_count": 23,
     "metadata": {},
     "output_type": "execute_result"
    }
   ],
   "source": [
    "lin_svc = LinearSVC()\n",
    "param_grid = {'C':[1,2,5,10]}\n",
    "lin_svc_grid = GridSearchCV(estimator=lin_svc, param_grid=param_grid, scoring='f1')\n",
    "lin_svc_start = time.time()\n",
    "lin_svc_grid.fit(X_train_tfidf, y_train)\n",
    "lin_svc_end = time.time()\n",
    "print(f'Time to fit = {lin_svc_end - lin_svc_start:.3f}s')\n",
    "lin_svc_grid.best_params_"
   ]
  },
  {
   "cell_type": "code",
   "execution_count": 24,
   "id": "e0570ec8",
   "metadata": {
    "execution": {
     "iopub.execute_input": "2023-12-05T21:41:00.192189Z",
     "iopub.status.busy": "2023-12-05T21:41:00.191735Z",
     "iopub.status.idle": "2023-12-05T21:41:00.531723Z",
     "shell.execute_reply": "2023-12-05T21:41:00.530456Z"
    },
    "papermill": {
     "duration": 0.364017,
     "end_time": "2023-12-05T21:41:00.534133",
     "exception": false,
     "start_time": "2023-12-05T21:41:00.170116",
     "status": "completed"
    },
    "tags": []
   },
   "outputs": [
    {
     "name": "stdout",
     "output_type": "stream",
     "text": [
      "0.7519500780031201\n",
      "              precision    recall  f1-score   support\n",
      "\n",
      "           0       0.81      0.83      0.82       436\n",
      "           1       0.77      0.74      0.75       326\n",
      "\n",
      "    accuracy                           0.79       762\n",
      "   macro avg       0.79      0.78      0.79       762\n",
      "weighted avg       0.79      0.79      0.79       762\n",
      "\n"
     ]
    },
    {
     "data": {
      "image/png": "[encoded data removed]",
      "text/plain": [
       "<Figure size 640x480 with 2 Axes>"
      ]
     },
     "metadata": {},
     "output_type": "display_data"
    }
   ],
   "source": [
    "lin_svc_preds = lin_svc_grid.predict(X_test_tfidf)\n",
    "print(f1_score(y_test,lin_svc_preds))\n",
    "print(classification_report(y_test,lin_svc_preds))\n",
    "ConfusionMatrixDisplay(confusion_matrix=confusion_matrix(y_test, lin_svc_preds)).plot();"
   ]
  },
  {
   "cell_type": "markdown",
   "id": "ebd8c30e",
   "metadata": {
    "papermill": {
     "duration": 0.019631,
     "end_time": "2023-12-05T21:41:00.573929",
     "exception": false,
     "start_time": "2023-12-05T21:41:00.554298",
     "status": "completed"
    },
    "tags": []
   },
   "source": [
    "### SVC model"
   ]
  },
  {
   "cell_type": "code",
   "execution_count": 25,
   "id": "86a8f7dd",
   "metadata": {
    "execution": {
     "iopub.execute_input": "2023-12-05T21:41:00.616239Z",
     "iopub.status.busy": "2023-12-05T21:41:00.615199Z",
     "iopub.status.idle": "2023-12-05T21:44:59.349562Z",
     "shell.execute_reply": "2023-12-05T21:44:59.348715Z"
    },
    "papermill": {
     "duration": 238.779478,
     "end_time": "2023-12-05T21:44:59.373349",
     "exception": false,
     "start_time": "2023-12-05T21:41:00.593871",
     "status": "completed"
    },
    "tags": []
   },
   "outputs": [
    {
     "name": "stdout",
     "output_type": "stream",
     "text": [
      "Time to fit = 238.724s\n"
     ]
    },
    {
     "data": {
      "text/plain": [
       "{'C': 10, 'gamma': 0.1}"
      ]
     },
     "execution_count": 25,
     "metadata": {},
     "output_type": "execute_result"
    }
   ],
   "source": [
    "svc = SVC()\n",
    "param_grid = {'C': [1,10,100], \n",
    "              'gamma': [1,0.1,0.01]}\n",
    "svc_grid = GridSearchCV(estimator=svc, param_grid=param_grid, scoring='f1')\n",
    "svc_start = time.time()\n",
    "svc_grid.fit(X_train_tfidf, y_train)\n",
    "svc_end = time.time()\n",
    "print(f'Time to fit = {svc_end - svc_start:.3f}s')\n",
    "svc_grid.best_params_"
   ]
  },
  {
   "cell_type": "code",
   "execution_count": 26,
   "id": "b145f470",
   "metadata": {
    "execution": {
     "iopub.execute_input": "2023-12-05T21:44:59.416822Z",
     "iopub.status.busy": "2023-12-05T21:44:59.415755Z",
     "iopub.status.idle": "2023-12-05T21:45:00.344877Z",
     "shell.execute_reply": "2023-12-05T21:45:00.343901Z"
    },
    "papermill": {
     "duration": 0.954046,
     "end_time": "2023-12-05T21:45:00.347746",
     "exception": false,
     "start_time": "2023-12-05T21:44:59.393700",
     "status": "completed"
    },
    "tags": []
   },
   "outputs": [
    {
     "name": "stdout",
     "output_type": "stream",
     "text": [
      "0.7554858934169278\n",
      "              precision    recall  f1-score   support\n",
      "\n",
      "           0       0.81      0.84      0.82       436\n",
      "           1       0.77      0.74      0.76       326\n",
      "\n",
      "    accuracy                           0.80       762\n",
      "   macro avg       0.79      0.79      0.79       762\n",
      "weighted avg       0.79      0.80      0.79       762\n",
      "\n"
     ]
    },
    {
     "data": {
      "image/png": "[encoded data removed]",
      "text/plain": [
       "<Figure size 640x480 with 2 Axes>"
      ]
     },
     "metadata": {},
     "output_type": "display_data"
    }
   ],
   "source": [
    "svc_preds = svc_grid.predict(X_test_tfidf)\n",
    "print(f1_score(y_test,svc_preds))\n",
    "print(classification_report(y_test,svc_preds))\n",
    "ConfusionMatrixDisplay(confusion_matrix=confusion_matrix(y_test, svc_preds)).plot();"
   ]
  },
  {
   "cell_type": "markdown",
   "id": "855da138",
   "metadata": {
    "papermill": {
     "duration": 0.020591,
     "end_time": "2023-12-05T21:45:00.390216",
     "exception": false,
     "start_time": "2023-12-05T21:45:00.369625",
     "status": "completed"
    },
    "tags": []
   },
   "source": [
    "# Compare Models"
   ]
  },
  {
   "cell_type": "code",
   "execution_count": 27,
   "id": "fc683c52",
   "metadata": {
    "execution": {
     "iopub.execute_input": "2023-12-05T21:45:00.434169Z",
     "iopub.status.busy": "2023-12-05T21:45:00.433737Z",
     "iopub.status.idle": "2023-12-05T21:45:00.453349Z",
     "shell.execute_reply": "2023-12-05T21:45:00.452434Z"
    },
    "papermill": {
     "duration": 0.044839,
     "end_time": "2023-12-05T21:45:00.456099",
     "exception": false,
     "start_time": "2023-12-05T21:45:00.411260",
     "status": "completed"
    },
    "tags": []
   },
   "outputs": [
    {
     "name": "stdout",
     "output_type": "stream",
     "text": [
      "MNB time to fit = 0.181s\n",
      "MNB f1 score = 0.7462\n",
      "----------\n",
      "LogReg time to fit = 15.580s\n",
      "LogReg f1 score = 0.7769\n",
      "----------\n",
      "LinSVC time to fit = 1.796s\n",
      "LinSVC f1 score = 0.7520\n",
      "----------\n",
      "SVC time to fit = 238.724s\n",
      "SVC f1 score = 0.7555\n"
     ]
    }
   ],
   "source": [
    "print(f'MNB time to fit = {mnb_end - mnb_start:.3f}s')\n",
    "print(f'MNB f1 score = {f1_score(y_test,mnb_preds):.4f}')\n",
    "print('-'*10)\n",
    "print(f'LogReg time to fit = {log_end - log_start:.3f}s')\n",
    "print(f'LogReg f1 score = {f1_score(y_test,log_preds):.4f}')\n",
    "print('-'*10)\n",
    "print(f'LinSVC time to fit = {lin_svc_end - lin_svc_start:.3f}s')\n",
    "print(f'LinSVC f1 score = {f1_score(y_test,lin_svc_preds):.4f}')\n",
    "print('-'*10)\n",
    "print(f'SVC time to fit = {svc_end - svc_start:.3f}s')\n",
    "print(f'SVC f1 score = {f1_score(y_test,svc_preds):.4f}')"
   ]
  },
  {
   "cell_type": "markdown",
   "id": "28c950c1",
   "metadata": {
    "papermill": {
     "duration": 0.020803,
     "end_time": "2023-12-05T21:45:00.498297",
     "exception": false,
     "start_time": "2023-12-05T21:45:00.477494",
     "status": "completed"
    },
    "tags": []
   },
   "source": [
    "# Final Data Set prep"
   ]
  },
  {
   "cell_type": "code",
   "execution_count": 28,
   "id": "48b103fe",
   "metadata": {
    "execution": {
     "iopub.execute_input": "2023-12-05T21:45:00.542774Z",
     "iopub.status.busy": "2023-12-05T21:45:00.541725Z",
     "iopub.status.idle": "2023-12-05T21:45:01.152317Z",
     "shell.execute_reply": "2023-12-05T21:45:01.151041Z"
    },
    "papermill": {
     "duration": 0.635927,
     "end_time": "2023-12-05T21:45:01.155179",
     "exception": false,
     "start_time": "2023-12-05T21:45:00.519252",
     "status": "completed"
    },
    "tags": []
   },
   "outputs": [],
   "source": [
    "tfidf = TfidfVectorizer(stop_words='english')\n",
    "tfidf.fit(X['text combo'])\n",
    "X_final_train_tfidf = tfidf.transform(X['text combo'])\n",
    "X_final_test_tfidf = tfidf.transform(df_test['text combo'])\n",
    "ids_out = df_test['id']"
   ]
  },
  {
   "cell_type": "markdown",
   "id": "8477b0ac",
   "metadata": {
    "papermill": {
     "duration": 0.020861,
     "end_time": "2023-12-05T21:45:01.198483",
     "exception": false,
     "start_time": "2023-12-05T21:45:01.177622",
     "status": "completed"
    },
    "tags": []
   },
   "source": [
    "## Final dataset"
   ]
  },
  {
   "cell_type": "code",
   "execution_count": 29,
   "id": "fb5a6e2d",
   "metadata": {
    "execution": {
     "iopub.execute_input": "2023-12-05T21:45:01.243408Z",
     "iopub.status.busy": "2023-12-05T21:45:01.242968Z",
     "iopub.status.idle": "2023-12-05T21:45:01.250488Z",
     "shell.execute_reply": "2023-12-05T21:45:01.249062Z"
    },
    "papermill": {
     "duration": 0.032936,
     "end_time": "2023-12-05T21:45:01.252888",
     "exception": false,
     "start_time": "2023-12-05T21:45:01.219952",
     "status": "completed"
    },
    "tags": []
   },
   "outputs": [
    {
     "data": {
      "text/plain": [
       "<7613x23181 sparse matrix of type '<class 'numpy.float64'>'\n",
       "\twith 84162 stored elements in Compressed Sparse Row format>"
      ]
     },
     "execution_count": 29,
     "metadata": {},
     "output_type": "execute_result"
    }
   ],
   "source": [
    "X_final_train_tfidf"
   ]
  },
  {
   "cell_type": "code",
   "execution_count": 30,
   "id": "98d66d7c",
   "metadata": {
    "execution": {
     "iopub.execute_input": "2023-12-05T21:45:01.297642Z",
     "iopub.status.busy": "2023-12-05T21:45:01.297259Z",
     "iopub.status.idle": "2023-12-05T21:45:09.220164Z",
     "shell.execute_reply": "2023-12-05T21:45:09.218769Z"
    },
    "papermill": {
     "duration": 7.948573,
     "end_time": "2023-12-05T21:45:09.222932",
     "exception": false,
     "start_time": "2023-12-05T21:45:01.274359",
     "status": "completed"
    },
    "tags": []
   },
   "outputs": [
    {
     "name": "stdout",
     "output_type": "stream",
     "text": [
      "Time to fit = 7.916s\n"
     ]
    }
   ],
   "source": [
    "model = SVC(**svc_grid.best_params_)\n",
    "log_start = time.time()\n",
    "model.fit(X_final_train_tfidf, y)\n",
    "log_end = time.time()\n",
    "print(f'Time to fit = {log_end - log_start:.3f}s')"
   ]
  },
  {
   "cell_type": "code",
   "execution_count": 31,
   "id": "e778c361",
   "metadata": {
    "execution": {
     "iopub.execute_input": "2023-12-05T21:45:09.267600Z",
     "iopub.status.busy": "2023-12-05T21:45:09.267169Z",
     "iopub.status.idle": "2023-12-05T21:45:11.584706Z",
     "shell.execute_reply": "2023-12-05T21:45:11.583255Z"
    },
    "papermill": {
     "duration": 2.343261,
     "end_time": "2023-12-05T21:45:11.587577",
     "exception": false,
     "start_time": "2023-12-05T21:45:09.244316",
     "status": "completed"
    },
    "tags": []
   },
   "outputs": [],
   "source": [
    "final_preds = model.predict(X_final_test_tfidf)"
   ]
  },
  {
   "cell_type": "markdown",
   "id": "b0424dfa",
   "metadata": {
    "papermill": {
     "duration": 0.020833,
     "end_time": "2023-12-05T21:45:11.629595",
     "exception": false,
     "start_time": "2023-12-05T21:45:11.608762",
     "status": "completed"
    },
    "tags": []
   },
   "source": [
    "# Final output formatting"
   ]
  },
  {
   "cell_type": "code",
   "execution_count": 32,
   "id": "e795099e",
   "metadata": {
    "execution": {
     "iopub.execute_input": "2023-12-05T21:45:11.674045Z",
     "iopub.status.busy": "2023-12-05T21:45:11.673593Z",
     "iopub.status.idle": "2023-12-05T21:45:11.679373Z",
     "shell.execute_reply": "2023-12-05T21:45:11.678342Z"
    },
    "papermill": {
     "duration": 0.030972,
     "end_time": "2023-12-05T21:45:11.681755",
     "exception": false,
     "start_time": "2023-12-05T21:45:11.650783",
     "status": "completed"
    },
    "tags": []
   },
   "outputs": [],
   "source": [
    "output_df = pd.DataFrame({'id': ids_out,\n",
    "                          'target': final_preds.squeeze()})"
   ]
  },
  {
   "cell_type": "code",
   "execution_count": 33,
   "id": "cb1c809e",
   "metadata": {
    "execution": {
     "iopub.execute_input": "2023-12-05T21:45:11.727312Z",
     "iopub.status.busy": "2023-12-05T21:45:11.726875Z",
     "iopub.status.idle": "2023-12-05T21:45:11.739849Z",
     "shell.execute_reply": "2023-12-05T21:45:11.738664Z"
    },
    "papermill": {
     "duration": 0.038873,
     "end_time": "2023-12-05T21:45:11.742281",
     "exception": false,
     "start_time": "2023-12-05T21:45:11.703408",
     "status": "completed"
    },
    "tags": []
   },
   "outputs": [
    {
     "data": {
      "text/html": [
       "<div>\n",
       "<style scoped>\n",
       "    .dataframe tbody tr th:only-of-type {\n",
       "        vertical-align: middle;\n",
       "    }\n",
       "\n",
       "    .dataframe tbody tr th {\n",
       "        vertical-align: top;\n",
       "    }\n",
       "\n",
       "    .dataframe thead th {\n",
       "        text-align: right;\n",
       "    }\n",
       "</style>\n",
       "<table border=\"1\" class=\"dataframe\">\n",
       "  <thead>\n",
       "    <tr style=\"text-align: right;\">\n",
       "      <th></th>\n",
       "      <th>id</th>\n",
       "      <th>target</th>\n",
       "    </tr>\n",
       "  </thead>\n",
       "  <tbody>\n",
       "    <tr>\n",
       "      <th>0</th>\n",
       "      <td>0</td>\n",
       "      <td>1</td>\n",
       "    </tr>\n",
       "    <tr>\n",
       "      <th>1</th>\n",
       "      <td>2</td>\n",
       "      <td>1</td>\n",
       "    </tr>\n",
       "    <tr>\n",
       "      <th>2</th>\n",
       "      <td>3</td>\n",
       "      <td>1</td>\n",
       "    </tr>\n",
       "    <tr>\n",
       "      <th>3</th>\n",
       "      <td>9</td>\n",
       "      <td>1</td>\n",
       "    </tr>\n",
       "    <tr>\n",
       "      <th>4</th>\n",
       "      <td>11</td>\n",
       "      <td>1</td>\n",
       "    </tr>\n",
       "    <tr>\n",
       "      <th>...</th>\n",
       "      <td>...</td>\n",
       "      <td>...</td>\n",
       "    </tr>\n",
       "    <tr>\n",
       "      <th>3258</th>\n",
       "      <td>10861</td>\n",
       "      <td>1</td>\n",
       "    </tr>\n",
       "    <tr>\n",
       "      <th>3259</th>\n",
       "      <td>10865</td>\n",
       "      <td>1</td>\n",
       "    </tr>\n",
       "    <tr>\n",
       "      <th>3260</th>\n",
       "      <td>10868</td>\n",
       "      <td>1</td>\n",
       "    </tr>\n",
       "    <tr>\n",
       "      <th>3261</th>\n",
       "      <td>10874</td>\n",
       "      <td>1</td>\n",
       "    </tr>\n",
       "    <tr>\n",
       "      <th>3262</th>\n",
       "      <td>10875</td>\n",
       "      <td>0</td>\n",
       "    </tr>\n",
       "  </tbody>\n",
       "</table>\n",
       "<p>3263 rows × 2 columns</p>\n",
       "</div>"
      ],
      "text/plain": [
       "         id  target\n",
       "0         0       1\n",
       "1         2       1\n",
       "2         3       1\n",
       "3         9       1\n",
       "4        11       1\n",
       "...     ...     ...\n",
       "3258  10861       1\n",
       "3259  10865       1\n",
       "3260  10868       1\n",
       "3261  10874       1\n",
       "3262  10875       0\n",
       "\n",
       "[3263 rows x 2 columns]"
      ]
     },
     "execution_count": 33,
     "metadata": {},
     "output_type": "execute_result"
    }
   ],
   "source": [
    "output_df"
   ]
  },
  {
   "cell_type": "code",
   "execution_count": 34,
   "id": "7131945a",
   "metadata": {
    "execution": {
     "iopub.execute_input": "2023-12-05T21:45:11.786833Z",
     "iopub.status.busy": "2023-12-05T21:45:11.786400Z",
     "iopub.status.idle": "2023-12-05T21:45:11.802550Z",
     "shell.execute_reply": "2023-12-05T21:45:11.801211Z"
    },
    "papermill": {
     "duration": 0.041888,
     "end_time": "2023-12-05T21:45:11.805381",
     "exception": false,
     "start_time": "2023-12-05T21:45:11.763493",
     "status": "completed"
    },
    "tags": []
   },
   "outputs": [],
   "source": [
    "output_df.to_csv('/kaggle/working/submission.csv', index=False)"
   ]
  },
  {
   "cell_type": "code",
   "execution_count": null,
   "id": "4e8b6ecd",
   "metadata": {
    "papermill": {
     "duration": 0.021087,
     "end_time": "2023-12-05T21:45:11.848151",
     "exception": false,
     "start_time": "2023-12-05T21:45:11.827064",
     "status": "completed"
    },
    "tags": []
   },
   "outputs": [],
   "source": []
  }
 ],
 "metadata": {
  "kaggle": {
   "accelerator": "none",
   "dataSources": [
    {
     "databundleVersionId": 869809,
     "sourceId": 17777,
     "sourceType": "competition"
    }
   ],
   "dockerImageVersionId": 30587,
   "isGpuEnabled": false,
   "isInternetEnabled": true,
   "language": "python",
   "sourceType": "notebook"
  },
  "kernelspec": {
   "display_name": "Python 3",
   "language": "python",
   "name": "python3"
  },
  "language_info": {
   "codemirror_mode": {
    "name": "ipython",
    "version": 3
   },
   "file_extension": ".py",
   "mimetype": "text/x-python",
   "name": "python",
   "nbconvert_exporter": "python",
   "pygments_lexer": "ipython3",
   "version": "3.10.12"
  },
  "papermill": {
   "default_parameters": {},
   "duration": 279.936461,
   "end_time": "2023-12-05T21:45:12.593006",
   "environment_variables": {},
   "exception": null,
   "input_path": "__notebook__.ipynb",
   "output_path": "__notebook__.ipynb",
   "parameters": {},
   "start_time": "2023-12-05T21:40:32.656545",
   "version": "2.4.0"
  }
 },
 "nbformat": 4,
 "nbformat_minor": 5
}
