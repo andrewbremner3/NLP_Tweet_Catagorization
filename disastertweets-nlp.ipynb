{
 "cells": [
  {
   "cell_type": "code",
   "execution_count": 1,
   "id": "962447ee",
   "metadata": {
    "_cell_guid": "b1076dfc-b9ad-4769-8c92-a6c4dae69d19",
    "_uuid": "8f2839f25d086af736a60e9eeb907d3b93b6e0e5",
    "execution": {
     "iopub.execute_input": "2023-12-05T22:18:16.774334Z",
     "iopub.status.busy": "2023-12-05T22:18:16.773858Z",
     "iopub.status.idle": "2023-12-05T22:18:18.630368Z",
     "shell.execute_reply": "2023-12-05T22:18:18.628452Z"
    },
    "papermill": {
     "duration": 1.877712,
     "end_time": "2023-12-05T22:18:18.633731",
     "exception": false,
     "start_time": "2023-12-05T22:18:16.756019",
     "status": "completed"
    },
    "tags": []
   },
   "outputs": [
    {
     "name": "stdout",
     "output_type": "stream",
     "text": [
      "/kaggle/input/nlp-getting-started/sample_submission.csv\n",
      "/kaggle/input/nlp-getting-started/train.csv\n",
      "/kaggle/input/nlp-getting-started/test.csv\n"
     ]
    }
   ],
   "source": [
    "# This Python 3 environment comes with many helpful analytics libraries installed\n",
    "# It is defined by the kaggle/python Docker image: https://github.com/kaggle/docker-python\n",
    "# For example, here's several helpful packages to load\n",
    "\n",
    "import numpy as np # linear algebra\n",
    "import pandas as pd # data processing, CSV file I/O (e.g. pd.read_csv)\n",
    "import seaborn as sns\n",
    "import matplotlib.pyplot as plt\n",
    "import time\n",
    "\n",
    "# Input data files are available in the read-only \"../input/\" directory\n",
    "# For example, running this (by clicking run or pressing Shift+Enter) will list all files under the input directory\n",
    "\n",
    "import os\n",
    "for dirname, _, filenames in os.walk('/kaggle/input'):\n",
    "    for filename in filenames:\n",
    "        print(os.path.join(dirname, filename))\n",
    "\n",
    "# You can write up to 20GB to the current directory (/kaggle/working/) that gets preserved as output when you create a version using \"Save & Run All\" \n",
    "# You can also write temporary files to /kaggle/temp/, but they won't be saved outside of the current session"
   ]
  },
  {
   "cell_type": "markdown",
   "id": "da020b05",
   "metadata": {
    "papermill": {
     "duration": 0.01524,
     "end_time": "2023-12-05T22:18:18.664822",
     "exception": false,
     "start_time": "2023-12-05T22:18:18.649582",
     "status": "completed"
    },
    "tags": []
   },
   "source": [
    "# Read in Train and Test Data sets"
   ]
  },
  {
   "cell_type": "code",
   "execution_count": 2,
   "id": "564baa12",
   "metadata": {
    "execution": {
     "iopub.execute_input": "2023-12-05T22:18:18.697991Z",
     "iopub.status.busy": "2023-12-05T22:18:18.697422Z",
     "iopub.status.idle": "2023-12-05T22:18:18.787048Z",
     "shell.execute_reply": "2023-12-05T22:18:18.785988Z"
    },
    "papermill": {
     "duration": 0.109681,
     "end_time": "2023-12-05T22:18:18.790120",
     "exception": false,
     "start_time": "2023-12-05T22:18:18.680439",
     "status": "completed"
    },
    "tags": []
   },
   "outputs": [],
   "source": [
    "df = pd.read_csv(\"/kaggle/input/nlp-getting-started/train.csv\")\n",
    "df_test = pd.read_csv(\"/kaggle/input/nlp-getting-started/test.csv\")"
   ]
  },
  {
   "cell_type": "code",
   "execution_count": 3,
   "id": "5ddff022",
   "metadata": {
    "execution": {
     "iopub.execute_input": "2023-12-05T22:18:18.825247Z",
     "iopub.status.busy": "2023-12-05T22:18:18.824198Z",
     "iopub.status.idle": "2023-12-05T22:18:18.849501Z",
     "shell.execute_reply": "2023-12-05T22:18:18.848552Z"
    },
    "papermill": {
     "duration": 0.044421,
     "end_time": "2023-12-05T22:18:18.851800",
     "exception": false,
     "start_time": "2023-12-05T22:18:18.807379",
     "status": "completed"
    },
    "tags": []
   },
   "outputs": [
    {
     "data": {
      "text/html": [
       "<div>\n",
       "<style scoped>\n",
       "    .dataframe tbody tr th:only-of-type {\n",
       "        vertical-align: middle;\n",
       "    }\n",
       "\n",
       "    .dataframe tbody tr th {\n",
       "        vertical-align: top;\n",
       "    }\n",
       "\n",
       "    .dataframe thead th {\n",
       "        text-align: right;\n",
       "    }\n",
       "</style>\n",
       "<table border=\"1\" class=\"dataframe\">\n",
       "  <thead>\n",
       "    <tr style=\"text-align: right;\">\n",
       "      <th></th>\n",
       "      <th>id</th>\n",
       "      <th>keyword</th>\n",
       "      <th>location</th>\n",
       "      <th>text</th>\n",
       "      <th>target</th>\n",
       "    </tr>\n",
       "  </thead>\n",
       "  <tbody>\n",
       "    <tr>\n",
       "      <th>0</th>\n",
       "      <td>1</td>\n",
       "      <td>NaN</td>\n",
       "      <td>NaN</td>\n",
       "      <td>Our Deeds are the Reason of this #earthquake M...</td>\n",
       "      <td>1</td>\n",
       "    </tr>\n",
       "    <tr>\n",
       "      <th>1</th>\n",
       "      <td>4</td>\n",
       "      <td>NaN</td>\n",
       "      <td>NaN</td>\n",
       "      <td>Forest fire near La Ronge Sask. Canada</td>\n",
       "      <td>1</td>\n",
       "    </tr>\n",
       "    <tr>\n",
       "      <th>2</th>\n",
       "      <td>5</td>\n",
       "      <td>NaN</td>\n",
       "      <td>NaN</td>\n",
       "      <td>All residents asked to 'shelter in place' are ...</td>\n",
       "      <td>1</td>\n",
       "    </tr>\n",
       "    <tr>\n",
       "      <th>3</th>\n",
       "      <td>6</td>\n",
       "      <td>NaN</td>\n",
       "      <td>NaN</td>\n",
       "      <td>13,000 people receive #wildfires evacuation or...</td>\n",
       "      <td>1</td>\n",
       "    </tr>\n",
       "    <tr>\n",
       "      <th>4</th>\n",
       "      <td>7</td>\n",
       "      <td>NaN</td>\n",
       "      <td>NaN</td>\n",
       "      <td>Just got sent this photo from Ruby #Alaska as ...</td>\n",
       "      <td>1</td>\n",
       "    </tr>\n",
       "  </tbody>\n",
       "</table>\n",
       "</div>"
      ],
      "text/plain": [
       "   id keyword location                                               text  \\\n",
       "0   1     NaN      NaN  Our Deeds are the Reason of this #earthquake M...   \n",
       "1   4     NaN      NaN             Forest fire near La Ronge Sask. Canada   \n",
       "2   5     NaN      NaN  All residents asked to 'shelter in place' are ...   \n",
       "3   6     NaN      NaN  13,000 people receive #wildfires evacuation or...   \n",
       "4   7     NaN      NaN  Just got sent this photo from Ruby #Alaska as ...   \n",
       "\n",
       "   target  \n",
       "0       1  \n",
       "1       1  \n",
       "2       1  \n",
       "3       1  \n",
       "4       1  "
      ]
     },
     "execution_count": 3,
     "metadata": {},
     "output_type": "execute_result"
    }
   ],
   "source": [
    "df.head()"
   ]
  },
  {
   "cell_type": "markdown",
   "id": "7ed3d682",
   "metadata": {
    "papermill": {
     "duration": 0.015223,
     "end_time": "2023-12-05T22:18:18.882447",
     "exception": false,
     "start_time": "2023-12-05T22:18:18.867224",
     "status": "completed"
    },
    "tags": []
   },
   "source": [
    "### Check for null values"
   ]
  },
  {
   "cell_type": "code",
   "execution_count": 4,
   "id": "c80ab114",
   "metadata": {
    "execution": {
     "iopub.execute_input": "2023-12-05T22:18:18.915934Z",
     "iopub.status.busy": "2023-12-05T22:18:18.915077Z",
     "iopub.status.idle": "2023-12-05T22:18:18.929029Z",
     "shell.execute_reply": "2023-12-05T22:18:18.927657Z"
    },
    "papermill": {
     "duration": 0.034076,
     "end_time": "2023-12-05T22:18:18.931811",
     "exception": false,
     "start_time": "2023-12-05T22:18:18.897735",
     "status": "completed"
    },
    "tags": []
   },
   "outputs": [
    {
     "data": {
      "text/plain": [
       "id             0\n",
       "keyword       61\n",
       "location    2533\n",
       "text           0\n",
       "target         0\n",
       "dtype: int64"
      ]
     },
     "execution_count": 4,
     "metadata": {},
     "output_type": "execute_result"
    }
   ],
   "source": [
    "df.isnull().sum()"
   ]
  },
  {
   "cell_type": "code",
   "execution_count": 5,
   "id": "edf99716",
   "metadata": {
    "execution": {
     "iopub.execute_input": "2023-12-05T22:18:18.966494Z",
     "iopub.status.busy": "2023-12-05T22:18:18.966020Z",
     "iopub.status.idle": "2023-12-05T22:18:18.977423Z",
     "shell.execute_reply": "2023-12-05T22:18:18.976157Z"
    },
    "papermill": {
     "duration": 0.032191,
     "end_time": "2023-12-05T22:18:18.980092",
     "exception": false,
     "start_time": "2023-12-05T22:18:18.947901",
     "status": "completed"
    },
    "tags": []
   },
   "outputs": [
    {
     "data": {
      "text/plain": [
       "id             0\n",
       "keyword       26\n",
       "location    1105\n",
       "text           0\n",
       "dtype: int64"
      ]
     },
     "execution_count": 5,
     "metadata": {},
     "output_type": "execute_result"
    }
   ],
   "source": [
    "df_test.isnull().sum()"
   ]
  },
  {
   "cell_type": "markdown",
   "id": "aaafa6d8",
   "metadata": {
    "papermill": {
     "duration": 0.015997,
     "end_time": "2023-12-05T22:18:19.012330",
     "exception": false,
     "start_time": "2023-12-05T22:18:18.996333",
     "status": "completed"
    },
    "tags": []
   },
   "source": [
    "Key words have %20 instead of spaces so fill those"
   ]
  },
  {
   "cell_type": "code",
   "execution_count": 6,
   "id": "f0adeda5",
   "metadata": {
    "execution": {
     "iopub.execute_input": "2023-12-05T22:18:19.047430Z",
     "iopub.status.busy": "2023-12-05T22:18:19.046336Z",
     "iopub.status.idle": "2023-12-05T22:18:19.058291Z",
     "shell.execute_reply": "2023-12-05T22:18:19.057139Z"
    },
    "papermill": {
     "duration": 0.031926,
     "end_time": "2023-12-05T22:18:19.060594",
     "exception": false,
     "start_time": "2023-12-05T22:18:19.028668",
     "status": "completed"
    },
    "tags": []
   },
   "outputs": [
    {
     "data": {
      "text/plain": [
       "array([nan, 'ablaze', 'accident', 'aftershock', 'airplane%20accident',\n",
       "       'ambulance', 'annihilated', 'annihilation', 'apocalypse',\n",
       "       'armageddon', 'army', 'arson', 'arsonist', 'attack', 'attacked',\n",
       "       'avalanche', 'battle', 'bioterror', 'bioterrorism', 'blaze',\n",
       "       'blazing', 'bleeding', 'blew%20up', 'blight', 'blizzard'],\n",
       "      dtype=object)"
      ]
     },
     "execution_count": 6,
     "metadata": {},
     "output_type": "execute_result"
    }
   ],
   "source": [
    "df['keyword'].unique()[:25]"
   ]
  },
  {
   "cell_type": "markdown",
   "id": "32716de7",
   "metadata": {
    "papermill": {
     "duration": 0.016488,
     "end_time": "2023-12-05T22:18:19.094605",
     "exception": false,
     "start_time": "2023-12-05T22:18:19.078117",
     "status": "completed"
    },
    "tags": []
   },
   "source": [
    "**Fix Training set by filling na values with '' and %20 with ' '.**"
   ]
  },
  {
   "cell_type": "code",
   "execution_count": 7,
   "id": "85bdf6bd",
   "metadata": {
    "execution": {
     "iopub.execute_input": "2023-12-05T22:18:19.130326Z",
     "iopub.status.busy": "2023-12-05T22:18:19.129904Z",
     "iopub.status.idle": "2023-12-05T22:18:19.189933Z",
     "shell.execute_reply": "2023-12-05T22:18:19.188818Z"
    },
    "papermill": {
     "duration": 0.081268,
     "end_time": "2023-12-05T22:18:19.193068",
     "exception": false,
     "start_time": "2023-12-05T22:18:19.111800",
     "status": "completed"
    },
    "tags": []
   },
   "outputs": [],
   "source": [
    "df['location']=df['location'].fillna('')\n",
    "df['keyword']=df['keyword'].fillna('')\n",
    "df = df.replace('%20', ' ', regex=True)"
   ]
  },
  {
   "cell_type": "code",
   "execution_count": 8,
   "id": "927c7d41",
   "metadata": {
    "execution": {
     "iopub.execute_input": "2023-12-05T22:18:19.227867Z",
     "iopub.status.busy": "2023-12-05T22:18:19.227419Z",
     "iopub.status.idle": "2023-12-05T22:18:19.257232Z",
     "shell.execute_reply": "2023-12-05T22:18:19.256290Z"
    },
    "papermill": {
     "duration": 0.050221,
     "end_time": "2023-12-05T22:18:19.259599",
     "exception": false,
     "start_time": "2023-12-05T22:18:19.209378",
     "status": "completed"
    },
    "tags": []
   },
   "outputs": [],
   "source": [
    "df_test['location'] = df_test['location'].fillna('')\n",
    "df_test['keyword'] = df_test['keyword'].fillna('')\n",
    "df_test = df_test.replace('%20', ' ', regex=True)"
   ]
  },
  {
   "cell_type": "code",
   "execution_count": 9,
   "id": "67df64f7",
   "metadata": {
    "execution": {
     "iopub.execute_input": "2023-12-05T22:18:19.351680Z",
     "iopub.status.busy": "2023-12-05T22:18:19.351289Z",
     "iopub.status.idle": "2023-12-05T22:18:19.691251Z",
     "shell.execute_reply": "2023-12-05T22:18:19.689962Z"
    },
    "papermill": {
     "duration": 0.360263,
     "end_time": "2023-12-05T22:18:19.694011",
     "exception": false,
     "start_time": "2023-12-05T22:18:19.333748",
     "status": "completed"
    },
    "tags": []
   },
   "outputs": [
    {
     "data": {
      "image/png": "[encoded data removed]",
      "text/plain": [
       "<Figure size 640x480 with 1 Axes>"
      ]
     },
     "metadata": {},
     "output_type": "display_data"
    }
   ],
   "source": [
    "sns.countplot(data=df, x='target');"
   ]
  },
  {
   "cell_type": "code",
   "execution_count": 10,
   "id": "b4607ae6",
   "metadata": {
    "execution": {
     "iopub.execute_input": "2023-12-05T22:18:19.728141Z",
     "iopub.status.busy": "2023-12-05T22:18:19.727550Z",
     "iopub.status.idle": "2023-12-05T22:18:19.743170Z",
     "shell.execute_reply": "2023-12-05T22:18:19.742097Z"
    },
    "papermill": {
     "duration": 0.035595,
     "end_time": "2023-12-05T22:18:19.745515",
     "exception": false,
     "start_time": "2023-12-05T22:18:19.709920",
     "status": "completed"
    },
    "tags": []
   },
   "outputs": [
    {
     "data": {
      "text/html": [
       "<div>\n",
       "<style scoped>\n",
       "    .dataframe tbody tr th:only-of-type {\n",
       "        vertical-align: middle;\n",
       "    }\n",
       "\n",
       "    .dataframe tbody tr th {\n",
       "        vertical-align: top;\n",
       "    }\n",
       "\n",
       "    .dataframe thead th {\n",
       "        text-align: right;\n",
       "    }\n",
       "</style>\n",
       "<table border=\"1\" class=\"dataframe\">\n",
       "  <thead>\n",
       "    <tr style=\"text-align: right;\">\n",
       "      <th></th>\n",
       "      <th>id</th>\n",
       "      <th>keyword</th>\n",
       "      <th>location</th>\n",
       "      <th>text</th>\n",
       "      <th>target</th>\n",
       "    </tr>\n",
       "  </thead>\n",
       "  <tbody>\n",
       "    <tr>\n",
       "      <th>800</th>\n",
       "      <td>1160</td>\n",
       "      <td>blight</td>\n",
       "      <td>Laventillemoorings</td>\n",
       "      <td>If you dotish to blight your car go right ahea...</td>\n",
       "      <td>0</td>\n",
       "    </tr>\n",
       "    <tr>\n",
       "      <th>801</th>\n",
       "      <td>1162</td>\n",
       "      <td>blight</td>\n",
       "      <td>UK</td>\n",
       "      <td>Sexual Revolution:Blight For Women is out! htt...</td>\n",
       "      <td>0</td>\n",
       "    </tr>\n",
       "    <tr>\n",
       "      <th>802</th>\n",
       "      <td>1164</td>\n",
       "      <td>blight</td>\n",
       "      <td>Scotland</td>\n",
       "      <td>LIKE I SWEAR THE SECRET WE'LL UNCOVER IS THE O...</td>\n",
       "      <td>0</td>\n",
       "    </tr>\n",
       "    <tr>\n",
       "      <th>803</th>\n",
       "      <td>1166</td>\n",
       "      <td>blight</td>\n",
       "      <td>London</td>\n",
       "      <td>@WillHillBet what is double result live on the...</td>\n",
       "      <td>0</td>\n",
       "    </tr>\n",
       "    <tr>\n",
       "      <th>804</th>\n",
       "      <td>1167</td>\n",
       "      <td>blight</td>\n",
       "      <td>Vancouver, BC</td>\n",
       "      <td>@parksboardfacts first off it is the #ZippoLin...</td>\n",
       "      <td>0</td>\n",
       "    </tr>\n",
       "    <tr>\n",
       "      <th>...</th>\n",
       "      <td>...</td>\n",
       "      <td>...</td>\n",
       "      <td>...</td>\n",
       "      <td>...</td>\n",
       "      <td>...</td>\n",
       "    </tr>\n",
       "    <tr>\n",
       "      <th>1395</th>\n",
       "      <td>2014</td>\n",
       "      <td>casualties</td>\n",
       "      <td>Philippines</td>\n",
       "      <td>Civilian casualties rise as Afghan war intensi...</td>\n",
       "      <td>1</td>\n",
       "    </tr>\n",
       "    <tr>\n",
       "      <th>1396</th>\n",
       "      <td>2015</td>\n",
       "      <td>casualties</td>\n",
       "      <td></td>\n",
       "      <td>Afghan conflict sees 'sharp rise' in female ca...</td>\n",
       "      <td>1</td>\n",
       "    </tr>\n",
       "    <tr>\n",
       "      <th>1397</th>\n",
       "      <td>2016</td>\n",
       "      <td>casualties</td>\n",
       "      <td>Bronx, New York</td>\n",
       "      <td>Warfighting Robots Could Reduce Civilian Casua...</td>\n",
       "      <td>1</td>\n",
       "    </tr>\n",
       "    <tr>\n",
       "      <th>1398</th>\n",
       "      <td>2017</td>\n",
       "      <td>casualties</td>\n",
       "      <td>Canadian bread</td>\n",
       "      <td>@LibertarianLuke I'm all for that to be honest...</td>\n",
       "      <td>0</td>\n",
       "    </tr>\n",
       "    <tr>\n",
       "      <th>1399</th>\n",
       "      <td>2019</td>\n",
       "      <td>casualties</td>\n",
       "      <td>Phoenix, AZ</td>\n",
       "      <td>Afghanistan: U.N. Reports 'Record-High Levels'...</td>\n",
       "      <td>1</td>\n",
       "    </tr>\n",
       "  </tbody>\n",
       "</table>\n",
       "<p>600 rows × 5 columns</p>\n",
       "</div>"
      ],
      "text/plain": [
       "        id     keyword             location  \\\n",
       "800   1160      blight  Laventillemoorings    \n",
       "801   1162      blight                   UK   \n",
       "802   1164      blight             Scotland   \n",
       "803   1166      blight               London   \n",
       "804   1167      blight        Vancouver, BC   \n",
       "...    ...         ...                  ...   \n",
       "1395  2014  casualties          Philippines   \n",
       "1396  2015  casualties                        \n",
       "1397  2016  casualties      Bronx, New York   \n",
       "1398  2017  casualties       Canadian bread   \n",
       "1399  2019  casualties          Phoenix, AZ   \n",
       "\n",
       "                                                   text  target  \n",
       "800   If you dotish to blight your car go right ahea...       0  \n",
       "801   Sexual Revolution:Blight For Women is out! htt...       0  \n",
       "802   LIKE I SWEAR THE SECRET WE'LL UNCOVER IS THE O...       0  \n",
       "803   @WillHillBet what is double result live on the...       0  \n",
       "804   @parksboardfacts first off it is the #ZippoLin...       0  \n",
       "...                                                 ...     ...  \n",
       "1395  Civilian casualties rise as Afghan war intensi...       1  \n",
       "1396  Afghan conflict sees 'sharp rise' in female ca...       1  \n",
       "1397  Warfighting Robots Could Reduce Civilian Casua...       1  \n",
       "1398  @LibertarianLuke I'm all for that to be honest...       0  \n",
       "1399  Afghanistan: U.N. Reports 'Record-High Levels'...       1  \n",
       "\n",
       "[600 rows x 5 columns]"
      ]
     },
     "execution_count": 10,
     "metadata": {},
     "output_type": "execute_result"
    }
   ],
   "source": [
    "df[800:1400]"
   ]
  },
  {
   "cell_type": "markdown",
   "id": "768a8c0d",
   "metadata": {
    "papermill": {
     "duration": 0.016896,
     "end_time": "2023-12-05T22:18:19.778814",
     "exception": false,
     "start_time": "2023-12-05T22:18:19.761918",
     "status": "completed"
    },
    "tags": []
   },
   "source": [
    "## Plot to show some of the positive/negative ratios for given keywords\n",
    "Some of the keywords are pretty strongly correlated"
   ]
  },
  {
   "cell_type": "code",
   "execution_count": 11,
   "id": "0ee46a6e",
   "metadata": {
    "execution": {
     "iopub.execute_input": "2023-12-05T22:18:19.815150Z",
     "iopub.status.busy": "2023-12-05T22:18:19.814548Z",
     "iopub.status.idle": "2023-12-05T22:18:20.772684Z",
     "shell.execute_reply": "2023-12-05T22:18:20.771612Z"
    },
    "papermill": {
     "duration": 0.979067,
     "end_time": "2023-12-05T22:18:20.774914",
     "exception": false,
     "start_time": "2023-12-05T22:18:19.795847",
     "status": "completed"
    },
    "tags": []
   },
   "outputs": [
    {
     "data": {
      "image/png": "[encoded data removed]",
      "text/plain": [
       "<Figure size 1000x400 with 1 Axes>"
      ]
     },
     "metadata": {},
     "output_type": "display_data"
    }
   ],
   "source": [
    "plt.figure(figsize=(10,4))\n",
    "sns.countplot(data=df[1000:2500], x='keyword',hue='target')\n",
    "plt.xticks(rotation=90);"
   ]
  },
  {
   "cell_type": "markdown",
   "id": "89b58c8b",
   "metadata": {
    "papermill": {
     "duration": 0.019155,
     "end_time": "2023-12-05T22:18:20.812927",
     "exception": false,
     "start_time": "2023-12-05T22:18:20.793772",
     "status": "completed"
    },
    "tags": []
   },
   "source": [
    "# Split Train Data to do inital testing"
   ]
  },
  {
   "cell_type": "code",
   "execution_count": 12,
   "id": "7c51d4b9",
   "metadata": {
    "execution": {
     "iopub.execute_input": "2023-12-05T22:18:20.851901Z",
     "iopub.status.busy": "2023-12-05T22:18:20.851033Z",
     "iopub.status.idle": "2023-12-05T22:18:21.131650Z",
     "shell.execute_reply": "2023-12-05T22:18:21.130127Z"
    },
    "papermill": {
     "duration": 0.303796,
     "end_time": "2023-12-05T22:18:21.134638",
     "exception": false,
     "start_time": "2023-12-05T22:18:20.830842",
     "status": "completed"
    },
    "tags": []
   },
   "outputs": [],
   "source": [
    "from sklearn.model_selection import train_test_split"
   ]
  },
  {
   "cell_type": "code",
   "execution_count": 13,
   "id": "4c20e73a",
   "metadata": {
    "execution": {
     "iopub.execute_input": "2023-12-05T22:18:21.172068Z",
     "iopub.status.busy": "2023-12-05T22:18:21.171429Z",
     "iopub.status.idle": "2023-12-05T22:18:21.200631Z",
     "shell.execute_reply": "2023-12-05T22:18:21.199353Z"
    },
    "papermill": {
     "duration": 0.050919,
     "end_time": "2023-12-05T22:18:21.203214",
     "exception": false,
     "start_time": "2023-12-05T22:18:21.152295",
     "status": "completed"
    },
    "tags": []
   },
   "outputs": [
    {
     "data": {
      "text/html": [
       "<div>\n",
       "<style scoped>\n",
       "    .dataframe tbody tr th:only-of-type {\n",
       "        vertical-align: middle;\n",
       "    }\n",
       "\n",
       "    .dataframe tbody tr th {\n",
       "        vertical-align: top;\n",
       "    }\n",
       "\n",
       "    .dataframe thead th {\n",
       "        text-align: right;\n",
       "    }\n",
       "</style>\n",
       "<table border=\"1\" class=\"dataframe\">\n",
       "  <thead>\n",
       "    <tr style=\"text-align: right;\">\n",
       "      <th></th>\n",
       "      <th>id</th>\n",
       "      <th>keyword</th>\n",
       "      <th>location</th>\n",
       "      <th>text</th>\n",
       "      <th>target</th>\n",
       "      <th>text combo</th>\n",
       "    </tr>\n",
       "  </thead>\n",
       "  <tbody>\n",
       "    <tr>\n",
       "      <th>800</th>\n",
       "      <td>1160</td>\n",
       "      <td>blight</td>\n",
       "      <td>Laventillemoorings</td>\n",
       "      <td>If you dotish to blight your car go right ahea...</td>\n",
       "      <td>0</td>\n",
       "      <td>blight blight blight Laventillemoorings  If yo...</td>\n",
       "    </tr>\n",
       "    <tr>\n",
       "      <th>801</th>\n",
       "      <td>1162</td>\n",
       "      <td>blight</td>\n",
       "      <td>UK</td>\n",
       "      <td>Sexual Revolution:Blight For Women is out! htt...</td>\n",
       "      <td>0</td>\n",
       "      <td>blight blight blight UK Sexual Revolution:Blig...</td>\n",
       "    </tr>\n",
       "    <tr>\n",
       "      <th>802</th>\n",
       "      <td>1164</td>\n",
       "      <td>blight</td>\n",
       "      <td>Scotland</td>\n",
       "      <td>LIKE I SWEAR THE SECRET WE'LL UNCOVER IS THE O...</td>\n",
       "      <td>0</td>\n",
       "      <td>blight blight blight Scotland LIKE I SWEAR THE...</td>\n",
       "    </tr>\n",
       "    <tr>\n",
       "      <th>803</th>\n",
       "      <td>1166</td>\n",
       "      <td>blight</td>\n",
       "      <td>London</td>\n",
       "      <td>@WillHillBet what is double result live on the...</td>\n",
       "      <td>0</td>\n",
       "      <td>blight blight blight London @WillHillBet what ...</td>\n",
       "    </tr>\n",
       "  </tbody>\n",
       "</table>\n",
       "</div>"
      ],
      "text/plain": [
       "       id keyword             location  \\\n",
       "800  1160  blight  Laventillemoorings    \n",
       "801  1162  blight                   UK   \n",
       "802  1164  blight             Scotland   \n",
       "803  1166  blight               London   \n",
       "\n",
       "                                                  text  target  \\\n",
       "800  If you dotish to blight your car go right ahea...       0   \n",
       "801  Sexual Revolution:Blight For Women is out! htt...       0   \n",
       "802  LIKE I SWEAR THE SECRET WE'LL UNCOVER IS THE O...       0   \n",
       "803  @WillHillBet what is double result live on the...       0   \n",
       "\n",
       "                                            text combo  \n",
       "800  blight blight blight Laventillemoorings  If yo...  \n",
       "801  blight blight blight UK Sexual Revolution:Blig...  \n",
       "802  blight blight blight Scotland LIKE I SWEAR THE...  \n",
       "803  blight blight blight London @WillHillBet what ...  "
      ]
     },
     "execution_count": 13,
     "metadata": {},
     "output_type": "execute_result"
    }
   ],
   "source": [
    "df['text combo'] = (df['keyword']+\" \")*3+df['location']+\" \"+df['text']\n",
    "df_test['text combo'] = (df_test['keyword']+\" \")*3+df_test['location']+\" \"+df_test['text']\n",
    "\n",
    "df[800:804]"
   ]
  },
  {
   "cell_type": "code",
   "execution_count": 14,
   "id": "1d6a4119",
   "metadata": {
    "execution": {
     "iopub.execute_input": "2023-12-05T22:18:21.242172Z",
     "iopub.status.busy": "2023-12-05T22:18:21.241785Z",
     "iopub.status.idle": "2023-12-05T22:18:21.257604Z",
     "shell.execute_reply": "2023-12-05T22:18:21.256424Z"
    },
    "papermill": {
     "duration": 0.038652,
     "end_time": "2023-12-05T22:18:21.260498",
     "exception": false,
     "start_time": "2023-12-05T22:18:21.221846",
     "status": "completed"
    },
    "tags": []
   },
   "outputs": [],
   "source": [
    "#X = df.drop(['target','id'], axis=1)\n",
    "X = df.drop('target',axis=1)\n",
    "y = df['target']\n",
    "X_train, X_test, y_train, y_test = train_test_split(X, y, test_size=0.1, random_state=814)\n",
    "ids_train = X_train['id']\n",
    "X_train = X_train['text combo']\n",
    "ids_test = X_test['id']\n",
    "X_test = X_test['text combo']"
   ]
  },
  {
   "cell_type": "code",
   "execution_count": 15,
   "id": "8f96952a",
   "metadata": {
    "execution": {
     "iopub.execute_input": "2023-12-05T22:18:21.300955Z",
     "iopub.status.busy": "2023-12-05T22:18:21.300543Z",
     "iopub.status.idle": "2023-12-05T22:18:21.316499Z",
     "shell.execute_reply": "2023-12-05T22:18:21.315568Z"
    },
    "papermill": {
     "duration": 0.039871,
     "end_time": "2023-12-05T22:18:21.319385",
     "exception": false,
     "start_time": "2023-12-05T22:18:21.279514",
     "status": "completed"
    },
    "tags": []
   },
   "outputs": [
    {
     "data": {
      "text/html": [
       "<div>\n",
       "<style scoped>\n",
       "    .dataframe tbody tr th:only-of-type {\n",
       "        vertical-align: middle;\n",
       "    }\n",
       "\n",
       "    .dataframe tbody tr th {\n",
       "        vertical-align: top;\n",
       "    }\n",
       "\n",
       "    .dataframe thead th {\n",
       "        text-align: right;\n",
       "    }\n",
       "</style>\n",
       "<table border=\"1\" class=\"dataframe\">\n",
       "  <thead>\n",
       "    <tr style=\"text-align: right;\">\n",
       "      <th></th>\n",
       "      <th>id</th>\n",
       "      <th>keyword</th>\n",
       "      <th>location</th>\n",
       "      <th>text</th>\n",
       "      <th>text combo</th>\n",
       "    </tr>\n",
       "  </thead>\n",
       "  <tbody>\n",
       "    <tr>\n",
       "      <th>0</th>\n",
       "      <td>0</td>\n",
       "      <td></td>\n",
       "      <td></td>\n",
       "      <td>Just happened a terrible car crash</td>\n",
       "      <td>Just happened a terrible car crash</td>\n",
       "    </tr>\n",
       "    <tr>\n",
       "      <th>1</th>\n",
       "      <td>2</td>\n",
       "      <td></td>\n",
       "      <td></td>\n",
       "      <td>Heard about #earthquake is different cities, s...</td>\n",
       "      <td>Heard about #earthquake is different citie...</td>\n",
       "    </tr>\n",
       "    <tr>\n",
       "      <th>2</th>\n",
       "      <td>3</td>\n",
       "      <td></td>\n",
       "      <td></td>\n",
       "      <td>there is a forest fire at spot pond, geese are...</td>\n",
       "      <td>there is a forest fire at spot pond, geese...</td>\n",
       "    </tr>\n",
       "    <tr>\n",
       "      <th>3</th>\n",
       "      <td>9</td>\n",
       "      <td></td>\n",
       "      <td></td>\n",
       "      <td>Apocalypse lighting. #Spokane #wildfires</td>\n",
       "      <td>Apocalypse lighting. #Spokane #wildfires</td>\n",
       "    </tr>\n",
       "    <tr>\n",
       "      <th>4</th>\n",
       "      <td>11</td>\n",
       "      <td></td>\n",
       "      <td></td>\n",
       "      <td>Typhoon Soudelor kills 28 in China and Taiwan</td>\n",
       "      <td>Typhoon Soudelor kills 28 in China and Taiwan</td>\n",
       "    </tr>\n",
       "    <tr>\n",
       "      <th>...</th>\n",
       "      <td>...</td>\n",
       "      <td>...</td>\n",
       "      <td>...</td>\n",
       "      <td>...</td>\n",
       "      <td>...</td>\n",
       "    </tr>\n",
       "    <tr>\n",
       "      <th>3258</th>\n",
       "      <td>10861</td>\n",
       "      <td></td>\n",
       "      <td></td>\n",
       "      <td>EARTHQUAKE SAFETY LOS ANGELES ÛÒ SAFETY FASTE...</td>\n",
       "      <td>EARTHQUAKE SAFETY LOS ANGELES ÛÒ SAFETY F...</td>\n",
       "    </tr>\n",
       "    <tr>\n",
       "      <th>3259</th>\n",
       "      <td>10865</td>\n",
       "      <td></td>\n",
       "      <td></td>\n",
       "      <td>Storm in RI worse than last hurricane. My city...</td>\n",
       "      <td>Storm in RI worse than last hurricane. My ...</td>\n",
       "    </tr>\n",
       "    <tr>\n",
       "      <th>3260</th>\n",
       "      <td>10868</td>\n",
       "      <td></td>\n",
       "      <td></td>\n",
       "      <td>Green Line derailment in Chicago http://t.co/U...</td>\n",
       "      <td>Green Line derailment in Chicago http://t....</td>\n",
       "    </tr>\n",
       "    <tr>\n",
       "      <th>3261</th>\n",
       "      <td>10874</td>\n",
       "      <td></td>\n",
       "      <td></td>\n",
       "      <td>MEG issues Hazardous Weather Outlook (HWO) htt...</td>\n",
       "      <td>MEG issues Hazardous Weather Outlook (HWO)...</td>\n",
       "    </tr>\n",
       "    <tr>\n",
       "      <th>3262</th>\n",
       "      <td>10875</td>\n",
       "      <td></td>\n",
       "      <td></td>\n",
       "      <td>#CityofCalgary has activated its Municipal Eme...</td>\n",
       "      <td>#CityofCalgary has activated its Municipal...</td>\n",
       "    </tr>\n",
       "  </tbody>\n",
       "</table>\n",
       "<p>3263 rows × 5 columns</p>\n",
       "</div>"
      ],
      "text/plain": [
       "         id keyword location  \\\n",
       "0         0                    \n",
       "1         2                    \n",
       "2         3                    \n",
       "3         9                    \n",
       "4        11                    \n",
       "...     ...     ...      ...   \n",
       "3258  10861                    \n",
       "3259  10865                    \n",
       "3260  10868                    \n",
       "3261  10874                    \n",
       "3262  10875                    \n",
       "\n",
       "                                                   text  \\\n",
       "0                    Just happened a terrible car crash   \n",
       "1     Heard about #earthquake is different cities, s...   \n",
       "2     there is a forest fire at spot pond, geese are...   \n",
       "3              Apocalypse lighting. #Spokane #wildfires   \n",
       "4         Typhoon Soudelor kills 28 in China and Taiwan   \n",
       "...                                                 ...   \n",
       "3258  EARTHQUAKE SAFETY LOS ANGELES ÛÒ SAFETY FASTE...   \n",
       "3259  Storm in RI worse than last hurricane. My city...   \n",
       "3260  Green Line derailment in Chicago http://t.co/U...   \n",
       "3261  MEG issues Hazardous Weather Outlook (HWO) htt...   \n",
       "3262  #CityofCalgary has activated its Municipal Eme...   \n",
       "\n",
       "                                             text combo  \n",
       "0                    Just happened a terrible car crash  \n",
       "1         Heard about #earthquake is different citie...  \n",
       "2         there is a forest fire at spot pond, geese...  \n",
       "3              Apocalypse lighting. #Spokane #wildfires  \n",
       "4         Typhoon Soudelor kills 28 in China and Taiwan  \n",
       "...                                                 ...  \n",
       "3258      EARTHQUAKE SAFETY LOS ANGELES ÛÒ SAFETY F...  \n",
       "3259      Storm in RI worse than last hurricane. My ...  \n",
       "3260      Green Line derailment in Chicago http://t....  \n",
       "3261      MEG issues Hazardous Weather Outlook (HWO)...  \n",
       "3262      #CityofCalgary has activated its Municipal...  \n",
       "\n",
       "[3263 rows x 5 columns]"
      ]
     },
     "execution_count": 15,
     "metadata": {},
     "output_type": "execute_result"
    }
   ],
   "source": [
    "df_test"
   ]
  },
  {
   "cell_type": "markdown",
   "id": "13270c9d",
   "metadata": {
    "papermill": {
     "duration": 0.020006,
     "end_time": "2023-12-05T22:18:21.358598",
     "exception": false,
     "start_time": "2023-12-05T22:18:21.338592",
     "status": "completed"
    },
    "tags": []
   },
   "source": [
    "# Setup various models to test"
   ]
  },
  {
   "cell_type": "code",
   "execution_count": 16,
   "id": "26ecc25e",
   "metadata": {
    "execution": {
     "iopub.execute_input": "2023-12-05T22:18:21.400253Z",
     "iopub.status.busy": "2023-12-05T22:18:21.399882Z",
     "iopub.status.idle": "2023-12-05T22:18:21.518245Z",
     "shell.execute_reply": "2023-12-05T22:18:21.517136Z"
    },
    "papermill": {
     "duration": 0.143159,
     "end_time": "2023-12-05T22:18:21.521439",
     "exception": false,
     "start_time": "2023-12-05T22:18:21.378280",
     "status": "completed"
    },
    "tags": []
   },
   "outputs": [],
   "source": [
    "#from sklearn.pipeline import Pipeline\n",
    "from sklearn.feature_extraction.text import TfidfVectorizer, CountVectorizer\n",
    "from sklearn.model_selection import GridSearchCV\n",
    "from sklearn.naive_bayes import MultinomialNB\n",
    "from sklearn.linear_model import LogisticRegression, SGDClassifier\n",
    "from sklearn.svm import LinearSVC, SVC\n",
    "from sklearn.metrics import classification_report,f1_score,confusion_matrix,ConfusionMatrixDisplay"
   ]
  },
  {
   "cell_type": "markdown",
   "id": "e42b0692",
   "metadata": {
    "papermill": {
     "duration": 0.018906,
     "end_time": "2023-12-05T22:18:21.561291",
     "exception": false,
     "start_time": "2023-12-05T22:18:21.542385",
     "status": "completed"
    },
    "tags": []
   },
   "source": [
    "### Vectorize the text data"
   ]
  },
  {
   "cell_type": "code",
   "execution_count": 17,
   "id": "3811062c",
   "metadata": {
    "execution": {
     "iopub.execute_input": "2023-12-05T22:18:21.601809Z",
     "iopub.status.busy": "2023-12-05T22:18:21.601390Z",
     "iopub.status.idle": "2023-12-05T22:18:22.201206Z",
     "shell.execute_reply": "2023-12-05T22:18:22.200205Z"
    },
    "papermill": {
     "duration": 0.623241,
     "end_time": "2023-12-05T22:18:22.204174",
     "exception": false,
     "start_time": "2023-12-05T22:18:21.580933",
     "status": "completed"
    },
    "tags": []
   },
   "outputs": [],
   "source": [
    "tfidf = TfidfVectorizer(stop_words='english')\n",
    "tfidf.fit(X_train)\n",
    "X_train_tfidf = tfidf.transform(X_train)\n",
    "X_test_tfidf = tfidf.transform(X_test)"
   ]
  },
  {
   "cell_type": "code",
   "execution_count": 18,
   "id": "b1e12327",
   "metadata": {
    "execution": {
     "iopub.execute_input": "2023-12-05T22:18:22.252752Z",
     "iopub.status.busy": "2023-12-05T22:18:22.251851Z",
     "iopub.status.idle": "2023-12-05T22:18:22.258656Z",
     "shell.execute_reply": "2023-12-05T22:18:22.257821Z"
    },
    "papermill": {
     "duration": 0.037894,
     "end_time": "2023-12-05T22:18:22.262554",
     "exception": false,
     "start_time": "2023-12-05T22:18:22.224660",
     "status": "completed"
    },
    "tags": []
   },
   "outputs": [
    {
     "data": {
      "text/plain": [
       "<6851x21557 sparse matrix of type '<class 'numpy.float64'>'\n",
       "\twith 75722 stored elements in Compressed Sparse Row format>"
      ]
     },
     "execution_count": 18,
     "metadata": {},
     "output_type": "execute_result"
    }
   ],
   "source": [
    "X_train_tfidf"
   ]
  },
  {
   "cell_type": "markdown",
   "id": "97d448f2",
   "metadata": {
    "papermill": {
     "duration": 0.020406,
     "end_time": "2023-12-05T22:18:22.303925",
     "exception": false,
     "start_time": "2023-12-05T22:18:22.283519",
     "status": "completed"
    },
    "tags": []
   },
   "source": [
    "###  MultinomialNB model"
   ]
  },
  {
   "cell_type": "code",
   "execution_count": 19,
   "id": "d7c59260",
   "metadata": {
    "execution": {
     "iopub.execute_input": "2023-12-05T22:18:22.348181Z",
     "iopub.status.busy": "2023-12-05T22:18:22.347195Z",
     "iopub.status.idle": "2023-12-05T22:18:22.533112Z",
     "shell.execute_reply": "2023-12-05T22:18:22.531824Z"
    },
    "papermill": {
     "duration": 0.20983,
     "end_time": "2023-12-05T22:18:22.535516",
     "exception": false,
     "start_time": "2023-12-05T22:18:22.325686",
     "status": "completed"
    },
    "tags": []
   },
   "outputs": [
    {
     "name": "stdout",
     "output_type": "stream",
     "text": [
      "Time to fit = 0.175s\n"
     ]
    },
    {
     "data": {
      "text/plain": [
       "{'alpha': 1}"
      ]
     },
     "execution_count": 19,
     "metadata": {},
     "output_type": "execute_result"
    }
   ],
   "source": [
    "mnb = MultinomialNB()\n",
    "param_grid = {'alpha':[1,2,5,10]}\n",
    "mnb_grid = GridSearchCV(estimator=mnb, param_grid=param_grid, scoring='f1')\n",
    "mnb_start = time.time()\n",
    "mnb_grid.fit(X_train_tfidf, y_train)\n",
    "mnb_end = time.time()\n",
    "print(f'Time to fit = {mnb_end - mnb_start:.3f}s')\n",
    "mnb_grid.best_params_"
   ]
  },
  {
   "cell_type": "code",
   "execution_count": 20,
   "id": "f5110dde",
   "metadata": {
    "execution": {
     "iopub.execute_input": "2023-12-05T22:18:22.574971Z",
     "iopub.status.busy": "2023-12-05T22:18:22.574527Z",
     "iopub.status.idle": "2023-12-05T22:18:22.923885Z",
     "shell.execute_reply": "2023-12-05T22:18:22.922518Z"
    },
    "papermill": {
     "duration": 0.372437,
     "end_time": "2023-12-05T22:18:22.926664",
     "exception": false,
     "start_time": "2023-12-05T22:18:22.554227",
     "status": "completed"
    },
    "tags": []
   },
   "outputs": [
    {
     "name": "stdout",
     "output_type": "stream",
     "text": [
      "0.7407407407407407\n",
      "              precision    recall  f1-score   support\n",
      "\n",
      "           0       0.79      0.89      0.83       436\n",
      "           1       0.82      0.67      0.74       326\n",
      "\n",
      "    accuracy                           0.80       762\n",
      "   macro avg       0.80      0.78      0.79       762\n",
      "weighted avg       0.80      0.80      0.79       762\n",
      "\n"
     ]
    },
    {
     "data": {
      "image/png": "[encoded data removed]",
      "text/plain": [
       "<Figure size 640x480 with 2 Axes>"
      ]
     },
     "metadata": {},
     "output_type": "display_data"
    }
   ],
   "source": [
    "mnb_preds = mnb_grid.predict(X_test_tfidf)\n",
    "print(f1_score(y_test,mnb_preds))\n",
    "print(classification_report(y_test,mnb_preds))\n",
    "ConfusionMatrixDisplay(confusion_matrix=confusion_matrix(y_test, mnb_preds)).plot();"
   ]
  },
  {
   "cell_type": "markdown",
   "id": "5a0e1168",
   "metadata": {
    "papermill": {
     "duration": 0.019634,
     "end_time": "2023-12-05T22:18:22.966227",
     "exception": false,
     "start_time": "2023-12-05T22:18:22.946593",
     "status": "completed"
    },
    "tags": []
   },
   "source": [
    "###  LogisticRegression model"
   ]
  },
  {
   "cell_type": "code",
   "execution_count": 21,
   "id": "7baf3ef8",
   "metadata": {
    "execution": {
     "iopub.execute_input": "2023-12-05T22:18:23.009417Z",
     "iopub.status.busy": "2023-12-05T22:18:23.008197Z",
     "iopub.status.idle": "2023-12-05T22:18:45.556671Z",
     "shell.execute_reply": "2023-12-05T22:18:45.554941Z"
    },
    "papermill": {
     "duration": 22.57492,
     "end_time": "2023-12-05T22:18:45.561113",
     "exception": false,
     "start_time": "2023-12-05T22:18:22.986193",
     "status": "completed"
    },
    "tags": []
   },
   "outputs": [
    {
     "name": "stdout",
     "output_type": "stream",
     "text": [
      "Time to fit = 22.525s\n"
     ]
    },
    {
     "data": {
      "text/plain": [
       "{'C': 6}"
      ]
     },
     "execution_count": 21,
     "metadata": {},
     "output_type": "execute_result"
    }
   ],
   "source": [
    "log = LogisticRegression(max_iter=1000,)\n",
    "param_grid = {'C':[3,4,5,6,7,8]}\n",
    "log_grid = GridSearchCV(estimator=log, param_grid=param_grid, scoring='f1')\n",
    "log_start = time.time()\n",
    "log_grid.fit(X_train_tfidf, y_train)\n",
    "log_end = time.time()\n",
    "print(f'Time to fit = {log_end - log_start:.3f}s')\n",
    "log_grid.best_params_"
   ]
  },
  {
   "cell_type": "code",
   "execution_count": 22,
   "id": "5106a7e3",
   "metadata": {
    "execution": {
     "iopub.execute_input": "2023-12-05T22:18:45.676245Z",
     "iopub.status.busy": "2023-12-05T22:18:45.675872Z",
     "iopub.status.idle": "2023-12-05T22:18:45.966507Z",
     "shell.execute_reply": "2023-12-05T22:18:45.965042Z"
    },
    "papermill": {
     "duration": 0.325081,
     "end_time": "2023-12-05T22:18:45.970026",
     "exception": false,
     "start_time": "2023-12-05T22:18:45.644945",
     "status": "completed"
    },
    "tags": []
   },
   "outputs": [
    {
     "name": "stdout",
     "output_type": "stream",
     "text": [
      "0.7707006369426751\n",
      "              precision    recall  f1-score   support\n",
      "\n",
      "           0       0.82      0.86      0.84       436\n",
      "           1       0.80      0.74      0.77       326\n",
      "\n",
      "    accuracy                           0.81       762\n",
      "   macro avg       0.81      0.80      0.80       762\n",
      "weighted avg       0.81      0.81      0.81       762\n",
      "\n"
     ]
    },
    {
     "data": {
      "image/png": "[encoded data removed]",
      "text/plain": [
       "<Figure size 640x480 with 2 Axes>"
      ]
     },
     "metadata": {},
     "output_type": "display_data"
    }
   ],
   "source": [
    "log_preds = log_grid.predict(X_test_tfidf)\n",
    "print(f1_score(y_test,log_preds))\n",
    "print(classification_report(y_test,log_preds))\n",
    "ConfusionMatrixDisplay(confusion_matrix=confusion_matrix(y_test, log_preds)).plot();"
   ]
  },
  {
   "cell_type": "markdown",
   "id": "e8958d70",
   "metadata": {
    "papermill": {
     "duration": 0.019926,
     "end_time": "2023-12-05T22:18:46.010249",
     "exception": false,
     "start_time": "2023-12-05T22:18:45.990323",
     "status": "completed"
    },
    "tags": []
   },
   "source": [
    "### SGDClassifier model"
   ]
  },
  {
   "cell_type": "code",
   "execution_count": 23,
   "id": "37bb0b4a",
   "metadata": {
    "execution": {
     "iopub.execute_input": "2023-12-05T22:18:46.053101Z",
     "iopub.status.busy": "2023-12-05T22:18:46.052158Z",
     "iopub.status.idle": "2023-12-05T22:18:46.112223Z",
     "shell.execute_reply": "2023-12-05T22:18:46.110623Z"
    },
    "papermill": {
     "duration": 0.087524,
     "end_time": "2023-12-05T22:18:46.117708",
     "exception": false,
     "start_time": "2023-12-05T22:18:46.030184",
     "status": "completed"
    },
    "tags": []
   },
   "outputs": [
    {
     "name": "stdout",
     "output_type": "stream",
     "text": [
      "Time to fit = 0.046s\n"
     ]
    },
    {
     "data": {
      "text/plain": [
       "array([[-0.15455976, -0.42743686,  0.3471347 , ...,  0.43783586,\n",
       "        -0.16811547,  0.20548164]])"
      ]
     },
     "execution_count": 23,
     "metadata": {},
     "output_type": "execute_result"
    }
   ],
   "source": [
    "sgdc = SGDClassifier()\n",
    "#param_grid = {'C':[3,4,5,6,7,8]}\n",
    "#log_grid = GridSearchCV(estimator=log, param_grid=param_grid, scoring='f1')\n",
    "sgdc_start = time.time()\n",
    "sgdc.fit(X_train_tfidf, y_train)\n",
    "sgdc_end = time.time()\n",
    "print(f'Time to fit = {sgdc_end - sgdc_start:.3f}s')\n",
    "sgdc.coef_"
   ]
  },
  {
   "cell_type": "code",
   "execution_count": 24,
   "id": "75727fe8",
   "metadata": {
    "execution": {
     "iopub.execute_input": "2023-12-05T22:18:46.195743Z",
     "iopub.status.busy": "2023-12-05T22:18:46.195288Z",
     "iopub.status.idle": "2023-12-05T22:18:46.529302Z",
     "shell.execute_reply": "2023-12-05T22:18:46.528111Z"
    },
    "papermill": {
     "duration": 0.371117,
     "end_time": "2023-12-05T22:18:46.532254",
     "exception": false,
     "start_time": "2023-12-05T22:18:46.161137",
     "status": "completed"
    },
    "tags": []
   },
   "outputs": [
    {
     "name": "stdout",
     "output_type": "stream",
     "text": [
      "0.7783094098883572\n",
      "              precision    recall  f1-score   support\n",
      "\n",
      "           0       0.82      0.87      0.85       436\n",
      "           1       0.81      0.75      0.78       326\n",
      "\n",
      "    accuracy                           0.82       762\n",
      "   macro avg       0.82      0.81      0.81       762\n",
      "weighted avg       0.82      0.82      0.82       762\n",
      "\n"
     ]
    },
    {
     "data": {
      "image/png": "[encoded data removed]",
      "text/plain": [
       "<Figure size 640x480 with 2 Axes>"
      ]
     },
     "metadata": {},
     "output_type": "display_data"
    }
   ],
   "source": [
    "sgdc_preds = sgdc.predict(X_test_tfidf)\n",
    "print(f1_score(y_test,sgdc_preds))\n",
    "print(classification_report(y_test,sgdc_preds))\n",
    "ConfusionMatrixDisplay(confusion_matrix=confusion_matrix(y_test, sgdc_preds)).plot();"
   ]
  },
  {
   "cell_type": "markdown",
   "id": "7cbe1d1d",
   "metadata": {
    "papermill": {
     "duration": 0.021396,
     "end_time": "2023-12-05T22:18:46.575446",
     "exception": false,
     "start_time": "2023-12-05T22:18:46.554050",
     "status": "completed"
    },
    "tags": []
   },
   "source": [
    "### LinearSVC model"
   ]
  },
  {
   "cell_type": "code",
   "execution_count": 25,
   "id": "1a12bf9a",
   "metadata": {
    "execution": {
     "iopub.execute_input": "2023-12-05T22:18:46.621868Z",
     "iopub.status.busy": "2023-12-05T22:18:46.621434Z",
     "iopub.status.idle": "2023-12-05T22:18:48.460290Z",
     "shell.execute_reply": "2023-12-05T22:18:48.458877Z"
    },
    "papermill": {
     "duration": 1.864947,
     "end_time": "2023-12-05T22:18:48.463120",
     "exception": false,
     "start_time": "2023-12-05T22:18:46.598173",
     "status": "completed"
    },
    "tags": []
   },
   "outputs": [
    {
     "name": "stdout",
     "output_type": "stream",
     "text": [
      "Time to fit = 1.828s\n"
     ]
    },
    {
     "data": {
      "text/plain": [
       "{'C': 1}"
      ]
     },
     "execution_count": 25,
     "metadata": {},
     "output_type": "execute_result"
    }
   ],
   "source": [
    "lin_svc = LinearSVC()\n",
    "param_grid = {'C':[1,2,5,10]}\n",
    "lin_svc_grid = GridSearchCV(estimator=lin_svc, param_grid=param_grid, scoring='f1')\n",
    "lin_svc_start = time.time()\n",
    "lin_svc_grid.fit(X_train_tfidf, y_train)\n",
    "lin_svc_end = time.time()\n",
    "print(f'Time to fit = {lin_svc_end - lin_svc_start:.3f}s')\n",
    "lin_svc_grid.best_params_"
   ]
  },
  {
   "cell_type": "code",
   "execution_count": 26,
   "id": "e1334657",
   "metadata": {
    "execution": {
     "iopub.execute_input": "2023-12-05T22:18:48.514332Z",
     "iopub.status.busy": "2023-12-05T22:18:48.513906Z",
     "iopub.status.idle": "2023-12-05T22:18:48.841015Z",
     "shell.execute_reply": "2023-12-05T22:18:48.839605Z"
    },
    "papermill": {
     "duration": 0.356213,
     "end_time": "2023-12-05T22:18:48.843881",
     "exception": false,
     "start_time": "2023-12-05T22:18:48.487668",
     "status": "completed"
    },
    "tags": []
   },
   "outputs": [
    {
     "name": "stdout",
     "output_type": "stream",
     "text": [
      "0.7682539682539682\n",
      "              precision    recall  f1-score   support\n",
      "\n",
      "           0       0.82      0.86      0.84       436\n",
      "           1       0.80      0.74      0.77       326\n",
      "\n",
      "    accuracy                           0.81       762\n",
      "   macro avg       0.81      0.80      0.80       762\n",
      "weighted avg       0.81      0.81      0.81       762\n",
      "\n"
     ]
    },
    {
     "data": {
      "image/png": "[encoded data removed]",
      "text/plain": [
       "<Figure size 640x480 with 2 Axes>"
      ]
     },
     "metadata": {},
     "output_type": "display_data"
    }
   ],
   "source": [
    "lin_svc_preds = lin_svc_grid.predict(X_test_tfidf)\n",
    "print(f1_score(y_test,lin_svc_preds))\n",
    "print(classification_report(y_test,lin_svc_preds))\n",
    "ConfusionMatrixDisplay(confusion_matrix=confusion_matrix(y_test, lin_svc_preds)).plot();"
   ]
  },
  {
   "cell_type": "markdown",
   "id": "675abc41",
   "metadata": {
    "papermill": {
     "duration": 0.022017,
     "end_time": "2023-12-05T22:18:48.888944",
     "exception": false,
     "start_time": "2023-12-05T22:18:48.866927",
     "status": "completed"
    },
    "tags": []
   },
   "source": [
    "### SVC model\n",
    "<span style=\"font-size:16px;color:red;\"> Below cell is the slowest cell by far (takes ~4 minutes with the grid search) </span>"
   ]
  },
  {
   "cell_type": "code",
   "execution_count": 27,
   "id": "abd09969",
   "metadata": {
    "execution": {
     "iopub.execute_input": "2023-12-05T22:18:48.936901Z",
     "iopub.status.busy": "2023-12-05T22:18:48.936435Z",
     "iopub.status.idle": "2023-12-05T22:18:48.941357Z",
     "shell.execute_reply": "2023-12-05T22:18:48.940190Z"
    },
    "papermill": {
     "duration": 0.032867,
     "end_time": "2023-12-05T22:18:48.944082",
     "exception": false,
     "start_time": "2023-12-05T22:18:48.911215",
     "status": "completed"
    },
    "tags": []
   },
   "outputs": [],
   "source": [
    "# svc = SVC()\n",
    "# param_grid = {'C': [1,10,100], \n",
    "#               'gamma': [1,0.1,0.01]}\n",
    "# svc_grid = GridSearchCV(estimator=svc, param_grid=param_grid, scoring='f1')\n",
    "# svc_start = time.time()\n",
    "# svc_grid.fit(X_train_tfidf, y_train)\n",
    "# svc_end = time.time()\n",
    "# print(f'Time to fit = {svc_end - svc_start:.3f}s')\n",
    "# svc_grid.best_params_"
   ]
  },
  {
   "cell_type": "code",
   "execution_count": 28,
   "id": "03000e26",
   "metadata": {
    "execution": {
     "iopub.execute_input": "2023-12-05T22:18:48.993768Z",
     "iopub.status.busy": "2023-12-05T22:18:48.993327Z",
     "iopub.status.idle": "2023-12-05T22:18:48.998833Z",
     "shell.execute_reply": "2023-12-05T22:18:48.997448Z"
    },
    "papermill": {
     "duration": 0.033197,
     "end_time": "2023-12-05T22:18:49.002298",
     "exception": false,
     "start_time": "2023-12-05T22:18:48.969101",
     "status": "completed"
    },
    "tags": []
   },
   "outputs": [],
   "source": [
    "# svc_preds = svc_grid.predict(X_test_tfidf)\n",
    "# print(f1_score(y_test,svc_preds))\n",
    "# print(classification_report(y_test,svc_preds))\n",
    "# ConfusionMatrixDisplay(confusion_matrix=confusion_matrix(y_test, svc_preds)).plot();"
   ]
  },
  {
   "cell_type": "markdown",
   "id": "747334b6",
   "metadata": {
    "papermill": {
     "duration": 0.021888,
     "end_time": "2023-12-05T22:18:49.047583",
     "exception": false,
     "start_time": "2023-12-05T22:18:49.025695",
     "status": "completed"
    },
    "tags": []
   },
   "source": [
    "# Compare Models"
   ]
  },
  {
   "cell_type": "code",
   "execution_count": 29,
   "id": "cac56aa0",
   "metadata": {
    "execution": {
     "iopub.execute_input": "2023-12-05T22:18:49.097258Z",
     "iopub.status.busy": "2023-12-05T22:18:49.096798Z",
     "iopub.status.idle": "2023-12-05T22:18:49.117716Z",
     "shell.execute_reply": "2023-12-05T22:18:49.116808Z"
    },
    "papermill": {
     "duration": 0.04869,
     "end_time": "2023-12-05T22:18:49.120307",
     "exception": false,
     "start_time": "2023-12-05T22:18:49.071617",
     "status": "completed"
    },
    "tags": []
   },
   "outputs": [
    {
     "name": "stdout",
     "output_type": "stream",
     "text": [
      "MNB time to fit = 0.175s\n",
      "MNB f1 score = 0.7407\n",
      "----------\n",
      "LogReg time to fit = 22.525s\n",
      "LogReg f1 score = 0.7707\n",
      "----------\n",
      "SGDClass time to fit = 0.046s\n",
      "SGDClass f1 score = 0.7783\n",
      "----------\n",
      "LinSVC time to fit = 1.828s\n",
      "LinSVC f1 score = 0.7683\n"
     ]
    }
   ],
   "source": [
    "print(f'MNB time to fit = {mnb_end - mnb_start:.3f}s')\n",
    "print(f'MNB f1 score = {f1_score(y_test,mnb_preds):.4f}')\n",
    "print('-'*10)\n",
    "print(f'LogReg time to fit = {log_end - log_start:.3f}s')\n",
    "print(f'LogReg f1 score = {f1_score(y_test,log_preds):.4f}')\n",
    "print('-'*10)\n",
    "print(f'SGDClass time to fit = {sgdc_end - sgdc_start:.3f}s')\n",
    "print(f'SGDClass f1 score = {f1_score(y_test,sgdc_preds):.4f}')\n",
    "print('-'*10)\n",
    "print(f'LinSVC time to fit = {lin_svc_end - lin_svc_start:.3f}s')\n",
    "print(f'LinSVC f1 score = {f1_score(y_test,lin_svc_preds):.4f}')\n",
    "# print('-'*10)\n",
    "# print(f'SVC time to fit = {svc_end - svc_start:.3f}s')\n",
    "# print(f'SVC f1 score = {f1_score(y_test,svc_preds):.4f}')"
   ]
  },
  {
   "cell_type": "markdown",
   "id": "efe7390d",
   "metadata": {
    "papermill": {
     "duration": 0.022167,
     "end_time": "2023-12-05T22:18:49.165137",
     "exception": false,
     "start_time": "2023-12-05T22:18:49.142970",
     "status": "completed"
    },
    "tags": []
   },
   "source": [
    "# Final Data Set prep"
   ]
  },
  {
   "cell_type": "code",
   "execution_count": 30,
   "id": "735a6916",
   "metadata": {
    "execution": {
     "iopub.execute_input": "2023-12-05T22:18:49.213288Z",
     "iopub.status.busy": "2023-12-05T22:18:49.212905Z",
     "iopub.status.idle": "2023-12-05T22:18:49.863678Z",
     "shell.execute_reply": "2023-12-05T22:18:49.862542Z"
    },
    "papermill": {
     "duration": 0.678787,
     "end_time": "2023-12-05T22:18:49.866704",
     "exception": false,
     "start_time": "2023-12-05T22:18:49.187917",
     "status": "completed"
    },
    "tags": []
   },
   "outputs": [],
   "source": [
    "tfidf = TfidfVectorizer(stop_words='english')\n",
    "tfidf.fit(X['text combo'])\n",
    "X_final_train_tfidf = tfidf.transform(X['text combo'])\n",
    "X_final_test_tfidf = tfidf.transform(df_test['text combo'])\n",
    "ids_out = df_test['id']"
   ]
  },
  {
   "cell_type": "markdown",
   "id": "18253ce4",
   "metadata": {
    "papermill": {
     "duration": 0.022589,
     "end_time": "2023-12-05T22:18:49.911651",
     "exception": false,
     "start_time": "2023-12-05T22:18:49.889062",
     "status": "completed"
    },
    "tags": []
   },
   "source": [
    "## Final dataset"
   ]
  },
  {
   "cell_type": "code",
   "execution_count": 31,
   "id": "84889e6e",
   "metadata": {
    "execution": {
     "iopub.execute_input": "2023-12-05T22:18:49.959846Z",
     "iopub.status.busy": "2023-12-05T22:18:49.959377Z",
     "iopub.status.idle": "2023-12-05T22:18:49.966412Z",
     "shell.execute_reply": "2023-12-05T22:18:49.965298Z"
    },
    "papermill": {
     "duration": 0.033781,
     "end_time": "2023-12-05T22:18:49.968954",
     "exception": false,
     "start_time": "2023-12-05T22:18:49.935173",
     "status": "completed"
    },
    "tags": []
   },
   "outputs": [
    {
     "data": {
      "text/plain": [
       "<7613x23181 sparse matrix of type '<class 'numpy.float64'>'\n",
       "\twith 84162 stored elements in Compressed Sparse Row format>"
      ]
     },
     "execution_count": 31,
     "metadata": {},
     "output_type": "execute_result"
    }
   ],
   "source": [
    "X_final_train_tfidf"
   ]
  },
  {
   "cell_type": "code",
   "execution_count": 32,
   "id": "32c9a425",
   "metadata": {
    "execution": {
     "iopub.execute_input": "2023-12-05T22:18:50.016339Z",
     "iopub.status.busy": "2023-12-05T22:18:50.015923Z",
     "iopub.status.idle": "2023-12-05T22:18:51.046687Z",
     "shell.execute_reply": "2023-12-05T22:18:51.045148Z"
    },
    "papermill": {
     "duration": 1.059901,
     "end_time": "2023-12-05T22:18:51.051625",
     "exception": false,
     "start_time": "2023-12-05T22:18:49.991724",
     "status": "completed"
    },
    "tags": []
   },
   "outputs": [
    {
     "name": "stdout",
     "output_type": "stream",
     "text": [
      "Time to fit = 1.020s\n"
     ]
    }
   ],
   "source": [
    "# model = SVC(**svc_grid.best_params_)\n",
    "model = LogisticRegression(max_iter=1000, **log_grid.best_params_)\n",
    "# model = SGDClassifier()\n",
    "final_start = time.time()\n",
    "model.fit(X_final_train_tfidf, y)\n",
    "final_end = time.time()\n",
    "print(f'Time to fit = {final_end - final_start:.3f}s')"
   ]
  },
  {
   "cell_type": "code",
   "execution_count": 33,
   "id": "fbe16b3c",
   "metadata": {
    "execution": {
     "iopub.execute_input": "2023-12-05T22:18:51.176214Z",
     "iopub.status.busy": "2023-12-05T22:18:51.175833Z",
     "iopub.status.idle": "2023-12-05T22:18:51.181207Z",
     "shell.execute_reply": "2023-12-05T22:18:51.180099Z"
    },
    "papermill": {
     "duration": 0.045032,
     "end_time": "2023-12-05T22:18:51.183600",
     "exception": false,
     "start_time": "2023-12-05T22:18:51.138568",
     "status": "completed"
    },
    "tags": []
   },
   "outputs": [],
   "source": [
    "final_preds = model.predict(X_final_test_tfidf)"
   ]
  },
  {
   "cell_type": "markdown",
   "id": "3beb4cbf",
   "metadata": {
    "papermill": {
     "duration": 0.021646,
     "end_time": "2023-12-05T22:18:51.227016",
     "exception": false,
     "start_time": "2023-12-05T22:18:51.205370",
     "status": "completed"
    },
    "tags": []
   },
   "source": [
    "# Final output formatting"
   ]
  },
  {
   "cell_type": "code",
   "execution_count": 34,
   "id": "b597e1f1",
   "metadata": {
    "execution": {
     "iopub.execute_input": "2023-12-05T22:18:51.273426Z",
     "iopub.status.busy": "2023-12-05T22:18:51.272643Z",
     "iopub.status.idle": "2023-12-05T22:18:51.278373Z",
     "shell.execute_reply": "2023-12-05T22:18:51.277500Z"
    },
    "papermill": {
     "duration": 0.031704,
     "end_time": "2023-12-05T22:18:51.280831",
     "exception": false,
     "start_time": "2023-12-05T22:18:51.249127",
     "status": "completed"
    },
    "tags": []
   },
   "outputs": [],
   "source": [
    "output_df = pd.DataFrame({'id': ids_out,\n",
    "                          'target': final_preds.squeeze()})"
   ]
  },
  {
   "cell_type": "code",
   "execution_count": 35,
   "id": "96a7adaf",
   "metadata": {
    "execution": {
     "iopub.execute_input": "2023-12-05T22:18:51.328138Z",
     "iopub.status.busy": "2023-12-05T22:18:51.327328Z",
     "iopub.status.idle": "2023-12-05T22:18:51.339708Z",
     "shell.execute_reply": "2023-12-05T22:18:51.338541Z"
    },
    "papermill": {
     "duration": 0.038986,
     "end_time": "2023-12-05T22:18:51.342401",
     "exception": false,
     "start_time": "2023-12-05T22:18:51.303415",
     "status": "completed"
    },
    "tags": []
   },
   "outputs": [
    {
     "data": {
      "text/html": [
       "<div>\n",
       "<style scoped>\n",
       "    .dataframe tbody tr th:only-of-type {\n",
       "        vertical-align: middle;\n",
       "    }\n",
       "\n",
       "    .dataframe tbody tr th {\n",
       "        vertical-align: top;\n",
       "    }\n",
       "\n",
       "    .dataframe thead th {\n",
       "        text-align: right;\n",
       "    }\n",
       "</style>\n",
       "<table border=\"1\" class=\"dataframe\">\n",
       "  <thead>\n",
       "    <tr style=\"text-align: right;\">\n",
       "      <th></th>\n",
       "      <th>id</th>\n",
       "      <th>target</th>\n",
       "    </tr>\n",
       "  </thead>\n",
       "  <tbody>\n",
       "    <tr>\n",
       "      <th>0</th>\n",
       "      <td>0</td>\n",
       "      <td>1</td>\n",
       "    </tr>\n",
       "    <tr>\n",
       "      <th>1</th>\n",
       "      <td>2</td>\n",
       "      <td>1</td>\n",
       "    </tr>\n",
       "    <tr>\n",
       "      <th>2</th>\n",
       "      <td>3</td>\n",
       "      <td>1</td>\n",
       "    </tr>\n",
       "    <tr>\n",
       "      <th>3</th>\n",
       "      <td>9</td>\n",
       "      <td>1</td>\n",
       "    </tr>\n",
       "    <tr>\n",
       "      <th>4</th>\n",
       "      <td>11</td>\n",
       "      <td>1</td>\n",
       "    </tr>\n",
       "    <tr>\n",
       "      <th>...</th>\n",
       "      <td>...</td>\n",
       "      <td>...</td>\n",
       "    </tr>\n",
       "    <tr>\n",
       "      <th>3258</th>\n",
       "      <td>10861</td>\n",
       "      <td>0</td>\n",
       "    </tr>\n",
       "    <tr>\n",
       "      <th>3259</th>\n",
       "      <td>10865</td>\n",
       "      <td>1</td>\n",
       "    </tr>\n",
       "    <tr>\n",
       "      <th>3260</th>\n",
       "      <td>10868</td>\n",
       "      <td>1</td>\n",
       "    </tr>\n",
       "    <tr>\n",
       "      <th>3261</th>\n",
       "      <td>10874</td>\n",
       "      <td>1</td>\n",
       "    </tr>\n",
       "    <tr>\n",
       "      <th>3262</th>\n",
       "      <td>10875</td>\n",
       "      <td>1</td>\n",
       "    </tr>\n",
       "  </tbody>\n",
       "</table>\n",
       "<p>3263 rows × 2 columns</p>\n",
       "</div>"
      ],
      "text/plain": [
       "         id  target\n",
       "0         0       1\n",
       "1         2       1\n",
       "2         3       1\n",
       "3         9       1\n",
       "4        11       1\n",
       "...     ...     ...\n",
       "3258  10861       0\n",
       "3259  10865       1\n",
       "3260  10868       1\n",
       "3261  10874       1\n",
       "3262  10875       1\n",
       "\n",
       "[3263 rows x 2 columns]"
      ]
     },
     "execution_count": 35,
     "metadata": {},
     "output_type": "execute_result"
    }
   ],
   "source": [
    "output_df"
   ]
  },
  {
   "cell_type": "code",
   "execution_count": 36,
   "id": "89245142",
   "metadata": {
    "execution": {
     "iopub.execute_input": "2023-12-05T22:18:51.389804Z",
     "iopub.status.busy": "2023-12-05T22:18:51.388990Z",
     "iopub.status.idle": "2023-12-05T22:18:51.404850Z",
     "shell.execute_reply": "2023-12-05T22:18:51.403861Z"
    },
    "papermill": {
     "duration": 0.042586,
     "end_time": "2023-12-05T22:18:51.407504",
     "exception": false,
     "start_time": "2023-12-05T22:18:51.364918",
     "status": "completed"
    },
    "tags": []
   },
   "outputs": [],
   "source": [
    "output_df.to_csv('/kaggle/working/submission.csv', index=False)"
   ]
  },
  {
   "cell_type": "code",
   "execution_count": null,
   "id": "20b73ad3",
   "metadata": {
    "papermill": {
     "duration": 0.022673,
     "end_time": "2023-12-05T22:18:51.453267",
     "exception": false,
     "start_time": "2023-12-05T22:18:51.430594",
     "status": "completed"
    },
    "tags": []
   },
   "outputs": [],
   "source": []
  }
 ],
 "metadata": {
  "kaggle": {
   "accelerator": "none",
   "dataSources": [
    {
     "databundleVersionId": 869809,
     "sourceId": 17777,
     "sourceType": "competition"
    }
   ],
   "dockerImageVersionId": 30587,
   "isGpuEnabled": false,
   "isInternetEnabled": true,
   "language": "python",
   "sourceType": "notebook"
  },
  "kernelspec": {
   "display_name": "Python 3",
   "language": "python",
   "name": "python3"
  },
  "language_info": {
   "codemirror_mode": {
    "name": "ipython",
    "version": 3
   },
   "file_extension": ".py",
   "mimetype": "text/x-python",
   "name": "python",
   "nbconvert_exporter": "python",
   "pygments_lexer": "ipython3",
   "version": "3.10.12"
  },
  "papermill": {
   "default_parameters": {},
   "duration": 39.095288,
   "end_time": "2023-12-05T22:18:52.399178",
   "environment_variables": {},
   "exception": null,
   "input_path": "__notebook__.ipynb",
   "output_path": "__notebook__.ipynb",
   "parameters": {},
   "start_time": "2023-12-05T22:18:13.303890",
   "version": "2.4.0"
  }
 },
 "nbformat": 4,
 "nbformat_minor": 5
}
